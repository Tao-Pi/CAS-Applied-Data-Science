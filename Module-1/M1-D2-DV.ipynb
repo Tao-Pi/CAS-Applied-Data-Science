{
 "cells": [
  {
   "cell_type": "markdown",
   "metadata": {
    "application/vnd.databricks.v1+cell": {
     "cellMetadata": {},
     "inputWidgets": {},
     "nuid": "d3bffdf9-7c40-4e8f-a1cf-83ade984d124",
     "showTitle": false,
     "tableResultSettingsMap": {},
     "title": ""
    },
    "id": "view-in-github"
   },
   "source": [
    "<a href=\"https://colab.research.google.com/github/KGzB/CAS-Applied-Data-Science/blob/master/Module-1/M1-D2-DV.ipynb\" target=\"_parent\"><img src=\"https://colab.research.google.com/assets/colab-badge.svg\" alt=\"Open In Colab\"/></a>"
   ]
  },
  {
   "cell_type": "markdown",
   "metadata": {
    "application/vnd.databricks.v1+cell": {
     "cellMetadata": {},
     "inputWidgets": {},
     "nuid": "e08f3dd2-4940-4f5f-baa3-2f222e38ef55",
     "showTitle": false,
     "tableResultSettingsMap": {},
     "title": ""
    },
    "id": "e1dH35rqCxCS"
   },
   "source": [
    "Notebook 1, Module 1, Data and Data Management, CAS Applied Data Science, 2024-08-22, A. Mühlemann, University of Bern. (based on the template by S. Haug)\n"
   ]
  },
  {
   "cell_type": "markdown",
   "metadata": {
    "application/vnd.databricks.v1+cell": {
     "cellMetadata": {},
     "inputWidgets": {},
     "nuid": "7a0bc371-fc26-4733-a266-33efe20838a4",
     "showTitle": false,
     "tableResultSettingsMap": {},
     "title": ""
    },
    "id": "VvFs2BLQCxCW"
   },
   "source": [
    "# 1. Visualisation of Data - Examples\n",
    "\n",
    "**Learning outcomes:**\n",
    "\n",
    "Participants will be able to make good data science plots, with praxis on\n",
    "- plot line charts from series and dataframes\n",
    "- plot histograms\n",
    "  - understand the effect of binning\n",
    "- plot scatter plots\n",
    "- plot box plots\n",
    "- plot error bars\n",
    "- formatting of plots\n",
    "- geoplotting\n",
    "\n",
    "**Introduction Slides**\n",
    "- https://drive.google.com/file/d/12hehfcdVOR0lpemy5Y-84EspCiOjr8e9/view?usp=sharing\n",
    "\n",
    "**Further sources**\n",
    "- Python: https://pandas.pydata.org/pandas-docs/stable/visualization.html\n",
    "- https://jakevdp.github.io/PythonDataScienceHandbook/04.00-introduction-to-matplotlib.html\n",
    "- Get inspired here : https://matplotlib.org/gallery/index.html\n",
    "\n",
    "Here you have examples on plotting possibilities with pandas. They make data science plotting very easy and fast. However, you may have special needs that are not supported. Then you can use the underlaying plotting module **matplotlib**.\n",
    "\n",
    "Plotting is an art and you can spend enourmous amounts of time doing plotting. There are many types of plots. You may invent your own type. We only show some examples and point out some important things. If you need to go further, you have to work indepentently.\n",
    "\n",
    "Some vocabulary and plots are only understandable with corresponding statistics background. This is part of module 2."
   ]
  },
  {
   "cell_type": "markdown",
   "metadata": {
    "application/vnd.databricks.v1+cell": {
     "cellMetadata": {},
     "inputWidgets": {},
     "nuid": "598c266c-539d-4de8-8c2b-b6a26915f042",
     "showTitle": false,
     "tableResultSettingsMap": {},
     "title": ""
    },
    "id": "QVMP4mDgCxCY"
   },
   "source": [
    "## 0. Load the modules"
   ]
  },
  {
   "cell_type": "code",
   "execution_count": 0,
   "metadata": {
    "application/vnd.databricks.v1+cell": {
     "cellMetadata": {},
     "inputWidgets": {},
     "nuid": "174f5a6f-6010-4484-9e00-4204a5a7abbb",
     "showTitle": false,
     "tableResultSettingsMap": {},
     "title": ""
    },
    "id": "K1YoSszUCxCZ"
   },
   "outputs": [],
   "source": [
    "import numpy as np\n",
    "import matplotlib.pyplot as plt\n",
    "import pandas as pd"
   ]
  },
  {
   "cell_type": "markdown",
   "metadata": {
    "application/vnd.databricks.v1+cell": {
     "cellMetadata": {},
     "inputWidgets": {},
     "nuid": "fad2df0d-8e57-4aa3-84a5-2639a087d358",
     "showTitle": false,
     "tableResultSettingsMap": {},
     "title": ""
    },
    "id": "t5QbM20fCxCa"
   },
   "source": [
    "## 1. Line charts\n",
    "Since line charts are for time series we use a time series data set for this visualization. On ILIAS you can find a data set called *garbage.csv* containing the garbage of in kg/inhabitant in Liestal, Basel, from 2017-2024 divided into different types of garbage. We first need to upload this data set to python and make a dataframe out of it."
   ]
  },
  {
   "cell_type": "code",
   "execution_count": 0,
   "metadata": {
    "application/vnd.databricks.v1+cell": {
     "cellMetadata": {},
     "inputWidgets": {},
     "nuid": "38b60c42-ff40-46f7-a32d-0cf806a41641",
     "showTitle": false,
     "tableResultSettingsMap": {},
     "title": ""
    },
    "colab": {
     "base_uri": "https://localhost:8080/",
     "height": 74
    },
    "id": "p0MguthjCxCa",
    "outputId": "50a8b480-27fa-4ca6-8e31-305fb7f781f0"
   },
   "outputs": [],
   "source": [
    "from google.colab import files\n",
    "uploaded = files.upload()"
   ]
  },
  {
   "cell_type": "code",
   "execution_count": 0,
   "metadata": {
    "application/vnd.databricks.v1+cell": {
     "cellMetadata": {},
     "inputWidgets": {},
     "nuid": "05be594b-0111-494e-ab5a-debc174a159c",
     "showTitle": false,
     "tableResultSettingsMap": {},
     "title": ""
    },
    "colab": {
     "base_uri": "https://localhost:8080/",
     "height": 1000
    },
    "id": "nl_bbqpJmN-F",
    "outputId": "00557ac7-3df4-48d1-c471-b2b674302259"
   },
   "outputs": [],
   "source": [
    "garbage = pd.read_csv('garbage.csv', sep=\";\")\n",
    "garbage"
   ]
  },
  {
   "cell_type": "markdown",
   "metadata": {
    "application/vnd.databricks.v1+cell": {
     "cellMetadata": {},
     "inputWidgets": {},
     "nuid": "35680bb0-7a89-4d76-99f6-2ff932b7af4e",
     "showTitle": false,
     "tableResultSettingsMap": {},
     "title": ""
    },
    "id": "XrgG0hPXCxCc"
   },
   "source": [
    "Let us now plot the time series of \"Hauskehricht + Sperrgut\""
   ]
  },
  {
   "cell_type": "code",
   "execution_count": 0,
   "metadata": {
    "application/vnd.databricks.v1+cell": {
     "cellMetadata": {},
     "inputWidgets": {},
     "nuid": "c3692525-6c50-4aea-aaf2-09f71c1030b7",
     "showTitle": false,
     "tableResultSettingsMap": {},
     "title": ""
    },
    "colab": {
     "base_uri": "https://localhost:8080/",
     "height": 472
    },
    "id": "siA0K0xeCxCe",
    "outputId": "e0b359fa-7132-46cd-e300-0e8f13af323d"
   },
   "outputs": [],
   "source": [
    "# Plot using pandas' built-in plot function\n",
    "household_rubbish = garbage[garbage['Kategorie']=='Hauskehricht + Sperrgut']\n",
    "household_rubbish.plot(x='Jahr', y='Wert', kind='line', marker='o', linestyle='-', color='b', title='Household rubbis in kg/inhabitants')\n",
    "\n",
    "# Customize the plot\n",
    "plt.xlabel('Year')\n",
    "plt.ylabel('kg/inhabitant')\n",
    "plt.grid(True)\n",
    "\n",
    "# Display the plot\n",
    "plt.show()\n"
   ]
  },
  {
   "cell_type": "markdown",
   "metadata": {
    "application/vnd.databricks.v1+cell": {
     "cellMetadata": {},
     "inputWidgets": {},
     "nuid": "62dd1704-b1c5-47ae-8a01-c64d2081f6a2",
     "showTitle": false,
     "tableResultSettingsMap": {},
     "title": ""
    },
    "id": "6fjeqXZ_ofLP"
   },
   "source": [
    "### Exercise\n",
    "What about a plot containing all garbage types?"
   ]
  },
  {
   "cell_type": "code",
   "execution_count": 0,
   "metadata": {
    "application/vnd.databricks.v1+cell": {
     "cellMetadata": {},
     "inputWidgets": {},
     "nuid": "114d6e4e-fb5c-495f-8367-f8fd41eafff1",
     "showTitle": false,
     "tableResultSettingsMap": {},
     "title": ""
    },
    "id": "KIUg_S_VpOSE"
   },
   "outputs": [],
   "source": []
  },
  {
   "cell_type": "markdown",
   "metadata": {
    "application/vnd.databricks.v1+cell": {
     "cellMetadata": {},
     "inputWidgets": {},
     "nuid": "2a3753f4-7325-4418-93db-8c27eb6d6d72",
     "showTitle": false,
     "tableResultSettingsMap": {},
     "title": ""
    },
    "id": "NaWovhAjCxCf"
   },
   "source": [
    "## 2. Histograms\n",
    "For this we use the dataset *sleep.csv* from yesterday."
   ]
  },
  {
   "cell_type": "code",
   "execution_count": 0,
   "metadata": {
    "application/vnd.databricks.v1+cell": {
     "cellMetadata": {},
     "inputWidgets": {},
     "nuid": "8b812c02-da3a-4d41-ac79-379aed13c6a6",
     "showTitle": false,
     "tableResultSettingsMap": {},
     "title": ""
    },
    "colab": {
     "base_uri": "https://localhost:8080/"
    },
    "id": "_plyCKEDquEi",
    "outputId": "cf89ee99-69a2-466c-bddd-034ade0a4d30"
   },
   "outputs": [],
   "source": [
    "url = 'https://github.com/KGzB/CAS-Applied-Data-Science/blob/master/Module-1/merged.csv?raw=true'\n",
    "sleep = pd.read_csv(url, sep=',')\n",
    "print(sleep.head(5))"
   ]
  },
  {
   "cell_type": "markdown",
   "metadata": {
    "application/vnd.databricks.v1+cell": {
     "cellMetadata": {},
     "inputWidgets": {},
     "nuid": "7fa6e2b6-a79a-4211-9919-fbaf1fdb246c",
     "showTitle": false,
     "tableResultSettingsMap": {},
     "title": ""
    },
    "id": "brbTEb18CxCg"
   },
   "source": [
    "Plot a histogram for the lifespan of the mammals."
   ]
  },
  {
   "cell_type": "code",
   "execution_count": 0,
   "metadata": {
    "application/vnd.databricks.v1+cell": {
     "cellMetadata": {},
     "inputWidgets": {},
     "nuid": "fa393ff0-6780-43fb-bbc1-072f79579394",
     "showTitle": false,
     "tableResultSettingsMap": {},
     "title": ""
    },
    "colab": {
     "base_uri": "https://localhost:8080/",
     "height": 430
    },
    "id": "nH59hvMUCxCg",
    "outputId": "a55671a5-822b-4933-dcf3-295b5116e7c6"
   },
   "outputs": [],
   "source": [
    "sleep['LifeSpan'].plot(kind=\"hist\",fill=True,histtype='step',label='life span', color = \"skyblue\")\n",
    "plt.show()"
   ]
  },
  {
   "cell_type": "markdown",
   "metadata": {
    "application/vnd.databricks.v1+cell": {
     "cellMetadata": {},
     "inputWidgets": {},
     "nuid": "4aebf2f3-5236-43ad-98d1-14b632cfa5e8",
     "showTitle": false,
     "tableResultSettingsMap": {},
     "title": ""
    },
    "id": "S-re-fYsCxCh"
   },
   "source": [
    "### The effect of binning\n",
    "\n",
    "When data is binned (or sampled) the bin size effects the amount of counts in each bin. Counts fluctuate like a normal distribution for counts above about 20. So depending on your bin size, the same data may look differently.\n",
    "\n",
    "Hard binning (small bin size) may introduce pure statistical structures without any other meaning. This is then overfitting. Too big bin sizes may wipe out structures in the data (underfitting). If known, a bin size guided by the physical resolution of the sensor is close to optimal.\n",
    "\n",
    "Plot the same histograms with a different binning."
   ]
  },
  {
   "cell_type": "code",
   "execution_count": 0,
   "metadata": {
    "application/vnd.databricks.v1+cell": {
     "cellMetadata": {},
     "inputWidgets": {},
     "nuid": "e381a538-576b-42a3-986c-94d30a79578f",
     "showTitle": false,
     "tableResultSettingsMap": {},
     "title": ""
    },
    "colab": {
     "base_uri": "https://localhost:8080/",
     "height": 430
    },
    "id": "6AJWEKE9CxCi",
    "outputId": "49346435-5572-4f46-a2f2-6a6541167932"
   },
   "outputs": [],
   "source": [
    "sleep['LifeSpan'].plot(kind=\"hist\",fill=True,histtype='step',label='life span', color = \"skyblue\", bins=15)\n",
    "plt.show()"
   ]
  },
  {
   "cell_type": "markdown",
   "metadata": {
    "application/vnd.databricks.v1+cell": {
     "cellMetadata": {},
     "inputWidgets": {},
     "nuid": "b7604083-60bd-467e-a7c8-bf1e113dff9c",
     "showTitle": false,
     "tableResultSettingsMap": {},
     "title": ""
    },
    "id": "L_pMyZGJu6Z3"
   },
   "source": [
    "### Exercise\n",
    "Plot a histogram for *Dreaming* and add *NonDreaming* to the same Histogram and add a legend.\n"
   ]
  },
  {
   "cell_type": "code",
   "execution_count": 0,
   "metadata": {
    "application/vnd.databricks.v1+cell": {
     "cellMetadata": {},
     "inputWidgets": {},
     "nuid": "a5da206e-959b-40a8-a470-8fa71a33c000",
     "showTitle": false,
     "tableResultSettingsMap": {},
     "title": ""
    },
    "id": "bHEOTzarvNzD"
   },
   "outputs": [],
   "source": []
  },
  {
   "cell_type": "markdown",
   "metadata": {
    "application/vnd.databricks.v1+cell": {
     "cellMetadata": {},
     "inputWidgets": {},
     "nuid": "eecbb17a-a399-47ac-9374-2d747dc28d97",
     "showTitle": false,
     "tableResultSettingsMap": {},
     "title": ""
    },
    "id": "1xGwosqbCxCi"
   },
   "source": [
    "Add label to the axes of the above plot"
   ]
  },
  {
   "cell_type": "code",
   "execution_count": 0,
   "metadata": {
    "application/vnd.databricks.v1+cell": {
     "cellMetadata": {},
     "inputWidgets": {},
     "nuid": "63b6e117-e325-4bac-8cfd-dd11cdb5cc75",
     "showTitle": false,
     "tableResultSettingsMap": {},
     "title": ""
    },
    "id": "ijcxqFlNCxCi"
   },
   "outputs": [],
   "source": []
  },
  {
   "cell_type": "markdown",
   "metadata": {
    "application/vnd.databricks.v1+cell": {
     "cellMetadata": {},
     "inputWidgets": {},
     "nuid": "b1b18eca-57a2-483f-a29e-780243675448",
     "showTitle": false,
     "tableResultSettingsMap": {},
     "title": ""
    },
    "id": "xbMmP9hownCI"
   },
   "source": [
    "## 3. Pie Charts\n",
    "Pie charts show the percentage on a whole.\n",
    "Let us look at the percentage an asian elephant spents dreaming."
   ]
  },
  {
   "cell_type": "code",
   "execution_count": 0,
   "metadata": {
    "application/vnd.databricks.v1+cell": {
     "cellMetadata": {},
     "inputWidgets": {},
     "nuid": "e10060cf-3283-4e40-9784-6e4a08ce0894",
     "showTitle": false,
     "tableResultSettingsMap": {},
     "title": ""
    },
    "colab": {
     "base_uri": "https://localhost:8080/",
     "height": 81
    },
    "id": "FlrBAvGyxf5o",
    "outputId": "72fe2e42-375b-4a7f-c6cc-e29185a48d4c"
   },
   "outputs": [],
   "source": [
    "sleep[sleep['Species'] == 'Asianelephant'][['NonDreaming', 'Dreaming']]"
   ]
  },
  {
   "cell_type": "code",
   "execution_count": 0,
   "metadata": {
    "application/vnd.databricks.v1+cell": {
     "cellMetadata": {},
     "inputWidgets": {},
     "nuid": "9182a2fb-8930-4a33-801e-3ee675371b63",
     "showTitle": false,
     "tableResultSettingsMap": {},
     "title": ""
    },
    "colab": {
     "base_uri": "https://localhost:8080/",
     "height": 428
    },
    "id": "46tY0kMHxOJY",
    "outputId": "79c72d1b-8891-4254-8857-4b40afa804f4"
   },
   "outputs": [],
   "source": [
    "plt.pie(sleep[sleep['Species'] == 'Asianelephant'][['NonDreaming', 'Dreaming']].values.flatten(), labels=['NonDreaming', 'Dreaming'],\n",
    "        autopct='%1.1f%%', colors = ['gold', 'lightcoral'])\n",
    "plt.title('Dreaming / NonDreaming on asian elephant')\n",
    "plt.show()"
   ]
  },
  {
   "cell_type": "markdown",
   "metadata": {
    "application/vnd.databricks.v1+cell": {
     "cellMetadata": {},
     "inputWidgets": {},
     "nuid": "0c2a0f37-4390-486b-89ee-c86792039b43",
     "showTitle": false,
     "tableResultSettingsMap": {},
     "title": ""
    },
    "id": "lwXDniXWz1Ul"
   },
   "source": [
    "### Exercise\n",
    "Plot pie charts of three species next to each other"
   ]
  },
  {
   "cell_type": "code",
   "execution_count": 0,
   "metadata": {
    "application/vnd.databricks.v1+cell": {
     "cellMetadata": {},
     "inputWidgets": {},
     "nuid": "030a50b0-cb0c-40b2-a615-ae075ad0146f",
     "showTitle": false,
     "tableResultSettingsMap": {},
     "title": ""
    },
    "id": "kiA15gd50w4S"
   },
   "outputs": [],
   "source": []
  },
  {
   "cell_type": "markdown",
   "metadata": {
    "application/vnd.databricks.v1+cell": {
     "cellMetadata": {},
     "inputWidgets": {},
     "nuid": "1fe70ef2-e1d9-4c4f-8558-5f51aa88eed0",
     "showTitle": false,
     "tableResultSettingsMap": {},
     "title": ""
    },
    "id": "BWtEvxkUCxCj"
   },
   "source": [
    "## 4. Scatter plots\n",
    "\n",
    "Scatter plots show how the data is distributed in two dimensions. They are good for finding (anti) correlations between two variables. Let us check whether there is a correlation between total sleep and the time spent dreaming."
   ]
  },
  {
   "cell_type": "code",
   "execution_count": 0,
   "metadata": {
    "application/vnd.databricks.v1+cell": {
     "cellMetadata": {},
     "inputWidgets": {},
     "nuid": "2eb70318-e8a8-43fd-98a5-50b5ea9b076d",
     "showTitle": false,
     "tableResultSettingsMap": {},
     "title": ""
    },
    "colab": {
     "base_uri": "https://localhost:8080/",
     "height": 449
    },
    "id": "iyuRSeAHCxCj",
    "outputId": "e9a051df-2c8d-42e9-d122-82ef45076900"
   },
   "outputs": [],
   "source": [
    "sleep.plot(x='TotalSleep',y='Dreaming',kind=\"scatter\",c='c')\n",
    "plt.show()"
   ]
  },
  {
   "cell_type": "markdown",
   "metadata": {
    "application/vnd.databricks.v1+cell": {
     "cellMetadata": {},
     "inputWidgets": {},
     "nuid": "35ce8bb8-990d-4ba3-a670-3ea00b77a243",
     "showTitle": false,
     "tableResultSettingsMap": {},
     "title": ""
    },
    "id": "yAwH5l5x2n0H"
   },
   "source": [
    "### Exercise\n",
    "Can you find a correlation between sleep and dreaming when you plot a different scatterplot for each level of exposure?"
   ]
  },
  {
   "cell_type": "code",
   "execution_count": 0,
   "metadata": {
    "application/vnd.databricks.v1+cell": {
     "cellMetadata": {},
     "inputWidgets": {},
     "nuid": "f80ea86d-f92a-4401-b8a8-dbf7c4569b30",
     "showTitle": false,
     "tableResultSettingsMap": {},
     "title": ""
    },
    "id": "PNi5kPTt23ou"
   },
   "outputs": [],
   "source": []
  },
  {
   "cell_type": "markdown",
   "metadata": {
    "application/vnd.databricks.v1+cell": {
     "cellMetadata": {},
     "inputWidgets": {},
     "nuid": "41294969-2dd2-4bf9-b6c6-d1421e8b73bb",
     "showTitle": false,
     "tableResultSettingsMap": {},
     "title": ""
    },
    "id": "7RqrcA9GCxCk"
   },
   "source": [
    "There are several other tools too. See https://pandas.pydata.org/pandas-docs/stable/visualization.html"
   ]
  },
  {
   "cell_type": "markdown",
   "metadata": {
    "application/vnd.databricks.v1+cell": {
     "cellMetadata": {},
     "inputWidgets": {},
     "nuid": "3914ee2a-802b-4c60-9252-3cdf2a1e727e",
     "showTitle": false,
     "tableResultSettingsMap": {},
     "title": ""
    },
    "id": "PjMuygbwCxCl"
   },
   "source": [
    "## 4. Box plots"
   ]
  },
  {
   "cell_type": "markdown",
   "metadata": {
    "application/vnd.databricks.v1+cell": {
     "cellMetadata": {},
     "inputWidgets": {},
     "nuid": "ee9e86df-a11f-4436-8c14-bc5f86007a42",
     "showTitle": false,
     "tableResultSettingsMap": {},
     "title": ""
    },
    "id": "ZXS2jhOmCxCl"
   },
   "source": [
    "A boxplot is a graphical representation that shows the distribution of a dataset by displaying its minimum, first quartile, median, third quartile, and maximum, along with any potential outliers. We will look at them in more detail in Module 2"
   ]
  },
  {
   "cell_type": "code",
   "execution_count": 0,
   "metadata": {
    "application/vnd.databricks.v1+cell": {
     "cellMetadata": {},
     "inputWidgets": {},
     "nuid": "84669d66-3375-4989-a0a5-a99ba1997616",
     "showTitle": false,
     "tableResultSettingsMap": {},
     "title": ""
    },
    "colab": {
     "base_uri": "https://localhost:8080/",
     "height": 430
    },
    "id": "TqjQAmydCxCl",
    "outputId": "c64c7231-5464-4fdc-bf75-266a9af86574"
   },
   "outputs": [],
   "source": [
    "sleep['TotalSleep'].plot.box()\n",
    "plt.ylabel(\"Total sleep in hours\")\n",
    "plt.show()"
   ]
  },
  {
   "cell_type": "markdown",
   "metadata": {
    "application/vnd.databricks.v1+cell": {
     "cellMetadata": {},
     "inputWidgets": {},
     "nuid": "7712b1b6-a1ba-4f24-aa02-5b82a063443d",
     "showTitle": false,
     "tableResultSettingsMap": {},
     "title": ""
    },
    "id": "aVrsPXE4CxCl"
   },
   "source": [
    "## 5. Plotting with error bars"
   ]
  },
  {
   "cell_type": "markdown",
   "metadata": {
    "application/vnd.databricks.v1+cell": {
     "cellMetadata": {},
     "inputWidgets": {},
     "nuid": "8c3813ef-57af-436a-8db5-5ce32ec465cc",
     "showTitle": false,
     "tableResultSettingsMap": {},
     "title": ""
    },
    "id": "j1d_m7buCxCm"
   },
   "source": [
    "There is no science without error bars, or better, uncertainties. The meaning of uncertainties is discussed in module 2. Here we only show by example  how to plot uncertainties."
   ]
  },
  {
   "cell_type": "markdown",
   "metadata": {
    "application/vnd.databricks.v1+cell": {
     "cellMetadata": {},
     "inputWidgets": {},
     "nuid": "3239c809-7c2c-41a4-9821-68e65c8d66c6",
     "showTitle": false,
     "tableResultSettingsMap": {},
     "title": ""
    },
    "id": "2S1vhQHcCxCm"
   },
   "source": [
    "Plotting with error bars is supported in DataFrame.plot() and Series.plot().\n",
    "\n",
    "Horizontal and vertical error bars can be supplied to the xerr and yerr keyword arguments to plot(). The error values can be specified using a variety of formats:\n",
    "\n",
    "- As a DataFrame or dict of errors with column names matching the columns attribute of the plotting DataFrame or matching the name attribute of the Series.\n",
    "- As a str indicating which of the columns of plotting DataFrame contain the error values.\n",
    "- As raw values (list, tuple, or np.ndarray). Must be the same length as the plotting DataFrame/Series.\n",
    "\n",
    "Asymmetrical error bars are also supported, however raw error values must be provided in this case. For a M length Series, a Mx2 array should be provided indicating lower and upper (or left and right) errors. For a MxN DataFrame, asymmetrical errors should be in a Mx2xN array.\n",
    "\n",
    "Here is an example using an error dataframe (symmetric uncertainties)."
   ]
  },
  {
   "cell_type": "code",
   "execution_count": 0,
   "metadata": {
    "application/vnd.databricks.v1+cell": {
     "cellMetadata": {},
     "inputWidgets": {},
     "nuid": "67d02d4f-9c78-45b6-a704-484087d9bf02",
     "showTitle": false,
     "tableResultSettingsMap": {},
     "title": ""
    },
    "colab": {
     "base_uri": "https://localhost:8080/",
     "height": 430
    },
    "id": "4nGenVxcCxCm",
    "outputId": "6fb290e8-6c1a-40da-8a0b-5e9431b58dc7"
   },
   "outputs": [],
   "source": [
    "my_df   = pd.DataFrame([6,15,4,20,16,13]) # Some random data\n",
    "my_df_e = (my_df)**0.5 # The error dataframe\n",
    "my_df.plot(yerr=my_df_e)\n",
    "plt.show()"
   ]
  },
  {
   "cell_type": "markdown",
   "metadata": {
    "application/vnd.databricks.v1+cell": {
     "cellMetadata": {},
     "inputWidgets": {},
     "nuid": "d45721a9-4c82-4237-9763-63a03aa0b1c7",
     "showTitle": false,
     "tableResultSettingsMap": {},
     "title": ""
    },
    "id": "J1jm7R8FCxCm"
   },
   "source": [
    "## 6. Formatting plots"
   ]
  },
  {
   "cell_type": "markdown",
   "metadata": {
    "application/vnd.databricks.v1+cell": {
     "cellMetadata": {},
     "inputWidgets": {},
     "nuid": "46bf7b6f-5305-4776-861a-e051559b5aa5",
     "showTitle": false,
     "tableResultSettingsMap": {},
     "title": ""
    },
    "id": "fT0rAG1ICxCn"
   },
   "source": [
    "Plots can easily be formatted with keywords. One can adjust colors, types of shading, lines, axes, legends, titles, etc. Some formatting has been exemplified above. More examples are in the documentation. https://pandas.pydata.org/pandas-docs/stable/visualization.html\n",
    "\n",
    "With the matplotlib module you are even more flexible. See https://matplotlib.org/gallery/index.html for inspirations."
   ]
  },
  {
   "cell_type": "markdown",
   "metadata": {
    "application/vnd.databricks.v1+cell": {
     "cellMetadata": {},
     "inputWidgets": {},
     "nuid": "7df477de-6baa-43b2-8784-fea78cc6b863",
     "showTitle": false,
     "tableResultSettingsMap": {},
     "title": ""
    },
    "id": "19rFbg4TCxCn"
   },
   "source": [
    "## 7. Summary\n",
    "\n",
    "- Do you remember three important plot types?\n",
    "- What can the binning of a histogram do to the interpretation of it?\n",
    "- Can you mention three important points to include in plots and their figure legends?\n"
   ]
  },
  {
   "cell_type": "markdown",
   "metadata": {
    "application/vnd.databricks.v1+cell": {
     "cellMetadata": {},
     "inputWidgets": {},
     "nuid": "28cc9584-eb66-4596-8690-3589b6dd4c8e",
     "showTitle": false,
     "tableResultSettingsMap": {},
     "title": ""
    },
    "id": "uWUIH_zSCxCn"
   },
   "source": [
    "## 8. Plotting Geodata\n",
    "\n",
    "Often is very nice to visualise data on geographical maps. Fortunately people have written packages helpin us with that. This is an example how the geopandas package can be used."
   ]
  },
  {
   "cell_type": "markdown",
   "metadata": {
    "application/vnd.databricks.v1+cell": {
     "cellMetadata": {},
     "inputWidgets": {},
     "nuid": "67189b93-85f6-403f-83ba-746160040f26",
     "showTitle": false,
     "tableResultSettingsMap": {},
     "title": ""
    },
    "id": "pGUGT3OTQCZe"
   },
   "source": [
    "\n",
    "First we need the so called shape files. They are provided by [swisstopo](https://www.swisstopo.admin.ch/en/geodata/landscape/boundaries3d.html/). For convenience there is a version on the CAS github repositoy.\n",
    "\n",
    "On Linux (colab is running linux) we get and unpack the files like this:\n",
    "\n"
   ]
  },
  {
   "cell_type": "code",
   "execution_count": 0,
   "metadata": {
    "application/vnd.databricks.v1+cell": {
     "cellMetadata": {},
     "inputWidgets": {},
     "nuid": "3e55028c-bb02-43ab-a53e-2f943f6fa1c0",
     "showTitle": false,
     "tableResultSettingsMap": {},
     "title": ""
    },
    "colab": {
     "base_uri": "https://localhost:8080/"
    },
    "id": "C7_4VwEdIW-x",
    "outputId": "72f0c368-906c-4c50-f0f3-ffb3159c869c"
   },
   "outputs": [],
   "source": [
    "! wget https://github.com/sigvehaug/CAS-Applied-Data-Science/raw/master/Module-1/CHE_adm.zip\n",
    "! mkdir -p data\n",
    "! unzip CHE_adm.zip -d data"
   ]
  },
  {
   "cell_type": "code",
   "execution_count": 0,
   "metadata": {
    "application/vnd.databricks.v1+cell": {
     "cellMetadata": {},
     "inputWidgets": {},
     "nuid": "06a67c8b-f1ef-4532-9dff-7c6437238419",
     "showTitle": false,
     "tableResultSettingsMap": {},
     "title": ""
    },
    "id": "9WjhNP99CxCn"
   },
   "outputs": [],
   "source": [
    "import pandas as pd\n",
    "import numpy as np\n",
    "import geopandas as gpd\n",
    "import matplotlib.pyplot as plt\n",
    "import datetime\n",
    "import os\n"
   ]
  },
  {
   "cell_type": "markdown",
   "metadata": {
    "application/vnd.databricks.v1+cell": {
     "cellMetadata": {},
     "inputWidgets": {},
     "nuid": "8dfea7c8-9187-45c5-9f16-8afc3f9a697e",
     "showTitle": false,
     "tableResultSettingsMap": {},
     "title": ""
    },
    "id": "B4ENE8h1Yjoq"
   },
   "source": [
    "Now we merge some numbers per canton (covid cases at some point in the past) with the shape files."
   ]
  },
  {
   "cell_type": "code",
   "execution_count": 0,
   "metadata": {
    "application/vnd.databricks.v1+cell": {
     "cellMetadata": {},
     "inputWidgets": {},
     "nuid": "b0c55de3-d6ab-4046-80b8-39a64576e23d",
     "showTitle": false,
     "tableResultSettingsMap": {},
     "title": ""
    },
    "colab": {
     "base_uri": "https://localhost:8080/",
     "height": 757
    },
    "id": "nLqaeUqL8iC9",
    "outputId": "e60799ed-525e-488b-eb2b-807dd7ac8f19"
   },
   "outputs": [],
   "source": [
    "shape_file = 'data/CHE_adm1.shp'\n",
    "switzerland = gpd.read_file(shape_file)\n",
    "population_data = {\n",
    "    'canton': ['Aargau', 'Appenzell Ausserrhoden', 'Appenzell Innerrhoden', 'Basel-Landschaft', 'Basel-Stadt',\n",
    "               'Bern', 'Fribourg', 'Genève', 'Glarus', 'Graubünden', 'Jura', 'Lucerne',\n",
    "               'Neuchâtel', 'Nidwalden', 'Obwalden', 'Schwyz', 'Schaffhausen', 'Solothurn',\n",
    "               'Sankt Gallen', 'Thurgau', 'Ticino', 'Uri', 'Valais', 'Vaud', 'Zug', 'Zürich'],\n",
    "    'population': [695.3, 55.7, 16.3, 291.3, 196.6, 1046.3, 325.2, 509.1, 40.7,\n",
    "                   198.9, 73.8, 416.3, 177.3, 43.9, 38.4, 83.6, 162.6, 278.3,\n",
    "                   516.7, 282.9, 353.3, 37, 349.2, 815.6, 130.2, 1553.6]\n",
    "}\n",
    "\n",
    "population_df = pd.DataFrame(population_data)\n",
    "\n",
    "# Filter for Switzerland and merge with population data\n",
    "switzerland = switzerland[switzerland['NAME_1'].isin(population_df['canton'])]\n",
    "switzerland = switzerland.merge(population_df, left_on='NAME_1', right_on='canton')\n",
    "\n",
    "# Plotting\n",
    "fig, ax = plt.subplots(1, 1, figsize=(10, 10))\n",
    "switzerland.boundary.plot(ax=ax, linewidth=1)  # Plot boundaries\n",
    "switzerland.plot(column='population', ax=ax, legend=True,\n",
    "                 legend_kwds={'label': \"Population by Canton\",\n",
    "                              'orientation': \"horizontal\"},\n",
    "                 cmap='OrRd', edgecolor='black')\n",
    "\n",
    "# Title and show plot\n",
    "plt.title('Population by Canton in Switzerland')\n",
    "plt.show()"
   ]
  },
  {
   "cell_type": "markdown",
   "metadata": {
    "application/vnd.databricks.v1+cell": {
     "cellMetadata": {},
     "inputWidgets": {},
     "nuid": "c9a7ae7a-d356-4326-a715-a12e76df5918",
     "showTitle": false,
     "tableResultSettingsMap": {},
     "title": ""
    },
    "id": "iug2-DAtB661"
   },
   "source": [
    "### Excercise\n",
    "Draw another geoplot of Switzerland."
   ]
  },
  {
   "cell_type": "code",
   "execution_count": 0,
   "metadata": {
    "application/vnd.databricks.v1+cell": {
     "cellMetadata": {},
     "inputWidgets": {},
     "nuid": "f04c3adf-edf9-487e-9e7d-dbc898eedf77",
     "showTitle": false,
     "tableResultSettingsMap": {},
     "title": ""
    },
    "id": "MPabO4eKDlvA"
   },
   "outputs": [],
   "source": []
  },
  {
   "cell_type": "markdown",
   "metadata": {
    "application/vnd.databricks.v1+cell": {
     "cellMetadata": {},
     "inputWidgets": {},
     "nuid": "94ad421a-fa71-47ed-95d0-69cd2d37d9ca",
     "showTitle": false,
     "tableResultSettingsMap": {},
     "title": ""
    },
    "id": "21Q6_1eUCxCo"
   },
   "source": [
    "# Exercise 12 (continued)\n",
    "Investigate the merged datasets from yesterdays Exercise 12 using suitable graphical tools"
   ]
  },
  {
   "cell_type": "code",
   "execution_count": 0,
   "metadata": {
    "application/vnd.databricks.v1+cell": {
     "cellMetadata": {},
     "inputWidgets": {},
     "nuid": "a1a5d16a-5b05-4ae1-8813-bc4b55c82deb",
     "showTitle": false,
     "tableResultSettingsMap": {},
     "title": ""
    },
    "id": "QiWXVZ1_Eosf"
   },
   "outputs": [],
   "source": []
  }
 ],
 "metadata": {
  "application/vnd.databricks.v1+notebook": {
   "computePreferences": null,
   "dashboards": [],
   "environmentMetadata": null,
   "inputWidgetPreferences": null,
   "language": "python",
   "notebookMetadata": {},
   "notebookName": "M1-D2-DV",
   "widgets": {}
  },
  "colab": {
   "provenance": [],
   "toc_visible": true
  },
  "kernelspec": {
   "display_name": "Python 3",
   "language": "python",
   "name": "python3"
  },
  "language_info": {
   "name": "python"
  }
 },
 "nbformat": 4,
 "nbformat_minor": 0
}
