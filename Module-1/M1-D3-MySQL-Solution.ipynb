{
 "cells": [
  {
   "cell_type": "markdown",
   "metadata": {
    "application/vnd.databricks.v1+cell": {
     "cellMetadata": {},
     "inputWidgets": {},
     "nuid": "a6c91f79-e97c-4516-987a-d56476788ae9",
     "showTitle": false,
     "tableResultSettingsMap": {},
     "title": ""
    },
    "colab_type": "text",
    "id": "view-in-github"
   },
   "source": [
    "<a href=\"https://colab.research.google.com/github/sigvehaug/CAS-Applied-Data-Science/blob/master/Module-1/M1-D3-MySQL-Solution.ipynb\" target=\"_parent\"><img src=\"https://colab.research.google.com/assets/colab-badge.svg\" alt=\"Open In Colab\"/></a>"
   ]
  },
  {
   "cell_type": "markdown",
   "metadata": {
    "application/vnd.databricks.v1+cell": {
     "cellMetadata": {},
     "inputWidgets": {},
     "nuid": "310c583d-6c4d-4066-bffb-385703bdc322",
     "showTitle": false,
     "tableResultSettingsMap": {},
     "title": ""
    },
    "id": "W8u-DwKa6UIB"
   },
   "source": [
    "### MySQL Exercise\n",
    "\n",
    "You have 45 minutes for this exercise. You will be randomly be assigned to class colleague and the two of get a separate virtual room where you can solve the exercise togehter. When you have finished, please return to the main virtual room.\n",
    "\n",
    "If you both are in the same physical location, of course you don't have to use your virtual room.\n",
    "\n",
    "**Task**\n",
    "- Check if there is visible correlation between payment amount and postal code of the customer, i.e. make a scatter plot.  \n",
    "- Calculate the total price for all orders in the database per product line.\n",
    "How much you do in SQL directly and how much with dataframes is up to you. \n",
    "\n",
    "**Have fun and start here:**\n",
    "\n",
    "- Study [MySQL-PDF.pdf](https://github.com/sigvehaug/CAS-Applied-Data-Science/raw/master/Module-1/M1-D2-DB/MySQL-PDF.pdf) in a different browser tab for an overview of the database to be used.\n",
    "- Connect to the database classicmodels which is running on computer host."
   ]
  },
  {
   "cell_type": "markdown",
   "metadata": {
    "application/vnd.databricks.v1+cell": {
     "cellMetadata": {},
     "inputWidgets": {},
     "nuid": "e0c260e6-d7a6-48d6-8b51-4a2fa2f13fc3",
     "showTitle": false,
     "tableResultSettingsMap": {},
     "title": ""
    },
    "id": "SbnOBcTY6oGz"
   },
   "source": [
    "mysql connector is not part of the default colab environment, so we need to install it."
   ]
  },
  {
   "cell_type": "code",
   "execution_count": 0,
   "metadata": {
    "application/vnd.databricks.v1+cell": {
     "cellMetadata": {},
     "inputWidgets": {},
     "nuid": "92ec69dc-76fb-40f8-95d3-6959536cef36",
     "showTitle": false,
     "tableResultSettingsMap": {},
     "title": ""
    },
    "id": "rg35TPuk6ra6"
   },
   "outputs": [],
   "source": [
    "!pip install mysql-connector-python"
   ]
  },
  {
   "cell_type": "code",
   "execution_count": 0,
   "metadata": {
    "application/vnd.databricks.v1+cell": {
     "cellMetadata": {},
     "inputWidgets": {},
     "nuid": "65d05d2f-e4be-4d3e-83ba-55e8f2c1fbb7",
     "showTitle": false,
     "tableResultSettingsMap": {},
     "title": ""
    },
    "id": "jyc21K9A6UIE"
   },
   "outputs": [],
   "source": [
    "# mysql is in package \"conda install mysql-connector-python\"\n",
    "import mysql.connector\n",
    "import pandas as pd \n",
    "my_connect = mysql.connector.connect(\n",
    "      host=\"fl-5-232.zhdk.cloud.switch.ch\",\n",
    "      port=3306,\n",
    "      user=\"user\",\n",
    "      passwd=\"fum+Apheb4\",\n",
    "      #database='training'\n",
    "      database=\"classicmodels\"\n",
    "    )\n",
    "####### end of connection ####\n"
   ]
  },
  {
   "cell_type": "markdown",
   "metadata": {
    "application/vnd.databricks.v1+cell": {
     "cellMetadata": {},
     "inputWidgets": {},
     "nuid": "63ccc5f1-bed0-408a-9c1f-34f8e4e824a5",
     "showTitle": false,
     "tableResultSettingsMap": {},
     "title": ""
    },
    "id": "SZXQLG-x6UIF"
   },
   "source": [
    "Now check that you can read the tables:"
   ]
  },
  {
   "cell_type": "code",
   "execution_count": 0,
   "metadata": {
    "application/vnd.databricks.v1+cell": {
     "cellMetadata": {},
     "inputWidgets": {},
     "nuid": "0ac52177-b34a-430a-867f-4fc2fd4f989a",
     "showTitle": false,
     "tableResultSettingsMap": {},
     "title": ""
    },
    "id": "OGt3xNDw6UIG",
    "outputId": "5c21850d-a546-49c9-cfaf-e6fef59bdbc6"
   },
   "outputs": [],
   "source": [
    "df_prodline = pd.read_sql(\"SELECT productLine FROM productlines\",my_connect)\n",
    "df_prodline"
   ]
  },
  {
   "cell_type": "markdown",
   "metadata": {
    "application/vnd.databricks.v1+cell": {
     "cellMetadata": {},
     "inputWidgets": {},
     "nuid": "693b27fc-e36e-4524-a825-e1f62424e4cd",
     "showTitle": false,
     "tableResultSettingsMap": {},
     "title": ""
    },
    "id": "Yqut13r16UIH"
   },
   "source": [
    "Now continue with your task!"
   ]
  },
  {
   "cell_type": "code",
   "execution_count": 0,
   "metadata": {
    "application/vnd.databricks.v1+cell": {
     "cellMetadata": {},
     "inputWidgets": {},
     "nuid": "80a6f445-2623-435a-8bc9-90e1f2612dc6",
     "showTitle": false,
     "tableResultSettingsMap": {},
     "title": ""
    },
    "id": "ekyV1lcM6UII",
    "outputId": "9a1b7209-dce8-47e4-92bb-b646c38d5d8c"
   },
   "outputs": [],
   "source": [
    "# Scatter plot showing payment amount versus postal code\n",
    "# Your code comes here\n",
    "df_dates = pd.read_sql(\"SELECT customerNumber, amount FROM payments\",my_connect)\n",
    "#df_dates['city'] = ''\n",
    "cities = []\n",
    "for i in range(0,len(df_dates)): \n",
    "    x1   = df_dates.loc[i][0]   \n",
    "    qry = \"SELECT postalCode FROM customers WHERE customerNumber='\"+str(x1)+\"'\"\n",
    "    df_cities = pd.read_sql(qry,my_connect)\n",
    "    try:\n",
    "        cities.append(int(df_cities.iloc[0,0]))\n",
    "    except: # No good postal number was ther\n",
    "        cities.append(0)\n",
    "df_dates['city'] = cities\n",
    "df_dates.plot.scatter(x='amount',y='city')\n"
   ]
  },
  {
   "cell_type": "code",
   "execution_count": 0,
   "metadata": {
    "application/vnd.databricks.v1+cell": {
     "cellMetadata": {},
     "inputWidgets": {},
     "nuid": "34a9f1ea-3a57-4705-9001-4068585a19df",
     "showTitle": false,
     "tableResultSettingsMap": {},
     "title": ""
    },
    "id": "NTUjP8PV6UII",
    "outputId": "299ae9f3-f8ee-46b0-e6b0-50fad5166123"
   },
   "outputs": [],
   "source": [
    "# One possibility getting total price for all orders per product line\n",
    "# Your code comes here\n",
    "print('Total price for all orders per product line:\\n')\n",
    "for i in range(0,len(df_prodline)): \n",
    "    x1   = df_prodline.loc[i][0]\n",
    "    #print(x1)\n",
    "    qry = \"SELECT productcode FROM products WHERE productline='\"+x1+\"'\"\n",
    "    df_prodcode = pd.read_sql(qry,my_connect)\n",
    "    PriceTot    = 0\n",
    "    for j in range(0,len(df_prodcode)):\n",
    "        x2   = df_prodcode.loc[j][0]\n",
    "        #print(x1,x2)\n",
    "        qry = \"SELECT priceEach FROM orderdetails WHERE productcode='\"+x2+\"'\"\n",
    "        df_orddet = pd.read_sql(qry,my_connect)\n",
    "        for k in range(0,len(df_orddet)):\n",
    "            x3   = df_orddet.loc[k][0]\n",
    "            #print(x1,x2,x3)\n",
    "            PriceTot+=x3\n",
    "    print('%20s %10.2f USD'%(x1,PriceTot))"
   ]
  },
  {
   "cell_type": "markdown",
   "metadata": {
    "application/vnd.databricks.v1+cell": {
     "cellMetadata": {},
     "inputWidgets": {},
     "nuid": "59cda699-bcc5-44dc-8ae7-54036b927802",
     "showTitle": false,
     "tableResultSettingsMap": {},
     "title": ""
    },
    "id": "A3H_9Yqs6UIK"
   },
   "source": [
    "What is potentially very bad about this solution?"
   ]
  },
  {
   "cell_type": "markdown",
   "metadata": {
    "application/vnd.databricks.v1+cell": {
     "cellMetadata": {},
     "inputWidgets": {},
     "nuid": "9665db33-cc22-41a2-b11c-32d97e61ab9b",
     "showTitle": false,
     "tableResultSettingsMap": {},
     "title": ""
    },
    "id": "uQJG9nRt6UIK"
   },
   "source": [
    "### NB\n",
    "\n",
    "The server with the database used in this notebook will be shut down tonight. However, installing a mysql data server on your own laptop is quite easy. Google is your friend. It takes maybe 1h for a beginner, 10min for an experienced."
   ]
  }
 ],
 "metadata": {
  "application/vnd.databricks.v1+notebook": {
   "computePreferences": null,
   "dashboards": [],
   "environmentMetadata": null,
   "inputWidgetPreferences": null,
   "language": "python",
   "notebookMetadata": {},
   "notebookName": "M1-D3-MySQL-Solution",
   "widgets": {}
  },
  "colab": {
   "include_colab_link": true,
   "name": "M1-D3-MySQL-Solution.ipynb",
   "provenance": []
  },
  "kernelspec": {
   "display_name": "Python 3",
   "language": "python",
   "name": "python3"
  },
  "language_info": {
   "name": "python"
  }
 },
 "nbformat": 4,
 "nbformat_minor": 0
}
