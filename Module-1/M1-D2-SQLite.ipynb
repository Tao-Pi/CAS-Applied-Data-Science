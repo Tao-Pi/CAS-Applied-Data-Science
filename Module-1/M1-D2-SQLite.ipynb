{
 "cells": [
  {
   "cell_type": "markdown",
   "metadata": {
    "application/vnd.databricks.v1+cell": {
     "cellMetadata": {},
     "inputWidgets": {},
     "nuid": "298939da-515e-4b8f-9c6e-020da8ac2e70",
     "showTitle": false,
     "tableResultSettingsMap": {},
     "title": ""
    },
    "id": "_a1wef56fTpI"
   },
   "source": [
    "<a href=\"https://colab.research.google.com/github/KGzB/CAS-Applied-Data-Science/blob/master/Module-1/M1-D2-SQLite.ipynb\" target=\"_parent\"><img src=\"https://colab.research.google.com/assets/colab-badge.svg\" alt=\"Open In Colab\"/></a>"
   ]
  },
  {
   "cell_type": "markdown",
   "metadata": {
    "application/vnd.databricks.v1+cell": {
     "cellMetadata": {},
     "inputWidgets": {},
     "nuid": "f7ae77ed-36d8-4a73-9d38-048d07717aa8",
     "showTitle": false,
     "tableResultSettingsMap": {},
     "title": ""
    },
    "id": "e6BdtgAbuev0"
   },
   "source": [
    "### SQLite\n",
    "This very short notebook shows how you can set up an SQLite data base from a .db-file and how to make querys to the data base."
   ]
  },
  {
   "cell_type": "code",
   "execution_count": 0,
   "metadata": {
    "application/vnd.databricks.v1+cell": {
     "cellMetadata": {},
     "inputWidgets": {},
     "nuid": "c7fabb09-48a4-44b1-a3e9-aa9aef0c6134",
     "showTitle": false,
     "tableResultSettingsMap": {},
     "title": ""
    },
    "colab": {
     "base_uri": "https://localhost:8080/",
     "height": 74
    },
    "executionInfo": {
     "elapsed": 15278,
     "status": "ok",
     "timestamp": 1724337470224,
     "user": {
      "displayName": "Anja Mühlemann",
      "userId": "13180139022750424409"
     },
     "user_tz": -120
    },
    "id": "EyYk-DEnaq73",
    "outputId": "4eab77d4-a906-4e00-b951-ef210f8fdb55"
   },
   "outputs": [],
   "source": [
    "from google.colab import files\n",
    "\n",
    "# Upload university.db file\n",
    "uploaded = files.upload()"
   ]
  },
  {
   "cell_type": "code",
   "execution_count": 0,
   "metadata": {
    "application/vnd.databricks.v1+cell": {
     "cellMetadata": {},
     "inputWidgets": {},
     "nuid": "888a4644-d04f-42dd-bb50-e13d4ef44108",
     "showTitle": false,
     "tableResultSettingsMap": {},
     "title": ""
    },
    "id": "AMg2txbywPpC"
   },
   "outputs": [],
   "source": [
    "import sqlite3\n",
    "import pandas as pd\n",
    "\n",
    "# Connect to data base\n",
    "connection = sqlite3.connect('university.db')"
   ]
  },
  {
   "cell_type": "code",
   "execution_count": 0,
   "metadata": {
    "application/vnd.databricks.v1+cell": {
     "cellMetadata": {},
     "inputWidgets": {},
     "nuid": "16cdfacb-f601-4c5b-8e94-3202e1111a8d",
     "showTitle": false,
     "tableResultSettingsMap": {},
     "title": ""
    },
    "colab": {
     "base_uri": "https://localhost:8080/"
    },
    "executionInfo": {
     "elapsed": 665,
     "status": "ok",
     "timestamp": 1724337472815,
     "user": {
      "displayName": "Anja Mühlemann",
      "userId": "13180139022750424409"
     },
     "user_tz": -120
    },
    "id": "84DRLO5Puev2",
    "outputId": "3fe3137a-ab81-4533-b1f4-be146beb62d9"
   },
   "outputs": [],
   "source": [
    "# Query to get all tables\n",
    "query = \"SELECT name FROM sqlite_master WHERE type='table';\"\n",
    "\n",
    "# Execute Query\n",
    "tables_df = pd.read_sql(query, connection)\n",
    "\n",
    "# Display result\n",
    "print(\"Tables in the database:\")\n",
    "print(tables_df)\n"
   ]
  },
  {
   "cell_type": "markdown",
   "metadata": {
    "application/vnd.databricks.v1+cell": {
     "cellMetadata": {},
     "inputWidgets": {},
     "nuid": "05626b2f-9d81-47f8-b307-d3a1c0cfdc7d",
     "showTitle": false,
     "tableResultSettingsMap": {},
     "title": ""
    },
    "id": "g8tx9v2-uev3"
   },
   "source": [
    "Now check that you can read the tables:"
   ]
  },
  {
   "cell_type": "code",
   "execution_count": 0,
   "metadata": {
    "application/vnd.databricks.v1+cell": {
     "cellMetadata": {},
     "inputWidgets": {},
     "nuid": "71ae1494-ac94-4a3c-947b-4554d1118d9f",
     "showTitle": false,
     "tableResultSettingsMap": {},
     "title": ""
    },
    "colab": {
     "base_uri": "https://localhost:8080/",
     "height": 269
    },
    "executionInfo": {
     "elapsed": 28,
     "status": "ok",
     "timestamp": 1724337476019,
     "user": {
      "displayName": "Anja Mühlemann",
      "userId": "13180139022750424409"
     },
     "user_tz": -120
    },
    "id": "NiLPTmbouev4",
    "outputId": "dcec27b5-00e5-44b9-cdbf-08cd60b807cf"
   },
   "outputs": [],
   "source": [
    "# get all departments\n",
    "query = \"SELECT * FROM department\"\n",
    "pd.read_sql(query,connection)\n"
   ]
  },
  {
   "cell_type": "markdown",
   "metadata": {
    "application/vnd.databricks.v1+cell": {
     "cellMetadata": {},
     "inputWidgets": {},
     "nuid": "b30d578e-ce0d-48e4-9539-c9dd353961ca",
     "showTitle": false,
     "tableResultSettingsMap": {},
     "title": ""
    },
    "id": "4eN-BwFluev6"
   },
   "source": [
    "Now continue with your task!"
   ]
  },
  {
   "cell_type": "code",
   "execution_count": 0,
   "metadata": {
    "application/vnd.databricks.v1+cell": {
     "cellMetadata": {},
     "inputWidgets": {},
     "nuid": "44d8e0a9-295a-4cc9-8dd0-02f2e59ad0c5",
     "showTitle": false,
     "tableResultSettingsMap": {},
     "title": ""
    },
    "colab": {
     "base_uri": "https://localhost:8080/",
     "height": 426
    },
    "executionInfo": {
     "elapsed": 339,
     "status": "ok",
     "timestamp": 1724337512006,
     "user": {
      "displayName": "Anja Mühlemann",
      "userId": "13180139022750424409"
     },
     "user_tz": -120
    },
    "id": "yznS_EBEuev7",
    "outputId": "0f6ae858-8b7d-42c0-e96e-44d377c7d10e"
   },
   "outputs": [],
   "source": [
    "# get all all instructors and their departments\n",
    "query = \"SELECT * FROM instructor INNER JOIN department on instructor.dept_name=department.dept_name\"\n",
    "pd.read_sql(query,connection)\n"
   ]
  },
  {
   "cell_type": "code",
   "execution_count": 0,
   "metadata": {
    "application/vnd.databricks.v1+cell": {
     "cellMetadata": {},
     "inputWidgets": {},
     "nuid": "1c1a629f-6ce5-418c-94fe-a7d1ed0ebba2",
     "showTitle": false,
     "tableResultSettingsMap": {},
     "title": ""
    },
    "colab": {
     "base_uri": "https://localhost:8080/",
     "height": 449
    },
    "executionInfo": {
     "elapsed": 374,
     "status": "ok",
     "timestamp": 1724337523801,
     "user": {
      "displayName": "Anja Mühlemann",
      "userId": "13180139022750424409"
     },
     "user_tz": -120
    },
    "id": "abWsn5UseH8U",
    "outputId": "4621757c-e5ef-4bea-cbaf-2a8cb0fed84c"
   },
   "outputs": [],
   "source": [
    "# Plot salary vs. department budget.\n",
    "import matplotlib.pyplot as plt\n",
    "\n",
    "query = \"SELECT * FROM instructor INNER JOIN department on instructor.dept_name=department.dept_name\"\n",
    "df = pd.read_sql(query,connection)\n",
    "df.plot(x='budget',y='salary',kind=\"scatter\",c='c')\n",
    "plt.show()"
   ]
  },
  {
   "cell_type": "code",
   "execution_count": 0,
   "metadata": {
    "application/vnd.databricks.v1+cell": {
     "cellMetadata": {},
     "inputWidgets": {},
     "nuid": "b197eca4-989b-447e-957e-14da73923cdd",
     "showTitle": false,
     "tableResultSettingsMap": {},
     "title": ""
    },
    "id": "8Z3huapPuev7"
   },
   "outputs": [],
   "source": [
    "#close connection\n",
    "connection.close()"
   ]
  }
 ],
 "metadata": {
  "application/vnd.databricks.v1+notebook": {
   "computePreferences": null,
   "dashboards": [],
   "environmentMetadata": null,
   "inputWidgetPreferences": null,
   "language": "python",
   "notebookMetadata": {},
   "notebookName": "M1-D2-SQLite",
   "widgets": {}
  },
  "colab": {
   "provenance": []
  },
  "kernelspec": {
   "display_name": "Python 3",
   "language": "python",
   "name": "python3"
  },
  "language_info": {
   "name": "python"
  }
 },
 "nbformat": 4,
 "nbformat_minor": 0
}
