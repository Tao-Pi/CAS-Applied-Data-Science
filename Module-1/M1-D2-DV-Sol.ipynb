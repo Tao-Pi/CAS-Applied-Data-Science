{
 "cells": [
  {
   "cell_type": "markdown",
   "metadata": {
    "application/vnd.databricks.v1+cell": {
     "cellMetadata": {},
     "inputWidgets": {},
     "nuid": "867b2b0a-cacc-4470-a564-7a40af943dd0",
     "showTitle": false,
     "tableResultSettingsMap": {},
     "title": ""
    },
    "id": "view-in-github"
   },
   "source": [
    "<a href=\"https://colab.research.google.com/github/KGzB/CAS-Applied-Data-Science/blob/master/Module-1/M1-D2-DV-Sol.ipynb\" target=\"_parent\"><img src=\"https://colab.research.google.com/assets/colab-badge.svg\" alt=\"Open In Colab\"/></a>"
   ]
  },
  {
   "cell_type": "markdown",
   "metadata": {
    "application/vnd.databricks.v1+cell": {
     "cellMetadata": {},
     "inputWidgets": {},
     "nuid": "4463964c-1421-4525-9380-5e4508be0d76",
     "showTitle": false,
     "tableResultSettingsMap": {},
     "title": ""
    },
    "id": "e1dH35rqCxCS"
   },
   "source": [
    "Notebook 1, Module 1, Data and Data Management, CAS Applied Data Science, 2024-08-22, A. Mühlemann, University of Bern. (based on the template by S. Haug)\n"
   ]
  },
  {
   "cell_type": "markdown",
   "metadata": {
    "application/vnd.databricks.v1+cell": {
     "cellMetadata": {},
     "inputWidgets": {},
     "nuid": "e4712d95-9def-419c-b747-25e755c7adac",
     "showTitle": false,
     "tableResultSettingsMap": {},
     "title": ""
    },
    "id": "VvFs2BLQCxCW"
   },
   "source": [
    "# 1. Visualisation of Data - Examples\n",
    "\n",
    "**Learning outcomes:**\n",
    "\n",
    "Participants will be able to make good data science plots, with praxis on\n",
    "- plot line charts from series and dataframes\n",
    "- plot histograms\n",
    "  - understand the effect of binning\n",
    "- plot scatter plots\n",
    "- plot box plots\n",
    "- plot error bars\n",
    "- formatting of plots\n",
    "- geoplotting\n",
    "\n",
    "**Introduction Slides**\n",
    "- https://drive.google.com/file/d/12hehfcdVOR0lpemy5Y-84EspCiOjr8e9/view?usp=sharing\n",
    "\n",
    "**Further sources**\n",
    "- Python: https://pandas.pydata.org/pandas-docs/stable/visualization.html\n",
    "- https://jakevdp.github.io/PythonDataScienceHandbook/04.00-introduction-to-matplotlib.html\n",
    "- Get inspired here : https://matplotlib.org/gallery/index.html\n",
    "\n",
    "Here you have examples on plotting possibilities with pandas. They make data science plotting very easy and fast. However, you may have special needs that are not supported. Then you can use the underlaying plotting module **matplotlib**.\n",
    "\n",
    "Plotting is an art and you can spend enourmous amounts of time doing plotting. There are many types of plots. You may invent your own type. We only show some examples and point out some important things. If you need to go further, you have to work indepentently.\n",
    "\n",
    "Some vocabulary and plots are only understandable with corresponding statistics background. This is part of module 2."
   ]
  },
  {
   "cell_type": "markdown",
   "metadata": {
    "application/vnd.databricks.v1+cell": {
     "cellMetadata": {},
     "inputWidgets": {},
     "nuid": "0f7d2b79-c788-4462-a2b2-d415f375653a",
     "showTitle": false,
     "tableResultSettingsMap": {},
     "title": ""
    },
    "id": "QVMP4mDgCxCY"
   },
   "source": [
    "## 0. Load the modules"
   ]
  },
  {
   "cell_type": "code",
   "execution_count": 0,
   "metadata": {
    "application/vnd.databricks.v1+cell": {
     "cellMetadata": {},
     "inputWidgets": {},
     "nuid": "d998b255-54fd-4904-af27-5e2f130b86b0",
     "showTitle": false,
     "tableResultSettingsMap": {},
     "title": ""
    },
    "id": "K1YoSszUCxCZ"
   },
   "outputs": [],
   "source": [
    "import numpy as np\n",
    "import matplotlib.pyplot as plt\n",
    "import pandas as pd"
   ]
  },
  {
   "cell_type": "markdown",
   "metadata": {
    "application/vnd.databricks.v1+cell": {
     "cellMetadata": {},
     "inputWidgets": {},
     "nuid": "ffa8862f-cd5e-4e6c-b0d8-371a287c3a99",
     "showTitle": false,
     "tableResultSettingsMap": {},
     "title": ""
    },
    "id": "t5QbM20fCxCa"
   },
   "source": [
    "## 1. Line charts\n",
    "Since line charts are for time series we use a time series data set for this visualization. On ILIAS you can find a data set called *garbage.csv* containing the garbage of in kg/inhabitant in Liestal, Basel, from 2017-2024 divided into different types of garbage. We first need to upload this data set to python and make a dataframe out of it."
   ]
  },
  {
   "cell_type": "code",
   "execution_count": 0,
   "metadata": {
    "application/vnd.databricks.v1+cell": {
     "cellMetadata": {},
     "inputWidgets": {},
     "nuid": "827f27c3-7f7f-4c52-8926-9564487ac4ee",
     "showTitle": false,
     "tableResultSettingsMap": {},
     "title": ""
    },
    "colab": {
     "base_uri": "https://localhost:8080/",
     "height": 1000
    },
    "id": "nl_bbqpJmN-F",
    "outputId": "f26fcc57-28c7-4af3-f3e2-cf887ad8f22e"
   },
   "outputs": [],
   "source": [
    "url = 'https://github.com/KGzB/CAS-Applied-Data-Science/blob/master/Module-1/garbage.csv?raw=true'\n",
    "garbage = pd.read_csv(url, sep=\";\")\n",
    "garbage"
   ]
  },
  {
   "cell_type": "markdown",
   "metadata": {
    "application/vnd.databricks.v1+cell": {
     "cellMetadata": {},
     "inputWidgets": {},
     "nuid": "ba541ce7-613d-413c-8779-32de8343659a",
     "showTitle": false,
     "tableResultSettingsMap": {},
     "title": ""
    },
    "id": "XrgG0hPXCxCc"
   },
   "source": [
    "Let us now plot the time series of \"Hauskehricht + Sperrgut\""
   ]
  },
  {
   "cell_type": "code",
   "execution_count": 0,
   "metadata": {
    "application/vnd.databricks.v1+cell": {
     "cellMetadata": {},
     "inputWidgets": {},
     "nuid": "ed1a2ee3-7b28-479a-b99c-1f2143755c4d",
     "showTitle": false,
     "tableResultSettingsMap": {},
     "title": ""
    },
    "colab": {
     "base_uri": "https://localhost:8080/",
     "height": 472
    },
    "id": "siA0K0xeCxCe",
    "outputId": "3cb94e34-f9ee-4e2d-d641-9499e92e847c"
   },
   "outputs": [],
   "source": [
    "# Plot using pandas' built-in plot function\n",
    "household_rubbish = garbage[garbage['Kategorie']=='Hauskehricht + Sperrgut']\n",
    "household_rubbish.plot(x='Jahr', y='Wert', kind='line', marker='o', linestyle='-', color='b', title='Household rubbis in kg/inhabitants')\n",
    "\n",
    "# Customize the plot\n",
    "plt.xlabel('Year')\n",
    "plt.ylabel('kg/inhabitant')\n",
    "plt.grid(True)\n",
    "\n",
    "# Display the plot\n",
    "plt.show()\n"
   ]
  },
  {
   "cell_type": "markdown",
   "metadata": {
    "application/vnd.databricks.v1+cell": {
     "cellMetadata": {},
     "inputWidgets": {},
     "nuid": "3c6249e8-b7c9-4faa-ae5c-0dfa970383f7",
     "showTitle": false,
     "tableResultSettingsMap": {},
     "title": ""
    },
    "id": "6fjeqXZ_ofLP"
   },
   "source": [
    "### Exercise\n",
    "What about a plot containing all garbage types?"
   ]
  },
  {
   "cell_type": "code",
   "execution_count": 0,
   "metadata": {
    "application/vnd.databricks.v1+cell": {
     "cellMetadata": {},
     "inputWidgets": {},
     "nuid": "c2d5126a-55ed-4f3d-a8d1-55859f5ad04d",
     "showTitle": false,
     "tableResultSettingsMap": {},
     "title": ""
    },
    "colab": {
     "base_uri": "https://localhost:8080/",
     "height": 564
    },
    "id": "KIUg_S_VpOSE",
    "outputId": "cceae24d-b0d8-4899-f636-4fae3955d16f"
   },
   "outputs": [],
   "source": [
    "plt.figure(figsize=(10, 6))  # Optional: Adjust the figure size\n",
    "for label, df_group in garbage.groupby('Kategorie'):\n",
    "    plt.plot(df_group['Jahr'], df_group['Wert'], marker='o', linestyle='-', label=label)\n",
    "\n",
    "# Customize the plot\n",
    "plt.xlabel('Year')\n",
    "plt.ylabel('kg/inhabitant')\n",
    "plt.title('Garbage by year and category')\n",
    "plt.legend(title='category')\n",
    "plt.grid(True)\n",
    "\n",
    "# Display the plot\n",
    "plt.show()"
   ]
  },
  {
   "cell_type": "markdown",
   "metadata": {
    "application/vnd.databricks.v1+cell": {
     "cellMetadata": {},
     "inputWidgets": {},
     "nuid": "f024bb65-e65e-411c-8da6-5e7e3bc62ef0",
     "showTitle": false,
     "tableResultSettingsMap": {},
     "title": ""
    },
    "id": "NaWovhAjCxCf"
   },
   "source": [
    "## 2. Histograms\n",
    "For this we use the dataset *sleep.csv* from yesterday."
   ]
  },
  {
   "cell_type": "code",
   "execution_count": 0,
   "metadata": {
    "application/vnd.databricks.v1+cell": {
     "cellMetadata": {},
     "inputWidgets": {},
     "nuid": "dc297abc-05ac-4869-b0f2-7346af8a6102",
     "showTitle": false,
     "tableResultSettingsMap": {},
     "title": ""
    },
    "colab": {
     "base_uri": "https://localhost:8080/"
    },
    "id": "_plyCKEDquEi",
    "outputId": "d46def32-6ffd-4896-fe4c-8b9bfa699024"
   },
   "outputs": [],
   "source": [
    "url = 'https://github.com/KGzB/CAS-Applied-Data-Science/blob/master/Module-1/merged.csv?raw=true'\n",
    "sleep = pd.read_csv(url, sep=',')\n",
    "print(sleep.head(5))"
   ]
  },
  {
   "cell_type": "markdown",
   "metadata": {
    "application/vnd.databricks.v1+cell": {
     "cellMetadata": {},
     "inputWidgets": {},
     "nuid": "fc350623-9321-469b-85c3-df7ae5511d7e",
     "showTitle": false,
     "tableResultSettingsMap": {},
     "title": ""
    },
    "id": "brbTEb18CxCg"
   },
   "source": [
    "Plot a histogram for the lifespan of the mammals."
   ]
  },
  {
   "cell_type": "code",
   "execution_count": 0,
   "metadata": {
    "application/vnd.databricks.v1+cell": {
     "cellMetadata": {},
     "inputWidgets": {},
     "nuid": "93e23887-c45c-434a-b6e8-777e3c250836",
     "showTitle": false,
     "tableResultSettingsMap": {},
     "title": ""
    },
    "colab": {
     "base_uri": "https://localhost:8080/",
     "height": 430
    },
    "id": "nH59hvMUCxCg",
    "outputId": "ef69d95f-a590-4cbd-ce3b-69ca00ce289c"
   },
   "outputs": [],
   "source": [
    "sleep['LifeSpan'].plot(kind=\"hist\",fill=True,histtype='step',label='life span', color = \"skyblue\")\n",
    "plt.show()"
   ]
  },
  {
   "cell_type": "markdown",
   "metadata": {
    "application/vnd.databricks.v1+cell": {
     "cellMetadata": {},
     "inputWidgets": {},
     "nuid": "7827f5c4-d504-47aa-ba80-e0090f9eaf1e",
     "showTitle": false,
     "tableResultSettingsMap": {},
     "title": ""
    },
    "id": "S-re-fYsCxCh"
   },
   "source": [
    "### The effect of binning\n",
    "\n",
    "When data is binned (or sampled) the bin size effects the amount of counts in each bin. Counts fluctuate like a normal distribution for counts above about 20. So depending on your bin size, the same data may look differently.\n",
    "\n",
    "Hard binning (small bin size) may introduce pure statistical structures without any other meaning. This is then overfitting. Too big bin sizes may wipe out structures in the data (underfitting). If known, a bin size guided by the physical resolution of the sensor is close to optimal.\n",
    "\n",
    "Plot the same histograms with a different binning."
   ]
  },
  {
   "cell_type": "code",
   "execution_count": 0,
   "metadata": {
    "application/vnd.databricks.v1+cell": {
     "cellMetadata": {},
     "inputWidgets": {},
     "nuid": "f56385cd-d84c-4d92-80f5-255330b8e262",
     "showTitle": false,
     "tableResultSettingsMap": {},
     "title": ""
    },
    "colab": {
     "base_uri": "https://localhost:8080/",
     "height": 430
    },
    "id": "6AJWEKE9CxCi",
    "outputId": "53f6b53c-5c3f-49df-bac7-83d072e037ed"
   },
   "outputs": [],
   "source": [
    "sleep['LifeSpan'].plot(kind=\"hist\",fill=True,histtype='step',label='life span', color = \"skyblue\", bins=15)\n",
    "plt.show()"
   ]
  },
  {
   "cell_type": "markdown",
   "metadata": {
    "application/vnd.databricks.v1+cell": {
     "cellMetadata": {},
     "inputWidgets": {},
     "nuid": "0ad260d4-2a4d-4b8f-ba9d-bacf4b621177",
     "showTitle": false,
     "tableResultSettingsMap": {},
     "title": ""
    },
    "id": "L_pMyZGJu6Z3"
   },
   "source": [
    "### Exercise\n",
    "Plot a histogram for *Dreaming* and add *NonDreaming* to the same Histogram and add a legend.\n"
   ]
  },
  {
   "cell_type": "code",
   "execution_count": 0,
   "metadata": {
    "application/vnd.databricks.v1+cell": {
     "cellMetadata": {},
     "inputWidgets": {},
     "nuid": "e6848732-d993-4129-84e8-938c55e41a53",
     "showTitle": false,
     "tableResultSettingsMap": {},
     "title": ""
    },
    "colab": {
     "base_uri": "https://localhost:8080/",
     "height": 430
    },
    "id": "bHEOTzarvNzD",
    "outputId": "93b8dbd8-1a63-49de-f0a6-e698c93110c1"
   },
   "outputs": [],
   "source": [
    "sleep['Dreaming'].plot(kind=\"hist\",fill=True,histtype='step',label='Dreaming', alpha=0.5)\n",
    "sleep['NonDreaming'].plot(kind=\"hist\",fill=True,histtype='step',label='NonDreaming', alpha=0.5)\n",
    "plt.legend()\n",
    "plt.show()"
   ]
  },
  {
   "cell_type": "markdown",
   "metadata": {
    "application/vnd.databricks.v1+cell": {
     "cellMetadata": {},
     "inputWidgets": {},
     "nuid": "35447886-5446-4e0f-936f-cebc8de14f40",
     "showTitle": false,
     "tableResultSettingsMap": {},
     "title": ""
    },
    "id": "1xGwosqbCxCi"
   },
   "source": [
    "Add label to the axes of the above plot"
   ]
  },
  {
   "cell_type": "code",
   "execution_count": 0,
   "metadata": {
    "application/vnd.databricks.v1+cell": {
     "cellMetadata": {},
     "inputWidgets": {},
     "nuid": "695bfa76-ede1-468d-a1fa-1bf386997ff4",
     "showTitle": false,
     "tableResultSettingsMap": {},
     "title": ""
    },
    "colab": {
     "base_uri": "https://localhost:8080/",
     "height": 449
    },
    "id": "ijcxqFlNCxCi",
    "outputId": "fa39e2dc-5a41-4deb-c37a-17bfa21ba599"
   },
   "outputs": [],
   "source": [
    "sleep['Dreaming'].plot(kind=\"hist\",fill=True,histtype='step',label='Dreaming', alpha=0.5)\n",
    "sleep['NonDreaming'].plot(kind=\"hist\",fill=True,histtype='step',label='NonDreaming', alpha=0.5)\n",
    "plt.legend()\n",
    "plt.xlabel('hours spent not dreaming')\n",
    "plt.show()"
   ]
  },
  {
   "cell_type": "markdown",
   "metadata": {
    "application/vnd.databricks.v1+cell": {
     "cellMetadata": {},
     "inputWidgets": {},
     "nuid": "b3471b9c-fdde-4f26-a677-66aa7c5b3476",
     "showTitle": false,
     "tableResultSettingsMap": {},
     "title": ""
    },
    "id": "xbMmP9hownCI"
   },
   "source": [
    "## 3. Pie Charts\n",
    "Pie charts show the percentage on a whole.\n",
    "Let us look at the percentage an asian elephant spents dreaming."
   ]
  },
  {
   "cell_type": "code",
   "execution_count": 0,
   "metadata": {
    "application/vnd.databricks.v1+cell": {
     "cellMetadata": {},
     "inputWidgets": {},
     "nuid": "581f5f7d-3fa3-415b-a973-d4bccc31bfe9",
     "showTitle": false,
     "tableResultSettingsMap": {},
     "title": ""
    },
    "colab": {
     "base_uri": "https://localhost:8080/",
     "height": 81
    },
    "id": "FlrBAvGyxf5o",
    "outputId": "46fc64c3-1a18-4702-8b25-9f6f1837f7ed"
   },
   "outputs": [],
   "source": [
    "sleep[sleep['Species'] == 'Asianelephant'][['NonDreaming', 'Dreaming']]"
   ]
  },
  {
   "cell_type": "code",
   "execution_count": 0,
   "metadata": {
    "application/vnd.databricks.v1+cell": {
     "cellMetadata": {},
     "inputWidgets": {},
     "nuid": "78cdf00f-ec61-43e9-bc9f-fa2b736701e9",
     "showTitle": false,
     "tableResultSettingsMap": {},
     "title": ""
    },
    "colab": {
     "base_uri": "https://localhost:8080/",
     "height": 428
    },
    "id": "46tY0kMHxOJY",
    "outputId": "8bafeef2-2d9b-4cb8-e01d-b1628627a3e1"
   },
   "outputs": [],
   "source": [
    "plt.pie(sleep[sleep['Species'] == 'Asianelephant'][['NonDreaming', 'Dreaming']].values.flatten(), labels=['NonDreaming', 'Dreaming'],\n",
    "        autopct='%1.1f%%', colors = ['gold', 'lightcoral'])\n",
    "plt.title('Dreaming / NonDreaming on asian elephant')\n",
    "plt.show()"
   ]
  },
  {
   "cell_type": "markdown",
   "metadata": {
    "application/vnd.databricks.v1+cell": {
     "cellMetadata": {},
     "inputWidgets": {},
     "nuid": "42cce5c7-17fa-4369-87fa-e8880ffe16ec",
     "showTitle": false,
     "tableResultSettingsMap": {},
     "title": ""
    },
    "id": "lwXDniXWz1Ul"
   },
   "source": [
    "### Exercise\n",
    "Plot pie charts of three species next to each other"
   ]
  },
  {
   "cell_type": "code",
   "execution_count": 0,
   "metadata": {
    "application/vnd.databricks.v1+cell": {
     "cellMetadata": {},
     "inputWidgets": {},
     "nuid": "9deeed31-5648-4fc2-9212-3e0e7644f8d3",
     "showTitle": false,
     "tableResultSettingsMap": {},
     "title": ""
    },
    "colab": {
     "base_uri": "https://localhost:8080/",
     "height": 362
    },
    "id": "kiA15gd50w4S",
    "outputId": "64eb9568-016f-41ac-cec8-fce124f09b66"
   },
   "outputs": [],
   "source": [
    "subset = sleep[4:7][['Species','NonDreaming', 'Dreaming']]\n",
    "# Number of species\n",
    "n_species = subset.shape[0]\n",
    "\n",
    "# Create a figure and a set of subplots\n",
    "fig, axs = plt.subplots(1, n_species, figsize=(15, 5))\n",
    "\n",
    "# Loop through each species to create a pie chart\n",
    "for i, species in enumerate(subset['Species']):\n",
    "    sizes = subset[subset['Species'] == species][['NonDreaming', 'Dreaming']].values.flatten()\n",
    "    axs[i].pie(sizes, labels=['NonDreaming', 'Dreaming'], autopct='%1.1f%%')\n",
    "    axs[i].set_title(species)\n",
    "\n",
    "# Display the pie charts\n",
    "plt.tight_layout()\n",
    "plt.show()"
   ]
  },
  {
   "cell_type": "markdown",
   "metadata": {
    "application/vnd.databricks.v1+cell": {
     "cellMetadata": {},
     "inputWidgets": {},
     "nuid": "4af9bf2d-9a9a-4f3b-8b35-7b3378699078",
     "showTitle": false,
     "tableResultSettingsMap": {},
     "title": ""
    },
    "id": "BWtEvxkUCxCj"
   },
   "source": [
    "## 4. Scatter plots\n",
    "\n",
    "Scatter plots show how the data is distributed in two dimensions. They are good for finding (anti) correlations between two variables. Let us check whether there is a correlation between total sleep and the time spent dreaming."
   ]
  },
  {
   "cell_type": "code",
   "execution_count": 0,
   "metadata": {
    "application/vnd.databricks.v1+cell": {
     "cellMetadata": {},
     "inputWidgets": {},
     "nuid": "2c367426-44c4-4962-bc6d-1c2155863dd0",
     "showTitle": false,
     "tableResultSettingsMap": {},
     "title": ""
    },
    "colab": {
     "base_uri": "https://localhost:8080/",
     "height": 449
    },
    "id": "iyuRSeAHCxCj",
    "outputId": "c2a2bb8c-0e4e-429c-9402-0344e258d1ca"
   },
   "outputs": [],
   "source": [
    "sleep.plot(x='TotalSleep',y='Dreaming',kind=\"scatter\",c='c')\n",
    "plt.show()"
   ]
  },
  {
   "cell_type": "markdown",
   "metadata": {
    "application/vnd.databricks.v1+cell": {
     "cellMetadata": {},
     "inputWidgets": {},
     "nuid": "e16b04c8-8fbe-480c-bbba-c71b6d771523",
     "showTitle": false,
     "tableResultSettingsMap": {},
     "title": ""
    },
    "id": "yAwH5l5x2n0H"
   },
   "source": [
    "### Exercise\n",
    "Can you find a correlation between sleep and dreaming when you plot a different scatterplot for each level of exposure?"
   ]
  },
  {
   "cell_type": "code",
   "execution_count": 0,
   "metadata": {
    "application/vnd.databricks.v1+cell": {
     "cellMetadata": {},
     "inputWidgets": {},
     "nuid": "62a571d9-6f3b-48ae-bf4e-9366086de6c1",
     "showTitle": false,
     "tableResultSettingsMap": {},
     "title": ""
    },
    "colab": {
     "base_uri": "https://localhost:8080/",
     "height": 387
    },
    "id": "PNi5kPTt23ou",
    "outputId": "36ad6c8e-6f43-47b4-d0d6-695e5f24a570"
   },
   "outputs": [],
   "source": [
    "categories = [1,2,3,4,5]\n",
    "n_categories = len(categories)\n",
    "\n",
    "fig, axs = plt.subplots(1, n_categories, figsize=(15, 5), sharex=True, sharey=True)\n",
    "for i, category in enumerate(categories):\n",
    "    category_data = sleep[sleep['Exposure'] == category]\n",
    "    axs[i].scatter(category_data['TotalSleep'], category_data['Dreaming'], color='b')\n",
    "    axs[i].set_title(f'Exposure {category}')\n",
    "    axs[i].set_xlabel('TotalSleep')\n",
    "    axs[i].set_ylabel('Dreaming')\n",
    "\n",
    "plt.tight_layout()\n",
    "plt.show()"
   ]
  },
  {
   "cell_type": "markdown",
   "metadata": {
    "application/vnd.databricks.v1+cell": {
     "cellMetadata": {},
     "inputWidgets": {},
     "nuid": "7fa8de98-cf24-495d-b308-2247fdd87023",
     "showTitle": false,
     "tableResultSettingsMap": {},
     "title": ""
    },
    "id": "7RqrcA9GCxCk"
   },
   "source": [
    "There are several other tools too. See https://pandas.pydata.org/pandas-docs/stable/visualization.html"
   ]
  },
  {
   "cell_type": "markdown",
   "metadata": {
    "application/vnd.databricks.v1+cell": {
     "cellMetadata": {},
     "inputWidgets": {},
     "nuid": "cb983bf1-e67f-4d32-915d-8a2a9ef30cb4",
     "showTitle": false,
     "tableResultSettingsMap": {},
     "title": ""
    },
    "id": "PjMuygbwCxCl"
   },
   "source": [
    "## 4. Box plots"
   ]
  },
  {
   "cell_type": "markdown",
   "metadata": {
    "application/vnd.databricks.v1+cell": {
     "cellMetadata": {},
     "inputWidgets": {},
     "nuid": "e06e637a-e49a-4c64-a06f-e62aea833122",
     "showTitle": false,
     "tableResultSettingsMap": {},
     "title": ""
    },
    "id": "ZXS2jhOmCxCl"
   },
   "source": [
    "A boxplot is a graphical representation that shows the distribution of a dataset by displaying its minimum, first quartile, median, third quartile, and maximum, along with any potential outliers. We will look at them in more detail in Module 2"
   ]
  },
  {
   "cell_type": "code",
   "execution_count": 0,
   "metadata": {
    "application/vnd.databricks.v1+cell": {
     "cellMetadata": {},
     "inputWidgets": {},
     "nuid": "9321672b-24cf-49a2-89f4-bd3f2a9083d4",
     "showTitle": false,
     "tableResultSettingsMap": {},
     "title": ""
    },
    "colab": {
     "base_uri": "https://localhost:8080/",
     "height": 430
    },
    "id": "TqjQAmydCxCl",
    "outputId": "6ac93d94-66f1-4d27-d474-922e5c5a7704"
   },
   "outputs": [],
   "source": [
    "sleep['TotalSleep'].plot.box()\n",
    "plt.ylabel(\"Total sleep in hours\")\n",
    "plt.show()"
   ]
  },
  {
   "cell_type": "markdown",
   "metadata": {
    "application/vnd.databricks.v1+cell": {
     "cellMetadata": {},
     "inputWidgets": {},
     "nuid": "46781cba-e132-4342-8b2d-62a4889df5e4",
     "showTitle": false,
     "tableResultSettingsMap": {},
     "title": ""
    },
    "id": "aVrsPXE4CxCl"
   },
   "source": [
    "## 5. Plotting with error bars"
   ]
  },
  {
   "cell_type": "markdown",
   "metadata": {
    "application/vnd.databricks.v1+cell": {
     "cellMetadata": {},
     "inputWidgets": {},
     "nuid": "e67fc4d3-d0a3-49a1-b059-513ad85e0172",
     "showTitle": false,
     "tableResultSettingsMap": {},
     "title": ""
    },
    "id": "j1d_m7buCxCm"
   },
   "source": [
    "There is no science without error bars, or better, uncertainties. The meaning of uncertainties is discussed in module 2. Here we only show by example  how to plot uncertainties."
   ]
  },
  {
   "cell_type": "markdown",
   "metadata": {
    "application/vnd.databricks.v1+cell": {
     "cellMetadata": {},
     "inputWidgets": {},
     "nuid": "ff7d07f5-ce81-4258-ab53-38e4411ae1d1",
     "showTitle": false,
     "tableResultSettingsMap": {},
     "title": ""
    },
    "id": "2S1vhQHcCxCm"
   },
   "source": [
    "Plotting with error bars is supported in DataFrame.plot() and Series.plot().\n",
    "\n",
    "Horizontal and vertical error bars can be supplied to the xerr and yerr keyword arguments to plot(). The error values can be specified using a variety of formats:\n",
    "\n",
    "- As a DataFrame or dict of errors with column names matching the columns attribute of the plotting DataFrame or matching the name attribute of the Series.\n",
    "- As a str indicating which of the columns of plotting DataFrame contain the error values.\n",
    "- As raw values (list, tuple, or np.ndarray). Must be the same length as the plotting DataFrame/Series.\n",
    "\n",
    "Asymmetrical error bars are also supported, however raw error values must be provided in this case. For a M length Series, a Mx2 array should be provided indicating lower and upper (or left and right) errors. For a MxN DataFrame, asymmetrical errors should be in a Mx2xN array.\n",
    "\n",
    "Here is an example using an error dataframe (symmetric uncertainties)."
   ]
  },
  {
   "cell_type": "code",
   "execution_count": 0,
   "metadata": {
    "application/vnd.databricks.v1+cell": {
     "cellMetadata": {},
     "inputWidgets": {},
     "nuid": "7bd3ca74-ae14-4e52-8015-e8535ffe3740",
     "showTitle": false,
     "tableResultSettingsMap": {},
     "title": ""
    },
    "colab": {
     "base_uri": "https://localhost:8080/",
     "height": 430
    },
    "id": "4nGenVxcCxCm",
    "outputId": "8c3c9d29-a81a-40b3-f44c-d11ddf4482ff"
   },
   "outputs": [],
   "source": [
    "my_df   = pd.DataFrame([6,15,4,20,16,13]) # Some random data\n",
    "my_df_e = (my_df)**0.5 # The error dataframe\n",
    "my_df.plot(yerr=my_df_e)\n",
    "plt.show()"
   ]
  },
  {
   "cell_type": "markdown",
   "metadata": {
    "application/vnd.databricks.v1+cell": {
     "cellMetadata": {},
     "inputWidgets": {},
     "nuid": "881da19a-8c7b-4b9d-877d-8c2706602821",
     "showTitle": false,
     "tableResultSettingsMap": {},
     "title": ""
    },
    "id": "J1jm7R8FCxCm"
   },
   "source": [
    "## 6. Formatting plots"
   ]
  },
  {
   "cell_type": "markdown",
   "metadata": {
    "application/vnd.databricks.v1+cell": {
     "cellMetadata": {},
     "inputWidgets": {},
     "nuid": "2b07341a-5fc4-41d3-9d3b-08a913299e00",
     "showTitle": false,
     "tableResultSettingsMap": {},
     "title": ""
    },
    "id": "fT0rAG1ICxCn"
   },
   "source": [
    "Plots can easily be formatted with keywords. One can adjust colors, types of shading, lines, axes, legends, titles, etc. Some formatting has been exemplified above. More examples are in the documentation. https://pandas.pydata.org/pandas-docs/stable/visualization.html\n",
    "\n",
    "With the matplotlib module you are even more flexible. See https://matplotlib.org/gallery/index.html for inspirations."
   ]
  },
  {
   "cell_type": "markdown",
   "metadata": {
    "application/vnd.databricks.v1+cell": {
     "cellMetadata": {},
     "inputWidgets": {},
     "nuid": "fc92b073-eedb-47d9-a245-37640e3d1d34",
     "showTitle": false,
     "tableResultSettingsMap": {},
     "title": ""
    },
    "id": "19rFbg4TCxCn"
   },
   "source": [
    "## 7. Summary\n",
    "\n",
    "- Do you remember three important plot types?\n",
    "- What can the binning of a histogram do to the interpretation of it?\n",
    "- Can you mention three important points to include in plots and their figure legends?\n"
   ]
  },
  {
   "cell_type": "markdown",
   "metadata": {
    "application/vnd.databricks.v1+cell": {
     "cellMetadata": {},
     "inputWidgets": {},
     "nuid": "62fd45ac-5961-4a7f-9e41-df245b51cb40",
     "showTitle": false,
     "tableResultSettingsMap": {},
     "title": ""
    },
    "id": "uWUIH_zSCxCn"
   },
   "source": [
    "## 8. Plotting Geodata\n",
    "\n",
    "Often is very nice to visualise data on geographical maps. Fortunately people have written packages helpin us with that. This is an example how the geopandas package can be used."
   ]
  },
  {
   "cell_type": "markdown",
   "metadata": {
    "application/vnd.databricks.v1+cell": {
     "cellMetadata": {},
     "inputWidgets": {},
     "nuid": "27910242-a446-4a84-b1e4-2308e93d8676",
     "showTitle": false,
     "tableResultSettingsMap": {},
     "title": ""
    },
    "id": "pGUGT3OTQCZe"
   },
   "source": [
    "\n",
    "First we need the so called shape files. They are provided by [swisstopo](https://www.swisstopo.admin.ch/en/geodata/landscape/boundaries3d.html/). For convenience there is a version on the CAS github repositoy.\n",
    "\n",
    "On Linux (colab is running linux) we get and unpack the files like this:\n",
    "\n"
   ]
  },
  {
   "cell_type": "code",
   "execution_count": 0,
   "metadata": {
    "application/vnd.databricks.v1+cell": {
     "cellMetadata": {},
     "inputWidgets": {},
     "nuid": "e7c2b170-e274-42af-aa2b-60c828e41ea6",
     "showTitle": false,
     "tableResultSettingsMap": {},
     "title": ""
    },
    "colab": {
     "base_uri": "https://localhost:8080/"
    },
    "id": "C7_4VwEdIW-x",
    "outputId": "ef588255-95d3-4a18-d1f0-a0042f0c87be"
   },
   "outputs": [],
   "source": [
    "! wget https://github.com/sigvehaug/CAS-Applied-Data-Science/raw/master/Module-1/CHE_adm.zip\n",
    "! mkdir -p data\n",
    "! unzip CHE_adm.zip -d data"
   ]
  },
  {
   "cell_type": "code",
   "execution_count": 0,
   "metadata": {
    "application/vnd.databricks.v1+cell": {
     "cellMetadata": {},
     "inputWidgets": {},
     "nuid": "e528f593-0276-4080-b223-96c09d16f0bc",
     "showTitle": false,
     "tableResultSettingsMap": {},
     "title": ""
    },
    "id": "9WjhNP99CxCn"
   },
   "outputs": [],
   "source": [
    "import pandas as pd\n",
    "import numpy as np\n",
    "import geopandas as gpd\n",
    "import matplotlib.pyplot as plt\n",
    "import datetime\n",
    "import os\n"
   ]
  },
  {
   "cell_type": "markdown",
   "metadata": {
    "application/vnd.databricks.v1+cell": {
     "cellMetadata": {},
     "inputWidgets": {},
     "nuid": "e9ab11d6-3e10-4f72-a69d-91ccda44187e",
     "showTitle": false,
     "tableResultSettingsMap": {},
     "title": ""
    },
    "id": "B4ENE8h1Yjoq"
   },
   "source": [
    "Now we merge some numbers per canton (covid cases at some point in the past) with the shape files."
   ]
  },
  {
   "cell_type": "code",
   "execution_count": 0,
   "metadata": {
    "application/vnd.databricks.v1+cell": {
     "cellMetadata": {},
     "inputWidgets": {},
     "nuid": "c8f35294-a8d9-49af-9a25-0b97a1aefaef",
     "showTitle": false,
     "tableResultSettingsMap": {},
     "title": ""
    },
    "colab": {
     "base_uri": "https://localhost:8080/",
     "height": 757
    },
    "id": "nLqaeUqL8iC9",
    "outputId": "9184dfab-96a8-4fdd-8bbd-b52c2b1ac2d6"
   },
   "outputs": [],
   "source": [
    "shape_file = 'data/CHE_adm1.shp'\n",
    "switzerland = gpd.read_file(shape_file)\n",
    "population_data = {\n",
    "    'canton': ['Aargau', 'Appenzell Ausserrhoden', 'Appenzell Innerrhoden', 'Basel-Landschaft', 'Basel-Stadt',\n",
    "               'Bern', 'Fribourg', 'Genève', 'Glarus', 'Graubünden', 'Jura', 'Lucerne',\n",
    "               'Neuchâtel', 'Nidwalden', 'Obwalden', 'Schwyz', 'Schaffhausen', 'Solothurn',\n",
    "               'Sankt Gallen', 'Thurgau', 'Ticino', 'Uri', 'Valais', 'Vaud', 'Zug', 'Zürich'],\n",
    "    'population': [695.3, 55.7, 16.3, 291.3, 196.6, 1046.3, 325.2, 509.1, 40.7,\n",
    "                   198.9, 73.8, 416.3, 177.3, 43.9, 38.4, 83.6, 162.6, 278.3,\n",
    "                   516.7, 282.9, 353.3, 37, 349.2, 815.6, 130.2, 1553.6]\n",
    "}\n",
    "\n",
    "population_df = pd.DataFrame(population_data)\n",
    "\n",
    "# Filter for Switzerland and merge with population data\n",
    "switzerland = switzerland[switzerland['NAME_1'].isin(population_df['canton'])]\n",
    "switzerland = switzerland.merge(population_df, left_on='NAME_1', right_on='canton')\n",
    "\n",
    "# Plotting\n",
    "fig, ax = plt.subplots(1, 1, figsize=(10, 10))\n",
    "switzerland.boundary.plot(ax=ax, linewidth=1)  # Plot boundaries\n",
    "switzerland.plot(column='population', ax=ax, legend=True,\n",
    "                 legend_kwds={'label': \"Population by Canton\",\n",
    "                              'orientation': \"horizontal\"},\n",
    "                 cmap='OrRd', edgecolor='black')\n",
    "\n",
    "# Title and show plot\n",
    "plt.title('Population by Canton in Switzerland')\n",
    "plt.show()"
   ]
  },
  {
   "cell_type": "markdown",
   "metadata": {
    "application/vnd.databricks.v1+cell": {
     "cellMetadata": {},
     "inputWidgets": {},
     "nuid": "53dfcec8-f208-4f89-bb91-11947871f1d3",
     "showTitle": false,
     "tableResultSettingsMap": {},
     "title": ""
    },
    "id": "iug2-DAtB661"
   },
   "source": [
    "### Excercise\n",
    "Draw another geoplot of Switzerland."
   ]
  },
  {
   "cell_type": "markdown",
   "metadata": {
    "application/vnd.databricks.v1+cell": {
     "cellMetadata": {},
     "inputWidgets": {},
     "nuid": "3648db8d-7bf4-49fb-9614-c0ff7725f0ad",
     "showTitle": false,
     "tableResultSettingsMap": {},
     "title": ""
    },
    "id": "21Q6_1eUCxCo"
   },
   "source": [
    "# Exercise 12 (continued)\n",
    "Investigate the merged datasets from yesterdays Exercise 12 using suitable graphical tools"
   ]
  },
  {
   "cell_type": "code",
   "execution_count": 0,
   "metadata": {
    "application/vnd.databricks.v1+cell": {
     "cellMetadata": {},
     "inputWidgets": {},
     "nuid": "2f274287-8bac-45f9-add8-dcfbe4d2a063",
     "showTitle": false,
     "tableResultSettingsMap": {},
     "title": ""
    },
    "id": "hrD0tsiLEPgs"
   },
   "outputs": [],
   "source": []
  }
 ],
 "metadata": {
  "application/vnd.databricks.v1+notebook": {
   "computePreferences": null,
   "dashboards": [],
   "environmentMetadata": null,
   "inputWidgetPreferences": null,
   "language": "python",
   "notebookMetadata": {},
   "notebookName": "M1-D2-DV-Sol",
   "widgets": {}
  },
  "colab": {
   "provenance": [],
   "toc_visible": true
  },
  "kernelspec": {
   "display_name": "Python 3",
   "language": "python",
   "name": "python3"
  },
  "language_info": {
   "name": "python"
  }
 },
 "nbformat": 4,
 "nbformat_minor": 0
}
