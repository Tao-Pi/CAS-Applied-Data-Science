{
 "cells": [
  {
   "cell_type": "markdown",
   "metadata": {
    "application/vnd.databricks.v1+cell": {
     "cellMetadata": {},
     "inputWidgets": {},
     "nuid": "a7a8dbf5-0d8b-4b61-aa72-be17251ea12c",
     "showTitle": false,
     "tableResultSettingsMap": {},
     "title": ""
    }
   },
   "source": [
    "### Step 1: Read the data from the table and generate a DataFrame"
   ]
  },
  {
   "cell_type": "code",
   "execution_count": 0,
   "metadata": {
    "application/vnd.databricks.v1+cell": {
     "cellMetadata": {
      "byteLimit": 2048000,
      "rowLimit": 10000
     },
     "inputWidgets": {},
     "nuid": "0d178fa0-48d5-465f-a7c2-ff246298d6c1",
     "showTitle": false,
     "tableResultSettingsMap": {},
     "title": ""
    }
   },
   "outputs": [],
   "source": [
    "from pyspark.sql import functions as F\n",
    "from pyspark.sql import Window\n",
    "import matplotlib.pyplot as plt\n",
    "\n",
    "TABLE = \"playplus_dev_bronze.pdp.articles_v2\"\n",
    "df = spark.table(TABLE)"
   ]
  },
  {
   "cell_type": "markdown",
   "metadata": {
    "application/vnd.databricks.v1+cell": {
     "cellMetadata": {},
     "inputWidgets": {},
     "nuid": "1f37bb82-5556-4dd2-a370-1a1c7d6f4a4f",
     "showTitle": false,
     "tableResultSettingsMap": {},
     "title": ""
    }
   },
   "source": [
    "show the table to get an overview"
   ]
  },
  {
   "cell_type": "code",
   "execution_count": 0,
   "metadata": {
    "application/vnd.databricks.v1+cell": {
     "cellMetadata": {
      "byteLimit": 2048000,
      "rowLimit": 10000
     },
     "inputWidgets": {},
     "nuid": "1c816698-abcc-462d-b0e5-1495913a5e80",
     "showTitle": false,
     "tableResultSettingsMap": {
      "0": {
       "dataGridStateBlob": "{\"version\":1,\"tableState\":{\"columnPinning\":{\"left\":[\"#row_number#\"],\"right\":[]},\"columnSizing\":{},\"columnVisibility\":{}},\"settings\":{\"columns\":{}},\"syncTimestamp\":1758199385936}",
       "filterBlob": "{\"version\":1,\"filterGroups\":[{\"enabled\":true,\"filterGroupId\":\"fg_c95926ac\",\"op\":\"OR\",\"filters\":[{\"filterId\":\"f_821d942e\",\"enabled\":true,\"columnId\":\"publisher\",\"dataType\":\"string\",\"filterType\":\"oneof\",\"filterValues\":[\"SWI\"],\"filterConfig\":{\"caseSensitive\":true}}],\"local\":false,\"updatedAt\":1758199896385},{\"enabled\":true,\"filterGroupId\":\"fg_47dfe194\",\"op\":\"OR\",\"filters\":[{\"filterId\":\"f_4549b30b\",\"enabled\":true,\"columnId\":\"title\",\"dataType\":\"complex\",\"filterType\":\"contains\",\"filterValue\":\"en\",\"filterConfig\":{}}],\"local\":false,\"updatedAt\":1758199934473},{\"enabled\":true,\"filterGroupId\":\"fg_1c98f9c3\",\"op\":\"OR\",\"filters\":[{\"filterId\":\"f_7962ee7b\",\"enabled\":true,\"columnId\":\"title\",\"dataType\":\"complex\",\"filterType\":\"contains\",\"filterValue\":\",\\\"language\\\":\\\"en\\\"\",\"filterConfig\":{}}],\"local\":false,\"updatedAt\":1758199968999}],\"syncTimestamp\":1758199968999}",
       "queryPlanFiltersBlob": "[{\"kind\":\"call\",\"function\":\"and\",\"args\":[{\"kind\":\"call\",\"function\":\"or\",\"args\":[{\"kind\":\"call\",\"function\":\"in\",\"args\":[{\"kind\":\"identifier\",\"identifier\":\"publisher\"},{\"kind\":\"literal\",\"value\":\"SWI\",\"type\":\"string\"}]}]},{\"kind\":\"call\",\"function\":\"or\",\"args\":[{\"kind\":\"call\",\"function\":\"ilike\",\"args\":[{\"kind\":\"identifier\",\"identifier\":\"title\"},{\"kind\":\"literal\",\"value\":\"%en%\",\"type\":\"string\"}]}]},{\"kind\":\"call\",\"function\":\"or\",\"args\":[{\"kind\":\"call\",\"function\":\"ilike\",\"args\":[{\"kind\":\"identifier\",\"identifier\":\"title\"},{\"kind\":\"literal\",\"value\":\"%,\\\"language\\\":\\\"en\\\"%\",\"type\":\"string\"}]}]}]}]",
       "tableResultIndex": 0
      }
     },
     "title": ""
    }
   },
   "outputs": [],
   "source": [
    "display(df)"
   ]
  },
  {
   "cell_type": "code",
   "execution_count": 0,
   "metadata": {
    "application/vnd.databricks.v1+cell": {
     "cellMetadata": {
      "byteLimit": 2048000,
      "rowLimit": 10000
     },
     "inputWidgets": {},
     "nuid": "76e925ed-47e5-4f43-8c37-d89d0eab4e0f",
     "showTitle": false,
     "tableResultSettingsMap": {},
     "title": ""
    }
   },
   "outputs": [],
   "source": [
    "df.columns"
   ]
  },
  {
   "cell_type": "code",
   "execution_count": 0,
   "metadata": {
    "application/vnd.databricks.v1+cell": {
     "cellMetadata": {
      "byteLimit": 2048000,
      "rowLimit": 10000
     },
     "inputWidgets": {},
     "nuid": "90e9413d-c9df-46e9-91d5-8ab33e2d4af4",
     "showTitle": false,
     "tableResultSettingsMap": {},
     "title": ""
    }
   },
   "outputs": [],
   "source": [
    "row = df.filter(F.col(\"id\") == \"urn:pdp:cms_swi:article:73104714\").limit(1).collect()\n",
    "if row:\n",
    "    for k, v in row[0].asDict().items():\n",
    "        print(f\"{k}: {v}\\n\")\n",
    "else:\n",
    "    print(\"No entry found with the specified id.\")"
   ]
  },
  {
   "cell_type": "code",
   "execution_count": 0,
   "metadata": {
    "application/vnd.databricks.v1+cell": {
     "cellMetadata": {
      "byteLimit": 2048000,
      "rowLimit": 10000
     },
     "inputWidgets": {},
     "nuid": "f22434d7-39e8-4018-b4a9-87c33f5a624c",
     "showTitle": false,
     "tableResultSettingsMap": {},
     "title": ""
    }
   },
   "outputs": [],
   "source": [
    "from pyspark.sql import functions as F\n",
    "import matplotlib.pyplot as plt\n",
    "import pandas as pd\n",
    "\n",
    "# Monat ableiten (yyyy-MM) aus releaseDate\n",
    "per_month_sdf = (\n",
    "    df.filter(F.col(\"releaseDate\").isNotNull())\n",
    "      .withColumn(\"month\", F.date_format(F.col(\"releaseDate\"), \"yyyy-MM\"))\n",
    "      .groupBy(\"month\")\n",
    "      .count()\n",
    "      .orderBy(\"month\")\n",
    ")\n",
    "\n",
    "# Nach Pandas holen und nach Datum sortieren (als echte Zeitachse)\n",
    "per_month = per_month_sdf.toPandas()\n",
    "per_month[\"month\"] = pd.to_datetime(per_month[\"month\"], errors='coerce')\n",
    "per_month = per_month.sort_values(\"month\")\n",
    "\n",
    "# Liniendiagramm: Artikel pro Monat\n",
    "plt.figure()\n",
    "plt.plot(per_month[\"month\"], per_month[\"count\"])\n",
    "#plt.title(\"Articles over Time (per month)\")\n",
    "plt.xlabel(\"Month\")\n",
    "plt.ylabel(\"Articles\")\n",
    "plt.xticks(rotation=45, ha=\"right\")\n",
    "plt.tight_layout()\n",
    "plt.show()\n"
   ]
  }
 ],
 "metadata": {
  "application/vnd.databricks.v1+notebook": {
   "computePreferences": null,
   "dashboards": [],
   "environmentMetadata": {
    "base_environment": "",
    "environment_version": "3"
   },
   "inputWidgetPreferences": null,
   "language": "python",
   "notebookMetadata": {
    "pythonIndentUnit": 4
   },
   "notebookName": "Python_Sctipt",
   "widgets": {}
  },
  "language_info": {
   "name": "python"
  }
 },
 "nbformat": 4,
 "nbformat_minor": 0
}
