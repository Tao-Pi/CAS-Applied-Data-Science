{
 "cells": [
  {
   "cell_type": "markdown",
   "metadata": {
    "application/vnd.databricks.v1+cell": {
     "cellMetadata": {},
     "inputWidgets": {},
     "nuid": "5e3e1f66-662d-4991-abed-c532b56f68ad",
     "showTitle": false,
     "tableResultSettingsMap": {},
     "title": ""
    },
    "id": "view-in-github"
   },
   "source": [
    "<a href=\"https://colab.research.google.com/github/KGzB/CAS-Applied-Data-Science/blob/master/Module-1/M1-D1-DM-Sol.ipynb\" target=\"_parent\"><img src=\"https://colab.research.google.com/assets/colab-badge.svg\" alt=\"Open In Colab\"/></a>"
   ]
  },
  {
   "cell_type": "markdown",
   "metadata": {
    "application/vnd.databricks.v1+cell": {
     "cellMetadata": {},
     "inputWidgets": {},
     "nuid": "e92c832a-6f03-47b7-ac15-85719dd48245",
     "showTitle": false,
     "tableResultSettingsMap": {},
     "title": ""
    },
    "id": "dOSMpeOK06p8"
   },
   "source": [
    "Notebook 1, Module 1, Data and Data Management, CAS Applied Data Science, 2024-08-21, A. Mühlemann, University of Bern. (based on the template by S. Haug)\n"
   ]
  },
  {
   "cell_type": "markdown",
   "metadata": {
    "application/vnd.databricks.v1+cell": {
     "cellMetadata": {},
     "inputWidgets": {},
     "nuid": "2b4c3c65-7e1b-47c8-a845-c9cfab58465b",
     "showTitle": false,
     "tableResultSettingsMap": {},
     "title": ""
    },
    "id": "ljJDZt-n6zPw"
   },
   "source": [
    "Prerequisite for this notebook is some basic Python experience.\n",
    "\n",
    "Please also look at the first batch of [the slides](https://drive.google.com/file/d/12cWTQG5_vcoaz-puhBgH9GrfKUADmLdo/view?usp=sharing) before doing this notebook. They offer an introduction to data.\n",
    "\n",
    "ChatGPT is able to write most of the code needed for this notebook. Please use it if you like!"
   ]
  },
  {
   "cell_type": "markdown",
   "metadata": {
    "application/vnd.databricks.v1+cell": {
     "cellMetadata": {},
     "inputWidgets": {},
     "nuid": "6a984a39-cac5-42bc-90ab-2b12e8098b09",
     "showTitle": false,
     "tableResultSettingsMap": {},
     "title": ""
    },
    "id": "OAVKazfU06p-"
   },
   "source": [
    "# 1. Data Management\n",
    "\n",
    "Estimated study time is about 2 hours. According to your background and how much you want to learn, you may need more or less. You are supposed to google, read manuals and chat with others during working through this notebook in order to benefit fully.\n",
    "\n",
    "**Learning outcomes - after completion you**\n",
    "- Know about data sources, types and formats (see lecture slides via link above)\n",
    "- Able to import and export data in Python\n",
    "- Able to do simple things with dataframes in Python\n",
    "\n",
    "**Documentation on Pandas DataFrame**\n",
    "- Python: https://pandas.pydata.org/pandas-docs/stable/generated/pandas.DataFrame.html\n",
    "\n",
    "## Outline\n",
    "\n",
    "     0. About data management\n",
    "     1. Getting used to Jupyter notebooks / colab\n",
    "     2. Importing and merging\n",
    "     3. Indexing on a dataframe\n",
    "     4. Sorting\n",
    "     5. Filtering\n",
    "     6. Exporting\n",
    "     7. Missing and bad data\n",
    "     8. Metadata\n",
    "     9. Working on the filesystem\n"
   ]
  },
  {
   "cell_type": "markdown",
   "metadata": {
    "application/vnd.databricks.v1+cell": {
     "cellMetadata": {},
     "inputWidgets": {},
     "nuid": "601c8476-9da4-46c3-b66d-c817e7bd4d2a",
     "showTitle": false,
     "tableResultSettingsMap": {},
     "title": ""
    },
    "id": "0xY2gyiE06qA"
   },
   "source": [
    "## 0. About data management"
   ]
  },
  {
   "cell_type": "markdown",
   "metadata": {
    "application/vnd.databricks.v1+cell": {
     "cellMetadata": {},
     "inputWidgets": {},
     "nuid": "8cf32b47-bfaa-44e4-95dd-5044531a7f95",
     "showTitle": false,
     "tableResultSettingsMap": {},
     "title": ""
    },
    "id": "nFyhF-jp06qB"
   },
   "source": [
    "Handling or managing data involves many steps and technologies at many levels. Data may be colleccted by sensors. It can be a camera, a temperature sensor, a telescope, a microscope (with a camera), a microphone, a particle detector etc. Normally the data is then digitised, maybe preprocessed and written to some media in a certain format, e.g. as a comma separated value (csv) file to a hard disk. This part of the data management is normally taken care of by engineers.\n",
    "\n",
    "Data may also be collected from all sorts of databases, so data already collected somehow. Time series of financial data, customers, passengers, facebook likes, twitter tweets etc. This is data which is normally already on a media with some interface for access, e.g. paper to be read by a camera, a file on youtube, a table on wikipedia etc. We will look at some ways to collect such data. Some programming and computer skills are needed to do so. It may be that this part of the data management is taken care of by specialised computer scientists, but it may also be expected from a data scientist to have these skills.\n",
    "\n",
    "Analysing data with statisitical and machine learning tools, requires that the data is colleceted, cleaned and prepared for the tools. *This is very often a very large part of a data analytics project and a prerequisite*. It may involve removing bad data, filter out redundant and noisy data, unify the formats and types, transform the data etc.\n",
    "Thus, a data scientist must be able to perform this part of the data management. This notebook shows the basic operations with Python pandas. With other tools the concepts and operations are very similar.\n",
    "\n",
    "After the data analysis, after the extraction of information and the creation of knowledge, the data is often stored or archived for the future (if this seems cheaper than regenerating the data at a later point). In larger institutions this part of the data management may include educated librarians and others, not necessarily the data scientist.  \n",
    "\n",
    "**In this notebook we only look at a few examples on how to do datamanagement with dataframes. Pandas are extremly powerful and we cannot show everything in a couple of hours. You will become more and more experienced when you work on your module projects. Probably whatever you want to do with your dataframe, there is a way to do it. If not, it probably doesn't make much sense what wou want to do.**\n",
    "\n",
    "Any questions?\n"
   ]
  },
  {
   "cell_type": "markdown",
   "metadata": {
    "application/vnd.databricks.v1+cell": {
     "cellMetadata": {},
     "inputWidgets": {},
     "nuid": "aa7eed52-e3a5-4f94-851a-b5dbcb0c20fd",
     "showTitle": false,
     "tableResultSettingsMap": {},
     "title": ""
    },
    "id": "z4HJ8cnp06qC"
   },
   "source": [
    "## 1. Getting used to Jupyter computational notebooks and Colab\n",
    "\n",
    "With Jupyter you can write rich text notebooks with executable code via your browser. There are several so-called kernels or computational back ends, i.e Python, R, Julia, bash etc can be supported. The text is written as Markdown. Latex is also supported (good for math). You can export the notebook in various formats, e.g. html. Everything can be done via the various tabs, however, the key shortcuts make you faster.\n",
    "\n",
    "*Useful key combinations*\n",
    "\n",
    "- Shift Enter or Control Enter = Run cell\n",
    "- Option/Alt Enter = Run cell and Insert new cell below\n",
    "\n",
    "### Exercise 1 (10 min)\n",
    "- Change and run this cell\n",
    "- Add a new cell and execute some python statement in it\n",
    "- Study the tabs in the menu of your jupyter (lab) notebook"
   ]
  },
  {
   "cell_type": "code",
   "execution_count": 0,
   "metadata": {
    "application/vnd.databricks.v1+cell": {
     "cellMetadata": {},
     "inputWidgets": {},
     "nuid": "e3aa18d1-2950-4977-bc89-cd88efc1e2af",
     "showTitle": false,
     "tableResultSettingsMap": {},
     "title": ""
    },
    "colab": {
     "base_uri": "https://localhost:8080/"
    },
    "id": "3tn_Bnh606qC",
    "outputId": "9a1aa3bf-066e-4f90-8b60-f5c2968438ba"
   },
   "outputs": [],
   "source": [
    "# Write some more Python code here\n",
    "print(\"hello world!\")"
   ]
  },
  {
   "cell_type": "markdown",
   "metadata": {
    "application/vnd.databricks.v1+cell": {
     "cellMetadata": {},
     "inputWidgets": {},
     "nuid": "df1a0917-2fb9-44dc-ac65-883e34b1f943",
     "showTitle": false,
     "tableResultSettingsMap": {},
     "title": ""
    },
    "id": "9Yy0P4Q006qD"
   },
   "source": [
    "## 2. Import a dataset into a Pandas DataFrame\n",
    "\n",
    "Pandas is a Python Module for data analysis and manipulation and management. It has the data structure DataFrame which is quite powerful. Features\n",
    "\n",
    "- DataFrame object for data management with integrated indexing.\n",
    "- Tools for reading and writing data between in-memory data structures and different file formats.\n",
    "- Data alignment and integrated handling of missing data.\n",
    "- Reshaping and pivoting of data sets.\n",
    "- Label-based slicing, fancy indexing, and subsetting of large data sets.\n",
    "- Data structure column insertion and deletion.\n",
    "- Group by engine allowing split-apply-combine operations on data sets.\n",
    "- Data set merging and joining.\n",
    "- Hierarchical axis indexing to work with high-dimensional data in a lower-dimensional data structure.\n",
    "- Time series-functionality: Date range generation and frequency conversion, moving window statistics, moving window linear regressions, date shifting and lagging.\n",
    "\n",
    "The module is highly optimized for performance, with critical code parts written in Cython or C. Documentation here: https://pandas.pydata.org/pandas-docs/stable/api.html\n",
    "\n",
    "For input/output (I/O) there are methods for reading EXCEL, SQL databases, HTML tables, clipboard, SAS, STATA etc."
   ]
  },
  {
   "cell_type": "markdown",
   "metadata": {
    "application/vnd.databricks.v1+cell": {
     "cellMetadata": {},
     "inputWidgets": {},
     "nuid": "1a31e40f-b0bc-45e0-bc95-13282613abf5",
     "showTitle": false,
     "tableResultSettingsMap": {},
     "title": ""
    },
    "id": "DlOvr5s1uvbu"
   },
   "source": [
    "In this notebook we will work with a dataset that contains brain and body weight, life  span, gestation time,  sleep and danger indices of 62 mammals [(source)](https://lib.stat.cmu.edu/datasets/sleep).\n",
    "\n",
    "To better illustrate some challenges faced when working with data, I split the data set into *sleep.csv* and *danger.csv* that can be downloaded from ILIAS.\n",
    "\n",
    "The data set *sleep.csv* contains:\n",
    "* Species: species of animal\n",
    "* BodyWt: body weight in kg\n",
    "* BrainWt: brain weight in g\n",
    "* NonDreaming: slow wave (\"nondreaming\") sleep (hrs/day)\n",
    "* Dreaming: paradoxical (\"dreaming\") sleep (hrs/day)\n",
    "* TotalSleep: total sleep (hrs/day)  (sum of slow wave and paradoxical sleep)\n",
    "* LifeSpan: maximum life span (years)\n",
    "* Gestation: gestation time (days)\n",
    "\n",
    "The data set *danger.csv* contains:\n",
    "* Species: species of animal\n",
    "* Predation: predation index (1-5)\\\n",
    "1 = minimum (least likely to be preyed upon)\\\n",
    "5 = maximum (most likely to be preyed upon)\n",
    "* Exposure: sleep exposure index (1-5)\\\n",
    "1 = least exposed (e.g. animal sleeps in a well-protected den)\\\n",
    "5 = most exposed\n",
    "* Danger: overall danger index (1-5) based on the above two indices and other information\n",
    "1 = least danger (from other animals)\\\n",
    "5 = most danger (from other animals)\n",
    "\n",
    "\n",
    "### Exercise 2\n",
    "- Upload both files to Colab\n",
    "- Import the python module pandas with abbriveation pd\n",
    "- Read both data sets into a pd dataframe\n",
    "- Look at both dataframes and identify possible problems that could surface when trying to merge the dataframes\n",
    "\n",
    "#### Hint\n",
    "\n",
    "There are some ways to get help about modules and methods directly in Jupyter:\n",
    "\n",
    "```\n",
    "dataframe. #(hover over the object to see its methods)\n",
    "```\n",
    "or\n",
    "\n",
    "```\n",
    "dataframe?\n",
    "```\n",
    "\n",
    "And, what you will probably use the most, the online package information and examples by googling or ChatGPT."
   ]
  },
  {
   "cell_type": "code",
   "execution_count": 0,
   "metadata": {
    "application/vnd.databricks.v1+cell": {
     "cellMetadata": {},
     "inputWidgets": {},
     "nuid": "b6a9d7db-7d8d-408c-a053-291c111a3263",
     "showTitle": false,
     "tableResultSettingsMap": {},
     "title": ""
    },
    "colab": {
     "base_uri": "https://localhost:8080/",
     "height": 109
    },
    "id": "2va7jftt06qF",
    "outputId": "1d643a30-e60a-4619-b24a-abb1c3e1ffc5"
   },
   "outputs": [],
   "source": [
    "# Upload the local data file to colab\n",
    "from google.colab import files\n",
    "uploaded = files.upload()"
   ]
  },
  {
   "cell_type": "code",
   "execution_count": 0,
   "metadata": {
    "application/vnd.databricks.v1+cell": {
     "cellMetadata": {},
     "inputWidgets": {},
     "nuid": "d01ae4bb-8f40-459b-9b53-05f40bbe1609",
     "showTitle": false,
     "tableResultSettingsMap": {},
     "title": ""
    },
    "id": "Fcu5tlR106qG"
   },
   "outputs": [],
   "source": [
    "# import the python module pandas with the abbreviation pd\n",
    "import pandas as pd\n",
    "\n",
    "# Read the data in the sleep.csv file into a dataframe\n",
    "sleep = pd.read_csv('sleep.csv', sep=\";\")\n",
    "# Read the data in the danger.csv file into a dataframe\n",
    "danger = pd.read_csv('danger.csv', sep=\";\",  index_col=0)\n"
   ]
  },
  {
   "cell_type": "code",
   "execution_count": 0,
   "metadata": {
    "application/vnd.databricks.v1+cell": {
     "cellMetadata": {},
     "inputWidgets": {},
     "nuid": "991274d1-df98-434d-8268-0ae0c54b3821",
     "showTitle": false,
     "tableResultSettingsMap": {},
     "title": ""
    },
    "colab": {
     "base_uri": "https://localhost:8080/",
     "height": 424
    },
    "id": "bEOk5TwFzusC",
    "outputId": "f43b720f-9ff9-42bb-8426-c69e58444ca8"
   },
   "outputs": [],
   "source": [
    "# show sleep.csv\n",
    "sleep"
   ]
  },
  {
   "cell_type": "markdown",
   "metadata": {
    "application/vnd.databricks.v1+cell": {
     "cellMetadata": {},
     "inputWidgets": {},
     "nuid": "89529447-0128-4742-81f8-ad634604e1e5",
     "showTitle": false,
     "tableResultSettingsMap": {},
     "title": ""
    },
    "id": "OKvS45Aq06qH"
   },
   "source": [
    "The dataframe method shows 50 rows per default. We can change with\n",
    "\n",
    "```\n",
    "pd.set_option('display.max_rows', None)\n",
    "```\n",
    "\n",
    "\n"
   ]
  },
  {
   "cell_type": "code",
   "execution_count": 0,
   "metadata": {
    "application/vnd.databricks.v1+cell": {
     "cellMetadata": {},
     "inputWidgets": {},
     "nuid": "d2749d7a-82ef-4402-9e0c-95d74a7653bd",
     "showTitle": false,
     "tableResultSettingsMap": {},
     "title": ""
    },
    "colab": {
     "base_uri": "https://localhost:8080/",
     "height": 210
    },
    "id": "odf02zpP06qI",
    "outputId": "e76fa93e-cc9b-42e8-8f49-84c46b350adb"
   },
   "outputs": [],
   "source": [
    "# show danger.csv\n",
    "danger"
   ]
  },
  {
   "cell_type": "markdown",
   "metadata": {
    "application/vnd.databricks.v1+cell": {
     "cellMetadata": {},
     "inputWidgets": {},
     "nuid": "dafabb8f-0e78-4abd-b30a-378c119fb666",
     "showTitle": false,
     "tableResultSettingsMap": {},
     "title": ""
    },
    "id": "eKQOX0Id0Vn5"
   },
   "source": [
    "Some of the callenges are that in *sleep.csv* each row corresponds to a species, while for *danger.csv* it's the columns that correspond to a species. Moreover, in *sleep.csv* the species are sorted from A-Z, while for *danger.csv* they are sorted from Z-A."
   ]
  },
  {
   "cell_type": "markdown",
   "metadata": {
    "application/vnd.databricks.v1+cell": {
     "cellMetadata": {},
     "inputWidgets": {},
     "nuid": "a36fc18d-8d52-473f-bc71-c6bdc91fa44f",
     "showTitle": false,
     "tableResultSettingsMap": {},
     "title": ""
    },
    "id": "hNySrhxP06qK"
   },
   "source": [
    "### Exercise 3\n",
    "Merge the two dataframes. We take *sleep.csv* as are base and want to add the information of *danger.csv* to the sleep dataframe. There are of course multiple solutions but try to make de modifications in Python and not with Excel.\n"
   ]
  },
  {
   "cell_type": "code",
   "execution_count": 0,
   "metadata": {
    "application/vnd.databricks.v1+cell": {
     "cellMetadata": {},
     "inputWidgets": {},
     "nuid": "081d9d26-bb64-4209-bd1e-d1efb4e617c9",
     "showTitle": false,
     "tableResultSettingsMap": {},
     "title": ""
    },
    "colab": {
     "base_uri": "https://localhost:8080/",
     "height": 424
    },
    "id": "VPP9qMe313vQ",
    "outputId": "3f056803-b261-4bd2-f128-afbbac2157c1"
   },
   "outputs": [],
   "source": [
    "# transpose danger.csv\n",
    "danger_t = danger.transpose().reset_index()\n",
    "danger_t.rename(columns={'index': 'Species'}, inplace=True)\n",
    "\n",
    "# merge danger_t with sleep\n",
    "dataframe = pd.merge(sleep, danger_t, on='Species', how='inner')\n",
    "dataframe"
   ]
  },
  {
   "cell_type": "markdown",
   "metadata": {
    "application/vnd.databricks.v1+cell": {
     "cellMetadata": {},
     "inputWidgets": {},
     "nuid": "77a1150b-a501-4361-aa04-af3b6b8d73cb",
     "showTitle": false,
     "tableResultSettingsMap": {},
     "title": ""
    },
    "id": "t12tFHM_612N"
   },
   "source": [
    "### Exercise 4\n",
    "Investigate what ```how='inner'``` does and what other options exist.\n",
    "\n"
   ]
  },
  {
   "cell_type": "markdown",
   "metadata": {
    "application/vnd.databricks.v1+cell": {
     "cellMetadata": {},
     "inputWidgets": {},
     "nuid": "f33c9cd5-f234-4e2b-9db6-a736e27fcad3",
     "showTitle": false,
     "tableResultSettingsMap": {},
     "title": ""
    },
    "id": "MUECfDlm7MIo"
   },
   "source": [
    "The expression ```how='inner'``` performs an inner join between the two dataframes meaning that only species existing in both dataframes end up in the merged dataframe.\n",
    "\n",
    "Other options are:\n",
    "- ```how='left'```: includes all rows from the left dataframe, and matching rows from the right dataframe.\n",
    "\n",
    "- ```how='right'```: includes all rows from the right dataframe, and matching rows from the left dataframe.\n",
    "\n",
    "- ```how='outer'```: includes all rows from both data frames, with NaNs where there are no matches.\n"
   ]
  },
  {
   "cell_type": "markdown",
   "metadata": {
    "application/vnd.databricks.v1+cell": {
     "cellMetadata": {},
     "inputWidgets": {},
     "nuid": "1ba9298e-c8f1-4ae8-bd99-4bf011d600d1",
     "showTitle": false,
     "tableResultSettingsMap": {},
     "title": ""
    },
    "id": "xCI7ub-706qN"
   },
   "source": [
    "## 3. Indexing on a dataframe\n",
    "From now on we work with our newly merged dataframe.\n",
    "Indexing is quite useful to\n",
    "- directly access a specific element in a dataframe.\n",
    "- easily modify or assign values.\n",
    "- filter.\n",
    "- ..."
   ]
  },
  {
   "cell_type": "markdown",
   "metadata": {
    "application/vnd.databricks.v1+cell": {
     "cellMetadata": {},
     "inputWidgets": {},
     "nuid": "1ba3082d-50fc-43c3-be99-1a42b02357af",
     "showTitle": false,
     "tableResultSettingsMap": {},
     "title": ""
    },
    "id": "WHJVki3j-4q_"
   },
   "source": [
    "We can access a single cell by indexing my its row and column\n",
    "\n",
    "```\n",
    "dataframe.iat[row_index,column_index]\n",
    "```\n",
    "\n"
   ]
  },
  {
   "cell_type": "markdown",
   "metadata": {
    "application/vnd.databricks.v1+cell": {
     "cellMetadata": {},
     "inputWidgets": {},
     "nuid": "1d6f3fb4-e88e-439f-943a-18ecad6393d5",
     "showTitle": false,
     "tableResultSettingsMap": {},
     "title": ""
    },
    "id": "xYaVBJC9_Z-4"
   },
   "source": [
    "### Exercise 5\n",
    "Check what value lies in colum 4 row 58"
   ]
  },
  {
   "cell_type": "code",
   "execution_count": 0,
   "metadata": {
    "application/vnd.databricks.v1+cell": {
     "cellMetadata": {},
     "inputWidgets": {},
     "nuid": "412db5a9-a8b8-414e-97d6-7766ef94d867",
     "showTitle": false,
     "tableResultSettingsMap": {},
     "title": ""
    },
    "id": "TZCX1ltQA4MT"
   },
   "outputs": [],
   "source": []
  },
  {
   "cell_type": "code",
   "execution_count": 0,
   "metadata": {
    "application/vnd.databricks.v1+cell": {
     "cellMetadata": {},
     "inputWidgets": {},
     "nuid": "7d718a53-4abc-4584-9fd0-182e47bbb6df",
     "showTitle": false,
     "tableResultSettingsMap": {},
     "title": ""
    },
    "colab": {
     "base_uri": "https://localhost:8080/"
    },
    "id": "R0sDmvr006qN",
    "outputId": "4435f715-816e-4a27-bd96-00ca5843f6cc"
   },
   "outputs": [],
   "source": [
    "dataframe.iat[57,3] # careful 1st row/col have index 0"
   ]
  },
  {
   "cell_type": "markdown",
   "metadata": {
    "application/vnd.databricks.v1+cell": {
     "cellMetadata": {},
     "inputWidgets": {},
     "nuid": "62e8df6f-1eee-45f0-864f-f1df2edfadd2",
     "showTitle": false,
     "tableResultSettingsMap": {},
     "title": ""
    },
    "id": "IXFjEF1LAngT"
   },
   "source": [
    "We can also assign a new value to this cell using\n",
    "\n",
    "```\n",
    "dataframe.iat[row_index,column_index]=10\n",
    "```\n",
    "\n"
   ]
  },
  {
   "cell_type": "markdown",
   "metadata": {
    "application/vnd.databricks.v1+cell": {
     "cellMetadata": {},
     "inputWidgets": {},
     "nuid": "aa667b8f-9a3b-4333-b07d-d95dba886fcd",
     "showTitle": false,
     "tableResultSettingsMap": {},
     "title": ""
    },
    "id": "yfkKtXeWA-Fq"
   },
   "source": [
    "### Exercise 6\n",
    "Overwrite the value in row 58 and column 4 with 10 and then change iz back to 4.9."
   ]
  },
  {
   "cell_type": "code",
   "execution_count": 0,
   "metadata": {
    "application/vnd.databricks.v1+cell": {
     "cellMetadata": {},
     "inputWidgets": {},
     "nuid": "e97e6dec-d410-4ea0-8e67-e4b5cc05ee59",
     "showTitle": false,
     "tableResultSettingsMap": {},
     "title": ""
    },
    "colab": {
     "base_uri": "https://localhost:8080/",
     "height": 424
    },
    "id": "PG7Kfw-3AXy7",
    "outputId": "9929faed-366c-4720-d55b-4b39aeb84f3d"
   },
   "outputs": [],
   "source": [
    "dataframe.iat[57,3]=10\n",
    "dataframe #check it worked"
   ]
  },
  {
   "cell_type": "code",
   "execution_count": 0,
   "metadata": {
    "application/vnd.databricks.v1+cell": {
     "cellMetadata": {},
     "inputWidgets": {},
     "nuid": "8d358320-1d75-49e9-a960-f35625cdede4",
     "showTitle": false,
     "tableResultSettingsMap": {},
     "title": ""
    },
    "colab": {
     "base_uri": "https://localhost:8080/",
     "height": 424
    },
    "id": "eGbwktSNBVkV",
    "outputId": "b17eb02d-77b3-4610-8783-428e69de9090"
   },
   "outputs": [],
   "source": [
    "dataframe.iat[57,3]=4.9\n",
    "dataframe #check it worked"
   ]
  },
  {
   "cell_type": "markdown",
   "metadata": {
    "application/vnd.databricks.v1+cell": {
     "cellMetadata": {},
     "inputWidgets": {},
     "nuid": "ac14a8de-4563-44ca-a4f7-d1147fbdc6d0",
     "showTitle": false,
     "tableResultSettingsMap": {},
     "title": ""
    },
    "id": "ttVndN1x_tgj"
   },
   "source": [
    "We can also access multiple cells by\n",
    "\n",
    "\n",
    "```\n",
    "dataframe.iloc[min_row:max_row+1,min_col:max_col+1]\n",
    "```\n",
    "\n"
   ]
  },
  {
   "cell_type": "markdown",
   "metadata": {
    "application/vnd.databricks.v1+cell": {
     "cellMetadata": {},
     "inputWidgets": {},
     "nuid": "8913a736-b761-49c7-9a08-8a30e12d3130",
     "showTitle": false,
     "tableResultSettingsMap": {},
     "title": ""
    },
    "id": "868_drwdB0LY"
   },
   "source": [
    "### Exercise 7\n",
    "Look at the first 10 row and the last 3 columns of our dataframe."
   ]
  },
  {
   "cell_type": "code",
   "execution_count": 0,
   "metadata": {
    "application/vnd.databricks.v1+cell": {
     "cellMetadata": {},
     "inputWidgets": {},
     "nuid": "b4fddab2-35e1-46bc-a8a2-b63a95f0f250",
     "showTitle": false,
     "tableResultSettingsMap": {},
     "title": ""
    },
    "colab": {
     "base_uri": "https://localhost:8080/",
     "height": 363
    },
    "id": "OeGXg-IOB8Te",
    "outputId": "bddc1be6-153d-4e49-b90c-fd2c2b72f622"
   },
   "outputs": [],
   "source": [
    "dataframe.iloc[0:10,8:11]"
   ]
  },
  {
   "cell_type": "markdown",
   "metadata": {
    "application/vnd.databricks.v1+cell": {
     "cellMetadata": {},
     "inputWidgets": {},
     "nuid": "46982b6b-b9a5-48c8-ad67-56c6748a57c4",
     "showTitle": false,
     "tableResultSettingsMap": {},
     "title": ""
    },
    "id": "jf6gF3jr06qN"
   },
   "source": [
    "**Important**\n",
    "When you assign a (subset) of dataframe to a new one like above, no copy is made. This means that if you change values of the new frame, also the orginal frame will be changed. If you want a copy, you need to use the copy method."
   ]
  },
  {
   "cell_type": "markdown",
   "metadata": {
    "application/vnd.databricks.v1+cell": {
     "cellMetadata": {},
     "inputWidgets": {},
     "nuid": "ea083b4b-259c-4277-b4ba-80a0d35b15b1",
     "showTitle": false,
     "tableResultSettingsMap": {},
     "title": ""
    },
    "id": "9n8pa6UH06qO"
   },
   "source": [
    "We can also access colums by the column names.\n",
    "### Exercise 8\n",
    "Look at the *TotalSleep* of all species. and in a second step look at *TotalSleep* and *BrainWt* of the first sevel rows."
   ]
  },
  {
   "cell_type": "code",
   "execution_count": 0,
   "metadata": {
    "application/vnd.databricks.v1+cell": {
     "cellMetadata": {},
     "inputWidgets": {},
     "nuid": "aaf5d88f-bf56-4ba5-85aa-6b971602a80e",
     "showTitle": false,
     "tableResultSettingsMap": {},
     "title": ""
    },
    "colab": {
     "base_uri": "https://localhost:8080/",
     "height": 269
    },
    "id": "ZapUeo_x06qO",
    "outputId": "33517d81-4fa8-48c4-f2cc-12747daeac27"
   },
   "outputs": [],
   "source": [
    "dataframe[:]['TotalSleep']\n",
    "dataframe[0:7][['TotalSleep', 'BrainWt']]"
   ]
  },
  {
   "cell_type": "markdown",
   "metadata": {
    "application/vnd.databricks.v1+cell": {
     "cellMetadata": {},
     "inputWidgets": {},
     "nuid": "c50a7674-1b19-4b79-9f9d-28a58858ed43",
     "showTitle": false,
     "tableResultSettingsMap": {},
     "title": ""
    },
    "id": "R0Sqgdk106qP"
   },
   "source": [
    "Selecting by row values\n",
    "\n",
    "\n"
   ]
  },
  {
   "cell_type": "code",
   "execution_count": 0,
   "metadata": {
    "application/vnd.databricks.v1+cell": {
     "cellMetadata": {},
     "inputWidgets": {},
     "nuid": "480b8956-52d1-4ad6-a1e2-131d7ff2f819",
     "showTitle": false,
     "tableResultSettingsMap": {},
     "title": ""
    },
    "colab": {
     "base_uri": "https://localhost:8080/",
     "height": 81
    },
    "id": "BPqUoUYR06qP",
    "outputId": "cbcf5fac-31ad-4cd9-8d0b-bb818be98383"
   },
   "outputs": [],
   "source": [
    "dataframe[dataframe['Species']=='ArcticFox']"
   ]
  },
  {
   "cell_type": "markdown",
   "metadata": {
    "application/vnd.databricks.v1+cell": {
     "cellMetadata": {},
     "inputWidgets": {},
     "nuid": "26d6c2bf-6df6-413b-a6bc-9846c920548b",
     "showTitle": false,
     "tableResultSettingsMap": {},
     "title": ""
    },
    "id": "peiXnTgAxw08"
   },
   "source": [
    "Sometimes it is also helpful to group. For example, if we are interested in the average *BrainWt* with respect to the danger the mammals are in, then grouping by *Danger* would yields the result:\n"
   ]
  },
  {
   "cell_type": "code",
   "execution_count": 0,
   "metadata": {
    "application/vnd.databricks.v1+cell": {
     "cellMetadata": {},
     "inputWidgets": {},
     "nuid": "f8c0d64f-cf25-4efd-b7fb-4fd2d04075c5",
     "showTitle": false,
     "tableResultSettingsMap": {},
     "title": ""
    },
    "colab": {
     "base_uri": "https://localhost:8080/",
     "height": 272
    },
    "id": "CK5KGhl4EsVF",
    "outputId": "2cb99909-4fdf-43b3-fd0a-41566108586c"
   },
   "outputs": [],
   "source": [
    "dataframe.groupby('Danger')['BrainWt'].mean()"
   ]
  },
  {
   "cell_type": "markdown",
   "metadata": {
    "application/vnd.databricks.v1+cell": {
     "cellMetadata": {},
     "inputWidgets": {},
     "nuid": "9f0085de-984b-4726-a77b-aad4deb2561f",
     "showTitle": false,
     "tableResultSettingsMap": {},
     "title": ""
    },
    "id": "HHEAmJM5FmGj"
   },
   "source": [
    "### Exercise 9\n",
    "Look at the mean gestation grouped by sleep exposure. Is there some visible difference?"
   ]
  },
  {
   "cell_type": "code",
   "execution_count": 0,
   "metadata": {
    "application/vnd.databricks.v1+cell": {
     "cellMetadata": {},
     "inputWidgets": {},
     "nuid": "e80052bb-dcfb-40df-a420-46e8693afee0",
     "showTitle": false,
     "tableResultSettingsMap": {},
     "title": ""
    },
    "colab": {
     "base_uri": "https://localhost:8080/",
     "height": 272
    },
    "id": "D1fRkA2nF7se",
    "outputId": "23e47030-634e-4421-9bdc-f44942535382"
   },
   "outputs": [],
   "source": [
    "dataframe.groupby('Exposure')['Gestation'].mean()"
   ]
  },
  {
   "cell_type": "markdown",
   "metadata": {
    "application/vnd.databricks.v1+cell": {
     "cellMetadata": {},
     "inputWidgets": {},
     "nuid": "8fb47a6c-54c9-404d-bb1d-80679a9e137f",
     "showTitle": false,
     "tableResultSettingsMap": {},
     "title": ""
    },
    "id": "NkS6YD7V06qQ"
   },
   "source": [
    "## 4. Sorting\n",
    "Sorting is helpful because it allows you to organize data in a meaningful order, making it easier to identify patterns, trends, or outliers.\n",
    "\n",
    "We can sort with respect to one or multiple columns as follows.\n",
    "\n",
    "\n",
    "\n",
    "```\n",
    "dataframe.sort_values(['col1','col2'])\n",
    "```\n",
    "\n",
    "### Exercise 9\n",
    "Sort the dataframe with respect to time the mammals spend sleeping in total as well as dreaming."
   ]
  },
  {
   "cell_type": "code",
   "execution_count": 0,
   "metadata": {
    "application/vnd.databricks.v1+cell": {
     "cellMetadata": {},
     "inputWidgets": {},
     "nuid": "bc8ef0cf-08db-48c0-9ecf-31ce4a588991",
     "showTitle": false,
     "tableResultSettingsMap": {},
     "title": ""
    },
    "colab": {
     "base_uri": "https://localhost:8080/",
     "height": 424
    },
    "id": "ghnoA6O306qQ",
    "outputId": "9773c01e-94e2-4e72-ec63-c8cca6e2d7cd"
   },
   "outputs": [],
   "source": [
    "dataframe.sort_values(['TotalSleep','Dreaming'])\n"
   ]
  },
  {
   "cell_type": "markdown",
   "metadata": {
    "application/vnd.databricks.v1+cell": {
     "cellMetadata": {},
     "inputWidgets": {},
     "nuid": "f3f25156-b2d6-438e-a74b-15e3b4541e17",
     "showTitle": false,
     "tableResultSettingsMap": {},
     "title": ""
    },
    "id": "d6I2Xd1d06qQ"
   },
   "source": [
    "## 5. Filtering\n",
    "Filtering dataframes is helpful because it allows you to focus on specific subsets of data that meet certain criteria, simplifying analysis and making it easier to identify trends or anomalies. It also improves efficiency by reducing the volume of data processed, which speeds up computations and insights."
   ]
  },
  {
   "cell_type": "markdown",
   "metadata": {
    "application/vnd.databricks.v1+cell": {
     "cellMetadata": {},
     "inputWidgets": {},
     "nuid": "bbe1ae25-d881-4cf1-8599-734311550a28",
     "showTitle": false,
     "tableResultSettingsMap": {},
     "title": ""
    },
    "id": "EnHkNsPjIxPu"
   },
   "source": [
    "### Exercise 10\n",
    "- Filter the data set such that only mammals remain that have a lifespan of more than 15 years.\n",
    "- Filter the data set such that only mammals remain that have a lifespan of more than 15 years and have a danger index of 5."
   ]
  },
  {
   "cell_type": "code",
   "execution_count": 0,
   "metadata": {
    "application/vnd.databricks.v1+cell": {
     "cellMetadata": {},
     "inputWidgets": {},
     "nuid": "05f121ba-af02-48fe-b8ee-0e2b9a5a3afb",
     "showTitle": false,
     "tableResultSettingsMap": {},
     "title": ""
    },
    "colab": {
     "base_uri": "https://localhost:8080/",
     "height": 959
    },
    "id": "XYCwukeI06qR",
    "outputId": "600ea8b1-0ab3-468b-c1c0-89421c83563a"
   },
   "outputs": [],
   "source": [
    "dataframe[dataframe['LifeSpan']>15]"
   ]
  },
  {
   "cell_type": "code",
   "execution_count": 0,
   "metadata": {
    "application/vnd.databricks.v1+cell": {
     "cellMetadata": {},
     "inputWidgets": {},
     "nuid": "77c5d323-6cb5-4d67-be2a-43001e2304fb",
     "showTitle": false,
     "tableResultSettingsMap": {},
     "title": ""
    },
    "colab": {
     "base_uri": "https://localhost:8080/",
     "height": 332
    },
    "id": "mpvpPn9BJLPH",
    "outputId": "e9de170c-44ed-42ea-8fca-fc01e28878d9"
   },
   "outputs": [],
   "source": [
    "dataframe[(dataframe['LifeSpan'] > 15) & (dataframe['Danger'] == 5)]"
   ]
  },
  {
   "cell_type": "markdown",
   "metadata": {
    "application/vnd.databricks.v1+cell": {
     "cellMetadata": {},
     "inputWidgets": {},
     "nuid": "465eaa1c-75b8-4cb6-ac25-8cc145f9c275",
     "showTitle": false,
     "tableResultSettingsMap": {},
     "title": ""
    },
    "id": "Rg_y8Ift06qR"
   },
   "source": [
    "## 6. Missing or bad data\n",
    "\n",
    "Datasets, before they are \"cleaned\", may contain missing or wrongly formated values. There are DataFrame methods to deal with this:\n",
    "\n",
    "- DataFrame.dropna([axis, how, thresh, …])\tRemove missing values.\n",
    "- DataFrame.fillna([value, method, axis, …])\tFill NA/NaN values using the specified method\n",
    "- DataFrame.replace([to_replace, value, …])\tReplace values given in to_replace with value.\n",
    "- DataFrame.interpolate([method, axis, limit, …])\tInterpolate values according to different methods.\n",
    "\n",
    "Retrieving and cleaning data is often the most time consuming part in a data science project."
   ]
  },
  {
   "cell_type": "markdown",
   "metadata": {
    "application/vnd.databricks.v1+cell": {
     "cellMetadata": {},
     "inputWidgets": {},
     "nuid": "0829d5d1-07f0-402c-b366-c6d50a16c466",
     "showTitle": false,
     "tableResultSettingsMap": {},
     "title": ""
    },
    "id": "HN7OXDjJ06qR"
   },
   "source": [
    "## 7. Exporting dataframes (I/O)\n",
    "\n",
    "DataFrame has several export methods. (html, hdf5, ascii, excel etc). Let's save file in csv format."
   ]
  },
  {
   "cell_type": "code",
   "execution_count": 0,
   "metadata": {
    "application/vnd.databricks.v1+cell": {
     "cellMetadata": {},
     "inputWidgets": {},
     "nuid": "50d7d0da-59a3-4407-bbfc-e367a2de3cd4",
     "showTitle": false,
     "tableResultSettingsMap": {},
     "title": ""
    },
    "colab": {
     "base_uri": "https://localhost:8080/",
     "height": 17
    },
    "id": "yhxN8bF_06qR",
    "outputId": "9f371273-f73f-438d-a538-1ee7cfc0b85c"
   },
   "outputs": [],
   "source": [
    "dataframe.to_csv('merged.csv')\n",
    "files.download('merged.csv')"
   ]
  },
  {
   "cell_type": "markdown",
   "metadata": {
    "application/vnd.databricks.v1+cell": {
     "cellMetadata": {},
     "inputWidgets": {},
     "nuid": "60bb934f-da7c-4fe1-83e1-eba34a9e6f53",
     "showTitle": false,
     "tableResultSettingsMap": {},
     "title": ""
    },
    "id": "Z-Y9fLm6YYlH"
   },
   "source": [
    "Can you find it?\n",
    "\n",
    "What happens with our files when we close our colab session?"
   ]
  },
  {
   "cell_type": "markdown",
   "metadata": {
    "application/vnd.databricks.v1+cell": {
     "cellMetadata": {},
     "inputWidgets": {},
     "nuid": "d466a617-242a-4ba7-98f2-983253b149e3",
     "showTitle": false,
     "tableResultSettingsMap": {},
     "title": ""
    },
    "id": "Q1No9Vhr06qS"
   },
   "source": [
    "## 8. Metadata\n",
    "\n",
    "\n",
    "Metadata is data about the data, e.g. when was it collected, under which conditions, calibration etc.\n",
    "Metadata is normally not part of the statistical data analysis, however, needed for understanding and reproducibilty.\n",
    "\n",
    "DataFrame is not really made for storing metadata (should be done separately), but one can add new attributes to a dataframe:\n"
   ]
  },
  {
   "cell_type": "code",
   "execution_count": 0,
   "metadata": {
    "application/vnd.databricks.v1+cell": {
     "cellMetadata": {},
     "inputWidgets": {},
     "nuid": "9dd3db00-6abf-4953-8f76-c09ff9e945e2",
     "showTitle": false,
     "tableResultSettingsMap": {},
     "title": ""
    },
    "colab": {
     "base_uri": "https://localhost:8080/"
    },
    "id": "HQ7Q2lT306qS",
    "outputId": "b1d70d80-eaa0-4bef-c92b-f058c5445ed7"
   },
   "outputs": [],
   "source": [
    "metadata = {\n",
    "    'Location': \"Gaul\",\n",
    "    'Authors': ['Asterix', \"Obelix\", 'Idefix']\n",
    "}\n",
    "metadata"
   ]
  },
  {
   "cell_type": "markdown",
   "metadata": {
    "application/vnd.databricks.v1+cell": {
     "cellMetadata": {},
     "inputWidgets": {},
     "nuid": "e91c9845-9b5e-4f47-8b1b-906c5c97bf3e",
     "showTitle": false,
     "tableResultSettingsMap": {},
     "title": ""
    },
    "id": "Ml-Nha8Dc5hv"
   },
   "source": [
    "Data repositories often use so-called Data Cards for metadata. See for example: https://www.kaggle.com/datasets/uciml/iris"
   ]
  },
  {
   "cell_type": "markdown",
   "metadata": {
    "application/vnd.databricks.v1+cell": {
     "cellMetadata": {},
     "inputWidgets": {},
     "nuid": "26621181-8799-4adc-8105-39444b80930b",
     "showTitle": false,
     "tableResultSettingsMap": {},
     "title": ""
    },
    "id": "5shqbnTGLqBa"
   },
   "source": [
    "## 9. One more Exercises"
   ]
  },
  {
   "cell_type": "markdown",
   "metadata": {
    "application/vnd.databricks.v1+cell": {
     "cellMetadata": {},
     "inputWidgets": {},
     "nuid": "49fe6729-c114-43ed-9244-0698160cd045",
     "showTitle": false,
     "tableResultSettingsMap": {},
     "title": ""
    },
    "id": "aCEPcsaf06qS"
   },
   "source": [
    "### Exercise 11\n",
    "Download the iris.csv from ILIAS. Read in the iris dataset into a dataframe. Set the values in column 1 in row 39, 49 and 100 to NaN (use the nan method from the numpy package). Then replacethe NaN values to the average value of the respective column. Depending on how you do it, this may be about 10 lines of Python code."
   ]
  },
  {
   "cell_type": "code",
   "execution_count": 0,
   "metadata": {
    "application/vnd.databricks.v1+cell": {
     "cellMetadata": {},
     "inputWidgets": {},
     "nuid": "8a3d80bc-a7e0-42a3-a8f3-30edce3abdbc",
     "showTitle": false,
     "tableResultSettingsMap": {},
     "title": ""
    },
    "colab": {
     "base_uri": "https://localhost:8080/",
     "height": 323
    },
    "id": "oO3q22voNxzQ",
    "outputId": "e9d3e954-f9e3-4e22-a624-5877496350f6"
   },
   "outputs": [],
   "source": [
    "import numpy as np\n",
    "# Import data\n",
    "url = 'https://github.com/KGzB/CAS-Applied-Data-Science/blob/master/Module-1/iris.csv?raw=true'\n",
    "iris = pd.read_csv(url, sep=',', names=['slength', 'swidth', 'plength', 'pwidth', 'species'])\n",
    "\n",
    "# set values to NaN\n",
    "iris.iloc[[38,48,99],0]= np.nan\n",
    "\n",
    "# Calculate mean\n",
    "mean_value = iris['slength'].mean()\n",
    "\n",
    "# Replace NaN values in column1 with the mean value\n",
    "iris['slength'].fillna(mean_value, inplace=True)\n",
    "\n",
    "# Check\n",
    "iris.iloc[[38,48,99],0]"
   ]
  },
  {
   "cell_type": "markdown",
   "metadata": {
    "application/vnd.databricks.v1+cell": {
     "cellMetadata": {},
     "inputWidgets": {},
     "nuid": "4064b91f-f985-4a5a-98ae-3af39fcd3f8f",
     "showTitle": false,
     "tableResultSettingsMap": {},
     "title": ""
    },
    "id": "DlJcZIqd4kcK"
   },
   "source": [
    "### Exercise 12\n",
    "This exercise presents a real-world scenario based on data collected from a student survey for a university course on statistics for economics and social sciences. To practice data handling in Python, you'll work with this dataset to prepare it for analysis.\n",
    "\n",
    "The survey gathered responses on five variables:\n",
    "\n",
    "* Mobile OS: The operating system of the student's mobile phone.\n",
    "* Screen time: Daily screen time in minutes.\n",
    "* Shopping preference: The student's preferred method of shopping (online or in-store).\n",
    "* Favorite subject: Their favorite subject during high school.\n",
    "* Weekly sports time: The number of hours spent on sports each week.\n",
    "\n",
    "The raw datasets are available for download on ILIAS. Your task is to merge and clean the data to make it usable. This includes: Identify and handle any data points that are clearly incorrect or nonsensical. The \"favorite subject\" variable is particularly messy due to free-form text input. You'll need to\n",
    "develop a strategy to categorize these answers consistently. There isn't a single correct approach, but this task demonstrates how crucial careful study design is to avoid common data cleaning issues."
   ]
  },
  {
   "cell_type": "code",
   "execution_count": 0,
   "metadata": {
    "application/vnd.databricks.v1+cell": {
     "cellMetadata": {},
     "inputWidgets": {},
     "nuid": "9b4a0c41-567a-4fb9-8fa6-bbdffee8456c",
     "showTitle": false,
     "tableResultSettingsMap": {},
     "title": ""
    },
    "colab": {
     "base_uri": "https://localhost:8080/",
     "height": 109
    },
    "id": "vP_ZebGt4icN",
    "outputId": "43b3f2db-a1f5-42df-91ba-85e09bb7b513"
   },
   "outputs": [],
   "source": [
    "# Upload the local data file to colab\n",
    "from google.colab import files\n",
    "uploaded = files.upload()"
   ]
  },
  {
   "cell_type": "code",
   "execution_count": 0,
   "metadata": {
    "application/vnd.databricks.v1+cell": {
     "cellMetadata": {},
     "inputWidgets": {},
     "nuid": "f337a909-02a2-4ef1-95d1-d9db2895157d",
     "showTitle": false,
     "tableResultSettingsMap": {},
     "title": ""
    },
    "id": "TF0fPb2Z7sgr"
   },
   "outputs": [],
   "source": [
    "import pandas as pd\n",
    "\n",
    "df_2023 = pd.read_csv('StatWiSo2023_raw.csv', sep=\",\")\n",
    "df_2024 = pd.read_csv('StatWiSo2024_raw.csv', sep=\",\")"
   ]
  },
  {
   "cell_type": "code",
   "execution_count": 0,
   "metadata": {
    "application/vnd.databricks.v1+cell": {
     "cellMetadata": {},
     "inputWidgets": {},
     "nuid": "336cb0a1-683a-48ac-93b4-7902f6633a4c",
     "showTitle": false,
     "tableResultSettingsMap": {},
     "title": ""
    },
    "colab": {
     "base_uri": "https://localhost:8080/",
     "height": 424
    },
    "id": "lULXQqdc8FpQ",
    "outputId": "b3fa063b-e383-4432-b3a7-14494e2ec275"
   },
   "outputs": [],
   "source": [
    "df_2023['year'] = 2023\n",
    "df_2024['year'] = 2024\n",
    "combined_df = pd.concat([df_2023, df_2024], ignore_index=True)\n",
    "combined_df"
   ]
  },
  {
   "cell_type": "code",
   "execution_count": 0,
   "metadata": {
    "application/vnd.databricks.v1+cell": {
     "cellMetadata": {},
     "inputWidgets": {},
     "nuid": "782f74a9-11a3-4458-b9f8-d12ee8357e65",
     "showTitle": false,
     "tableResultSettingsMap": {},
     "title": ""
    },
    "colab": {
     "base_uri": "https://localhost:8080/",
     "height": 424
    },
    "id": "vCNHp-4u8exE",
    "outputId": "bcc5f9a8-ed58-492c-c5d9-cd97c2d68bb0"
   },
   "outputs": [],
   "source": [
    "# Filter for plausible values\n",
    "combined_df = combined_df[combined_df['Bildschimzeit_in_Minuten'] <= 1440]\n",
    "combined_df = combined_df[combined_df['Sport_in_Stunden'] <= 168]\n",
    "combined_df"
   ]
  },
  {
   "cell_type": "code",
   "execution_count": 0,
   "metadata": {
    "application/vnd.databricks.v1+cell": {
     "cellMetadata": {},
     "inputWidgets": {},
     "nuid": "9c7fa0b9-5a26-4fd3-a578-c11233dd1bde",
     "showTitle": false,
     "tableResultSettingsMap": {},
     "title": ""
    },
    "colab": {
     "base_uri": "https://localhost:8080/"
    },
    "id": "fxQUDGdh81CR",
    "outputId": "a9e5802e-5238-480b-e854-3c01676c6974"
   },
   "outputs": [],
   "source": [
    "unique_subjects = combined_df['Lieblingsfach'].unique()\n",
    "print(unique_subjects)"
   ]
  },
  {
   "cell_type": "code",
   "execution_count": 0,
   "metadata": {
    "application/vnd.databricks.v1+cell": {
     "cellMetadata": {},
     "inputWidgets": {},
     "nuid": "baa723f8-911e-46f6-b328-df5855227de5",
     "showTitle": false,
     "tableResultSettingsMap": {},
     "title": ""
    },
    "id": "m7chXmXl9mtj"
   },
   "outputs": [],
   "source": [
    "subject_mapping = {\n",
    "'Religion': 'Religion',\n",
    "'Wirtschaft & Recht': 'Wirtschaft und Recht',\n",
    "'Physical Education': 'Sport',\n",
    "'Philosophie': 'Philosophie',\n",
    "'BG': 'Bildnerisches Gestalten',\n",
    "'Wirtschaft und Recht': 'Wirtschaft und Recht',\n",
    "'Mathe, Statistik, alle fächer die ich bei frau mühlemann gehabt hätte': 'Mathematik',\n",
    "'Musik': 'Musik',\n",
    "'Sport': 'Sport',\n",
    "'Englisch': 'Englisch',\n",
    "'Mathematik': 'Mathematik',\n",
    "'Politikwissenschaft': 'Politikwissenschaft',\n",
    "'Geschichte': 'Geschichte',\n",
    "'Chemie': 'Chemie',\n",
    "'*Passerelle: Physik': 'Physik',\n",
    "'WR': 'Wirtschaft und Recht',\n",
    "'WIRE': 'Wirtschaft und Recht',\n",
    "'Wirtschaft': 'Wirtschaft und Recht',\n",
    "'Physik': 'Physik',\n",
    "'Biologie': 'Biologie',\n",
    "'Psychologie und Pädagogik': 'Psychologie',\n",
    "'Bg': 'Bildnerisches Gestalten',\n",
    "'Mathematik \\r\\nWirtschaft': 'Mathematik',\n",
    "'Deutsch': 'Deutsch',\n",
    "'Wirtschaft + Recht': 'Wirtschaft und Recht',\n",
    "'Bildnerisches Gestalten': 'Bildnerisches Gestalten',\n",
    "'bwl': 'Wirtschaft und Recht',\n",
    "'Spanisch': 'Spanisch',\n",
    "'Wr': 'Wirtschaft und Recht',\n",
    "'English': 'Englisch',\n",
    "'Psychologie': 'Psychologie',\n",
    "'Math': 'Mathematik',\n",
    "'sport': 'Sport',\n",
    "'math': 'Mathematik',\n",
    "'Geografie': 'Geografie',\n",
    "'Sport und Musik': 'Sport',\n",
    "'Italienisch': 'Italienisch',\n",
    "'Geschichte, Wirtschaft und Recht': 'Geschichte',\n",
    "'Sport und WR': 'Sport',\n",
    "'Franzoesisch': 'Französisch',\n",
    "'spanisch': 'Spanisch',\n",
    "'Rätoromanisch': 'Rätoromanisch',\n",
    "'SWIR': 'Wirtschaft und Recht',\n",
    "'(Bio-)Chemie': 'Chemie',\n",
    "'VWL': 'Wirtschaft und Recht',\n",
    "'SF Bio Chemie': 'Chemie',\n",
    "'Geo': 'Geografie',\n",
    "'GESCHICHTE': 'Geschichte',\n",
    "'deutsch': 'Deutsch',\n",
    "'Theater': 'Theater',\n",
    "'Art': 'Bildnerisches Gestalten',\n",
    "'Bildnerisches gestalten': 'Bildnerisches Gestalten',\n",
    "'Politische Bildung': 'Politikwissenschaft',\n",
    "'Kunst': 'Bildnerisches Gestalten',\n",
    "'Mathe': 'Mathematik',\n",
    "'mathematik': 'Mathematik',\n",
    "'hatte keins': 'NA',\n",
    "'Englisch, Mathematik': 'Englisch',\n",
    "'SF Musik': 'Musik',\n",
    "'Geographie': 'Geografie',\n",
    "'W&R und Sport': 'Wirtschaft und Recht',\n",
    "'EWR': 'Wirtschaft und Recht',\n",
    "'Wirtschaft Geschichte': 'Wirtschaft und Recht',\n",
    "'Digitale Kommunikation': 'Digitale Kommunikation',\n",
    "'Technisches Gestalten': 'Bildnerisches Gestalten',\n",
    "'Musik Kunstfach': 'Musik',\n",
    "'Französisch': 'Französisch',\n",
    "'Biologie und Chemie': 'Biologie',\n",
    "'Religion, Psychologie': 'Religion',\n",
    "'englisch': 'Englisch',\n",
    "'Geschichte und Wirtschaft': 'Geschichte',\n",
    "'Französich': 'Französisch',\n",
    "'geschichte': 'Geschichte',\n",
    "'sport, geschichte, Wirtschaft,': 'Sport',\n",
    "'gar keins': 'NA',\n",
    "'astrophysik': 'Physik',\n",
    "'Wiertschaft und Recht': 'Wirtschaft und Recht',\n",
    "'Informatik': 'Informatik',\n",
    "'Sport, Geschichte': 'Sport',\n",
    "'Geschichte und Recht': 'Geschichte',\n",
    "'keines': 'NA',\n",
    "'BWL': 'Wirtschaft und Recht',\n",
    "'Schwerpunktfach Musik': 'Musik',\n",
    "'Latein': 'Latein',\n",
    "'Mein Lieblingsfach war Fremdsprache.': 'Fremdsprache',\n",
    "'Anwendungen der Mathematik': 'Mathematik'\n",
    "}"
   ]
  },
  {
   "cell_type": "code",
   "execution_count": 0,
   "metadata": {
    "application/vnd.databricks.v1+cell": {
     "cellMetadata": {},
     "inputWidgets": {},
     "nuid": "000c5cfe-3c5c-4480-8bab-b6487bbd4386",
     "showTitle": false,
     "tableResultSettingsMap": {},
     "title": ""
    },
    "colab": {
     "base_uri": "https://localhost:8080/"
    },
    "id": "XKcEVtpyCEaa",
    "outputId": "0908bc94-37a7-4f12-f0c3-4c58c5f9f35c"
   },
   "outputs": [],
   "source": [
    "combined_df['Lieblingsfach'] = combined_df['Lieblingsfach'].replace(subject_mapping)\n",
    "unique_subjects = combined_df['Lieblingsfach'].unique()\n",
    "print(unique_subjects)"
   ]
  }
 ],
 "metadata": {
  "application/vnd.databricks.v1+notebook": {
   "computePreferences": null,
   "dashboards": [],
   "environmentMetadata": null,
   "inputWidgetPreferences": null,
   "language": "python",
   "notebookMetadata": {},
   "notebookName": "M1-D1-DM-Sol",
   "widgets": {}
  },
  "colab": {
   "provenance": []
  },
  "kernelspec": {
   "display_name": "Python 3",
   "language": "python",
   "name": "python3"
  },
  "language_info": {
   "name": "python"
  }
 },
 "nbformat": 4,
 "nbformat_minor": 0
}
