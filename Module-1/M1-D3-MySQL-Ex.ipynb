{
 "cells": [
  {
   "cell_type": "markdown",
   "metadata": {
    "application/vnd.databricks.v1+cell": {
     "cellMetadata": {},
     "inputWidgets": {},
     "nuid": "3942b25e-4f11-4b4e-b149-d87593d2adaa",
     "showTitle": false,
     "tableResultSettingsMap": {},
     "title": ""
    },
    "colab_type": "text",
    "id": "view-in-github"
   },
   "source": [
    "<a href=\"https://colab.research.google.com/github/sigvehaug/CAS-Applied-Data-Science/blob/master/Module-1/M1-D3-MySQL-Ex.ipynb\" target=\"_parent\"><img src=\"https://colab.research.google.com/assets/colab-badge.svg\" alt=\"Open In Colab\"/></a>"
   ]
  },
  {
   "cell_type": "markdown",
   "metadata": {
    "application/vnd.databricks.v1+cell": {
     "cellMetadata": {},
     "inputWidgets": {},
     "nuid": "d19ad915-3200-4fd6-b5af-ba42fc43ac80",
     "showTitle": false,
     "tableResultSettingsMap": {},
     "title": ""
    },
    "id": "e6BdtgAbuev0"
   },
   "source": [
    "### MySQL Exercise\n",
    "\n",
    "You have 45 minutes for this exercise. You will be randomly be assigned to class colleague and the two of get a separate virtual room where you can solve the exercise togehter. When you have finished, please return to the main virtual room.\n",
    "\n",
    "If you both are in the same physical location, of course you don't have to use your virtual room.\n",
    "\n",
    "**Task**\n",
    "- Check if there is visible correlation between payment amount and postal code of the customer, i.e. make a scatter plot.  \n",
    "- Calculate the total price for all orders in the database per product line.\n",
    "How much you do in SQL directly and how much with dataframes is up to you. \n",
    "\n",
    "**Have fun and start here:**\n",
    "\n",
    "- Study [MySQL-PDF.pdf](https://github.com/sigvehaug/CAS-Applied-Data-Science/raw/master/Module-1/M1-D2-DB/MySQL-PDF.pdf) in a different browser tab for an overview of the database to be used.\n",
    "- Connect to the database classicmodels which is running on computer host."
   ]
  },
  {
   "cell_type": "markdown",
   "metadata": {
    "application/vnd.databricks.v1+cell": {
     "cellMetadata": {},
     "inputWidgets": {},
     "nuid": "cf61f6e2-d3d0-4897-a63b-92d92102c0d6",
     "showTitle": false,
     "tableResultSettingsMap": {},
     "title": ""
    },
    "id": "PzjheYiewVZT"
   },
   "source": [
    "mysql is not part of the default colab environment, so we need to install it."
   ]
  },
  {
   "cell_type": "code",
   "execution_count": 0,
   "metadata": {
    "application/vnd.databricks.v1+cell": {
     "cellMetadata": {},
     "inputWidgets": {},
     "nuid": "a9c37455-72d7-4197-a3cc-38538e64660e",
     "showTitle": false,
     "tableResultSettingsMap": {},
     "title": ""
    },
    "colab": {
     "base_uri": "https://localhost:8080/"
    },
    "id": "AMg2txbywPpC",
    "outputId": "118d0b89-6ab6-4adc-bdfc-f54f610f296e"
   },
   "outputs": [],
   "source": [
    "!pip install mysql-connector-python"
   ]
  },
  {
   "cell_type": "code",
   "execution_count": 0,
   "metadata": {
    "application/vnd.databricks.v1+cell": {
     "cellMetadata": {},
     "inputWidgets": {},
     "nuid": "ca009f9e-4a04-42e1-a8ed-931c9974a3c8",
     "showTitle": false,
     "tableResultSettingsMap": {},
     "title": ""
    },
    "colab": {
     "base_uri": "https://localhost:8080/",
     "height": 440
    },
    "id": "84DRLO5Puev2",
    "outputId": "9dad4299-a66f-491a-da20-67247992930c"
   },
   "outputs": [],
   "source": [
    "# mysql is in package \"conda install mysql-connector-python\"\n",
    "import mysql.connector\n",
    "import pandas as pd \n",
    "my_connect = mysql.connector.connect(\n",
    "      host=\"fl-5-232.zhdk.cloud.switch.ch\",\n",
    "      port=3306,\n",
    "      user=\"user\",\n",
    "      passwd=\"fum+Apheb4\",\n",
    "      #database='training'\n",
    "      database=\"classicmodels\"\n",
    "    )\n",
    "####### end of connection ####\n"
   ]
  },
  {
   "cell_type": "markdown",
   "metadata": {
    "application/vnd.databricks.v1+cell": {
     "cellMetadata": {},
     "inputWidgets": {},
     "nuid": "98e67b0a-2333-42fc-b8e3-8b8e1ea7797c",
     "showTitle": false,
     "tableResultSettingsMap": {},
     "title": ""
    },
    "id": "g8tx9v2-uev3"
   },
   "source": [
    "Now check that you can read the tables:"
   ]
  },
  {
   "cell_type": "code",
   "execution_count": 0,
   "metadata": {
    "application/vnd.databricks.v1+cell": {
     "cellMetadata": {},
     "inputWidgets": {},
     "nuid": "0d3fc83f-3d0e-4a5f-ba6b-1104b1e73edd",
     "showTitle": false,
     "tableResultSettingsMap": {},
     "title": ""
    },
    "id": "NiLPTmbouev4",
    "outputId": "a828a4e8-8584-4839-e909-1c5407dbec6d"
   },
   "outputs": [],
   "source": [
    "df_prodline = pd.read_sql(\"SELECT productLine FROM productlines\",my_connect)\n",
    "df_prodline"
   ]
  },
  {
   "cell_type": "markdown",
   "metadata": {
    "application/vnd.databricks.v1+cell": {
     "cellMetadata": {},
     "inputWidgets": {},
     "nuid": "92a4c908-8ab1-4c66-90e9-e3d7da8350de",
     "showTitle": false,
     "tableResultSettingsMap": {},
     "title": ""
    },
    "id": "4eN-BwFluev6"
   },
   "source": [
    "Now continue with your task!"
   ]
  },
  {
   "cell_type": "code",
   "execution_count": 0,
   "metadata": {
    "application/vnd.databricks.v1+cell": {
     "cellMetadata": {},
     "inputWidgets": {},
     "nuid": "31472cd0-03d4-4c7a-95c8-315f280dac4b",
     "showTitle": false,
     "tableResultSettingsMap": {},
     "title": ""
    },
    "id": "yznS_EBEuev7"
   },
   "outputs": [],
   "source": [
    "# Scatter plot showing payment amount versus postal code\n",
    "# Your code comes here\n"
   ]
  },
  {
   "cell_type": "code",
   "execution_count": 0,
   "metadata": {
    "application/vnd.databricks.v1+cell": {
     "cellMetadata": {},
     "inputWidgets": {},
     "nuid": "3ab37afd-f4ce-4832-b40d-d9aa594e0d91",
     "showTitle": false,
     "tableResultSettingsMap": {},
     "title": ""
    },
    "id": "8Z3huapPuev7"
   },
   "outputs": [],
   "source": [
    "# One possibility getting total price for all orders per product line\n",
    "# Your code comes here\n"
   ]
  },
  {
   "cell_type": "markdown",
   "metadata": {
    "application/vnd.databricks.v1+cell": {
     "cellMetadata": {},
     "inputWidgets": {},
     "nuid": "cc641a59-0a84-4c6d-9d80-c621ff546dd5",
     "showTitle": false,
     "tableResultSettingsMap": {},
     "title": ""
    },
    "id": "In-vMbIiuev8"
   },
   "source": [
    "What is potentially very bad about this solution?"
   ]
  },
  {
   "cell_type": "markdown",
   "metadata": {
    "application/vnd.databricks.v1+cell": {
     "cellMetadata": {},
     "inputWidgets": {},
     "nuid": "02518705-0362-447a-929f-a40342e2fc7d",
     "showTitle": false,
     "tableResultSettingsMap": {},
     "title": ""
    },
    "id": "GZ96jmKxuev9"
   },
   "source": [
    "### NB\n",
    "\n",
    "The server with the database used in this notebook will be shut down tonight. However, installing a mysql data server on your own laptop is quite easy. Google is your friend. It takes maybe 1h for a beginner, 10min for an experienced."
   ]
  }
 ],
 "metadata": {
  "application/vnd.databricks.v1+notebook": {
   "computePreferences": null,
   "dashboards": [],
   "environmentMetadata": null,
   "inputWidgetPreferences": null,
   "language": "python",
   "notebookMetadata": {},
   "notebookName": "M1-D3-MySQL-Ex",
   "widgets": {}
  },
  "colab": {
   "include_colab_link": true,
   "name": "M1-D3-MySQL-Ex.ipynb",
   "provenance": []
  },
  "kernelspec": {
   "display_name": "Python 3",
   "language": "python",
   "name": "python3"
  },
  "language_info": {
   "name": "python"
  }
 },
 "nbformat": 4,
 "nbformat_minor": 0
}
