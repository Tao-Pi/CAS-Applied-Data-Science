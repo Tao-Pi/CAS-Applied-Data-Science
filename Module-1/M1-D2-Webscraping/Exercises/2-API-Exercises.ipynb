{
 "cells": [
  {
   "cell_type": "markdown",
   "metadata": {
    "application/vnd.databricks.v1+cell": {
     "cellMetadata": {},
     "inputWidgets": {},
     "nuid": "2250fda3-8e8e-4df6-80c9-63497ae742c2",
     "showTitle": false,
     "tableResultSettingsMap": {},
     "title": ""
    },
    "id": "U3zPuM3zuwFT"
   },
   "source": [
    "### Working with APIs##\n",
    "#### CAS Applied Data Science 2024 ####\n",
    "\n",
    "#Exercises#"
   ]
  },
  {
   "cell_type": "markdown",
   "metadata": {
    "application/vnd.databricks.v1+cell": {
     "cellMetadata": {},
     "inputWidgets": {},
     "nuid": "9a92739a-14b6-4d48-a167-4baf616f9294",
     "showTitle": false,
     "tableResultSettingsMap": {},
     "title": ""
    },
    "id": "ihjiiXFWCoOL"
   },
   "source": [
    "\n",
    "\n",
    "---\n",
    "\n",
    "\n",
    "<font color='violet'>\n",
    "Hints are written in white, so you do not see them immediately. If you highlight them (or double-click on them), they will appear!\n",
    "<font color='white'> I am a hint! :-)\n",
    "\n",
    "\n",
    "---\n"
   ]
  },
  {
   "cell_type": "markdown",
   "metadata": {
    "application/vnd.databricks.v1+cell": {
     "cellMetadata": {},
     "inputWidgets": {},
     "nuid": "02b5f152-79e8-48b9-b265-f4bc02e5c16b",
     "showTitle": false,
     "tableResultSettingsMap": {},
     "title": ""
    },
    "id": "U2hSLoyOBc1C"
   },
   "source": [
    "## 1. Basic exercises"
   ]
  },
  {
   "cell_type": "markdown",
   "metadata": {
    "application/vnd.databricks.v1+cell": {
     "cellMetadata": {},
     "inputWidgets": {},
     "nuid": "41cce308-db30-425d-9bd3-8f8d3c3f6d4b",
     "showTitle": false,
     "tableResultSettingsMap": {},
     "title": ""
    },
    "id": "bIhkFCLlKXQg"
   },
   "source": [
    "Note: In these exercises, you will have to work with dictionaries, list comprehensions and loops quite often. If you don't remember/understand them very well, you should first go through the respective concepts once more!"
   ]
  },
  {
   "cell_type": "markdown",
   "metadata": {
    "application/vnd.databricks.v1+cell": {
     "cellMetadata": {},
     "inputWidgets": {},
     "nuid": "b4efc8af-5aab-4315-890f-32803d3acc33",
     "showTitle": false,
     "tableResultSettingsMap": {},
     "title": ""
    },
    "id": "fTXm4BjVXSwH"
   },
   "source": [
    "### Exercise 1.1"
   ]
  },
  {
   "cell_type": "markdown",
   "metadata": {
    "application/vnd.databricks.v1+cell": {
     "cellMetadata": {},
     "inputWidgets": {},
     "nuid": "75be2419-9be1-4d27-b25b-d579996fa9d8",
     "showTitle": false,
     "tableResultSettingsMap": {},
     "title": ""
    },
    "id": "TCiFg8zSZdXm"
   },
   "source": [
    "Import the ``requests`` and the ``BeautifulSoup`` library."
   ]
  },
  {
   "cell_type": "code",
   "execution_count": 0,
   "metadata": {
    "application/vnd.databricks.v1+cell": {
     "cellMetadata": {},
     "inputWidgets": {},
     "nuid": "58b6921f-6844-403d-a922-8b12db9595f7",
     "showTitle": false,
     "tableResultSettingsMap": {},
     "title": ""
    },
    "id": "-iACoS1aZj6F"
   },
   "outputs": [],
   "source": []
  },
  {
   "cell_type": "markdown",
   "metadata": {
    "application/vnd.databricks.v1+cell": {
     "cellMetadata": {},
     "inputWidgets": {},
     "nuid": "b392250d-fc61-47fa-8b71-364a61499b7f",
     "showTitle": false,
     "tableResultSettingsMap": {},
     "title": ""
    },
    "id": "kGpifrG5JoQT"
   },
   "source": [
    "Use the Wikipedia API to retrieve the Wikipedia page on tigers (Tiger)."
   ]
  },
  {
   "cell_type": "code",
   "execution_count": 0,
   "metadata": {
    "application/vnd.databricks.v1+cell": {
     "cellMetadata": {},
     "inputWidgets": {},
     "nuid": "fd3561fc-86f2-46aa-9b96-39c047369df9",
     "showTitle": false,
     "tableResultSettingsMap": {},
     "title": ""
    },
    "id": "R4lU1GPbKFML"
   },
   "outputs": [],
   "source": []
  },
  {
   "cell_type": "markdown",
   "metadata": {
    "application/vnd.databricks.v1+cell": {
     "cellMetadata": {},
     "inputWidgets": {},
     "nuid": "f7811d12-d4a7-48a1-8821-d4039284be82",
     "showTitle": false,
     "tableResultSettingsMap": {},
     "title": ""
    },
    "id": "_TvWyHNKKGuJ"
   },
   "source": [
    "Parse the JSON response object (so that it is converted to a Python dictionary)."
   ]
  },
  {
   "cell_type": "code",
   "execution_count": 0,
   "metadata": {
    "application/vnd.databricks.v1+cell": {
     "cellMetadata": {},
     "inputWidgets": {},
     "nuid": "be040025-fe27-4658-81ed-75062dd07922",
     "showTitle": false,
     "tableResultSettingsMap": {},
     "title": ""
    },
    "id": "OYoqa3_CLPqN"
   },
   "outputs": [],
   "source": []
  },
  {
   "cell_type": "markdown",
   "metadata": {
    "application/vnd.databricks.v1+cell": {
     "cellMetadata": {},
     "inputWidgets": {},
     "nuid": "f91ffb34-cc66-4198-b04a-1252019566c1",
     "showTitle": false,
     "tableResultSettingsMap": {},
     "title": ""
    },
    "id": "uf2h-Q3SKGHv"
   },
   "source": [
    "What is the URL you retrieved the data from? Type it into your browser and inspect the structure of the data."
   ]
  },
  {
   "cell_type": "code",
   "execution_count": 0,
   "metadata": {
    "application/vnd.databricks.v1+cell": {
     "cellMetadata": {},
     "inputWidgets": {},
     "nuid": "9a661468-8d3a-4a5e-94d5-17d9231b07f8",
     "showTitle": false,
     "tableResultSettingsMap": {},
     "title": ""
    },
    "id": "sYqPRH2iLyla"
   },
   "outputs": [],
   "source": []
  },
  {
   "cell_type": "markdown",
   "metadata": {
    "application/vnd.databricks.v1+cell": {
     "cellMetadata": {},
     "inputWidgets": {},
     "nuid": "e4c0ead9-8626-4a1f-a3c7-9500baa6e10e",
     "showTitle": false,
     "tableResultSettingsMap": {},
     "title": ""
    },
    "id": "qVwXD41CSqZI"
   },
   "source": [
    "Now inspect the keys of your dictionary (and those of the dictionary within the \"parse\" key)"
   ]
  },
  {
   "cell_type": "code",
   "execution_count": 0,
   "metadata": {
    "application/vnd.databricks.v1+cell": {
     "cellMetadata": {},
     "inputWidgets": {},
     "nuid": "c8e3da2b-96bc-412a-9043-79db0f7dd330",
     "showTitle": false,
     "tableResultSettingsMap": {},
     "title": ""
    },
    "id": "2G6hvLP1S1k3"
   },
   "outputs": [],
   "source": []
  },
  {
   "cell_type": "markdown",
   "metadata": {
    "application/vnd.databricks.v1+cell": {
     "cellMetadata": {},
     "inputWidgets": {},
     "nuid": "8fcea52b-9dd8-4027-aba4-111611ae4a7c",
     "showTitle": false,
     "tableResultSettingsMap": {},
     "title": ""
    },
    "id": "wgH3lOHBLSiC"
   },
   "source": [
    "Now try to retrieve the following:\n",
    "\n",
    "1. The title of the page\n",
    "2. All external links\n",
    "3. All section headings (*extra task: all main section headings, i.e. headings on level 2)\n",
    "4. The number of images in the article\n",
    "5. All URLs to Wikipedia articles on tigers in other languages"
   ]
  },
  {
   "cell_type": "code",
   "execution_count": 0,
   "metadata": {
    "application/vnd.databricks.v1+cell": {
     "cellMetadata": {},
     "inputWidgets": {},
     "nuid": "1ca74a94-0c75-49d5-a400-69954d7dbc24",
     "showTitle": false,
     "tableResultSettingsMap": {},
     "title": ""
    },
    "id": "lgEBV3WFMIrr"
   },
   "outputs": [],
   "source": [
    "# 1. The title of the page\n"
   ]
  },
  {
   "cell_type": "code",
   "execution_count": 0,
   "metadata": {
    "application/vnd.databricks.v1+cell": {
     "cellMetadata": {},
     "inputWidgets": {},
     "nuid": "be48c012-ac45-4323-ac75-75088fdcfddb",
     "showTitle": false,
     "tableResultSettingsMap": {},
     "title": ""
    },
    "id": "Dg6HFN5aPpLD"
   },
   "outputs": [],
   "source": [
    "# 2. All external links\n"
   ]
  },
  {
   "cell_type": "code",
   "execution_count": 0,
   "metadata": {
    "application/vnd.databricks.v1+cell": {
     "cellMetadata": {},
     "inputWidgets": {},
     "nuid": "4ff01774-5a08-490c-8745-863e33426994",
     "showTitle": false,
     "tableResultSettingsMap": {},
     "title": ""
    },
    "id": "4VdjwNbMPuoB"
   },
   "outputs": [],
   "source": [
    "# 3. All section headings\n"
   ]
  },
  {
   "cell_type": "code",
   "execution_count": 0,
   "metadata": {
    "application/vnd.databricks.v1+cell": {
     "cellMetadata": {},
     "inputWidgets": {},
     "nuid": "995a5c82-b4df-4292-b690-8c7b6d54ff8c",
     "showTitle": false,
     "tableResultSettingsMap": {},
     "title": ""
    },
    "id": "5Gw1ceGVR4Kf"
   },
   "outputs": [],
   "source": [
    "# 3. Extra task: all top level section headings (level 2)\n"
   ]
  },
  {
   "cell_type": "code",
   "execution_count": 0,
   "metadata": {
    "application/vnd.databricks.v1+cell": {
     "cellMetadata": {},
     "inputWidgets": {},
     "nuid": "14685a6a-e432-42d6-b58e-fae987b33eba",
     "showTitle": false,
     "tableResultSettingsMap": {},
     "title": ""
    },
    "id": "inF7MgOuSkTD"
   },
   "outputs": [],
   "source": [
    "# 4. The number of images in the article\n"
   ]
  },
  {
   "cell_type": "code",
   "execution_count": 0,
   "metadata": {
    "application/vnd.databricks.v1+cell": {
     "cellMetadata": {},
     "inputWidgets": {},
     "nuid": "b1ca04d8-bf6b-4c80-aca9-f6cb81fee08b",
     "showTitle": false,
     "tableResultSettingsMap": {},
     "title": ""
    },
    "id": "QWbXZYakTcPf"
   },
   "outputs": [],
   "source": [
    "# 5. All URLs to Wikipedia articles on tigers in other languages\n"
   ]
  },
  {
   "cell_type": "markdown",
   "metadata": {
    "application/vnd.databricks.v1+cell": {
     "cellMetadata": {},
     "inputWidgets": {},
     "nuid": "56fa3403-1a23-47d1-9eca-8ca5de46daa5",
     "showTitle": false,
     "tableResultSettingsMap": {},
     "title": ""
    },
    "id": "JtVbFdNCA7gl"
   },
   "source": [
    "Repetition (dictionaries and loops): Now make a dictionary of all languages for which a Wikipedia page exists as well as the titles of these pages. Use the languages as keys and the titles as values (`{\"English\":\"Tiger\", ...}`). How are tigers called in `Finnish`?"
   ]
  },
  {
   "cell_type": "code",
   "execution_count": 0,
   "metadata": {
    "application/vnd.databricks.v1+cell": {
     "cellMetadata": {},
     "inputWidgets": {},
     "nuid": "4e98e5f5-5e09-4a9f-91e1-dc6a7f54c9ce",
     "showTitle": false,
     "tableResultSettingsMap": {},
     "title": ""
    },
    "id": "zJMjH7_XBysE"
   },
   "outputs": [],
   "source": []
  },
  {
   "cell_type": "markdown",
   "metadata": {
    "application/vnd.databricks.v1+cell": {
     "cellMetadata": {},
     "inputWidgets": {},
     "nuid": "36c20b20-cac1-4722-9074-44a343dcad76",
     "showTitle": false,
     "tableResultSettingsMap": {},
     "title": ""
    },
    "id": "buLd769eMKCh"
   },
   "source": [
    "### Exercise 1.2"
   ]
  },
  {
   "cell_type": "markdown",
   "metadata": {
    "application/vnd.databricks.v1+cell": {
     "cellMetadata": {},
     "inputWidgets": {},
     "nuid": "8e81025b-0f14-40f5-ae43-feb9baae2afb",
     "showTitle": false,
     "tableResultSettingsMap": {},
     "title": ""
    },
    "id": "bkHj5XAWMOCq"
   },
   "source": [
    "Find the HTML text within the structured data on the tiger page and assign it to a variable named ``htmlText``."
   ]
  },
  {
   "cell_type": "code",
   "execution_count": 0,
   "metadata": {
    "application/vnd.databricks.v1+cell": {
     "cellMetadata": {},
     "inputWidgets": {},
     "nuid": "3b1ab212-3808-4fce-ae58-fa985c1ad6dc",
     "showTitle": false,
     "tableResultSettingsMap": {},
     "title": ""
    },
    "id": "FUjqapl7MkmD"
   },
   "outputs": [],
   "source": []
  },
  {
   "cell_type": "markdown",
   "metadata": {
    "application/vnd.databricks.v1+cell": {
     "cellMetadata": {},
     "inputWidgets": {},
     "nuid": "c426a80a-e308-4243-bc9d-662775f6d383",
     "showTitle": false,
     "tableResultSettingsMap": {},
     "title": ""
    },
    "id": "1XmSIG9YUAod"
   },
   "source": [
    "Convert the string to a BeautifulSoup object and assign it to a variable called ``tigerSoup``."
   ]
  },
  {
   "cell_type": "code",
   "execution_count": 0,
   "metadata": {
    "application/vnd.databricks.v1+cell": {
     "cellMetadata": {},
     "inputWidgets": {},
     "nuid": "c343efae-2d82-4c2e-a784-fe4c15063dce",
     "showTitle": false,
     "tableResultSettingsMap": {},
     "title": ""
    },
    "id": "zEa4QcVKUcX6"
   },
   "outputs": [],
   "source": []
  },
  {
   "cell_type": "markdown",
   "metadata": {
    "application/vnd.databricks.v1+cell": {
     "cellMetadata": {},
     "inputWidgets": {},
     "nuid": "84772b31-7cd5-4727-b4e6-7f0d1c1906d3",
     "showTitle": false,
     "tableResultSettingsMap": {},
     "title": ""
    },
    "id": "gf87vEuiMmnV"
   },
   "source": [
    "Repetitition: Extract (1) the first table and (2) the third paragraph of the article."
   ]
  },
  {
   "cell_type": "code",
   "execution_count": 0,
   "metadata": {
    "application/vnd.databricks.v1+cell": {
     "cellMetadata": {},
     "inputWidgets": {},
     "nuid": "9b9fb2d0-f52d-420e-90d8-0263864b9888",
     "showTitle": false,
     "tableResultSettingsMap": {},
     "title": ""
    },
    "id": "JiUQzXVnT0yn"
   },
   "outputs": [],
   "source": []
  },
  {
   "cell_type": "code",
   "execution_count": 0,
   "metadata": {
    "application/vnd.databricks.v1+cell": {
     "cellMetadata": {},
     "inputWidgets": {},
     "nuid": "e504715c-b578-43e3-81a4-a9b947fb5703",
     "showTitle": false,
     "tableResultSettingsMap": {},
     "title": ""
    },
    "id": "FD3QD_O_U4EF"
   },
   "outputs": [],
   "source": []
  },
  {
   "cell_type": "markdown",
   "metadata": {
    "application/vnd.databricks.v1+cell": {
     "cellMetadata": {},
     "inputWidgets": {},
     "nuid": "f71132f3-d37d-4204-9a81-f1f9ad454262",
     "showTitle": false,
     "tableResultSettingsMap": {},
     "title": ""
    },
    "id": "U7eCfljDUfCX"
   },
   "source": [
    "### Exercise 1.3"
   ]
  },
  {
   "cell_type": "markdown",
   "metadata": {
    "application/vnd.databricks.v1+cell": {
     "cellMetadata": {},
     "inputWidgets": {},
     "nuid": "2160ac80-75ec-446b-b62e-e162947b7587",
     "showTitle": false,
     "tableResultSettingsMap": {},
     "title": ""
    },
    "id": "cxKlRIPqUkSP"
   },
   "source": [
    "Retrieve the information about 10 Wikipedia pages that match with the word \"tiger\" and convert the response to a dictionary. ><font color='violet'> Hint: <font color='white'> Hint: The \"srlimit\" parameter allows you to specify how many pages you want to retrieve."
   ]
  },
  {
   "cell_type": "code",
   "execution_count": 0,
   "metadata": {
    "application/vnd.databricks.v1+cell": {
     "cellMetadata": {},
     "inputWidgets": {},
     "nuid": "11bfb6e2-916b-4111-99d0-2dd4d26476c4",
     "showTitle": false,
     "tableResultSettingsMap": {},
     "title": ""
    },
    "id": "sSHEq35pUjgP"
   },
   "outputs": [],
   "source": []
  },
  {
   "cell_type": "markdown",
   "metadata": {
    "application/vnd.databricks.v1+cell": {
     "cellMetadata": {},
     "inputWidgets": {},
     "nuid": "fb6adc22-0cc1-44e6-a87b-82b37388463f",
     "showTitle": false,
     "tableResultSettingsMap": {},
     "title": ""
    },
    "id": "frOoUMARVXjs"
   },
   "source": [
    "Navigate through the dictionary or type the URL into your browser to inspect how the data is structured."
   ]
  },
  {
   "cell_type": "code",
   "execution_count": 0,
   "metadata": {
    "application/vnd.databricks.v1+cell": {
     "cellMetadata": {},
     "inputWidgets": {},
     "nuid": "36c6d50d-af86-43f8-8690-8501c78f769e",
     "showTitle": false,
     "tableResultSettingsMap": {},
     "title": ""
    },
    "id": "-ZWDuClYV8pg"
   },
   "outputs": [],
   "source": []
  },
  {
   "cell_type": "markdown",
   "metadata": {
    "application/vnd.databricks.v1+cell": {
     "cellMetadata": {},
     "inputWidgets": {},
     "nuid": "4c72e47e-f55e-4ad2-a979-b7c4bf2071ac",
     "showTitle": false,
     "tableResultSettingsMap": {},
     "title": ""
    },
    "id": "aqBrd_l1WzHA"
   },
   "source": [
    "Now print out the titles of the 10 tiger pages."
   ]
  },
  {
   "cell_type": "code",
   "execution_count": 0,
   "metadata": {
    "application/vnd.databricks.v1+cell": {
     "cellMetadata": {},
     "inputWidgets": {},
     "nuid": "1acd7d6c-770b-462c-8d16-4dc0235ed9cf",
     "showTitle": false,
     "tableResultSettingsMap": {},
     "title": ""
    },
    "id": "S4WlSf6mWR9z"
   },
   "outputs": [],
   "source": []
  },
  {
   "cell_type": "markdown",
   "metadata": {
    "application/vnd.databricks.v1+cell": {
     "cellMetadata": {},
     "inputWidgets": {},
     "nuid": "ff12f540-f977-4e4d-8720-51ee44d9c694",
     "showTitle": false,
     "tableResultSettingsMap": {},
     "title": ""
    },
    "id": "rdI5QiknVNDz"
   },
   "source": [
    "### Exercise 1.4"
   ]
  },
  {
   "cell_type": "markdown",
   "metadata": {
    "application/vnd.databricks.v1+cell": {
     "cellMetadata": {},
     "inputWidgets": {},
     "nuid": "4c02943b-5eec-4990-b972-323f00329ae0",
     "showTitle": false,
     "tableResultSettingsMap": {},
     "title": ""
    },
    "id": "9QEITMxLVR1c"
   },
   "source": [
    "In the web scraping exercises, you wrote a simple scraper that fetched you some information from the following animal pages:"
   ]
  },
  {
   "cell_type": "code",
   "execution_count": 0,
   "metadata": {
    "application/vnd.databricks.v1+cell": {
     "cellMetadata": {},
     "inputWidgets": {},
     "nuid": "cdde48ba-35bf-48af-8812-7b6e3b54341e",
     "showTitle": false,
     "tableResultSettingsMap": {},
     "title": ""
    },
    "id": "D8INxV1sVaY8"
   },
   "outputs": [],
   "source": [
    "animals = [\"Cat\", \"Dog\", \"Tiger\", \"Giant_panda\"]"
   ]
  },
  {
   "cell_type": "markdown",
   "metadata": {
    "application/vnd.databricks.v1+cell": {
     "cellMetadata": {},
     "inputWidgets": {},
     "nuid": "cd28c7df-1cac-44cc-952a-78d9bbe33ea4",
     "showTitle": false,
     "tableResultSettingsMap": {},
     "title": ""
    },
    "id": "gdiM6SHZVeQS"
   },
   "source": [
    "You will now try to do the same using the API: Write a loop that fetches all the pages and retrieves (1) the title and (2) the number of images on each page.\n",
    "\n"
   ]
  },
  {
   "cell_type": "markdown",
   "metadata": {
    "application/vnd.databricks.v1+cell": {
     "cellMetadata": {},
     "inputWidgets": {},
     "nuid": "81abfd85-44e3-48df-a0cc-3699defa7416",
     "showTitle": false,
     "tableResultSettingsMap": {},
     "title": ""
    },
    "id": "lXWKGSPKeTM-"
   },
   "source": [
    "\n",
    "Let's do this step by step. First try to fetch the \"Cat\" page and convert the JSON response you get into a Python dictionary."
   ]
  },
  {
   "cell_type": "code",
   "execution_count": 0,
   "metadata": {
    "application/vnd.databricks.v1+cell": {
     "cellMetadata": {},
     "inputWidgets": {},
     "nuid": "08a3f9fb-56af-496e-ba1f-d1c20317a4cb",
     "showTitle": false,
     "tableResultSettingsMap": {},
     "title": ""
    },
    "id": "0GEF_PNHYOUH"
   },
   "outputs": [],
   "source": []
  },
  {
   "cell_type": "markdown",
   "metadata": {
    "application/vnd.databricks.v1+cell": {
     "cellMetadata": {},
     "inputWidgets": {},
     "nuid": "8b5dae61-f116-41d2-b0de-5ad6eff1a3e3",
     "showTitle": false,
     "tableResultSettingsMap": {},
     "title": ""
    },
    "id": "ERmyfnCOYQSy"
   },
   "source": [
    "Now try to retrieve the title and the number of images. Assign each of them to a variable."
   ]
  },
  {
   "cell_type": "code",
   "execution_count": 0,
   "metadata": {
    "application/vnd.databricks.v1+cell": {
     "cellMetadata": {},
     "inputWidgets": {},
     "nuid": "3098d776-0c30-4a0d-b4cf-9afd5e971281",
     "showTitle": false,
     "tableResultSettingsMap": {},
     "title": ""
    },
    "id": "Wrnigsm2aiSV"
   },
   "outputs": [],
   "source": []
  },
  {
   "cell_type": "markdown",
   "metadata": {
    "application/vnd.databricks.v1+cell": {
     "cellMetadata": {},
     "inputWidgets": {},
     "nuid": "695b67ea-199b-4a6c-a558-a0f957814862",
     "showTitle": false,
     "tableResultSettingsMap": {},
     "title": ""
    },
    "id": "mO8qx6MRajDR"
   },
   "source": [
    "Now write a loop that fetches all the pages and writes the response into a list. You will have to create an empty list and ``append`` the new elements to it:"
   ]
  },
  {
   "cell_type": "code",
   "execution_count": 0,
   "metadata": {
    "application/vnd.databricks.v1+cell": {
     "cellMetadata": {},
     "inputWidgets": {},
     "nuid": "02f8e7f2-957e-4873-b893-d7385585553b",
     "showTitle": false,
     "tableResultSettingsMap": {},
     "title": ""
    },
    "id": "poZCR-AXarun"
   },
   "outputs": [],
   "source": []
  },
  {
   "cell_type": "markdown",
   "metadata": {
    "application/vnd.databricks.v1+cell": {
     "cellMetadata": {},
     "inputWidgets": {},
     "nuid": "2d0bc175-026e-4c65-ab26-cea99967e4ed",
     "showTitle": false,
     "tableResultSettingsMap": {},
     "title": ""
    },
    "id": "yMPXXLfHbAgo"
   },
   "source": [
    "Finally, you can bring everything together. Improve your loop so that it parses each page, retrieves the title and the number of images and writes them into a nested list."
   ]
  },
  {
   "cell_type": "code",
   "execution_count": 0,
   "metadata": {
    "application/vnd.databricks.v1+cell": {
     "cellMetadata": {},
     "inputWidgets": {},
     "nuid": "bd21f0ae-205f-4539-80f1-8b41eaf7298a",
     "showTitle": false,
     "tableResultSettingsMap": {},
     "title": ""
    },
    "id": "vwkmGskAWXXD"
   },
   "outputs": [],
   "source": []
  },
  {
   "cell_type": "markdown",
   "metadata": {
    "application/vnd.databricks.v1+cell": {
     "cellMetadata": {},
     "inputWidgets": {},
     "nuid": "01f83399-214a-4c92-8fe9-afc219a1022b",
     "showTitle": false,
     "tableResultSettingsMap": {},
     "title": ""
    },
    "id": "I5fGuENsxWXa"
   },
   "source": [
    "## 2. Advanced exercises*"
   ]
  },
  {
   "cell_type": "markdown",
   "metadata": {
    "application/vnd.databricks.v1+cell": {
     "cellMetadata": {},
     "inputWidgets": {},
     "nuid": "6805d38d-92f1-4df0-b190-05776edac3ec",
     "showTitle": false,
     "tableResultSettingsMap": {},
     "title": ""
    },
    "id": "S4EPeADLLUwr"
   },
   "source": [
    "---\n",
    "\n",
    "\n",
    "<font color='red'>\n",
    "*Feel free to skip the advanced exercises if you feel overwhelmed or if trying to solve the basic exercises already took you a lot of time!\n",
    "\n",
    "\n",
    "---\n",
    "\n",
    "\n"
   ]
  },
  {
   "cell_type": "markdown",
   "metadata": {
    "application/vnd.databricks.v1+cell": {
     "cellMetadata": {},
     "inputWidgets": {},
     "nuid": "86e54df5-a9cd-41aa-83df-5144b328a7f0",
     "showTitle": false,
     "tableResultSettingsMap": {},
     "title": ""
    },
    "id": "YUZDdTvwVFzy"
   },
   "source": [
    "### Exercise 2.1"
   ]
  },
  {
   "cell_type": "markdown",
   "metadata": {
    "application/vnd.databricks.v1+cell": {
     "cellMetadata": {},
     "inputWidgets": {},
     "nuid": "2227ee11-7cb7-42b0-a297-c05e12078a70",
     "showTitle": false,
     "tableResultSettingsMap": {},
     "title": ""
    },
    "id": "kSLGO3i4eapN"
   },
   "source": [
    "Write a function called ``getWiki`` that allows you to enter the name of a Wikipedia page and returns the parsed JSON response as a Python dictionary."
   ]
  },
  {
   "cell_type": "code",
   "execution_count": 0,
   "metadata": {
    "application/vnd.databricks.v1+cell": {
     "cellMetadata": {},
     "inputWidgets": {},
     "nuid": "6c19a114-c3ec-46d3-a6ef-c5e92206417d",
     "showTitle": false,
     "tableResultSettingsMap": {},
     "title": ""
    },
    "id": "iCYI6Z5cyqwN"
   },
   "outputs": [],
   "source": []
  },
  {
   "cell_type": "markdown",
   "metadata": {
    "application/vnd.databricks.v1+cell": {
     "cellMetadata": {},
     "inputWidgets": {},
     "nuid": "ef43cb5d-29da-4473-963c-9f0ed7f8bd35",
     "showTitle": false,
     "tableResultSettingsMap": {},
     "title": ""
    },
    "id": "OXI_caBbhoWq"
   },
   "source": [
    "### Exercise 2.2"
   ]
  },
  {
   "cell_type": "markdown",
   "metadata": {
    "application/vnd.databricks.v1+cell": {
     "cellMetadata": {},
     "inputWidgets": {},
     "nuid": "956c645a-2d0c-44e7-a1e0-ac95be35c50f",
     "showTitle": false,
     "tableResultSettingsMap": {},
     "title": ""
    },
    "id": "7A6XtFz0iGgY"
   },
   "source": [
    "You would like to know if Zürich or Bern is more popular on Wikipedia. For this purpose, you will measure (1) the number of Wikipedia articles within a 1km-radius around the train station and (2) the total number of images in these articles. Try to work with functions instead of copying and pasting code!\n",
    "\n",
    "You can take the following coordinates:\n",
    "* Bern: 46.949722, 7.439444\n",
    "* Zürich: 47.377455, 8.539688\n"
   ]
  },
  {
   "cell_type": "markdown",
   "metadata": {
    "application/vnd.databricks.v1+cell": {
     "cellMetadata": {},
     "inputWidgets": {},
     "nuid": "2efcf482-06fc-4e71-a105-0c1bc4cdbb1d",
     "showTitle": false,
     "tableResultSettingsMap": {},
     "title": ""
    },
    "id": "JQ3jkRkaTvkB"
   },
   "source": [
    "Start by comparing the number of articles:"
   ]
  },
  {
   "cell_type": "code",
   "execution_count": 0,
   "metadata": {
    "application/vnd.databricks.v1+cell": {
     "cellMetadata": {},
     "inputWidgets": {},
     "nuid": "5c568036-6aa5-4299-abbe-14d7c4e3e4b2",
     "showTitle": false,
     "tableResultSettingsMap": {},
     "title": ""
    },
    "id": "q4VWjMzlat96"
   },
   "outputs": [],
   "source": []
  },
  {
   "cell_type": "markdown",
   "metadata": {
    "application/vnd.databricks.v1+cell": {
     "cellMetadata": {},
     "inputWidgets": {},
     "nuid": "a4b4f86a-3520-4ce1-b038-a2046b2a0c6a",
     "showTitle": false,
     "tableResultSettingsMap": {},
     "title": ""
    },
    "id": "75HU6S8ZPezT"
   },
   "source": [
    "Now try to compare the total number of images in these articles. You will have to write a loop to retrieve each page."
   ]
  },
  {
   "cell_type": "code",
   "execution_count": 0,
   "metadata": {
    "application/vnd.databricks.v1+cell": {
     "cellMetadata": {},
     "inputWidgets": {},
     "nuid": "091a5d27-8fb3-4bdc-b3b4-fd3d45804dd6",
     "showTitle": false,
     "tableResultSettingsMap": {},
     "title": ""
    },
    "id": "RJlt62p6PgQP"
   },
   "outputs": [],
   "source": []
  }
 ],
 "metadata": {
  "application/vnd.databricks.v1+notebook": {
   "computePreferences": null,
   "dashboards": [],
   "environmentMetadata": null,
   "inputWidgetPreferences": null,
   "language": "python",
   "notebookMetadata": {},
   "notebookName": "2-API-Exercises",
   "widgets": {}
  },
  "colab": {
   "provenance": [
    {
     "file_id": "1J5sCNUxmBh0t7MH3cVHColt9WFjca3ze",
     "timestamp": 1614455032952
    }
   ],
   "toc_visible": true
  },
  "kernelspec": {
   "display_name": "Python 3",
   "name": "python3"
  },
  "language_info": {
   "name": "python"
  }
 },
 "nbformat": 4,
 "nbformat_minor": 0
}
