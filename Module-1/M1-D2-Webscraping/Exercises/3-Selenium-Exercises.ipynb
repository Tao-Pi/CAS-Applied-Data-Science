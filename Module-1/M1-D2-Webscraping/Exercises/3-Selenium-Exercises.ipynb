{
 "cells": [
  {
   "cell_type": "markdown",
   "metadata": {
    "application/vnd.databricks.v1+cell": {
     "cellMetadata": {},
     "inputWidgets": {},
     "nuid": "f2e23dfc-cc76-469e-9244-1222d487d8b0",
     "showTitle": false,
     "tableResultSettingsMap": {},
     "title": ""
    },
    "id": "0eb5fd45"
   },
   "source": [
    "# Webscraping II\n",
    "#### CAS Applied Data Science 2024 ####\n"
   ]
  },
  {
   "cell_type": "markdown",
   "metadata": {
    "application/vnd.databricks.v1+cell": {
     "cellMetadata": {},
     "inputWidgets": {},
     "nuid": "5954f32e-fc1f-4aea-a427-aa47e0ac7761",
     "showTitle": false,
     "tableResultSettingsMap": {},
     "title": ""
    },
    "id": "8e8a1122"
   },
   "source": [
    "## Exercise 1"
   ]
  },
  {
   "cell_type": "markdown",
   "metadata": {
    "application/vnd.databricks.v1+cell": {
     "cellMetadata": {},
     "inputWidgets": {},
     "nuid": "14fba7be-dfdd-4b3d-9389-a132563574cf",
     "showTitle": false,
     "tableResultSettingsMap": {},
     "title": ""
    },
    "id": "a4879993"
   },
   "source": [
    "Use ``selenium`` to go to https://job-room.ch and search for jobs related to Python (you may first need to close the orange message asking employers to register). Fetch the source code of the page with the search results, and convert it to a ``BeautifulSoup`` object. Can you print out the number of jobs that were found?\n",
    "\n",
    "Hints:\n",
    " * You might need to tell Python to wait for a bit before retrieveing the source code of the page (otherwise it might not have loaded fast enough). This can be done using the ``sleep`` function in the ``time`` module (or using ``waits`` in selenium).\n",
    " * To find out how to ``find_element()`` what you are looking for, try right click + \"Inspect\" in your browser to find suitable ways (e.g. via the ``id`` or ``class`` attribute).\n"
   ]
  },
  {
   "cell_type": "code",
   "execution_count": 0,
   "metadata": {
    "application/vnd.databricks.v1+cell": {
     "cellMetadata": {},
     "inputWidgets": {},
     "nuid": "b431db06-8a5d-4abc-a33c-e38617bdc35a",
     "showTitle": false,
     "tableResultSettingsMap": {},
     "title": ""
    },
    "id": "28ed93cf"
   },
   "outputs": [],
   "source": [
    "# Import libraries\n"
   ]
  },
  {
   "cell_type": "code",
   "execution_count": 0,
   "metadata": {
    "application/vnd.databricks.v1+cell": {
     "cellMetadata": {},
     "inputWidgets": {},
     "nuid": "e95b779c-7712-40b4-a4a7-08ad8a3113d5",
     "showTitle": false,
     "tableResultSettingsMap": {},
     "title": ""
    },
    "id": "ff532473"
   },
   "outputs": [],
   "source": [
    "# Initialize browser session and go to https://job-room.ch\n"
   ]
  },
  {
   "cell_type": "code",
   "execution_count": 0,
   "metadata": {
    "application/vnd.databricks.v1+cell": {
     "cellMetadata": {},
     "inputWidgets": {},
     "nuid": "ae4f6fff-0576-4c93-842c-76241eb63dad",
     "showTitle": false,
     "tableResultSettingsMap": {},
     "title": ""
    },
    "id": "316c7204"
   },
   "outputs": [],
   "source": [
    "# Close orange message asking employers to register\n"
   ]
  },
  {
   "cell_type": "code",
   "execution_count": 0,
   "metadata": {
    "application/vnd.databricks.v1+cell": {
     "cellMetadata": {},
     "inputWidgets": {},
     "nuid": "64868d4d-3f81-4769-a0ac-ae02cf4677c7",
     "showTitle": false,
     "tableResultSettingsMap": {},
     "title": ""
    },
    "id": "97622229"
   },
   "outputs": [],
   "source": [
    "# Navigate to the second search field (Skills) and enter Python\n"
   ]
  },
  {
   "cell_type": "code",
   "execution_count": 0,
   "metadata": {
    "application/vnd.databricks.v1+cell": {
     "cellMetadata": {},
     "inputWidgets": {},
     "nuid": "89d5f546-066b-43e5-b225-69178a37506e",
     "showTitle": false,
     "tableResultSettingsMap": {},
     "title": ""
    },
    "id": "0c3a1e38"
   },
   "outputs": [],
   "source": [
    "# Click on search botton\n"
   ]
  },
  {
   "cell_type": "code",
   "execution_count": 0,
   "metadata": {
    "application/vnd.databricks.v1+cell": {
     "cellMetadata": {},
     "inputWidgets": {},
     "nuid": "fab12fe6-a981-48a6-91a0-e0f5928b1d16",
     "showTitle": false,
     "tableResultSettingsMap": {},
     "title": ""
    },
    "id": "f6d106fc"
   },
   "outputs": [],
   "source": [
    "# Fetch source code and parse it with Beautiful soup\n"
   ]
  },
  {
   "cell_type": "code",
   "execution_count": 0,
   "metadata": {
    "application/vnd.databricks.v1+cell": {
     "cellMetadata": {},
     "inputWidgets": {},
     "nuid": "f75670f4-0633-40d4-b749-87afa61d7650",
     "showTitle": false,
     "tableResultSettingsMap": {},
     "title": ""
    },
    "id": "8a79b26d"
   },
   "outputs": [],
   "source": [
    "# Print number of jobs\n"
   ]
  },
  {
   "cell_type": "markdown",
   "metadata": {
    "application/vnd.databricks.v1+cell": {
     "cellMetadata": {},
     "inputWidgets": {},
     "nuid": "609fc831-7e2e-41ab-b3c3-afe3399d1ff0",
     "showTitle": false,
     "tableResultSettingsMap": {},
     "title": ""
    },
    "id": "483f7cc6"
   },
   "source": [
    "## Exercise 2"
   ]
  },
  {
   "cell_type": "markdown",
   "metadata": {
    "application/vnd.databricks.v1+cell": {
     "cellMetadata": {},
     "inputWidgets": {},
     "nuid": "1d45e19d-b0e3-48d8-b6a2-62a74fb960bb",
     "showTitle": false,
     "tableResultSettingsMap": {},
     "title": ""
    },
    "id": "c690606b"
   },
   "source": [
    "Try to extract all the links to the pages on the indiviual jobs and store them in a list. How many links do you get?"
   ]
  },
  {
   "cell_type": "code",
   "execution_count": 0,
   "metadata": {
    "application/vnd.databricks.v1+cell": {
     "cellMetadata": {},
     "inputWidgets": {},
     "nuid": "6774353d-536a-425b-b6b6-58114a4d4ec0",
     "showTitle": false,
     "tableResultSettingsMap": {},
     "title": ""
    },
    "id": "42193e18"
   },
   "outputs": [],
   "source": []
  },
  {
   "cell_type": "code",
   "execution_count": 0,
   "metadata": {
    "application/vnd.databricks.v1+cell": {
     "cellMetadata": {},
     "inputWidgets": {},
     "nuid": "1f7c6ac9-e1e8-4529-a325-e14cf576e2d8",
     "showTitle": false,
     "tableResultSettingsMap": {},
     "title": ""
    },
    "id": "57269d45"
   },
   "outputs": [],
   "source": []
  },
  {
   "cell_type": "markdown",
   "metadata": {
    "application/vnd.databricks.v1+cell": {
     "cellMetadata": {},
     "inputWidgets": {},
     "nuid": "f6fd42a4-bad6-4e98-9a00-27bd1b590bb9",
     "showTitle": false,
     "tableResultSettingsMap": {},
     "title": ""
    },
    "id": "7d2b7a1e"
   },
   "source": [
    "## Exercise 3 (advanced and optional!)"
   ]
  },
  {
   "cell_type": "markdown",
   "metadata": {
    "application/vnd.databricks.v1+cell": {
     "cellMetadata": {},
     "inputWidgets": {},
     "nuid": "179c3ffb-0ea3-4ff2-96b2-2c9b54056a80",
     "showTitle": false,
     "tableResultSettingsMap": {},
     "title": ""
    },
    "id": "f782062b"
   },
   "source": [
    "You may have noticed that the you only got the urls for the first 20 search results. This happens because the other results are not rendered immediately, but only when you scroll down. Can you find a way to extract all the urls?\n",
    "\n",
    "Hint: You can tell the browser to scroll down until the end of the page is reached and then retrieve the source code. One approach would be to ``find_element()`` an element that resides within the scrollable container and then sending a couple ``Keys.PAGE.DOWN`` (but there might also be other ways)."
   ]
  },
  {
   "cell_type": "code",
   "execution_count": 0,
   "metadata": {
    "application/vnd.databricks.v1+cell": {
     "cellMetadata": {},
     "inputWidgets": {},
     "nuid": "1f7c6245-03b6-4d39-a1e6-fc00d10f536b",
     "showTitle": false,
     "tableResultSettingsMap": {},
     "title": ""
    },
    "id": "9aa3a07b"
   },
   "outputs": [],
   "source": []
  },
  {
   "cell_type": "code",
   "execution_count": 0,
   "metadata": {
    "application/vnd.databricks.v1+cell": {
     "cellMetadata": {},
     "inputWidgets": {},
     "nuid": "357638ca-dab0-4b5a-b19f-4332f5a256b6",
     "showTitle": false,
     "tableResultSettingsMap": {},
     "title": ""
    },
    "id": "5b5d1a69"
   },
   "outputs": [],
   "source": []
  },
  {
   "cell_type": "markdown",
   "metadata": {
    "application/vnd.databricks.v1+cell": {
     "cellMetadata": {},
     "inputWidgets": {},
     "nuid": "ee3f8992-7a2d-4aaa-93ce-e1aadf99c63a",
     "showTitle": false,
     "tableResultSettingsMap": {},
     "title": ""
    },
    "id": "af26cd87"
   },
   "source": [
    "Now, navigate to and fetch the source code of **one single url** of your list (we want to avoid that we do too many request with our course). Again, you might have to introduce a waiting time between loading the page and fetching the source code.  Print out (1) the title and (2) the workload of the job."
   ]
  },
  {
   "cell_type": "code",
   "execution_count": 0,
   "metadata": {
    "application/vnd.databricks.v1+cell": {
     "cellMetadata": {},
     "inputWidgets": {},
     "nuid": "9bc55c2a-974d-46a5-9976-edfdea2b6b5e",
     "showTitle": false,
     "tableResultSettingsMap": {},
     "title": ""
    },
    "id": "e6d38e67"
   },
   "outputs": [],
   "source": [
    "# Fetch page and convert to BeautifulSoup object\n"
   ]
  },
  {
   "cell_type": "code",
   "execution_count": 0,
   "metadata": {
    "application/vnd.databricks.v1+cell": {
     "cellMetadata": {},
     "inputWidgets": {},
     "nuid": "4719d965-9d77-4c7f-a674-9598409fb518",
     "showTitle": false,
     "tableResultSettingsMap": {},
     "title": ""
    },
    "id": "5e13ffea"
   },
   "outputs": [],
   "source": [
    "# Print job title\n"
   ]
  },
  {
   "cell_type": "code",
   "execution_count": 0,
   "metadata": {
    "application/vnd.databricks.v1+cell": {
     "cellMetadata": {},
     "inputWidgets": {},
     "nuid": "9ff49254-18f6-4a8e-81ff-4e7462d0dccb",
     "showTitle": false,
     "tableResultSettingsMap": {},
     "title": ""
    },
    "id": "cc9235c2"
   },
   "outputs": [],
   "source": [
    "# Print workload\n"
   ]
  }
 ],
 "metadata": {
  "application/vnd.databricks.v1+notebook": {
   "computePreferences": null,
   "dashboards": [],
   "environmentMetadata": null,
   "inputWidgetPreferences": null,
   "language": "python",
   "notebookMetadata": {},
   "notebookName": "3-Selenium-Exercises",
   "widgets": {}
  },
  "colab": {
   "provenance": [],
   "toc_visible": true
  },
  "kernelspec": {
   "display_name": "Python 3 (ipykernel)",
   "language": "python",
   "name": "python3"
  },
  "language_info": {
   "name": "python"
  }
 },
 "nbformat": 4,
 "nbformat_minor": 0
}
