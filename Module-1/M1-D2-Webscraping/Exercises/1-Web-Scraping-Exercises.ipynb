{
 "cells": [
  {
   "cell_type": "markdown",
   "metadata": {
    "application/vnd.databricks.v1+cell": {
     "cellMetadata": {},
     "inputWidgets": {},
     "nuid": "0c8ef686-9f14-4205-8b5e-579de10343aa",
     "showTitle": false,
     "tableResultSettingsMap": {},
     "title": ""
    },
    "id": "U3zPuM3zuwFT"
   },
   "source": [
    "### Web Scraping##\n",
    "#### CAS Applied Data Science 2024 ####\n",
    "\n",
    "#Exercises#"
   ]
  },
  {
   "cell_type": "markdown",
   "metadata": {
    "application/vnd.databricks.v1+cell": {
     "cellMetadata": {},
     "inputWidgets": {},
     "nuid": "37197ad2-d306-4de0-b516-3adc3c3e4575",
     "showTitle": false,
     "tableResultSettingsMap": {},
     "title": ""
    },
    "id": "ihjiiXFWCoOL"
   },
   "source": [
    "\n",
    "\n",
    "---\n",
    "\n",
    "\n",
    "<font color='violet'>\n",
    "Hints are written in white, so you do not see them immediately. If you highlight them (or double-click on them), they will appear!\n",
    "<font color='white'> I am a hint! :-)\n",
    "\n",
    "\n",
    "---\n"
   ]
  },
  {
   "cell_type": "markdown",
   "metadata": {
    "application/vnd.databricks.v1+cell": {
     "cellMetadata": {},
     "inputWidgets": {},
     "nuid": "5ac0a309-f102-4573-bde7-3491cf71ebde",
     "showTitle": false,
     "tableResultSettingsMap": {},
     "title": ""
    },
    "id": "U2hSLoyOBc1C"
   },
   "source": [
    "## 1. Basic exercises"
   ]
  },
  {
   "cell_type": "markdown",
   "metadata": {
    "application/vnd.databricks.v1+cell": {
     "cellMetadata": {},
     "inputWidgets": {},
     "nuid": "2f6b26f2-e247-4cb0-9aea-b3bcfcf3241b",
     "showTitle": false,
     "tableResultSettingsMap": {},
     "title": ""
    },
    "id": "fTXm4BjVXSwH"
   },
   "source": [
    "### Exercise 1.1"
   ]
  },
  {
   "cell_type": "markdown",
   "metadata": {
    "application/vnd.databricks.v1+cell": {
     "cellMetadata": {},
     "inputWidgets": {},
     "nuid": "ae6c84b2-31c4-44b3-9b70-b40749eb873d",
     "showTitle": false,
     "tableResultSettingsMap": {},
     "title": ""
    },
    "id": "4LigdyQsguzj"
   },
   "source": [
    "Import the ``requests`` library, the ``BeautifulSoup`` library and the ``pandas`` library."
   ]
  },
  {
   "cell_type": "code",
   "execution_count": 0,
   "metadata": {
    "application/vnd.databricks.v1+cell": {
     "cellMetadata": {},
     "inputWidgets": {},
     "nuid": "f832db37-7704-4c5e-a620-511bc9e008cb",
     "showTitle": false,
     "tableResultSettingsMap": {},
     "title": ""
    },
    "id": "OP6Rw0trhTGl"
   },
   "outputs": [],
   "source": []
  },
  {
   "cell_type": "markdown",
   "metadata": {
    "application/vnd.databricks.v1+cell": {
     "cellMetadata": {},
     "inputWidgets": {},
     "nuid": "f94ba1c5-ee4e-4e39-8bfc-b053b91107d0",
     "showTitle": false,
     "tableResultSettingsMap": {},
     "title": ""
    },
    "id": "ikjlp_1mhiQT"
   },
   "source": [
    "Using the ``requests`` library, retrieve the example page (http://farys.org/daten/example-page.html) and assign the response object to a variable named ``exR``. Print out the status code. You will get a  number. What does it mean?"
   ]
  },
  {
   "cell_type": "code",
   "execution_count": 0,
   "metadata": {
    "application/vnd.databricks.v1+cell": {
     "cellMetadata": {},
     "inputWidgets": {},
     "nuid": "b97e2cce-a9f1-4d10-8c60-34c304483352",
     "showTitle": false,
     "tableResultSettingsMap": {},
     "title": ""
    },
    "id": "ipgty3mXi5JE"
   },
   "outputs": [],
   "source": []
  },
  {
   "cell_type": "markdown",
   "metadata": {
    "application/vnd.databricks.v1+cell": {
     "cellMetadata": {},
     "inputWidgets": {},
     "nuid": "c17fc9cf-9897-4e2f-b39c-9889a57c68c0",
     "showTitle": false,
     "tableResultSettingsMap": {},
     "title": ""
    },
    "id": "2upIicTWjvAi"
   },
   "source": [
    "Now print out the text of the response."
   ]
  },
  {
   "cell_type": "code",
   "execution_count": 0,
   "metadata": {
    "application/vnd.databricks.v1+cell": {
     "cellMetadata": {},
     "inputWidgets": {},
     "nuid": "e6ef3a53-4cad-43e6-a161-b22f7e2aa313",
     "showTitle": false,
     "tableResultSettingsMap": {},
     "title": ""
    },
    "id": "AI3TosUojy1x"
   },
   "outputs": [],
   "source": []
  },
  {
   "cell_type": "markdown",
   "metadata": {
    "application/vnd.databricks.v1+cell": {
     "cellMetadata": {},
     "inputWidgets": {},
     "nuid": "1383eeb7-f40a-455f-af61-ad47dfdfae9f",
     "showTitle": false,
     "tableResultSettingsMap": {},
     "title": ""
    },
    "id": "MrppfJNNks2D"
   },
   "source": [
    "### Exercise 1.2"
   ]
  },
  {
   "cell_type": "markdown",
   "metadata": {
    "application/vnd.databricks.v1+cell": {
     "cellMetadata": {},
     "inputWidgets": {},
     "nuid": "1dc03783-a427-465a-aad7-4ab497a2bd92",
     "showTitle": false,
     "tableResultSettingsMap": {},
     "title": ""
    },
    "id": "4EvpnIcBlxbK"
   },
   "source": [
    "Using ``BeautifulSoup``, parse the text of your response object and assign the result to a variable called ``mySoup``."
   ]
  },
  {
   "cell_type": "code",
   "execution_count": 0,
   "metadata": {
    "application/vnd.databricks.v1+cell": {
     "cellMetadata": {},
     "inputWidgets": {},
     "nuid": "c2b84ec2-137f-4a5a-9b5a-8b07c221439b",
     "showTitle": false,
     "tableResultSettingsMap": {},
     "title": ""
    },
    "id": "lBCQksmamxtn"
   },
   "outputs": [],
   "source": []
  },
  {
   "cell_type": "markdown",
   "metadata": {
    "application/vnd.databricks.v1+cell": {
     "cellMetadata": {},
     "inputWidgets": {},
     "nuid": "49fce68d-31c6-4b57-a064-95fb883b589e",
     "showTitle": false,
     "tableResultSettingsMap": {},
     "title": ""
    },
    "id": "vAMXMHCBmdzu"
   },
   "source": [
    "Print the content of your soup object."
   ]
  },
  {
   "cell_type": "code",
   "execution_count": 0,
   "metadata": {
    "application/vnd.databricks.v1+cell": {
     "cellMetadata": {},
     "inputWidgets": {},
     "nuid": "1c079ed0-face-42b9-a0df-5a0bf70cb0bb",
     "showTitle": false,
     "tableResultSettingsMap": {},
     "title": ""
    },
    "id": "wcDEhu4QmyfF"
   },
   "outputs": [],
   "source": []
  },
  {
   "cell_type": "markdown",
   "metadata": {
    "application/vnd.databricks.v1+cell": {
     "cellMetadata": {},
     "inputWidgets": {},
     "nuid": "be96314d-3ff9-4ad3-8967-628f748e29c6",
     "showTitle": false,
     "tableResultSettingsMap": {},
     "title": ""
    },
    "id": "4Sn-baMZmzIF"
   },
   "source": [
    "Now, try to access the following:\n",
    "1. The ``thead`` element\n",
    "2. All ``p`` elements\n",
    "3. The last ``p`` element\n",
    "4. The text of the ``h1`` element\n",
    "5. The first URL in the document (only the URL!)\n",
    "6. All ``a`` elements within the ``table`` element\n",
    "7. All ``table`` elements of class \"cat_table\"  <font color='violet'> Hint: <font color='white'>  Remember to use class_ instead of class to find elements based on the value of the class attribute!<font color='black'>\n",
    "8. The text of all ``p`` elements (as a list) <font color='violet'> Hint: <font color='white'>  Use a list comprehension! <font color='black'>\n",
    "\n"
   ]
  },
  {
   "cell_type": "code",
   "execution_count": 0,
   "metadata": {
    "application/vnd.databricks.v1+cell": {
     "cellMetadata": {},
     "inputWidgets": {},
     "nuid": "1f545fba-170a-4874-95c5-c4d61d34e7fb",
     "showTitle": false,
     "tableResultSettingsMap": {},
     "title": ""
    },
    "id": "bc64FjCDo-HQ"
   },
   "outputs": [],
   "source": [
    "# 1: The thead element\n"
   ]
  },
  {
   "cell_type": "code",
   "execution_count": 0,
   "metadata": {
    "application/vnd.databricks.v1+cell": {
     "cellMetadata": {},
     "inputWidgets": {},
     "nuid": "203b74bf-6a3a-4bfc-ab20-76679cd1acd0",
     "showTitle": false,
     "tableResultSettingsMap": {},
     "title": ""
    },
    "id": "mZM9YGDWo-B3"
   },
   "outputs": [],
   "source": [
    "# 2: All p elements\n"
   ]
  },
  {
   "cell_type": "code",
   "execution_count": 0,
   "metadata": {
    "application/vnd.databricks.v1+cell": {
     "cellMetadata": {},
     "inputWidgets": {},
     "nuid": "258084c8-8c3b-466a-85a3-7b1584ef5b3b",
     "showTitle": false,
     "tableResultSettingsMap": {},
     "title": ""
    },
    "id": "3QiRdk_To96f"
   },
   "outputs": [],
   "source": [
    "# 3: The last p element\n"
   ]
  },
  {
   "cell_type": "code",
   "execution_count": 0,
   "metadata": {
    "application/vnd.databricks.v1+cell": {
     "cellMetadata": {},
     "inputWidgets": {},
     "nuid": "070d375b-2f2b-4102-a06d-87ce3695e233",
     "showTitle": false,
     "tableResultSettingsMap": {},
     "title": ""
    },
    "id": "wBXHgh79o9zm"
   },
   "outputs": [],
   "source": [
    "# 4: The text of the h1 element\n"
   ]
  },
  {
   "cell_type": "code",
   "execution_count": 0,
   "metadata": {
    "application/vnd.databricks.v1+cell": {
     "cellMetadata": {},
     "inputWidgets": {},
     "nuid": "9baf8a16-b30e-4dec-bc76-3213c570dbd9",
     "showTitle": false,
     "tableResultSettingsMap": {},
     "title": ""
    },
    "id": "8ZhL7gtfo9sv"
   },
   "outputs": [],
   "source": [
    "# 5: The first URL in the document (only the URL!)\n"
   ]
  },
  {
   "cell_type": "code",
   "execution_count": 0,
   "metadata": {
    "application/vnd.databricks.v1+cell": {
     "cellMetadata": {},
     "inputWidgets": {},
     "nuid": "26b76574-3a96-4e82-a87b-af06f34bc0c5",
     "showTitle": false,
     "tableResultSettingsMap": {},
     "title": ""
    },
    "id": "ZkpR1GiFo9lo"
   },
   "outputs": [],
   "source": [
    "# 6: All a elements within the table element\n"
   ]
  },
  {
   "cell_type": "code",
   "execution_count": 0,
   "metadata": {
    "application/vnd.databricks.v1+cell": {
     "cellMetadata": {},
     "inputWidgets": {},
     "nuid": "3545832c-1783-486f-9a3a-47ae565a73e9",
     "showTitle": false,
     "tableResultSettingsMap": {},
     "title": ""
    },
    "id": "KmFdainGmmNn"
   },
   "outputs": [],
   "source": [
    "# 7: All table elements of class \"cat_table\"\n"
   ]
  },
  {
   "cell_type": "code",
   "execution_count": 0,
   "metadata": {
    "application/vnd.databricks.v1+cell": {
     "cellMetadata": {},
     "inputWidgets": {},
     "nuid": "90aeaee9-6361-4572-b590-474dbd1a5f72",
     "showTitle": false,
     "tableResultSettingsMap": {},
     "title": ""
    },
    "id": "hVWKcYleo9eH"
   },
   "outputs": [],
   "source": [
    "# 8: The text of all p elements (as a list)\n"
   ]
  },
  {
   "cell_type": "markdown",
   "metadata": {
    "application/vnd.databricks.v1+cell": {
     "cellMetadata": {},
     "inputWidgets": {},
     "nuid": "16e43882-bdfa-4751-9dc2-54ff13c86b52",
     "showTitle": false,
     "tableResultSettingsMap": {},
     "title": ""
    },
    "id": "zYEvEr7QABjT"
   },
   "source": [
    "### Exercise 1.3"
   ]
  },
  {
   "cell_type": "markdown",
   "metadata": {
    "application/vnd.databricks.v1+cell": {
     "cellMetadata": {},
     "inputWidgets": {},
     "nuid": "8abfb264-083c-48b0-bdcd-7e602cfbbdbd",
     "showTitle": false,
     "tableResultSettingsMap": {},
     "title": ""
    },
    "id": "s3U_Q7V4AF9B"
   },
   "source": [
    "Most websites are a bit more complicated than our example page. In this exercise, we will retrieve the Wikipedia page on cats: https://en.wikipedia.org/wiki/Cat"
   ]
  },
  {
   "cell_type": "markdown",
   "metadata": {
    "application/vnd.databricks.v1+cell": {
     "cellMetadata": {},
     "inputWidgets": {},
     "nuid": "30eedd61-0ba1-416f-b287-f38ce0b7bae0",
     "showTitle": false,
     "tableResultSettingsMap": {},
     "title": ""
    },
    "id": "cSRj3gIpAdgs"
   },
   "source": [
    "Retrieve the page, get the text and convert it to a BeautifulSoup object called ``cats``."
   ]
  },
  {
   "cell_type": "code",
   "execution_count": 0,
   "metadata": {
    "application/vnd.databricks.v1+cell": {
     "cellMetadata": {},
     "inputWidgets": {},
     "nuid": "97144be3-14d0-49d5-9ad8-f3a5569a13c6",
     "showTitle": false,
     "tableResultSettingsMap": {},
     "title": ""
    },
    "id": "MKgkt-GTA3Tw"
   },
   "outputs": [],
   "source": []
  },
  {
   "cell_type": "markdown",
   "metadata": {
    "application/vnd.databricks.v1+cell": {
     "cellMetadata": {},
     "inputWidgets": {},
     "nuid": "489258af-f779-455e-a0ff-e2574efd3bf3",
     "showTitle": false,
     "tableResultSettingsMap": {},
     "title": ""
    },
    "id": "Y00ikW9ABmSo"
   },
   "source": [
    "Go to the page and inspect it (right-click on the different elements and select \"Insepct\" (Element untersuchen)\". Then, try to retrieve the following elements from the page:\n",
    "\n",
    "1. The title of the page (only the text)\n",
    "2. The title header of the page (Cat)\n",
    "3.  All the main headers of the text on the page (Etymology and naming, Taxonomy...)\n",
    "4. All the headers in the text (Etymology and naming, Taxonomy, Evolution, Domestication, Characteristics, Size...)\n",
    " <font color='violet'> Hint: <font color='white'> These headers are all of the same class.<font color='black'>\n",
    "5. The opening paragraph (\"The cat (Felis catus) is a ...\")\n",
    "6. All the links in the infobox table on the right\n",
    "7. The number of images on the page <font color='violet'> Hint: <font color='white'> Hint: You can use the len() function"
   ]
  },
  {
   "cell_type": "code",
   "execution_count": 0,
   "metadata": {
    "application/vnd.databricks.v1+cell": {
     "cellMetadata": {},
     "inputWidgets": {},
     "nuid": "154087a0-df18-463b-8c25-718c38cd1830",
     "showTitle": false,
     "tableResultSettingsMap": {},
     "title": ""
    },
    "id": "1BNAIflGCoQ_"
   },
   "outputs": [],
   "source": [
    "# 1\n"
   ]
  },
  {
   "cell_type": "code",
   "execution_count": 0,
   "metadata": {
    "application/vnd.databricks.v1+cell": {
     "cellMetadata": {},
     "inputWidgets": {},
     "nuid": "f0643775-cd70-4b05-aae5-e5efd2f9d934",
     "showTitle": false,
     "tableResultSettingsMap": {},
     "title": ""
    },
    "id": "RarP03dGDk3J"
   },
   "outputs": [],
   "source": [
    "# 2\n"
   ]
  },
  {
   "cell_type": "code",
   "execution_count": 0,
   "metadata": {
    "application/vnd.databricks.v1+cell": {
     "cellMetadata": {},
     "inputWidgets": {},
     "nuid": "563f49f2-91e2-4485-85b2-f5ee961f7052",
     "showTitle": false,
     "tableResultSettingsMap": {},
     "title": ""
    },
    "id": "dZn0L62BDuSw"
   },
   "outputs": [],
   "source": [
    "# 3\n"
   ]
  },
  {
   "cell_type": "code",
   "execution_count": 0,
   "metadata": {
    "application/vnd.databricks.v1+cell": {
     "cellMetadata": {},
     "inputWidgets": {},
     "nuid": "6f87e3bf-e858-48e8-a08d-26d1e61b962a",
     "showTitle": false,
     "tableResultSettingsMap": {},
     "title": ""
    },
    "id": "_m88q-Z5GgnN"
   },
   "outputs": [],
   "source": [
    "# 4\n"
   ]
  },
  {
   "cell_type": "code",
   "execution_count": 0,
   "metadata": {
    "application/vnd.databricks.v1+cell": {
     "cellMetadata": {},
     "inputWidgets": {},
     "nuid": "78eadcbd-a3d6-4656-b6bf-1151c35b2320",
     "showTitle": false,
     "tableResultSettingsMap": {},
     "title": ""
    },
    "id": "ckYb0J_8KoeP"
   },
   "outputs": [],
   "source": [
    "# 5\n"
   ]
  },
  {
   "cell_type": "code",
   "execution_count": 0,
   "metadata": {
    "application/vnd.databricks.v1+cell": {
     "cellMetadata": {},
     "inputWidgets": {},
     "nuid": "cd9299ef-64fc-44e1-af4d-3dd6ffecdaa4",
     "showTitle": false,
     "tableResultSettingsMap": {},
     "title": ""
    },
    "id": "aEolGY--HYr8"
   },
   "outputs": [],
   "source": [
    "# 6\n"
   ]
  },
  {
   "cell_type": "code",
   "execution_count": 0,
   "metadata": {
    "application/vnd.databricks.v1+cell": {
     "cellMetadata": {},
     "inputWidgets": {},
     "nuid": "67e313ee-4b86-4fe0-8195-f5efbf962d90",
     "showTitle": false,
     "tableResultSettingsMap": {},
     "title": ""
    },
    "id": "IofJLYJHbgSo"
   },
   "outputs": [],
   "source": [
    "# 7\n"
   ]
  },
  {
   "cell_type": "markdown",
   "metadata": {
    "application/vnd.databricks.v1+cell": {
     "cellMetadata": {},
     "inputWidgets": {},
     "nuid": "6e805a6c-a69c-44e4-9d75-905b6d93f84e",
     "showTitle": false,
     "tableResultSettingsMap": {},
     "title": ""
    },
    "id": "iMbIgP9M_wf_"
   },
   "source": [
    "Now try to retrieve the first table on the page and convert it to a Pandas dataframe."
   ]
  },
  {
   "cell_type": "code",
   "execution_count": 0,
   "metadata": {
    "application/vnd.databricks.v1+cell": {
     "cellMetadata": {},
     "inputWidgets": {},
     "nuid": "8dba2b74-8929-41ea-bca9-221678fd5e0b",
     "showTitle": false,
     "tableResultSettingsMap": {},
     "title": ""
    },
    "id": "HcVwJ5E9ATS-"
   },
   "outputs": [],
   "source": []
  },
  {
   "cell_type": "markdown",
   "metadata": {
    "application/vnd.databricks.v1+cell": {
     "cellMetadata": {},
     "inputWidgets": {},
     "nuid": "9077a076-dd91-4148-80b1-60d013674638",
     "showTitle": false,
     "tableResultSettingsMap": {},
     "title": ""
    },
    "id": "zesfc5Otne-8"
   },
   "source": [
    "### Exercise 1.4"
   ]
  },
  {
   "cell_type": "markdown",
   "metadata": {
    "application/vnd.databricks.v1+cell": {
     "cellMetadata": {},
     "inputWidgets": {},
     "nuid": "b170e6b1-43f1-452f-a1b6-c679a4fb4c7c",
     "showTitle": false,
     "tableResultSettingsMap": {},
     "title": ""
    },
    "id": "tb69L2RcN0Hn"
   },
   "source": [
    "Consider the following list of links to Wikipedia pages on animals:"
   ]
  },
  {
   "cell_type": "code",
   "execution_count": 0,
   "metadata": {
    "application/vnd.databricks.v1+cell": {
     "cellMetadata": {},
     "inputWidgets": {},
     "nuid": "ea9c0329-0b8f-48f7-9ea5-37a2e7232d8e",
     "showTitle": false,
     "tableResultSettingsMap": {},
     "title": ""
    },
    "id": "GavxRwQvN8Rt"
   },
   "outputs": [],
   "source": [
    "animals_wiki = [\"https://en.wikipedia.org/wiki/Cat\",\n",
    "                \"https://en.wikipedia.org/wiki/Dog\",\n",
    "                \"https://en.wikipedia.org/wiki/Tiger\",\n",
    "                \"https://en.wikipedia.org/wiki/Panda\"]"
   ]
  },
  {
   "cell_type": "markdown",
   "metadata": {
    "application/vnd.databricks.v1+cell": {
     "cellMetadata": {},
     "inputWidgets": {},
     "nuid": "15caba67-f138-4b21-b338-6330f06cba30",
     "showTitle": false,
     "tableResultSettingsMap": {},
     "title": ""
    },
    "id": "4wxV20wlP8ql"
   },
   "source": [
    "Write a simple loop that fetches each of these pages and writes the response into a list (it should look like this: ``[<Response [200]>, <Response [200]>, <Response [200]>, <Response [200]>]``)"
   ]
  },
  {
   "cell_type": "code",
   "execution_count": 0,
   "metadata": {
    "application/vnd.databricks.v1+cell": {
     "cellMetadata": {},
     "inputWidgets": {},
     "nuid": "d26fac25-95a2-45ee-bb8c-68b64943d61a",
     "showTitle": false,
     "tableResultSettingsMap": {},
     "title": ""
    },
    "id": "EeeWVHQ8Nz0X"
   },
   "outputs": [],
   "source": []
  },
  {
   "cell_type": "markdown",
   "metadata": {
    "application/vnd.databricks.v1+cell": {
     "cellMetadata": {},
     "inputWidgets": {},
     "nuid": "872439a1-307f-47a5-8925-0d2ac5d5a909",
     "showTitle": false,
     "tableResultSettingsMap": {},
     "title": ""
    },
    "id": "iRc8cXUEnkDU"
   },
   "source": [
    "You would like to have (1) the title header and (2) the number of images of each of these pages. Revise your loop so that this information is retreived from the source code of each page and written into a (nested) list. Which animal page has the most images?"
   ]
  },
  {
   "cell_type": "code",
   "execution_count": 0,
   "metadata": {
    "application/vnd.databricks.v1+cell": {
     "cellMetadata": {},
     "inputWidgets": {},
     "nuid": "f15cb0ab-cc13-4421-923b-de28c73d464b",
     "showTitle": false,
     "tableResultSettingsMap": {},
     "title": ""
    },
    "id": "pLIaoPb7njfE"
   },
   "outputs": [],
   "source": []
  },
  {
   "cell_type": "markdown",
   "metadata": {
    "application/vnd.databricks.v1+cell": {
     "cellMetadata": {},
     "inputWidgets": {},
     "nuid": "1f340418-3c84-4c9e-bb29-107fea180094",
     "showTitle": false,
     "tableResultSettingsMap": {},
     "title": ""
    },
    "id": "ITCk8WoQTfYW"
   },
   "source": [
    "Repetition task: Convert your list into a pandas dataframe."
   ]
  },
  {
   "cell_type": "code",
   "execution_count": 0,
   "metadata": {
    "application/vnd.databricks.v1+cell": {
     "cellMetadata": {},
     "inputWidgets": {},
     "nuid": "4211c735-5f54-4189-b6a1-ffd3acfe1d62",
     "showTitle": false,
     "tableResultSettingsMap": {},
     "title": ""
    },
    "id": "qXubF1oTBLcE"
   },
   "outputs": [],
   "source": []
  },
  {
   "cell_type": "code",
   "execution_count": 0,
   "metadata": {
    "application/vnd.databricks.v1+cell": {
     "cellMetadata": {},
     "inputWidgets": {},
     "nuid": "db525dfe-b276-4365-9cfc-0bd304bbc88d",
     "showTitle": false,
     "tableResultSettingsMap": {},
     "title": ""
    },
    "id": "Ehbg7j1uTKNp"
   },
   "outputs": [],
   "source": []
  },
  {
   "cell_type": "markdown",
   "metadata": {
    "application/vnd.databricks.v1+cell": {
     "cellMetadata": {},
     "inputWidgets": {},
     "nuid": "c6621fe8-36f4-4b05-b7ee-f87afab8d4d3",
     "showTitle": false,
     "tableResultSettingsMap": {},
     "title": ""
    },
    "id": "I5fGuENsxWXa"
   },
   "source": [
    "## 2. Advanced exercises*"
   ]
  },
  {
   "cell_type": "markdown",
   "metadata": {
    "application/vnd.databricks.v1+cell": {
     "cellMetadata": {},
     "inputWidgets": {},
     "nuid": "1dddc378-a9fe-4359-a1a9-4adc3173d6b7",
     "showTitle": false,
     "tableResultSettingsMap": {},
     "title": ""
    },
    "id": "ZjVQNxR4daUW"
   },
   "source": [
    "### Exercise 2.1"
   ]
  },
  {
   "cell_type": "markdown",
   "metadata": {
    "application/vnd.databricks.v1+cell": {
     "cellMetadata": {},
     "inputWidgets": {},
     "nuid": "1690d589-2d87-47ab-80d4-21d63bf66567",
     "showTitle": false,
     "tableResultSettingsMap": {},
     "title": ""
    },
    "id": "a-NbMd9KfEu1"
   },
   "source": [
    "Suppose your list of animal links also contains a link to a website that does not exist:"
   ]
  },
  {
   "cell_type": "code",
   "execution_count": 0,
   "metadata": {
    "application/vnd.databricks.v1+cell": {
     "cellMetadata": {},
     "inputWidgets": {},
     "nuid": "b2d45590-cbb2-470c-8610-35b1f93b95a3",
     "showTitle": false,
     "tableResultSettingsMap": {},
     "title": ""
    },
    "id": "2xiYa5zZfB7e"
   },
   "outputs": [],
   "source": [
    "animals_wiki = [\"https://en.wikipedia.org/wiki/Cat\",\n",
    "                \"https://en.wikipedia.org/wiki/Dog\",\n",
    "                \"https://no-such-link-exists.com\",\n",
    "                \"https://en.wikipedia.org/wiki/Panda\"]"
   ]
  },
  {
   "cell_type": "markdown",
   "metadata": {
    "application/vnd.databricks.v1+cell": {
     "cellMetadata": {},
     "inputWidgets": {},
     "nuid": "a079e7a6-0b39-4dbe-b2de-fb1b70fac433",
     "showTitle": false,
     "tableResultSettingsMap": {},
     "title": ""
    },
    "id": "vf7QMF29fJd8"
   },
   "source": [
    "Add a ``try-exept`` block to the loop from Exercise 1.4 to prevent your web scraper from crashing when an URL cannot be retrieved. <font color='violet'> Hint: <font color='white'> Use ``continue`` within the ``except`` block to jump back to the beginning of the loop!\n",
    "\n",
    "\n"
   ]
  },
  {
   "cell_type": "code",
   "execution_count": 0,
   "metadata": {
    "application/vnd.databricks.v1+cell": {
     "cellMetadata": {},
     "inputWidgets": {},
     "nuid": "7d896f04-50d1-4beb-a687-eeec42024f57",
     "showTitle": false,
     "tableResultSettingsMap": {},
     "title": ""
    },
    "id": "APvssG-KfLcS"
   },
   "outputs": [],
   "source": []
  },
  {
   "cell_type": "markdown",
   "metadata": {
    "application/vnd.databricks.v1+cell": {
     "cellMetadata": {},
     "inputWidgets": {},
     "nuid": "d10416bf-5fd6-4221-801e-64fc430c4b97",
     "showTitle": false,
     "tableResultSettingsMap": {},
     "title": ""
    },
    "id": "Y1es3ky6e9_q"
   },
   "source": [
    "### Exercise 2.2"
   ]
  },
  {
   "cell_type": "markdown",
   "metadata": {
    "application/vnd.databricks.v1+cell": {
     "cellMetadata": {},
     "inputWidgets": {},
     "nuid": "2b823a9b-eaff-4032-b799-9038ebb1b94c",
     "showTitle": false,
     "tableResultSettingsMap": {},
     "title": ""
    },
    "id": "QfMgxGeJcw--"
   },
   "source": [
    "The Wikipedia page https://en.wikipedia.org/wiki/List_of_cat_breeds contains a list of all cat breeds and the links to the respective Wikipedia pages. You would like to create a dataset about the different cat breeds with information from their Wikipedia pages.\n",
    "\n",
    "In a first step, you will have to retrieve all the links to the respective Wikipedia pages. Retrieve them from the first table on the website and write them into a list. *Note that the table also contains some links you do not want to have included (you only want those to the pages for the different cat breeds). You can use ``CSS`` selectors to specify what links you want to extract. First have a look at the source code of the page to find out how the relevant links can be addressed.*"
   ]
  },
  {
   "cell_type": "code",
   "execution_count": 0,
   "metadata": {
    "application/vnd.databricks.v1+cell": {
     "cellMetadata": {},
     "inputWidgets": {},
     "nuid": "0d181746-1bf7-46d1-8984-07461947bd62",
     "showTitle": false,
     "tableResultSettingsMap": {},
     "title": ""
    },
    "id": "oFgyXzHxVkSv"
   },
   "outputs": [],
   "source": []
  },
  {
   "cell_type": "markdown",
   "metadata": {
    "application/vnd.databricks.v1+cell": {
     "cellMetadata": {},
     "inputWidgets": {},
     "nuid": "4c967090-e312-41fb-9fd3-19ce642affee",
     "showTitle": false,
     "tableResultSettingsMap": {},
     "title": ""
    },
    "id": "ch3yRDKkf6o3"
   },
   "source": [
    "If you inspect your list, you may notice that there are some external URLs (i.e. URLs that do not point to Wikipedia pages). Try to remove them! <font color='violet'> Hint: <font color='white'> Note that you can specify an if-condition within a list comprehension. In the very first tutorial you learned how to check if a string is containend within anotther string."
   ]
  },
  {
   "cell_type": "code",
   "execution_count": 0,
   "metadata": {
    "application/vnd.databricks.v1+cell": {
     "cellMetadata": {},
     "inputWidgets": {},
     "nuid": "5b2e1616-d75d-4817-b64b-d3655815ec56",
     "showTitle": false,
     "tableResultSettingsMap": {},
     "title": ""
    },
    "id": "AUihku13baXZ"
   },
   "outputs": [],
   "source": []
  },
  {
   "cell_type": "markdown",
   "metadata": {
    "application/vnd.databricks.v1+cell": {
     "cellMetadata": {},
     "inputWidgets": {},
     "nuid": "167a8023-e19c-478a-b385-dd663046d9ae",
     "showTitle": false,
     "tableResultSettingsMap": {},
     "title": ""
    },
    "id": "66cRQYqNcvov"
   },
   "source": [
    "With your cleaned list you can now start to scrape the pages. You would like to retrieve (1) the title header, (2) the number of images, (3) the number of characters of the text of each page, and (4) the text of the introductory paragraph. Try to do so for the **first page only** to develop your code.  Note that you will have to add the top level domain (https://en.wikipedia.org) to your URL!"
   ]
  },
  {
   "cell_type": "code",
   "execution_count": 0,
   "metadata": {
    "application/vnd.databricks.v1+cell": {
     "cellMetadata": {},
     "inputWidgets": {},
     "nuid": "4dc317e5-e772-4fe0-9e57-34305f49ef36",
     "showTitle": false,
     "tableResultSettingsMap": {},
     "title": ""
    },
    "id": "g6S-P27ojJIR"
   },
   "outputs": [],
   "source": []
  },
  {
   "cell_type": "markdown",
   "metadata": {
    "application/vnd.databricks.v1+cell": {
     "cellMetadata": {},
     "inputWidgets": {},
     "nuid": "b4d24fa1-0743-4965-9ff5-e1820d7aee88",
     "showTitle": false,
     "tableResultSettingsMap": {},
     "title": ""
    },
    "id": "kdIOFIzYjcs9"
   },
   "source": [
    "Now you are ready to build your web scraper. Write a loop the fetches the information from all the pages and writes it into a list. Tipp: Before you loop through the entire list, try looping over the first few elements to check if everything works (running the loop across the whole list may take a while)."
   ]
  },
  {
   "cell_type": "code",
   "execution_count": 0,
   "metadata": {
    "application/vnd.databricks.v1+cell": {
     "cellMetadata": {},
     "inputWidgets": {},
     "nuid": "cecdad52-eca5-4efe-903c-c01db93f67c0",
     "showTitle": false,
     "tableResultSettingsMap": {},
     "title": ""
    },
    "id": "S9Gm5IlpoWS3"
   },
   "outputs": [],
   "source": []
  },
  {
   "cell_type": "markdown",
   "metadata": {
    "application/vnd.databricks.v1+cell": {
     "cellMetadata": {},
     "inputWidgets": {},
     "nuid": "5a37eeea-5d2a-4f93-a884-c06aa79daa37",
     "showTitle": false,
     "tableResultSettingsMap": {},
     "title": ""
    },
    "id": "G6S7NWWYjn6c"
   },
   "source": [
    "Create a Pandas dataframe with the information you gathered and inspect it. Which cat has the longest article? Which one has the most images?"
   ]
  },
  {
   "cell_type": "code",
   "execution_count": 0,
   "metadata": {
    "application/vnd.databricks.v1+cell": {
     "cellMetadata": {},
     "inputWidgets": {},
     "nuid": "bcb34fd7-76c7-4540-9f8d-172e90c79e9c",
     "showTitle": false,
     "tableResultSettingsMap": {},
     "title": ""
    },
    "id": "ebz0FVu7n0Eg"
   },
   "outputs": [],
   "source": []
  }
 ],
 "metadata": {
  "application/vnd.databricks.v1+notebook": {
   "computePreferences": null,
   "dashboards": [],
   "environmentMetadata": null,
   "inputWidgetPreferences": null,
   "language": "python",
   "notebookMetadata": {},
   "notebookName": "1-Web-Scraping-Exercises",
   "widgets": {}
  },
  "colab": {
   "provenance": [
    {
     "file_id": "1J5sCNUxmBh0t7MH3cVHColt9WFjca3ze",
     "timestamp": 1614455032952
    }
   ],
   "toc_visible": true
  },
  "kernelspec": {
   "display_name": "Python 3",
   "name": "python3"
  },
  "language_info": {
   "name": "python"
  }
 },
 "nbformat": 4,
 "nbformat_minor": 0
}
