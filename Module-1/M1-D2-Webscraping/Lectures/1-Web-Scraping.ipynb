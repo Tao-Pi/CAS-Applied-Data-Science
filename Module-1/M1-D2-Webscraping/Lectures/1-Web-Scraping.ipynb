{
 "cells": [
  {
   "cell_type": "markdown",
   "metadata": {
    "application/vnd.databricks.v1+cell": {
     "cellMetadata": {},
     "inputWidgets": {},
     "nuid": "f0e27961-caf7-45f8-a2ca-59097eaaad02",
     "showTitle": false,
     "tableResultSettingsMap": {},
     "title": ""
    },
    "id": "Gwwx6YFTV9Vt"
   },
   "source": [
    "# Web Scraping #\n",
    "#### CAS Applied Data Science 2024 ####"
   ]
  },
  {
   "cell_type": "markdown",
   "metadata": {
    "application/vnd.databricks.v1+cell": {
     "cellMetadata": {},
     "inputWidgets": {},
     "nuid": "82984ddd-abc1-482d-9612-e02163ebcdce",
     "showTitle": false,
     "tableResultSettingsMap": {},
     "title": ""
    },
    "id": "pdPiOhvvVa5l"
   },
   "source": [
    "In today's tutorial, we will learn how to collect our own data from the internet through **web scraping** and **APIs**. This is a very broad topic that relates to many technologies you may not know about yet. Don't get discouraged if you encounter many things that are new for you. Even if you do not fully understand how everything works in detail, you will soon be able to extract data from the internet and work with it – and over time, you will develop a better understanding of the things that happen behind the scenes!\n",
    "\n",
    "In this tutorial, we will only be able to scratch the surface and cover the most important concepts. However, there are many helpful books and online resources if you would like to dive deeper into the topic."
   ]
  },
  {
   "cell_type": "markdown",
   "metadata": {
    "application/vnd.databricks.v1+cell": {
     "cellMetadata": {},
     "inputWidgets": {},
     "nuid": "21cd5516-4ed1-4d53-8cf1-5651d58c304c",
     "showTitle": false,
     "tableResultSettingsMap": {},
     "title": ""
    },
    "id": "AshYEIHVOsEP"
   },
   "source": [
    "## Getting help"
   ]
  },
  {
   "cell_type": "markdown",
   "metadata": {
    "application/vnd.databricks.v1+cell": {
     "cellMetadata": {},
     "inputWidgets": {},
     "nuid": "7096eef5-b9c1-4a73-9813-bf08ccc9f9a8",
     "showTitle": false,
     "tableResultSettingsMap": {},
     "title": ""
    },
    "id": "ekpUsERVKiWO"
   },
   "source": [
    "We are selective in this tutorial and only discuss elements that we believe are most important to get started with aquiring data from the web. If you want more details, you can consult, for example, the **Python Standard Library Reference** at https://docs.python.org/3/library/ or the **Language Reference** at https://docs.python.org/3/reference/. But be warned: the amount of detail in these sources can be overwhelming. For **quick and easy-to-understand overviews** of different topics see, for example, https://www.w3schools.com/python/. For comprehensive information about web technologies visit https://developer.mozilla.org/. Here are some specific references for today's tutorial:\n",
    "\n",
    "Requests:\n",
    "* https://docs.python-requests.org/en/master/\n",
    "* https://www.w3schools.com/python/module_requests.asp\n",
    "* https://www.w3schools.com/python/ref_requests_response.asp\n",
    "* https://realpython.com/python-requests/\n",
    "* https://programminghistorian.org/en/lessons/intro-to-beautiful-soup\n",
    "\n",
    "BeautifulSoup:\n",
    "* https://beautiful-soup-4.readthedocs.io/\n",
    "* https://www.dataquest.io/blog/web-scraping-python-using-beautiful-soup/ (includes good general introduction to webscraping with Python)\n",
    "* https://programminghistorian.org/en/lessons/intro-to-beautiful-soup\n",
    "\n",
    "\n",
    "\n",
    "If you get stuck or don't remember how to do something, it is usually a good idea to **Google** your problem. Python has a large (and fast-growing) community and you will probably find answers to most of your questions online (e.g. on **Stack Overflow** or in a **Youtube tutorial**)."
   ]
  },
  {
   "cell_type": "markdown",
   "metadata": {
    "application/vnd.databricks.v1+cell": {
     "cellMetadata": {},
     "inputWidgets": {},
     "nuid": "e01d7dac-af1b-4ff6-a808-cbd1deb3ce60",
     "showTitle": false,
     "tableResultSettingsMap": {},
     "title": ""
    },
    "id": "fMWyFklXzc_k"
   },
   "source": [
    "## Introduction"
   ]
  },
  {
   "cell_type": "markdown",
   "metadata": {
    "application/vnd.databricks.v1+cell": {
     "cellMetadata": {},
     "inputWidgets": {},
     "nuid": "3f891a96-69d7-4efe-b4cb-9822513347bc",
     "showTitle": false,
     "tableResultSettingsMap": {},
     "title": ""
    },
    "id": "oqPnQTBQ5Uuz"
   },
   "source": [
    "### What is web scraping?"
   ]
  },
  {
   "cell_type": "markdown",
   "metadata": {
    "application/vnd.databricks.v1+cell": {
     "cellMetadata": {},
     "inputWidgets": {},
     "nuid": "270f2368-b04c-4fa8-8f6c-a7e4ecb6c94a",
     "showTitle": false,
     "tableResultSettingsMap": {},
     "title": ""
    },
    "id": "HelQCK-d0M5c"
   },
   "source": [
    "Imagine you have a list of domain names of e.g. companies or organisations and would like to download a certain number of pages from each domain to analyze the content of websites. You may even want to do this every month to monitor the websites. Similarly, you could be interested in tracking data from an online source over time. For example, you may want to collect data on the weather, current health conditions or stock markets.  \n",
    "\n",
    "Of course, you could try to manually call all the relevant pages and copy the data to a file on your computer. However, this will be very time-consuming and error-prone and may simply not be feasible for vast amounts of pages.\n",
    "\n",
    "Web scraping allows you to **retrieve the contents of web pages automatically**. This can be extremely useful if you need data from many different (sub-)pages or if you need to repeatedly download a page over time. Instead of downloading all the pages manually, you can write a program that does all that work for you. Python has several very useful libraries that allow you to do this and is thus a good choice for a web scraping project.\n",
    "\n",
    "Before we get started with these libraries, there are a few things about the internet/web technologies you should know. We will briefly walk you through (1) the basics of data transmission over the internet, (2) the components of a web page and (3) the HTML language."
   ]
  },
  {
   "cell_type": "markdown",
   "metadata": {
    "application/vnd.databricks.v1+cell": {
     "cellMetadata": {},
     "inputWidgets": {},
     "nuid": "0b997ac1-e3a0-4042-8bda-e45e47137396",
     "showTitle": false,
     "tableResultSettingsMap": {},
     "title": ""
    },
    "id": "uCAtyW3D5bqN"
   },
   "source": [
    "### What happens if you type a URL into your browser?"
   ]
  },
  {
   "cell_type": "markdown",
   "metadata": {
    "application/vnd.databricks.v1+cell": {
     "cellMetadata": {},
     "inputWidgets": {},
     "nuid": "64ef22c6-54d9-48a0-8b4e-fc0886bbac3f",
     "showTitle": false,
     "tableResultSettingsMap": {},
     "title": ""
    },
    "id": "vdpGBQuPZq9k"
   },
   "source": [
    "When you open your browser and type a URL (e.g. www.google.com) you will usually get directed to a page within milliseconds. Have you ever wondered how this works? Well, the whole process is incredibly complicated – but we can try to provide a simplified answer:\n",
    "\n",
    "\n",
    "\n",
    "\n"
   ]
  },
  {
   "cell_type": "markdown",
   "metadata": {
    "application/vnd.databricks.v1+cell": {
     "cellMetadata": {},
     "inputWidgets": {},
     "nuid": "ad0ddb1b-6a6c-426a-b9d1-2646782e4200",
     "showTitle": false,
     "tableResultSettingsMap": {},
     "title": ""
    },
    "id": "DudKq-Gmz0SS"
   },
   "source": [
    "You can think of the internet as a network that connects two types of computers: **clients** and **servers**. The clients are the ones requesting the information. For example, your computer or your smartphone are clients. Servers are where the information is stored. They are also computers (e.g. a single computer or a whole data center), but they are set up to store and deliver data for the clients.\n",
    "\n",
    "![Client Server Model](https://upload.wikimedia.org/wikipedia/commons/c/c9/Client-server-model.svg)\n",
    "\n"
   ]
  },
  {
   "cell_type": "markdown",
   "metadata": {
    "application/vnd.databricks.v1+cell": {
     "cellMetadata": {},
     "inputWidgets": {},
     "nuid": "c6e0b0f1-91b4-4769-816e-c7aa40db102d",
     "showTitle": false,
     "tableResultSettingsMap": {},
     "title": ""
    },
    "id": "JGDhYxESzaUE"
   },
   "source": [
    "When you type ``www.google.ch`` into your browser, your computer (i.e. a client) is requesting information from the Google server. But how does it know where to find this server? Each server (and also each client) is identified through a unique number, the so-called **IP (Internet Protocol) address**. Assume the IP address for the Google server is ``8.8.8.8``.\n",
    "\n"
   ]
  },
  {
   "cell_type": "markdown",
   "metadata": {
    "application/vnd.databricks.v1+cell": {
     "cellMetadata": {},
     "inputWidgets": {},
     "nuid": "3c805ee1-6d31-431b-bc7c-f4a3c391845a",
     "showTitle": false,
     "tableResultSettingsMap": {},
     "title": ""
    },
    "id": "Q-2snw6uzjcT"
   },
   "source": [
    "\n",
    "How does your computer figure out that it needs to connect with the server ``8.8.8.8`` when you type ``www.google.com``? This is done through the so-called **Domain Name System (DNS)**. You can think of it as the telephone book of the internet. It consists of servers that store information on all *domain names* (e.g. google.com) and their corresponding *IP addresses*. Your computer will first have to request the IP address from one of these servers (unless it already knows the IP address from previous requests).\n",
    "\n",
    "\n"
   ]
  },
  {
   "cell_type": "markdown",
   "metadata": {
    "application/vnd.databricks.v1+cell": {
     "cellMetadata": {},
     "inputWidgets": {},
     "nuid": "8341e576-7dd1-42fe-9104-744d688b7127",
     "showTitle": false,
     "tableResultSettingsMap": {},
     "title": ""
    },
    "id": "o0qaCX0kznja"
   },
   "source": [
    "Once your computer has figured out the correct IP address, it will send a so-called **HTTP (Hypertext Transfer Protocol) request** to the corresponding server. HTTP is a protocol that defines how clients and servers have to communicate with each other (i.e. how requests and responses should be written). You can think of an HTTP request as a set of simple instructions stating what the clients wants the server to do. A HTTP request for the Google start page could look as follows:\n",
    "\n",
    "\n",
    "\n",
    "```http\n",
    "GET / HTTP/2\n",
    "Host: www.google.com\n",
    "User-Agent: Mozilla/5.0 (Windows NT 10.0; Win64; x64; rv:88.0) Gecko/20100101 Firefox/88.0\n",
    "Accept: text/html,application/xhtml+xml,application/xml;q=0.9,image/webp,*/*;q=0.8\n",
    "Accept-Language: de,en-US;q=0.7,en;q=0.3\n",
    "Accept-Encoding: gzip, deflate, br\n",
    "Connection: keep-alive\n",
    "Upgrade-Insecure-Requests: 1\n",
    "Cache-Control: max-age=0\n",
    "TE: Trailers\n",
    "```\n",
    "\n"
   ]
  },
  {
   "cell_type": "markdown",
   "metadata": {
    "application/vnd.databricks.v1+cell": {
     "cellMetadata": {},
     "inputWidgets": {},
     "nuid": "1a070f41-c3e9-4d1f-b472-46b25dee80fe",
     "showTitle": false,
     "tableResultSettingsMap": {},
     "title": ""
    },
    "id": "rg08nw34zqvr"
   },
   "source": [
    "\n",
    "The HTTP request will be passed through several layers of protocols (see https://en.wikipedia.org/wiki/OSI_model for further details) and eventually be transformed into signals that can be sent through the telecommunication infrastructure that spans the globe (e.g. fiber cables, satellites etc.). At the destination, the signals will be converted back into a HTTP request. If everything worked well, the server will then produce a **HTTP response** containing the contents (i.e. the source code) of the page the client requested and send it back to your computer (otherwise, it will send back an error message). Your browser will know how to interpret this response and convert it into an appropriately styled web page – for example the Google start page!"
   ]
  },
  {
   "cell_type": "markdown",
   "metadata": {
    "application/vnd.databricks.v1+cell": {
     "cellMetadata": {},
     "inputWidgets": {},
     "nuid": "e9f17a8e-1885-4df9-bf1b-43f40b680522",
     "showTitle": false,
     "tableResultSettingsMap": {},
     "title": ""
    },
    "id": "z_9AXXLv5gkN"
   },
   "source": [
    "### What are the components of a website?"
   ]
  },
  {
   "cell_type": "markdown",
   "metadata": {
    "application/vnd.databricks.v1+cell": {
     "cellMetadata": {},
     "inputWidgets": {},
     "nuid": "cb3ce799-6264-4b27-aebb-bd7d9c120553",
     "showTitle": false,
     "tableResultSettingsMap": {},
     "title": ""
    },
    "id": "uq5Fyvi34o43"
   },
   "source": [
    "We said that when we request a page, the responsible server will send us a HTTP response containing the source code of the page. But how does this code look like? What are web pages made of?\n",
    "\n",
    "Websites are usually a combination of documents in three languages: HTML, CSS and JavaScript. Let's take a brief look at what each of them is responsible for:\n",
    "\n",
    "* **HTML** – *HyperText Markup Language*: Structured contents of the page (e.g. What are the headings of the page? What do the different paragraphs say? What images do we have?). Additional information at https://developer.mozilla.org/en-US/docs/Web/HTML\n",
    "* **CSS** – *Cascading Style Sheets*: Styling of the page (e.g. What font size and type should headings have? How should the paragraphs be styled?). Additional information at https://developer.mozilla.org/en-US/docs/Web/CSS\n",
    "* **JS** – *JavaScript*: Interactivity of the page (e.g. Show or hide more information with the click of a button; Slide through a carousel of images). Additional information at https://developer.mozilla.org/en-US/docs/Web/JavaScript\n",
    "\n",
    "When we scrape a page, we are usually only interested in its content and will thus only work with the HTML part of a page. So for most tasks, you do not need to worry too much about CSS and Javascript and and can focus on understanding HTML.\n",
    "\n",
    "><font color = 4e1585> SIDENOTE: Note that some understanding of CSS can be helpful in extracting detailed information from a page (see section on CSS selectors)."
   ]
  },
  {
   "cell_type": "markdown",
   "metadata": {
    "application/vnd.databricks.v1+cell": {
     "cellMetadata": {},
     "inputWidgets": {},
     "nuid": "fd06ce5f-e2f1-47b1-a0a9-fd14b41e4a03",
     "showTitle": false,
     "tableResultSettingsMap": {},
     "title": ""
    },
    "id": "-e8yhn3NzWrh"
   },
   "source": [
    "### How does HTML work?"
   ]
  },
  {
   "cell_type": "markdown",
   "metadata": {
    "application/vnd.databricks.v1+cell": {
     "cellMetadata": {},
     "inputWidgets": {},
     "nuid": "d8be86b0-444f-45f4-90d4-f3bc8dc6b1ab",
     "showTitle": false,
     "tableResultSettingsMap": {},
     "title": ""
    },
    "id": "aDQL1vFAzand"
   },
   "source": [
    "When you scrape a page, you will usually fetch the HTML code of that page and parse it (e.g. with Python's ``BeautifulSoup`` library). To be able to make sense of the code you will have to work with, it is useful to know a few things about HTML. Let's take a brief look at it.\n",
    "\n",
    "HTML is a **markup language**, meaning that it uses **tags** to define **elements** within a document. Let's look at an example:"
   ]
  },
  {
   "cell_type": "markdown",
   "metadata": {
    "application/vnd.databricks.v1+cell": {
     "cellMetadata": {},
     "inputWidgets": {},
     "nuid": "99a68d1e-355f-4513-88f2-61743114d8f5",
     "showTitle": false,
     "tableResultSettingsMap": {},
     "title": ""
    },
    "id": "vhsEq8Ic6mRh"
   },
   "source": [
    "\n",
    "\n",
    "```html\n",
    "<!DOCTYPE html>\n",
    "<html>\n",
    "<head>\n",
    "<title>Page Title</title>\n",
    "</head>\n",
    "<body>\n",
    "\n",
    "<h1>This is a heading</h1>\n",
    "<p>This is a paragraph.</p>\n",
    "\n",
    "</body>\n",
    "</html>\n",
    "```\n",
    "\n"
   ]
  },
  {
   "cell_type": "markdown",
   "metadata": {
    "application/vnd.databricks.v1+cell": {
     "cellMetadata": {},
     "inputWidgets": {},
     "nuid": "6ad55e90-4a77-417c-8ac2-7f50df1bb257",
     "showTitle": false,
     "tableResultSettingsMap": {},
     "title": ""
    },
    "id": "aYvNdDmx7O7O"
   },
   "source": [
    "Each element **starts with ``<*name of tag*>`` and ends with ``</*name of tag*>``**. For example, the ``body`` element starts with ``<body>`` and ends ``</body>`` and everything in between belongs to this element.\n",
    "\n",
    "Elements are often **nested within each other** (i.e. they contain other elements). For example, the ``h1`` and the ``p`` element are nested within the ``body`` element.  This means that ``body`` is a **parent** of ``h1`` and ``p``. Conversely, ``h1`` and ``p`` are **children** of ``body`` (and **siblings** to each other). Understanding the nested structure of HTML element will be important for extracting specific information from a web page!\n",
    "\n"
   ]
  },
  {
   "cell_type": "markdown",
   "metadata": {
    "application/vnd.databricks.v1+cell": {
     "cellMetadata": {},
     "inputWidgets": {},
     "nuid": "0199f46f-7b67-428a-aa56-197b18674b92",
     "showTitle": false,
     "tableResultSettingsMap": {},
     "title": ""
    },
    "id": "c7-cMsS3J2pI"
   },
   "source": [
    "There are many different HTML tags (more than 100). You do not need to know all of them, but it is useful to take a look at the most common ones you may encounter (see here for more detailed information on them: https://www.elated.com/first-10-html-tags/):\n",
    "\n",
    "* ``<html>``: Opening tag of every HTML document\n",
    "* ``<head>``: Document head\n",
    "* ``<title>``: Page title (child of ``head`` tag)\n",
    "* ``<body>``: Page content (parent of the main content of the page)\n",
    "* ``<h1>``:  Section heading (``<h2>``, ``<h3>`` etc. for lower level headings)\n",
    "* ``<p>``:  Paragraph\n",
    "* ``<a>``: Link\n",
    "* ``<div>``: Block-level container for content\n",
    "* ``<table>``: Table (with ``<tr>`` tags for each row, a ``<td>`` for each cell and a ``<th>`` tag for table headings)\n",
    "* ``<img>``: Image\n",
    "\n",
    "\n",
    "See https://developer.mozilla.org/en-US/docs/Web/HTML/Element for a comprehensive list of HTML elements"
   ]
  },
  {
   "cell_type": "markdown",
   "metadata": {
    "application/vnd.databricks.v1+cell": {
     "cellMetadata": {},
     "inputWidgets": {},
     "nuid": "680c85ec-49a3-47b9-b42e-9655622d567b",
     "showTitle": false,
     "tableResultSettingsMap": {},
     "title": ""
    },
    "id": "3GHprYDZy5Gd"
   },
   "source": [
    "Tags can also have **attributes**. Consider the following example:\n",
    "\n",
    "* ``<a href=\"www.someaddress.com\" target=\"_blank\"> Click on this link</a>``\n",
    "\n",
    "The ``<a>`` tag above has two attributes. The ``href`` attribute defines the URL and the ``target`` attribute specifies how it should be opened (`\"_blank\"` means that it will be opened in a new tab). Each tag has its own set of attributes, but there are also global attributes such as `id` or `class` that can be used with any tag. See the following links, if you would like to know more:\n",
    "* https://www.w3schools.com/html/html_attributes.asp\n",
    "* https://developer.mozilla.org/en-US/docs/Web/HTML/Attributes\n",
    "\n"
   ]
  },
  {
   "cell_type": "markdown",
   "metadata": {
    "application/vnd.databricks.v1+cell": {
     "cellMetadata": {},
     "inputWidgets": {},
     "nuid": "afccf88e-c0a4-4280-9e83-94072dff5d55",
     "showTitle": false,
     "tableResultSettingsMap": {},
     "title": ""
    },
    "id": "N3OxwZmG4tex"
   },
   "source": [
    "\n",
    "\n",
    "---\n",
    "### **<font color='teal'>In-class exercise**\n",
    "\n",
    ">  <font color='teal'> Check out this simple page to see how all of this works: http://farys.org/daten/example-page.html. If you right-click on the page, you should be able to select \"View source code\". You can also click on \"Inspect\" (German: \"Element untersuchen\") to see which part of the code refers to which part on the web page! If you need to scrape a particular element from a page, this is usually a good starting point.\n",
    ">\n",
    ">  <font color='teal'> Try to answer the following questions:\n",
    ">\n",
    ">*  Can you find the element with the main heading?\n",
    "* What are the parent, children and siblings of the ``table`` element?\n",
    "* In which element is the \"Bongo Cat\" link? What attributes does the tag have?\n",
    "* Extra (after-class) task: Go to the Bongo Cat page and learn to play \"Happy Birthday\" with the Marimba! ;-)\n",
    "\n",
    "\n",
    "\n",
    "\n",
    "\n",
    "\n",
    "---\n",
    "\n"
   ]
  },
  {
   "cell_type": "markdown",
   "metadata": {
    "application/vnd.databricks.v1+cell": {
     "cellMetadata": {},
     "inputWidgets": {},
     "nuid": "b7224bd4-66e5-44e7-af47-af3826962502",
     "showTitle": false,
     "tableResultSettingsMap": {},
     "title": ""
    },
    "id": "MXtn839BzxMq"
   },
   "source": [
    "## Scraping web pages with ``requests``"
   ]
  },
  {
   "cell_type": "markdown",
   "metadata": {
    "application/vnd.databricks.v1+cell": {
     "cellMetadata": {},
     "inputWidgets": {},
     "nuid": "98943053-a9ea-4ee6-8bbd-7914d6e851b2",
     "showTitle": false,
     "tableResultSettingsMap": {},
     "title": ""
    },
    "id": "6F-esFUJNT0f"
   },
   "source": [
    "### Making simple requests"
   ]
  },
  {
   "cell_type": "markdown",
   "metadata": {
    "application/vnd.databricks.v1+cell": {
     "cellMetadata": {},
     "inputWidgets": {},
     "nuid": "1457b759-976d-4c0a-8353-2f52c1da6194",
     "showTitle": false,
     "tableResultSettingsMap": {},
     "title": ""
    },
    "id": "6qSFxYy10jAo"
   },
   "source": [
    "So let's get started with web scraping. How can we use Python to **retrieve a page from the internet**? There are several libraries that allow you to do this. The most popular one is the **``requests`` library** (https://docs.python-requests.org/en/master/). We can import it as follows:"
   ]
  },
  {
   "cell_type": "code",
   "execution_count": 0,
   "metadata": {
    "application/vnd.databricks.v1+cell": {
     "cellMetadata": {},
     "inputWidgets": {},
     "nuid": "cf42ce54-d3b3-47dd-aaa0-6f0844314cb4",
     "showTitle": false,
     "tableResultSettingsMap": {},
     "title": ""
    },
    "id": "AK5c4NzSCfkj"
   },
   "outputs": [],
   "source": [
    "import requests"
   ]
  },
  {
   "cell_type": "markdown",
   "metadata": {
    "application/vnd.databricks.v1+cell": {
     "cellMetadata": {},
     "inputWidgets": {},
     "nuid": "dd9d91ae-6271-4696-82c6-7a2956dc8ed2",
     "showTitle": false,
     "tableResultSettingsMap": {},
     "title": ""
    },
    "id": "tGMopdr9CiSB"
   },
   "source": [
    "Now let's request the cat page from the example above using the **``get`` function**. It will send an HTTP request to the responsible server and fetch the response for you:"
   ]
  },
  {
   "cell_type": "code",
   "execution_count": 0,
   "metadata": {
    "application/vnd.databricks.v1+cell": {
     "cellMetadata": {},
     "inputWidgets": {},
     "nuid": "f1049294-6bf9-4d92-a995-4ba7a1741e9e",
     "showTitle": false,
     "tableResultSettingsMap": {},
     "title": ""
    },
    "id": "sb6I2iAlCmWq"
   },
   "outputs": [],
   "source": [
    "r = requests.get(\"http://farys.org/daten/example-page.html\")\n",
    "type(r)"
   ]
  },
  {
   "cell_type": "markdown",
   "metadata": {
    "application/vnd.databricks.v1+cell": {
     "cellMetadata": {},
     "inputWidgets": {},
     "nuid": "6a9bd1be-bff2-475a-90e2-36abec30acb8",
     "showTitle": false,
     "tableResultSettingsMap": {},
     "title": ""
    },
    "id": "5wgI88KJFuYM"
   },
   "source": [
    "As you can see, we got some kind of response object. What can we do with it? A first useful thing to do is to **check the status code** (by calling the ``status_code`` attribute):"
   ]
  },
  {
   "cell_type": "code",
   "execution_count": 0,
   "metadata": {
    "application/vnd.databricks.v1+cell": {
     "cellMetadata": {},
     "inputWidgets": {},
     "nuid": "fa95b124-0c2b-483b-8c88-bd2505fdd361",
     "showTitle": false,
     "tableResultSettingsMap": {},
     "title": ""
    },
    "id": "bdfYLTxpGaN4"
   },
   "outputs": [],
   "source": [
    "r.status_code"
   ]
  },
  {
   "cell_type": "markdown",
   "metadata": {
    "application/vnd.databricks.v1+cell": {
     "cellMetadata": {},
     "inputWidgets": {},
     "nuid": "26225bcd-1381-4e0c-a256-d2dc454918c4",
     "showTitle": false,
     "tableResultSettingsMap": {},
     "title": ""
    },
    "id": "PzU04dx8Gozf"
   },
   "source": [
    "What does this mean? Simply put, the 2xx (i.e. 200, 201 etc.) are successes, the 3xx codes are redirects, the 4xx codes are client errors and the 5xx codes are server errors (see here for a list of all HTTP status codes: https://en.wikipedia.org/wiki/List_of_HTTP_status_codes or https://developer.mozilla.org/en-US/docs/Web/HTTP/Status). So in our case, everything seems to have gone well so far as we got a status code of 200."
   ]
  },
  {
   "cell_type": "markdown",
   "metadata": {
    "application/vnd.databricks.v1+cell": {
     "cellMetadata": {},
     "inputWidgets": {},
     "nuid": "f614a86e-d2f6-4b76-beea-cdf1396f4409",
     "showTitle": false,
     "tableResultSettingsMap": {},
     "title": ""
    },
    "id": "RizupGcdGK1c"
   },
   "source": [
    "Usually, we are interested in the source code of the page. We can access it through the **``text`` attribute**:"
   ]
  },
  {
   "cell_type": "code",
   "execution_count": 0,
   "metadata": {
    "application/vnd.databricks.v1+cell": {
     "cellMetadata": {},
     "inputWidgets": {},
     "nuid": "88c7e14e-4147-43fd-b15f-b12b8bb8ac92",
     "showTitle": false,
     "tableResultSettingsMap": {},
     "title": ""
    },
    "id": "zoNGA2WyFtHM"
   },
   "outputs": [],
   "source": [
    "r.text"
   ]
  },
  {
   "cell_type": "code",
   "execution_count": 0,
   "metadata": {
    "application/vnd.databricks.v1+cell": {
     "cellMetadata": {},
     "inputWidgets": {},
     "nuid": "d4716b9b-8f91-4d87-a7a4-6fbe8fb3e986",
     "showTitle": false,
     "tableResultSettingsMap": {},
     "title": ""
    },
    "id": "JYdhkNvwTeQC"
   },
   "outputs": [],
   "source": [
    "type(r.text)"
   ]
  },
  {
   "cell_type": "markdown",
   "metadata": {
    "application/vnd.databricks.v1+cell": {
     "cellMetadata": {},
     "inputWidgets": {},
     "nuid": "70c96c47-c96e-40b1-bf47-ed84523dd4e3",
     "showTitle": false,
     "tableResultSettingsMap": {},
     "title": ""
    },
    "id": "a5H9V0ngJdG9"
   },
   "source": [
    "As you can see, we now have a string with the HTML code of the page – it is the same code you saw when clicking on \"View source code\" on the page!"
   ]
  },
  {
   "cell_type": "markdown",
   "metadata": {
    "application/vnd.databricks.v1+cell": {
     "cellMetadata": {},
     "inputWidgets": {},
     "nuid": "5148d99d-2cf3-430a-bf4a-8bc78d4f2eea",
     "showTitle": false,
     "tableResultSettingsMap": {},
     "title": ""
    },
    "id": "AC0IV5rBNJn-"
   },
   "source": [
    "###Setting query parameters*"
   ]
  },
  {
   "cell_type": "markdown",
   "metadata": {
    "application/vnd.databricks.v1+cell": {
     "cellMetadata": {},
     "inputWidgets": {},
     "nuid": "0e5621ac-12a3-4336-b2c7-bc9cdfe2cc2a",
     "showTitle": false,
     "tableResultSettingsMap": {},
     "title": ""
    },
    "id": "A2xkUtWiJ8Wu"
   },
   "source": [
    "<font color='gray'>This section is for self-study and will not be discussed in class.\n",
    "\n",
    "You will often encounter URLs that look somewhat like this:\n",
    "\n",
    "* https://en.wikipedia.org/w/index.php?title=Cat&action=info (information page about the \"Cat\" page on Wikipedia)\n",
    "\n",
    "The part after the ``?`` is called a **query string** (https://en.wikipedia.org/wiki/Query_string; For a general overview on the structure of URLs see https://developer.mozilla.org/en-US/docs/Learn/Common_questions/What_is_a_URL). It is a way to send additional information to the server, for example search terms when you use Google. The server will still deliver an HTML page, but the information in the query string might be used to alter this page before it is sent to you.\n",
    "\n",
    "Instead of passing in the entire URL to the ``get`` function of the `requests` library, you can also provide the parameters for the query string as a separate argument. This is done by passing a dictionary as the argument of the **``params`` parameter**:"
   ]
  },
  {
   "cell_type": "code",
   "execution_count": 0,
   "metadata": {
    "application/vnd.databricks.v1+cell": {
     "cellMetadata": {},
     "inputWidgets": {},
     "nuid": "1a89dec3-cbd7-4a08-b6ba-4af4b73e055f",
     "showTitle": false,
     "tableResultSettingsMap": {},
     "title": ""
    },
    "id": "8er1aVyoODqn"
   },
   "outputs": [],
   "source": [
    "# Same result as:\n",
    "# cat = requests.get(\"https://en.wikipedia.org/w/index.php?title=Cat&action=info\")\n",
    "\n",
    "my_params = {\"title\" : \"Cat\",\n",
    "             \"action\" : \"info\"}\n",
    "cat = requests.get(\"https://en.wikipedia.org/w/index.php\",\n",
    "                   params=my_params)\n",
    "\n",
    "print(cat)\n",
    "print(cat.url) # Look at url that was used for the request"
   ]
  },
  {
   "cell_type": "markdown",
   "metadata": {
    "application/vnd.databricks.v1+cell": {
     "cellMetadata": {},
     "inputWidgets": {},
     "nuid": "c9c47498-48b3-4f34-95e9-347e6ec58835",
     "showTitle": false,
     "tableResultSettingsMap": {},
     "title": ""
    },
    "id": "33LZu0eXPsUv"
   },
   "source": [
    "Why would this be useful? Suppose you would like to scrape not only the \"Cat\" info page, but also the ones for many other animals. Of course, you could write a loop that builds the different URL strings for you. But it is much cleaner and easier to use the ``params`` parameter:"
   ]
  },
  {
   "cell_type": "code",
   "execution_count": 0,
   "metadata": {
    "application/vnd.databricks.v1+cell": {
     "cellMetadata": {},
     "inputWidgets": {},
     "nuid": "8fd52291-e17c-4d94-9f17-dfa0b1bab865",
     "showTitle": false,
     "tableResultSettingsMap": {},
     "title": ""
    },
    "id": "XZWsDNZBQV77"
   },
   "outputs": [],
   "source": [
    "animals = [\"Cat\", \"Dog\", \"Bird\"]\n",
    "\n",
    "L=[]\n",
    "for animal in animals:\n",
    "  my_params = {\"title\" : animal, \"action\" : \"info\"}\n",
    "  res = requests.get(\"https://en.wikipedia.org/w/index.php\", params=my_params)\n",
    "  L.append(res)\n",
    "\n",
    "L # List with response objets for the three animal info pages"
   ]
  },
  {
   "cell_type": "code",
   "execution_count": 0,
   "metadata": {
    "application/vnd.databricks.v1+cell": {
     "cellMetadata": {},
     "inputWidgets": {},
     "nuid": "68fd08e8-1923-42a9-b8ea-af185de7e568",
     "showTitle": false,
     "tableResultSettingsMap": {},
     "title": ""
    },
    "id": "3_KQFfOis5lZ"
   },
   "outputs": [],
   "source": []
  },
  {
   "cell_type": "markdown",
   "metadata": {
    "application/vnd.databricks.v1+cell": {
     "cellMetadata": {},
     "inputWidgets": {},
     "nuid": "dbadf4a8-b440-4ada-96e0-04b6a63e5fc7",
     "showTitle": false,
     "tableResultSettingsMap": {},
     "title": ""
    },
    "id": "_mUHoVX2Mbtq"
   },
   "source": [
    "><font color = 4e1585> SIDENOTE: The ``get`` function also allows you to specify other useful arguments. See here for an introduction: https://docs.python-requests.org/en/master/user/quickstart/."
   ]
  },
  {
   "cell_type": "markdown",
   "metadata": {
    "application/vnd.databricks.v1+cell": {
     "cellMetadata": {},
     "inputWidgets": {},
     "nuid": "6019289f-e221-4219-8f58-feda00a01dc7",
     "showTitle": false,
     "tableResultSettingsMap": {},
     "title": ""
    },
    "id": "h7ohZzY1HJfT"
   },
   "source": [
    "\n",
    "\n",
    "---\n",
    "###**<font color='teal'>In-class exercise**\n",
    "\n",
    ">  <font color='teal'> Retrieve the Wikipedia page about cats (https://en.wikipedia.org/wiki/Cat) and assign the response to a variable named ``resp``. Print the status code and the text of the response.\n",
    "\n",
    "\n",
    "\n",
    "\n",
    "\n"
   ]
  },
  {
   "cell_type": "code",
   "execution_count": 0,
   "metadata": {
    "application/vnd.databricks.v1+cell": {
     "cellMetadata": {},
     "inputWidgets": {},
     "nuid": "48a7d9be-b52b-4bbc-9798-5b5e410392fb",
     "showTitle": false,
     "tableResultSettingsMap": {},
     "title": ""
    },
    "id": "Pnz3aCwpKRde"
   },
   "outputs": [],
   "source": []
  },
  {
   "cell_type": "code",
   "execution_count": 0,
   "metadata": {
    "application/vnd.databricks.v1+cell": {
     "cellMetadata": {},
     "inputWidgets": {},
     "nuid": "898c195b-2be6-4ff1-a5b3-9c74b1bc24e2",
     "showTitle": false,
     "tableResultSettingsMap": {},
     "title": ""
    },
    "id": "N1sP25uvLOKf"
   },
   "outputs": [],
   "source": []
  },
  {
   "cell_type": "code",
   "execution_count": 0,
   "metadata": {
    "application/vnd.databricks.v1+cell": {
     "cellMetadata": {},
     "inputWidgets": {},
     "nuid": "1f5e1fc4-acee-43f6-a325-7846825d947d",
     "showTitle": false,
     "tableResultSettingsMap": {},
     "title": ""
    },
    "id": "g2Ff2QdbLOXK"
   },
   "outputs": [],
   "source": []
  },
  {
   "cell_type": "markdown",
   "metadata": {
    "application/vnd.databricks.v1+cell": {
     "cellMetadata": {},
     "inputWidgets": {},
     "nuid": "b493da67-d7f0-4e52-9576-ba9e865738b3",
     "showTitle": false,
     "tableResultSettingsMap": {},
     "title": ""
    },
    "id": "iHs05S6RUV5F"
   },
   "source": [
    "---"
   ]
  },
  {
   "cell_type": "markdown",
   "metadata": {
    "application/vnd.databricks.v1+cell": {
     "cellMetadata": {},
     "inputWidgets": {},
     "nuid": "67a1c765-3a13-487f-b995-3ecf57a466ea",
     "showTitle": false,
     "tableResultSettingsMap": {},
     "title": ""
    },
    "id": "xwVtDm70z2OH"
   },
   "source": [
    "## Extracting data from HTML with ``BeautifulSoup``"
   ]
  },
  {
   "cell_type": "markdown",
   "metadata": {
    "application/vnd.databricks.v1+cell": {
     "cellMetadata": {},
     "inputWidgets": {},
     "nuid": "3d287b9d-0b6d-4c86-89cc-ba90cce31cc6",
     "showTitle": false,
     "tableResultSettingsMap": {},
     "title": ""
    },
    "id": "efUk4LVtTyMP"
   },
   "source": [
    "We now have a string with the HTML code of the page. Usually we are not interested in the entire code, but would like to **extract specific information** from it. For example, we might be interested in the headings, the links, some paragraph, a table etc. How can we access these things?\n",
    "If you wanted to do this all by yourself, you would have to write a lot of complicated code searching for text patterns in the HTML string. Luckily, extracting information from HTML code (or other markup languages) is much more convenient thanks to libraries such as ``BeautifulSoup``."
   ]
  },
  {
   "cell_type": "markdown",
   "metadata": {
    "application/vnd.databricks.v1+cell": {
     "cellMetadata": {},
     "inputWidgets": {},
     "nuid": "361c43fe-6bfe-4338-b820-6bb66c284176",
     "showTitle": false,
     "tableResultSettingsMap": {},
     "title": ""
    },
    "id": "HT0UqEWUyx6j"
   },
   "source": [
    "\n",
    "The ``BeautifulSoup`` library allows you to **parse data from HTML** (and XML) files. This means that you can convert the HTML string into an object that will be easier to search. Moreover, it provides you with many useful **functions and methods to locate the information** you are interested in. We will only be able to cover a few of these functions and methods. Check out the documentation if you want to learn more:\n",
    "https://beautiful-soup-4.readthedocs.io/"
   ]
  },
  {
   "cell_type": "markdown",
   "metadata": {
    "application/vnd.databricks.v1+cell": {
     "cellMetadata": {},
     "inputWidgets": {},
     "nuid": "603675ac-920c-40af-a4b2-fb033e129b33",
     "showTitle": false,
     "tableResultSettingsMap": {},
     "title": ""
    },
    "id": "_-BhXcCAl2Wt"
   },
   "source": [
    "### Parsing HTML strings"
   ]
  },
  {
   "cell_type": "markdown",
   "metadata": {
    "application/vnd.databricks.v1+cell": {
     "cellMetadata": {},
     "inputWidgets": {},
     "nuid": "f519ac2c-0656-4a34-9897-a814820dc772",
     "showTitle": false,
     "tableResultSettingsMap": {},
     "title": ""
    },
    "id": "bdMzRyTHfdRk"
   },
   "source": [
    "Let's get started and import the ``BeautifulSoup`` library:"
   ]
  },
  {
   "cell_type": "code",
   "execution_count": 0,
   "metadata": {
    "application/vnd.databricks.v1+cell": {
     "cellMetadata": {},
     "inputWidgets": {},
     "nuid": "98bf3d22-7b78-496f-a709-b011ff83e787",
     "showTitle": false,
     "tableResultSettingsMap": {},
     "title": ""
    },
    "id": "cZR3PeNsdRAZ"
   },
   "outputs": [],
   "source": [
    "from bs4 import BeautifulSoup"
   ]
  },
  {
   "cell_type": "markdown",
   "metadata": {
    "application/vnd.databricks.v1+cell": {
     "cellMetadata": {},
     "inputWidgets": {},
     "nuid": "58e0b50c-6a4e-49d7-ac98-e0dfc3a97c99",
     "showTitle": false,
     "tableResultSettingsMap": {},
     "title": ""
    },
    "id": "TYLEGXwGfz3x"
   },
   "source": [
    "We will continue to work with the HTML string from the cat example page:"
   ]
  },
  {
   "cell_type": "code",
   "execution_count": 0,
   "metadata": {
    "application/vnd.databricks.v1+cell": {
     "cellMetadata": {},
     "inputWidgets": {},
     "nuid": "0d12b7ed-e737-47bc-beca-38da5f7f4b11",
     "showTitle": false,
     "tableResultSettingsMap": {},
     "title": ""
    },
    "id": "hCyXPJCugDtu"
   },
   "outputs": [],
   "source": [
    "r = requests.get(\"http://farys.org/daten/example-page.html\")\n",
    "r.text"
   ]
  },
  {
   "cell_type": "code",
   "execution_count": 0,
   "metadata": {
    "application/vnd.databricks.v1+cell": {
     "cellMetadata": {},
     "inputWidgets": {},
     "nuid": "ab93bd81-6d29-4fc7-8161-d1016efb3ba2",
     "showTitle": false,
     "tableResultSettingsMap": {},
     "title": ""
    },
    "id": "hfxTYiXQVWvB"
   },
   "outputs": [],
   "source": [
    "type(r.text)"
   ]
  },
  {
   "cell_type": "markdown",
   "metadata": {
    "application/vnd.databricks.v1+cell": {
     "cellMetadata": {},
     "inputWidgets": {},
     "nuid": "7e0c2e58-80cb-4429-a671-2de36035665e",
     "showTitle": false,
     "tableResultSettingsMap": {},
     "title": ""
    },
    "id": "LVIfiX8agg4I"
   },
   "source": [
    "First, we need to parse it to convert it into a ``BeautifulSoup`` object:"
   ]
  },
  {
   "cell_type": "code",
   "execution_count": 0,
   "metadata": {
    "application/vnd.databricks.v1+cell": {
     "cellMetadata": {},
     "inputWidgets": {},
     "nuid": "1e91b758-aabb-4955-b8e8-f14483679edf",
     "showTitle": false,
     "tableResultSettingsMap": {},
     "title": ""
    },
    "id": "L_E-1ssDgqJX"
   },
   "outputs": [],
   "source": [
    "soup = BeautifulSoup(r.text)  # creates an object of the BeautifulSoup class\n",
    "type(soup)"
   ]
  },
  {
   "cell_type": "markdown",
   "metadata": {
    "application/vnd.databricks.v1+cell": {
     "cellMetadata": {},
     "inputWidgets": {},
     "nuid": "e2341c11-df8f-4401-adab-5003a75a0e42",
     "showTitle": false,
     "tableResultSettingsMap": {},
     "title": ""
    },
    "id": "Oscs22IYiKfX"
   },
   "source": [
    "It looks as follows:"
   ]
  },
  {
   "cell_type": "code",
   "execution_count": 0,
   "metadata": {
    "application/vnd.databricks.v1+cell": {
     "cellMetadata": {},
     "inputWidgets": {},
     "nuid": "3ccd6073-68e8-423f-bfb0-8b109fb4a3cd",
     "showTitle": false,
     "tableResultSettingsMap": {},
     "title": ""
    },
    "id": "eQtArBxmiLNl"
   },
   "outputs": [],
   "source": [
    "soup"
   ]
  },
  {
   "cell_type": "markdown",
   "metadata": {
    "application/vnd.databricks.v1+cell": {
     "cellMetadata": {},
     "inputWidgets": {},
     "nuid": "dcda6abd-3e71-4601-8b92-8f2a3a47be3a",
     "showTitle": false,
     "tableResultSettingsMap": {},
     "title": ""
    },
    "id": "diYtBGcSjWex"
   },
   "source": [
    "Another way to print out the content of the object is using the ``prettify()`` method. It allows you to print the HTML code in a way that makes it easier to read; indentation is use to show how the tags are nested within each other:"
   ]
  },
  {
   "cell_type": "code",
   "execution_count": 0,
   "metadata": {
    "application/vnd.databricks.v1+cell": {
     "cellMetadata": {},
     "inputWidgets": {},
     "nuid": "4943e7f3-0f66-45ec-bd55-dbaaccc834b4",
     "showTitle": false,
     "tableResultSettingsMap": {},
     "title": ""
    },
    "id": "VrOhRLf8hTaj"
   },
   "outputs": [],
   "source": [
    "print(soup.prettify())"
   ]
  },
  {
   "cell_type": "markdown",
   "metadata": {
    "application/vnd.databricks.v1+cell": {
     "cellMetadata": {},
     "inputWidgets": {},
     "nuid": "4e900ba5-8ecf-4f77-b42d-89b60929cd91",
     "showTitle": false,
     "tableResultSettingsMap": {},
     "title": ""
    },
    "id": "Xkzstx3Iln14"
   },
   "source": [
    "### Accessing elements with ``find`` and ``find_all``"
   ]
  },
  {
   "cell_type": "markdown",
   "metadata": {
    "application/vnd.databricks.v1+cell": {
     "cellMetadata": {},
     "inputWidgets": {},
     "nuid": "3427b29d-94fb-495b-ba5a-07fd869ece38",
     "showTitle": false,
     "tableResultSettingsMap": {},
     "title": ""
    },
    "id": "WGzoaUSPhSmN"
   },
   "source": [
    "Now, how could we **access different elements** within this \"soup\"? Suppose, we would like to access the ``head`` element. You can do this using the **``find``** method:"
   ]
  },
  {
   "cell_type": "code",
   "execution_count": 0,
   "metadata": {
    "application/vnd.databricks.v1+cell": {
     "cellMetadata": {},
     "inputWidgets": {},
     "nuid": "9f3897b6-4240-415f-9806-4969c5dfe619",
     "showTitle": false,
     "tableResultSettingsMap": {},
     "title": ""
    },
    "id": "r-GAudRRj4TM"
   },
   "outputs": [],
   "source": [
    "soup.find(\"head\")"
   ]
  },
  {
   "cell_type": "markdown",
   "metadata": {
    "application/vnd.databricks.v1+cell": {
     "cellMetadata": {},
     "inputWidgets": {},
     "nuid": "290e9bd2-6bf2-4d96-acb2-3271db2a8752",
     "showTitle": false,
     "tableResultSettingsMap": {},
     "title": ""
    },
    "id": "OYSJDdhf9oZ4"
   },
   "source": [
    "Similarly, we could access the ``title`` element:"
   ]
  },
  {
   "cell_type": "code",
   "execution_count": 0,
   "metadata": {
    "application/vnd.databricks.v1+cell": {
     "cellMetadata": {},
     "inputWidgets": {},
     "nuid": "6e1e1e68-d569-4101-a5ba-090e9fb1b3e7",
     "showTitle": false,
     "tableResultSettingsMap": {},
     "title": ""
    },
    "id": "ziJFFosG9uF3"
   },
   "outputs": [],
   "source": [
    "soup.find(\"title\")"
   ]
  },
  {
   "cell_type": "markdown",
   "metadata": {
    "application/vnd.databricks.v1+cell": {
     "cellMetadata": {},
     "inputWidgets": {},
     "nuid": "1d8e7adb-fecb-46d5-a769-8d2b0ac70aab",
     "showTitle": false,
     "tableResultSettingsMap": {},
     "title": ""
    },
    "id": "Egol9ODq7Ktj"
   },
   "source": [
    "As the ``title`` and the ``head`` elements are stored as an **attribute** of the ``soup`` object, we can also access them like this:"
   ]
  },
  {
   "cell_type": "code",
   "execution_count": 0,
   "metadata": {
    "application/vnd.databricks.v1+cell": {
     "cellMetadata": {},
     "inputWidgets": {},
     "nuid": "00300d99-bff8-483f-9280-e48638f6eba1",
     "showTitle": false,
     "tableResultSettingsMap": {},
     "title": ""
    },
    "id": "NJGDesLS-U48"
   },
   "outputs": [],
   "source": [
    "soup.head"
   ]
  },
  {
   "cell_type": "code",
   "execution_count": 0,
   "metadata": {
    "application/vnd.databricks.v1+cell": {
     "cellMetadata": {},
     "inputWidgets": {},
     "nuid": "2aa02fa1-a3f4-4692-82e8-8db881aa3343",
     "showTitle": false,
     "tableResultSettingsMap": {},
     "title": ""
    },
    "id": "Ng1Qs24H7YoT"
   },
   "outputs": [],
   "source": [
    "soup.title"
   ]
  },
  {
   "cell_type": "markdown",
   "metadata": {
    "application/vnd.databricks.v1+cell": {
     "cellMetadata": {},
     "inputWidgets": {},
     "nuid": "b5bc2415-115c-4e7e-a661-000fa62693cd",
     "showTitle": false,
     "tableResultSettingsMap": {},
     "title": ""
    },
    "id": "E7kgv-F978YR"
   },
   "source": [
    "The return object will be a *BeautifulSoup tag*:"
   ]
  },
  {
   "cell_type": "code",
   "execution_count": 0,
   "metadata": {
    "application/vnd.databricks.v1+cell": {
     "cellMetadata": {},
     "inputWidgets": {},
     "nuid": "f6114e56-0421-439d-abc1-95db4c093ca8",
     "showTitle": false,
     "tableResultSettingsMap": {},
     "title": ""
    },
    "id": "UPQTINzh8e3o"
   },
   "outputs": [],
   "source": [
    "type(soup.head)  # Or: soup.find(\"head\")"
   ]
  },
  {
   "cell_type": "markdown",
   "metadata": {
    "application/vnd.databricks.v1+cell": {
     "cellMetadata": {},
     "inputWidgets": {},
     "nuid": "01ef3c35-55bd-467f-aa63-662969603cc8",
     "showTitle": false,
     "tableResultSettingsMap": {},
     "title": ""
    },
    "id": "emfBYdQx8meg"
   },
   "source": [
    "This means that we can continue to search it. Let's try to get the ``title`` element within the ``head`` element:"
   ]
  },
  {
   "cell_type": "code",
   "execution_count": 0,
   "metadata": {
    "application/vnd.databricks.v1+cell": {
     "cellMetadata": {},
     "inputWidgets": {},
     "nuid": "eb0b2f1e-0911-494d-9f4f-21587f4dc878",
     "showTitle": false,
     "tableResultSettingsMap": {},
     "title": ""
    },
    "id": "jEITlZx_8xyx"
   },
   "outputs": [],
   "source": [
    "soup.head.title # Or: soup.find(\"head\").find(\"title\")"
   ]
  },
  {
   "cell_type": "markdown",
   "metadata": {
    "application/vnd.databricks.v1+cell": {
     "cellMetadata": {},
     "inputWidgets": {},
     "nuid": "364cfa7b-c51c-429e-ab1c-3b2b4ef8ef6e",
     "showTitle": false,
     "tableResultSettingsMap": {},
     "title": ""
    },
    "id": "FbT5CI8R9MzQ"
   },
   "source": [
    "*(Note that in this case, just typing ``soup.title`` returns the same result. However, this will not always be the case as we are now explicitly searching for the title element **within** the head element.)*"
   ]
  },
  {
   "cell_type": "markdown",
   "metadata": {
    "application/vnd.databricks.v1+cell": {
     "cellMetadata": {},
     "inputWidgets": {},
     "nuid": "719be9dc-7f85-47ad-9260-deffc22d1c80",
     "showTitle": false,
     "tableResultSettingsMap": {},
     "title": ""
    },
    "id": "MkVQ2aMpkESu"
   },
   "source": [
    "Let's now try to access a link. Links are within ``a`` tags:"
   ]
  },
  {
   "cell_type": "code",
   "execution_count": 0,
   "metadata": {
    "application/vnd.databricks.v1+cell": {
     "cellMetadata": {},
     "inputWidgets": {},
     "nuid": "ba0bfd32-9ff1-46d6-9309-e85181385845",
     "showTitle": false,
     "tableResultSettingsMap": {},
     "title": ""
    },
    "id": "Mt9izO8gk8Z0"
   },
   "outputs": [],
   "source": [
    "soup.find(\"a\")"
   ]
  },
  {
   "cell_type": "markdown",
   "metadata": {
    "application/vnd.databricks.v1+cell": {
     "cellMetadata": {},
     "inputWidgets": {},
     "nuid": "0480311f-7e82-4f29-a3ee-572da4bc41a4",
     "showTitle": false,
     "tableResultSettingsMap": {},
     "title": ""
    },
    "id": "JX8GOrL2laXC"
   },
   "source": [
    "But wait, there are several links on the website! Why did we get only one? The **``find`` method always returns the first element** that matches the search criteria. If we would like to get **all the matching elements, we can use the ``find_all`` method**:"
   ]
  },
  {
   "cell_type": "code",
   "execution_count": 0,
   "metadata": {
    "application/vnd.databricks.v1+cell": {
     "cellMetadata": {},
     "inputWidgets": {},
     "nuid": "984f4523-1e50-4a87-86b4-629aacb0a32d",
     "showTitle": false,
     "tableResultSettingsMap": {},
     "title": ""
    },
    "id": "OSNpCnzAmjRt"
   },
   "outputs": [],
   "source": [
    "soup.find_all(\"a\")"
   ]
  },
  {
   "cell_type": "markdown",
   "metadata": {
    "application/vnd.databricks.v1+cell": {
     "cellMetadata": {},
     "inputWidgets": {},
     "nuid": "71e5a324-2e0d-44fd-85f2-c71182c55542",
     "showTitle": false,
     "tableResultSettingsMap": {},
     "title": ""
    },
    "id": "oW1ffIUlieI5"
   },
   "source": [
    "Now all instances of the `a` tag are returned in a list."
   ]
  },
  {
   "cell_type": "markdown",
   "metadata": {
    "application/vnd.databricks.v1+cell": {
     "cellMetadata": {},
     "inputWidgets": {},
     "nuid": "7244849d-bff6-47a9-9d61-a13b8a7c0b80",
     "showTitle": false,
     "tableResultSettingsMap": {},
     "title": ""
    },
    "id": "uTCleoy-sVYH"
   },
   "source": [
    "><font color = 4e1585> SIDENOTE: Because ``find_all`` is such a commonly used method, there is a shortcut for it. For example, instead of writing ``soup.find_all(\"a\")``, you could also just write ``soup(\"a\")``."
   ]
  },
  {
   "cell_type": "markdown",
   "metadata": {
    "application/vnd.databricks.v1+cell": {
     "cellMetadata": {},
     "inputWidgets": {},
     "nuid": "c2986a45-8584-4075-aa3d-56fa31112fe1",
     "showTitle": false,
     "tableResultSettingsMap": {},
     "title": ""
    },
    "id": "IPS1X88roLN_"
   },
   "source": [
    "We can also **refine our search by specifying arguments**. For example, we can use the **attrs** parameter to search tags based on HTML attributes (see section on HTML). Let's fetch the table with the id \"famous_cats_table\" and the class \"cat_table\":"
   ]
  },
  {
   "cell_type": "code",
   "execution_count": 0,
   "metadata": {
    "application/vnd.databricks.v1+cell": {
     "cellMetadata": {},
     "inputWidgets": {},
     "nuid": "c8e5b1f1-7fed-4c9b-8584-0d68fcc0ed95",
     "showTitle": false,
     "tableResultSettingsMap": {},
     "title": ""
    },
    "id": "8c3fWyyQov8J"
   },
   "outputs": [],
   "source": [
    "soup.find_all(\"table\", attrs={\"id\": \"famous_cats_table\", \"class\": \"cat_table\"})"
   ]
  },
  {
   "cell_type": "markdown",
   "metadata": {
    "application/vnd.databricks.v1+cell": {
     "cellMetadata": {},
     "inputWidgets": {},
     "nuid": "5fc87108-ccb2-4661-81dc-1224ea261d34",
     "showTitle": false,
     "tableResultSettingsMap": {},
     "title": ""
    },
    "id": "HyGS7VbpA13I"
   },
   "source": [
    "Most HTML attributes can also be addressed directly by using the name of the attribute as the argument key in ``find_all()``:\n"
   ]
  },
  {
   "cell_type": "code",
   "execution_count": 0,
   "metadata": {
    "application/vnd.databricks.v1+cell": {
     "cellMetadata": {},
     "inputWidgets": {},
     "nuid": "0958a3d6-f370-4edc-957d-c5e19884e168",
     "showTitle": false,
     "tableResultSettingsMap": {},
     "title": ""
    },
    "id": "rG79Eo138Sxu"
   },
   "outputs": [],
   "source": [
    "soup.find_all(\"table\", id=\"famous_cats_table\", class_=\"cat_table\")\n",
    "# Note that you need to write class_, not class (class is a reserved keyword)!"
   ]
  },
  {
   "cell_type": "markdown",
   "metadata": {
    "application/vnd.databricks.v1+cell": {
     "cellMetadata": {},
     "inputWidgets": {},
     "nuid": "e7a0d666-e230-46c5-9fe6-5ed0762a36ef",
     "showTitle": false,
     "tableResultSettingsMap": {},
     "title": ""
    },
    "id": "_nrgH223lPnQ"
   },
   "source": [
    "### Extracting text and attribute values of an element"
   ]
  },
  {
   "cell_type": "markdown",
   "metadata": {
    "application/vnd.databricks.v1+cell": {
     "cellMetadata": {},
     "inputWidgets": {},
     "nuid": "ca4b36df-1ccb-4920-b192-7d2733e90e5c",
     "showTitle": false,
     "tableResultSettingsMap": {},
     "title": ""
    },
    "id": "rbjmTdEHj9Y1"
   },
   "source": [
    "So far, so good – but the outputs we got so far are not completely satisfactory. They still have a lot of HTML markup around them that we do not want. How can we get rid of it? We can use the **``get_text`` method** to get only the text of a tag:"
   ]
  },
  {
   "cell_type": "code",
   "execution_count": 0,
   "metadata": {
    "application/vnd.databricks.v1+cell": {
     "cellMetadata": {},
     "inputWidgets": {},
     "nuid": "63ed6c82-7ec8-405a-869b-b232d2fcdaf2",
     "showTitle": false,
     "tableResultSettingsMap": {},
     "title": ""
    },
    "id": "bAfIQEkBp7by"
   },
   "outputs": [],
   "source": [
    "soup.find(\"title\").get_text()  #or using attribute notation: soup.title.text"
   ]
  },
  {
   "cell_type": "markdown",
   "metadata": {
    "application/vnd.databricks.v1+cell": {
     "cellMetadata": {},
     "inputWidgets": {},
     "nuid": "cb9d5c38-259e-4ba3-8d0b-a1e9a4496152",
     "showTitle": false,
     "tableResultSettingsMap": {},
     "title": ""
    },
    "id": "rV4-W7DkqYfv"
   },
   "source": [
    "Let's try the same for the first URL:"
   ]
  },
  {
   "cell_type": "code",
   "execution_count": 0,
   "metadata": {
    "application/vnd.databricks.v1+cell": {
     "cellMetadata": {},
     "inputWidgets": {},
     "nuid": "05c2b45f-b74c-43f3-90cd-c16a6ed020cd",
     "showTitle": false,
     "tableResultSettingsMap": {},
     "title": ""
    },
    "id": "x_yQFF7IqkY3"
   },
   "outputs": [],
   "source": [
    "link = soup.find(\"a\")\n",
    "print(link)"
   ]
  },
  {
   "cell_type": "code",
   "execution_count": 0,
   "metadata": {
    "application/vnd.databricks.v1+cell": {
     "cellMetadata": {},
     "inputWidgets": {},
     "nuid": "ff711cff-0c7a-4136-8ddb-822a7c1fc6ee",
     "showTitle": false,
     "tableResultSettingsMap": {},
     "title": ""
    },
    "id": "zMmQvsMsqOCA"
   },
   "outputs": [],
   "source": [
    "link.get_text()"
   ]
  },
  {
   "cell_type": "markdown",
   "metadata": {
    "application/vnd.databricks.v1+cell": {
     "cellMetadata": {},
     "inputWidgets": {},
     "nuid": "544b4ca0-fab8-45ef-b35e-560817cce9d1",
     "showTitle": false,
     "tableResultSettingsMap": {},
     "title": ""
    },
    "id": "_YbzjhS3qeD4"
   },
   "source": [
    "That's not quite what we wanted. How can we access the URL?\n",
    "\n",
    "As you may have noticed, the URL is part of the **HTML attributes of the ``a`` tag** (see section on HTML). In ``BeautifulSoup``, these attributes can be **treated like a dictionary**. In our case, we have two key:value pairs: the ``href`` key with a value of ``\"https://bongo.cat/\"`` and the ``target`` key with a value of ``\"_blank\"``. To get the URL, you can thus simply type:"
   ]
  },
  {
   "cell_type": "code",
   "execution_count": 0,
   "metadata": {
    "application/vnd.databricks.v1+cell": {
     "cellMetadata": {},
     "inputWidgets": {},
     "nuid": "874da5df-2261-4f4a-b4c7-371ebf879a5e",
     "showTitle": false,
     "tableResultSettingsMap": {},
     "title": ""
    },
    "id": "cKoczi0gqy4N"
   },
   "outputs": [],
   "source": [
    "link[\"href\"]"
   ]
  },
  {
   "cell_type": "markdown",
   "metadata": {
    "application/vnd.databricks.v1+cell": {
     "cellMetadata": {},
     "inputWidgets": {},
     "nuid": "9a0d5813-4eb6-4436-85dd-d4c96aea8df5",
     "showTitle": false,
     "tableResultSettingsMap": {},
     "title": ""
    },
    "id": "Qb1N-AcVEdrH"
   },
   "source": [
    "So what if we wanted to get all the URLs in the document. Let's try:"
   ]
  },
  {
   "cell_type": "code",
   "execution_count": 0,
   "metadata": {
    "application/vnd.databricks.v1+cell": {
     "cellMetadata": {},
     "inputWidgets": {},
     "nuid": "ab51e2e7-918c-4cb5-a4d8-ac3375940fb9",
     "showTitle": false,
     "tableResultSettingsMap": {},
     "title": ""
    },
    "id": "RaRL09nVEsId"
   },
   "outputs": [],
   "source": [
    "links = soup.find_all(\"a\")\n",
    "type(links)"
   ]
  },
  {
   "cell_type": "code",
   "execution_count": 0,
   "metadata": {
    "application/vnd.databricks.v1+cell": {
     "cellMetadata": {},
     "inputWidgets": {},
     "nuid": "79852d08-f6f5-4068-b5de-519a339d9111",
     "showTitle": false,
     "tableResultSettingsMap": {},
     "title": ""
    },
    "id": "5Q5zGjJrhCOt"
   },
   "outputs": [],
   "source": [
    "links"
   ]
  },
  {
   "cell_type": "code",
   "execution_count": 0,
   "metadata": {
    "application/vnd.databricks.v1+cell": {
     "cellMetadata": {},
     "inputWidgets": {},
     "nuid": "9c438b59-0f94-4bd8-82be-322331c24526",
     "showTitle": false,
     "tableResultSettingsMap": {},
     "title": ""
    },
    "id": "WW3pW0vIFBB7"
   },
   "outputs": [],
   "source": [
    "#links[\"href\"] # this will return an error!"
   ]
  },
  {
   "cell_type": "markdown",
   "metadata": {
    "application/vnd.databricks.v1+cell": {
     "cellMetadata": {},
     "inputWidgets": {},
     "nuid": "abaa4c9d-7d9f-4c26-82b1-9462e47cd4ec",
     "showTitle": false,
     "tableResultSettingsMap": {},
     "title": ""
    },
    "id": "fh2y8644FI3L"
   },
   "source": [
    "Why did't this work? Our ``links`` variable does not contain a single element, but a **BeautifulSoup ``ResultSet`` containing several elements**. The set can be treated like a list. For example, you could extract the link for the first element in the ``ResultSet`` like this:"
   ]
  },
  {
   "cell_type": "code",
   "execution_count": 0,
   "metadata": {
    "application/vnd.databricks.v1+cell": {
     "cellMetadata": {},
     "inputWidgets": {},
     "nuid": "034db2f4-7b56-42e3-b951-8d77d7dc14f2",
     "showTitle": false,
     "tableResultSettingsMap": {},
     "title": ""
    },
    "id": "TSp1wmACHdY5"
   },
   "outputs": [],
   "source": [
    "links[0][\"href\"]"
   ]
  },
  {
   "cell_type": "markdown",
   "metadata": {
    "application/vnd.databricks.v1+cell": {
     "cellMetadata": {},
     "inputWidgets": {},
     "nuid": "a4b14d6b-cbca-42cb-902c-3f284bae7a87",
     "showTitle": false,
     "tableResultSettingsMap": {},
     "title": ""
    },
    "id": "L76aFsvBHchp"
   },
   "source": [
    "If you want to extract the link for all the elements, you can write a **loop or a list comprehension**:"
   ]
  },
  {
   "cell_type": "code",
   "execution_count": 0,
   "metadata": {
    "application/vnd.databricks.v1+cell": {
     "cellMetadata": {},
     "inputWidgets": {},
     "nuid": "cbfeca8f-88c7-4f20-ba17-e4906021ce14",
     "showTitle": false,
     "tableResultSettingsMap": {},
     "title": ""
    },
    "id": "vYDYBjuyFz7W"
   },
   "outputs": [],
   "source": [
    "# Loop to print all the URLs\n",
    "for tag in links:\n",
    "  print(tag[\"href\"])"
   ]
  },
  {
   "cell_type": "code",
   "execution_count": 0,
   "metadata": {
    "application/vnd.databricks.v1+cell": {
     "cellMetadata": {},
     "inputWidgets": {},
     "nuid": "071bab6f-9f90-43f7-882a-2fef12d3d6d4",
     "showTitle": false,
     "tableResultSettingsMap": {},
     "title": ""
    },
    "id": "iNiC1X_UGGQX"
   },
   "outputs": [],
   "source": [
    "# Better: List comprehension to write all the URLs into a list\n",
    "L = [tag[\"href\"] for tag in links]\n",
    "L"
   ]
  },
  {
   "cell_type": "markdown",
   "metadata": {
    "application/vnd.databricks.v1+cell": {
     "cellMetadata": {},
     "inputWidgets": {},
     "nuid": "32524e21-059e-4284-8dde-848e8e12b52a",
     "showTitle": false,
     "tableResultSettingsMap": {},
     "title": ""
    },
    "id": "H2MySC5fIDmJ"
   },
   "source": [
    "### Accessing elements with ``select``/CSS selectors*"
   ]
  },
  {
   "cell_type": "markdown",
   "metadata": {
    "application/vnd.databricks.v1+cell": {
     "cellMetadata": {},
     "inputWidgets": {},
     "nuid": "6eb94f5e-ae98-45c4-8995-9e5cf29a28e1",
     "showTitle": false,
     "tableResultSettingsMap": {},
     "title": ""
    },
    "id": "1VE7pSSKO0Ms"
   },
   "source": [
    "<font color='gray'>This section is for self-study and will not be discussed in class.\n",
    "\n",
    "The ``BeautifulSoup`` library also features the ``select()`` method that allows you to select elements in a more sophisticated way: through so-called **CSS selectors**. CSS selectors are patterns that are used in CSS to select the elements (within the HTML file) you want to style (see here for an overview: https://www.w3schools.com/cssref/css_selectors.asp). You can use these selectors to extract elements through BeautifulSoup's ``select`` method.\n",
    "\n",
    "The ``select`` method may be a bit harder to learn, but it is very flexible and powerful. Let's look at some examples so you get a feeling of what is possible:"
   ]
  },
  {
   "cell_type": "code",
   "execution_count": 0,
   "metadata": {
    "application/vnd.databricks.v1+cell": {
     "cellMetadata": {},
     "inputWidgets": {},
     "nuid": "1e667027-500f-4866-8a04-bc09dbe35d4a",
     "showTitle": false,
     "tableResultSettingsMap": {},
     "title": ""
    },
    "id": "iBHyURM0R7bV"
   },
   "outputs": [],
   "source": [
    "soup.select(\"body h2\") # Select all h2 tags within the body tag"
   ]
  },
  {
   "cell_type": "code",
   "execution_count": 0,
   "metadata": {
    "application/vnd.databricks.v1+cell": {
     "cellMetadata": {},
     "inputWidgets": {},
     "nuid": "11e4d15f-8dce-447c-a220-b1d0f6f1d6d1",
     "showTitle": false,
     "tableResultSettingsMap": {},
     "title": ""
    },
    "id": "vd5KZoy0SCLD"
   },
   "outputs": [],
   "source": [
    "soup.select(\"body table td\") # Select all td tags within a table tag within a body tag"
   ]
  },
  {
   "cell_type": "code",
   "execution_count": 0,
   "metadata": {
    "application/vnd.databricks.v1+cell": {
     "cellMetadata": {},
     "inputWidgets": {},
     "nuid": "55eead3a-f1c6-4393-965b-3be258e05e34",
     "showTitle": false,
     "tableResultSettingsMap": {},
     "title": ""
    },
    "id": "zxTSvgdPSg24"
   },
   "outputs": [],
   "source": [
    "soup.select(\"tbody > tr\") # Select all tr tags where the parent is a tbody tag"
   ]
  },
  {
   "cell_type": "code",
   "execution_count": 0,
   "metadata": {
    "application/vnd.databricks.v1+cell": {
     "cellMetadata": {},
     "inputWidgets": {},
     "nuid": "4ab4495d-b9e4-4a48-8ffd-7dc687a66ed6",
     "showTitle": false,
     "tableResultSettingsMap": {},
     "title": ""
    },
    "id": "DzlZSUGsUzlN"
   },
   "outputs": [],
   "source": [
    "soup.select(\"h2 ~ p\") # Select all  p tags that are preceded by a h2 tag"
   ]
  },
  {
   "cell_type": "code",
   "execution_count": 0,
   "metadata": {
    "application/vnd.databricks.v1+cell": {
     "cellMetadata": {},
     "inputWidgets": {},
     "nuid": "1b5b37da-6865-4d20-98fc-f0116ab17e5a",
     "showTitle": false,
     "tableResultSettingsMap": {},
     "title": ""
    },
    "id": "ZsNMpEvNSNkQ"
   },
   "outputs": [],
   "source": [
    "soup.select(\"#famous_cats_table\") # Select the tag with the id \"famous_cats_table\""
   ]
  },
  {
   "cell_type": "code",
   "execution_count": 0,
   "metadata": {
    "application/vnd.databricks.v1+cell": {
     "cellMetadata": {},
     "inputWidgets": {},
     "nuid": "d1322773-902b-4bd9-b492-3f60357533f9",
     "showTitle": false,
     "tableResultSettingsMap": {},
     "title": ""
    },
    "id": "MmMHP2IWTLFE"
   },
   "outputs": [],
   "source": [
    "soup.select(\".cat_table\") # Select the tag with the class \"cat_table\""
   ]
  },
  {
   "cell_type": "markdown",
   "metadata": {
    "application/vnd.databricks.v1+cell": {
     "cellMetadata": {},
     "inputWidgets": {},
     "nuid": "c6a0a650-05d9-44c9-9764-b54dede15415",
     "showTitle": false,
     "tableResultSettingsMap": {},
     "title": ""
    },
    "id": "begb8nsFWPh6"
   },
   "source": [
    "For the documentation on the ``select`` method, see here: https://beautiful-soup-4.readthedocs.io/en/latest/index.html#css-selectors"
   ]
  },
  {
   "cell_type": "markdown",
   "metadata": {
    "application/vnd.databricks.v1+cell": {
     "cellMetadata": {},
     "inputWidgets": {},
     "nuid": "2e5c5b18-d3d1-47a7-805f-5460bc250918",
     "showTitle": false,
     "tableResultSettingsMap": {},
     "title": ""
    },
    "id": "FrnCHAGJK1t-"
   },
   "source": [
    "To know how to specify the selection criteria, it can be useful to first explore the nested structure of the code. There are many useful functions that allow you to **navigate through the \"family tree\" of HTML elements**."
   ]
  },
  {
   "cell_type": "code",
   "execution_count": 0,
   "metadata": {
    "application/vnd.databricks.v1+cell": {
     "cellMetadata": {},
     "inputWidgets": {},
     "nuid": "1186d13a-6311-4b26-ba78-af36aec16532",
     "showTitle": false,
     "tableResultSettingsMap": {},
     "title": ""
    },
    "id": "gUu4vexYLWYy"
   },
   "outputs": [],
   "source": [
    "list(soup.head.children) # Get all children of the head tag"
   ]
  },
  {
   "cell_type": "code",
   "execution_count": 0,
   "metadata": {
    "application/vnd.databricks.v1+cell": {
     "cellMetadata": {},
     "inputWidgets": {},
     "nuid": "1dcdc850-758d-41d5-86bc-90ffc5a96f26",
     "showTitle": false,
     "tableResultSettingsMap": {},
     "title": ""
    },
    "id": "ienlgiQIIivY"
   },
   "outputs": [],
   "source": [
    "soup.title.parent # Get the (direct) parent of the title tag"
   ]
  },
  {
   "cell_type": "code",
   "execution_count": 0,
   "metadata": {
    "application/vnd.databricks.v1+cell": {
     "cellMetadata": {},
     "inputWidgets": {},
     "nuid": "7d6861a0-a9c2-44e4-a3d3-3c9e861cb26e",
     "showTitle": false,
     "tableResultSettingsMap": {},
     "title": ""
    },
    "id": "u5FziJZ1LuJq"
   },
   "outputs": [],
   "source": [
    "list(soup.title.next_siblings) # Get all siblings that come after the title tag"
   ]
  },
  {
   "cell_type": "code",
   "execution_count": 0,
   "metadata": {
    "application/vnd.databricks.v1+cell": {
     "cellMetadata": {},
     "inputWidgets": {},
     "nuid": "ef67f7a7-2929-4747-bfa1-b29b8c7f0568",
     "showTitle": false,
     "tableResultSettingsMap": {},
     "title": ""
    },
    "id": "CQQIlKBPLivl"
   },
   "outputs": [],
   "source": [
    "# and many more"
   ]
  },
  {
   "cell_type": "markdown",
   "metadata": {
    "application/vnd.databricks.v1+cell": {
     "cellMetadata": {},
     "inputWidgets": {},
     "nuid": "2c9d0c47-6f68-4100-b126-a08b755a76e9",
     "showTitle": false,
     "tableResultSettingsMap": {},
     "title": ""
    },
    "id": "j2mB0tC5WLfU"
   },
   "source": [
    "---\n",
    "###**<font color='teal'>In-class exercise**\n",
    ">  <font color='teal'>\n",
    "We will continue to work with the response object from the example page:"
   ]
  },
  {
   "cell_type": "code",
   "execution_count": 0,
   "metadata": {
    "application/vnd.databricks.v1+cell": {
     "cellMetadata": {},
     "inputWidgets": {},
     "nuid": "935c6f5d-60e3-4be1-8ef2-8a50e17538ce",
     "showTitle": false,
     "tableResultSettingsMap": {},
     "title": ""
    },
    "id": "Y3YNthf2NXqI"
   },
   "outputs": [],
   "source": []
  },
  {
   "cell_type": "markdown",
   "metadata": {
    "application/vnd.databricks.v1+cell": {
     "cellMetadata": {},
     "inputWidgets": {},
     "nuid": "6c4c609a-a115-4162-b618-e177f3b38ea1",
     "showTitle": false,
     "tableResultSettingsMap": {},
     "title": ""
    },
    "id": "5Fasd-znZc37"
   },
   "source": [
    ">  <font color='teal'> Convert the response into a BeautifulSoup object called ``cats_soup``."
   ]
  },
  {
   "cell_type": "code",
   "execution_count": 0,
   "metadata": {
    "application/vnd.databricks.v1+cell": {
     "cellMetadata": {},
     "inputWidgets": {},
     "nuid": "e2499d56-b280-44ef-9050-5d8b41dacb03",
     "showTitle": false,
     "tableResultSettingsMap": {},
     "title": ""
    },
    "id": "N60UmfWyZual"
   },
   "outputs": [],
   "source": []
  },
  {
   "cell_type": "markdown",
   "metadata": {
    "application/vnd.databricks.v1+cell": {
     "cellMetadata": {},
     "inputWidgets": {},
     "nuid": "3daf1b42-f182-474a-8c2c-e72fe3c752ca",
     "showTitle": false,
     "tableResultSettingsMap": {},
     "title": ""
    },
    "id": "JYYARh1SZpjK"
   },
   "source": [
    ">  <font color='teal'> Now try to extract the following:\n",
    "* The ``h1`` element\n",
    "* The second ``h2`` element\n",
    "* The text of the ``h1`` element\n",
    "* All elements of the ``class`` \"cat_table\""
   ]
  },
  {
   "cell_type": "code",
   "execution_count": 0,
   "metadata": {
    "application/vnd.databricks.v1+cell": {
     "cellMetadata": {},
     "inputWidgets": {},
     "nuid": "00008d85-8e52-440a-bc66-98067a6d10ea",
     "showTitle": false,
     "tableResultSettingsMap": {},
     "title": ""
    },
    "id": "atZlOWd3cO8R"
   },
   "outputs": [],
   "source": [
    "# h1\n"
   ]
  },
  {
   "cell_type": "code",
   "execution_count": 0,
   "metadata": {
    "application/vnd.databricks.v1+cell": {
     "cellMetadata": {},
     "inputWidgets": {},
     "nuid": "bdb5542c-f99d-4dd6-8efb-ac9d8f33c478",
     "showTitle": false,
     "tableResultSettingsMap": {},
     "title": ""
    },
    "id": "ChnBGn43cOZU"
   },
   "outputs": [],
   "source": [
    "# second h2\n"
   ]
  },
  {
   "cell_type": "code",
   "execution_count": 0,
   "metadata": {
    "application/vnd.databricks.v1+cell": {
     "cellMetadata": {},
     "inputWidgets": {},
     "nuid": "fefc170e-d55d-4483-8cf2-ab5a76ef1718",
     "showTitle": false,
     "tableResultSettingsMap": {},
     "title": ""
    },
    "id": "_ZsuDAGWcOzK"
   },
   "outputs": [],
   "source": [
    "# text of h1\n"
   ]
  },
  {
   "cell_type": "code",
   "execution_count": 0,
   "metadata": {
    "application/vnd.databricks.v1+cell": {
     "cellMetadata": {},
     "inputWidgets": {},
     "nuid": "75f7faba-1910-4e07-9554-b54a18862742",
     "showTitle": false,
     "tableResultSettingsMap": {},
     "title": ""
    },
    "id": "-4s4XPULcOoU"
   },
   "outputs": [],
   "source": [
    "# all cat tables\n"
   ]
  },
  {
   "cell_type": "markdown",
   "metadata": {
    "application/vnd.databricks.v1+cell": {
     "cellMetadata": {},
     "inputWidgets": {},
     "nuid": "1a0154c5-de18-468a-8000-d4d4d92c69d8",
     "showTitle": false,
     "tableResultSettingsMap": {},
     "title": ""
    },
    "id": "WUEJZTQ4WQ3N"
   },
   "source": [
    "\n",
    "\n",
    "---\n",
    "\n"
   ]
  },
  {
   "cell_type": "markdown",
   "metadata": {
    "application/vnd.databricks.v1+cell": {
     "cellMetadata": {},
     "inputWidgets": {},
     "nuid": "6721d836-c4ee-4c1e-9cb8-a153351657a0",
     "showTitle": false,
     "tableResultSettingsMap": {},
     "title": ""
    },
    "id": "-fUey_e7uoH1"
   },
   "source": [
    "## Extracting HTML tables with Pandas*"
   ]
  },
  {
   "cell_type": "markdown",
   "metadata": {
    "application/vnd.databricks.v1+cell": {
     "cellMetadata": {},
     "inputWidgets": {},
     "nuid": "a0516fdd-9b40-428f-829c-c41b0e1b868f",
     "showTitle": false,
     "tableResultSettingsMap": {},
     "title": ""
    },
    "id": "ovF4uyWeZNsg"
   },
   "source": [
    "<font color='gray'>This section is for self-study and will not be discussed in class.\n",
    "\n",
    "Now suppose you would like to extract a table from a webpage and write it to a Pandas dataframe so that you can continue to work with it. The table element of the example page looks like this:"
   ]
  },
  {
   "cell_type": "code",
   "execution_count": 0,
   "metadata": {
    "application/vnd.databricks.v1+cell": {
     "cellMetadata": {},
     "inputWidgets": {},
     "nuid": "71504381-aa5f-4714-8bbc-e1a9f2be86f6",
     "showTitle": false,
     "tableResultSettingsMap": {},
     "title": ""
    },
    "id": "hf3uYv5fY_lA"
   },
   "outputs": [],
   "source": [
    "soup.find(\"table\")"
   ]
  },
  {
   "cell_type": "markdown",
   "metadata": {
    "application/vnd.databricks.v1+cell": {
     "cellMetadata": {},
     "inputWidgets": {},
     "nuid": "5f4c27b5-5443-4b47-9a42-b4dd1ebdbba9",
     "showTitle": false,
     "tableResultSettingsMap": {},
     "title": ""
    },
    "id": "uK2aZwnjYxWi"
   },
   "source": [
    "Of course, you could continue to use BeautifulSoup and write a complicated loop to convert this HTML code into a Pandas dataframe.\n",
    "\n",
    "Luckily, there is an easier solution: Pandas provides the read_html function that does this automatically for you! You only need to provide the URL and it will fetch you all the tables and return them as a list of Pandas dataframes (https://pandas.pydata.org/docs/reference/api/pandas.read_html.html):"
   ]
  },
  {
   "cell_type": "code",
   "execution_count": 0,
   "metadata": {
    "application/vnd.databricks.v1+cell": {
     "cellMetadata": {},
     "inputWidgets": {},
     "nuid": "08a9e9af-7be4-4962-b9ec-18d83872f7f2",
     "showTitle": false,
     "tableResultSettingsMap": {},
     "title": ""
    },
    "id": "IEejHOxbcibN"
   },
   "outputs": [],
   "source": [
    "import pandas as pd"
   ]
  },
  {
   "cell_type": "code",
   "execution_count": 0,
   "metadata": {
    "application/vnd.databricks.v1+cell": {
     "cellMetadata": {},
     "inputWidgets": {},
     "nuid": "1b9ae879-9ac0-49ec-9096-20924094cc22",
     "showTitle": false,
     "tableResultSettingsMap": {},
     "title": ""
    },
    "id": "Fpl4mOkgYwsD"
   },
   "outputs": [],
   "source": [
    "tables_list = pd.read_html(\"http://farys.org/daten/example-page.html\") # request tables from example page\n",
    "type(tables_list) # return object is a list"
   ]
  },
  {
   "cell_type": "code",
   "execution_count": 0,
   "metadata": {
    "application/vnd.databricks.v1+cell": {
     "cellMetadata": {},
     "inputWidgets": {},
     "nuid": "ece0ee31-7d25-4d6c-8e0f-2b08e317cf8b",
     "showTitle": false,
     "tableResultSettingsMap": {},
     "title": ""
    },
    "id": "oHTSx66aeKco"
   },
   "outputs": [],
   "source": [
    "len(tables_list) # one list element for each table on the page"
   ]
  },
  {
   "cell_type": "markdown",
   "metadata": {
    "application/vnd.databricks.v1+cell": {
     "cellMetadata": {},
     "inputWidgets": {},
     "nuid": "beb95518-823c-44ce-ae9b-a7b53b1260e3",
     "showTitle": false,
     "tableResultSettingsMap": {},
     "title": ""
    },
    "id": "3EmHTBfkdIjU"
   },
   "source": [
    "As there is only one table on our example page, our return object will be a list with one element. Let's fetch the first (and only) element in this list:"
   ]
  },
  {
   "cell_type": "code",
   "execution_count": 0,
   "metadata": {
    "application/vnd.databricks.v1+cell": {
     "cellMetadata": {},
     "inputWidgets": {},
     "nuid": "32ebd8f2-ad1e-41f1-bac7-5f537fe04109",
     "showTitle": false,
     "tableResultSettingsMap": {},
     "title": ""
    },
    "id": "bEiuhqLPdg2R"
   },
   "outputs": [],
   "source": [
    "cat_table = tables_list[0] # access first element\n",
    "cat_table"
   ]
  },
  {
   "cell_type": "code",
   "execution_count": 0,
   "metadata": {
    "application/vnd.databricks.v1+cell": {
     "cellMetadata": {},
     "inputWidgets": {},
     "nuid": "ea844cca-9b02-4b6a-80de-943865bd60a8",
     "showTitle": false,
     "tableResultSettingsMap": {},
     "title": ""
    },
    "id": "W4i5pkLFds06"
   },
   "outputs": [],
   "source": [
    "type(cat_table) # Pandas dataframe representing the table from the website"
   ]
  },
  {
   "cell_type": "markdown",
   "metadata": {
    "application/vnd.databricks.v1+cell": {
     "cellMetadata": {},
     "inputWidgets": {},
     "nuid": "7e7d8c14-9160-4ca8-a005-426cee6cb6cc",
     "showTitle": false,
     "tableResultSettingsMap": {},
     "title": ""
    },
    "id": "sn2qPHZEfJF3"
   },
   "source": [
    "><font color = 4e1585> SIDENOTE: As you have seen, the read_html can fetch the tables from a website and return them as Pandas dataframes. Moreover, it can also be directly applied to a HTML string."
   ]
  },
  {
   "cell_type": "markdown",
   "metadata": {
    "application/vnd.databricks.v1+cell": {
     "cellMetadata": {},
     "inputWidgets": {},
     "nuid": "66860034-b73b-4b99-a1b2-2f7d914a0509",
     "showTitle": false,
     "tableResultSettingsMap": {},
     "title": ""
    },
    "id": "IRgZ9Cn7w-GW"
   },
   "source": [
    "## Web scraping in practice"
   ]
  },
  {
   "cell_type": "markdown",
   "metadata": {
    "application/vnd.databricks.v1+cell": {
     "cellMetadata": {},
     "inputWidgets": {},
     "nuid": "d5f2aee4-640d-45d2-9b67-26b0f3570e7a",
     "showTitle": false,
     "tableResultSettingsMap": {},
     "title": ""
    },
    "id": "7zIWvxY4se5r"
   },
   "source": [
    "### Scraping many pages at once"
   ]
  },
  {
   "cell_type": "markdown",
   "metadata": {
    "application/vnd.databricks.v1+cell": {
     "cellMetadata": {},
     "inputWidgets": {},
     "nuid": "d8194c0a-1024-4054-b8e5-2b550cecb79f",
     "showTitle": false,
     "tableResultSettingsMap": {},
     "title": ""
    },
    "id": "GaLgPZPUxDUW"
   },
   "source": [
    "Retrieving information from a single page through web scraping is often not very useful – you might as well just go to the page and copy the content you need. The power of web scraping starts when we **retrieve many pages automatically**. How could we do this?\n",
    "\n",
    "The answer to this question depends on your project:\n",
    "\n",
    "1. In some cases, you have a pre-defined list of URLs you would like to scrape. You could then loop through all of them to fetch all the pages and retrieve the contents you are interested in.\n",
    "\n",
    "2. If you are scraping many pages of the same domain you can try to figure out the structure of the different URLs you want to fetch. You can then write a loop to generate all the strings of these URLs and fetch the respective pages. An example would be a website where pages are available for every day, e.g.: example.org/data/2000-01-01, ... ,example.org/data/2023-08-24. In this example you would need to figure out the earliest and latest dates.\n",
    "\n",
    "3. In some cases, you can start on one page, retrieve the URLs you find on this page, then request the respective pages and retrieve the URLs on them ... and so on. This is called **web crawling** *(think of the example in the introduction where we started with a domain name and wanted to retrieve a certain number of pages)*.\n",
    "\n",
    "Let's take the list of URLs we had on our cat example page to build a very simple web scraper:\n",
    "\n"
   ]
  },
  {
   "cell_type": "code",
   "execution_count": 0,
   "metadata": {
    "application/vnd.databricks.v1+cell": {
     "cellMetadata": {},
     "inputWidgets": {},
     "nuid": "967e3ea0-8257-4100-b9f2-97e3480868cf",
     "showTitle": false,
     "tableResultSettingsMap": {},
     "title": ""
    },
    "id": "2EzDLQ-n7FNu"
   },
   "outputs": [],
   "source": [
    "# Get list of links to cat pages\n",
    "wiki_links = soup.table.find_all(\"a\")\n",
    "wiki_links = [link[\"href\"] for link in wiki_links]\n",
    "wiki_links"
   ]
  },
  {
   "cell_type": "markdown",
   "metadata": {
    "application/vnd.databricks.v1+cell": {
     "cellMetadata": {},
     "inputWidgets": {},
     "nuid": "7234fb7d-03bf-4600-8062-c9e3b004a6fd",
     "showTitle": false,
     "tableResultSettingsMap": {},
     "title": ""
    },
    "id": "rhUqJ1llZAII"
   },
   "source": [
    "Suppose you would like to fetch the page title and the number of outgoing links from each of these pages. Let us write a loop that does this:"
   ]
  },
  {
   "cell_type": "code",
   "execution_count": 0,
   "metadata": {
    "application/vnd.databricks.v1+cell": {
     "cellMetadata": {},
     "inputWidgets": {},
     "nuid": "32c25217-7322-4cc7-b93a-25d82919edb3",
     "showTitle": false,
     "tableResultSettingsMap": {},
     "title": ""
    },
    "id": "3fSDc6v0ZVow"
   },
   "outputs": [],
   "source": [
    "# Write simple web scraper\n",
    "L = []\n",
    "\n",
    "for link in wiki_links:\n",
    "  resp = requests.get(link).text\n",
    "  s = BeautifulSoup(resp)\n",
    "\n",
    "  title = s.title.get_text()\n",
    "  nr_links = len(s.find_all(\"a\"))\n",
    "\n",
    "  L.append([title, nr_links])\n",
    "\n",
    "L"
   ]
  },
  {
   "cell_type": "markdown",
   "metadata": {
    "application/vnd.databricks.v1+cell": {
     "cellMetadata": {},
     "inputWidgets": {},
     "nuid": "8a942ca9-d88b-414d-95cd-0e9c6325acd8",
     "showTitle": false,
     "tableResultSettingsMap": {},
     "title": ""
    },
    "id": "hGiPCklAYRGL"
   },
   "source": [
    "With this, we have already built a simple web scraper!\n",
    "\n",
    "When you work on larger web scraping projects, **things will often not go so smoothly**. For example, you might run into different types of server (or client) errors when requesting a page. Moreover, different pages are often structured differently and the tags you want to extract may not exist (or contain something else) on some pages. To make your web scraper more robust, you may have to **define conditions or exceptions** to make sure that it can handle all the problems that might occur.\n"
   ]
  },
  {
   "cell_type": "markdown",
   "metadata": {
    "application/vnd.databricks.v1+cell": {
     "cellMetadata": {},
     "inputWidgets": {},
     "nuid": "662f0e60-c457-4afb-882f-58da093d05d0",
     "showTitle": false,
     "tableResultSettingsMap": {},
     "title": ""
    },
    "id": "tqCzyFKChOE5"
   },
   "source": [
    "\n",
    "Moreover, it is often a good idea to **divide your project into two separate tasks**:\n",
    "\n",
    "1. *Data collection*: Fetch the pages and save the data fo a file (or several files) on your computer.\n",
    "2. *Information extraction*: Read the file(s) and extract the information you need from it\n",
    "\n",
    "Let's adapt our code to follow this paradigma:"
   ]
  },
  {
   "cell_type": "code",
   "execution_count": 0,
   "metadata": {
    "application/vnd.databricks.v1+cell": {
     "cellMetadata": {},
     "inputWidgets": {},
     "nuid": "ff32b79f-c8d4-4fac-a558-60d0dd816782",
     "showTitle": false,
     "tableResultSettingsMap": {},
     "title": ""
    },
    "id": "WOhedDHdjzPW"
   },
   "outputs": [],
   "source": [
    "# Retrieve URLs and save them to your computer/drive\n",
    "for i, link in enumerate(wiki_links):\n",
    "  resp = requests.get(link).text\n",
    "  filename = f\"wiki_cat_file_{i}.html\"\n",
    "\n",
    "  with open(filename, \"w\") as file:  # use the open() function to import/export files\n",
    "    file.write(resp)\n",
    "\n",
    "# Load data from the files and retrieve elements\n",
    "L = []\n",
    "for i in range(len(wiki_links)):\n",
    "  filename = f\"wiki_cat_file_{i}.html\"\n",
    "  s = BeautifulSoup(open(filename))\n",
    "\n",
    "  title = s.title.get_text()\n",
    "  nr_links = len(s.find_all(\"a\"))\n",
    "\n",
    "  L.append([title, nr_links])\n",
    "\n",
    "L"
   ]
  },
  {
   "cell_type": "markdown",
   "metadata": {
    "application/vnd.databricks.v1+cell": {
     "cellMetadata": {},
     "inputWidgets": {},
     "nuid": "011eb589-598b-43a4-b40b-9e91fd7ae8cd",
     "showTitle": false,
     "tableResultSettingsMap": {},
     "title": ""
    },
    "id": "IAMz4uB2psg5"
   },
   "source": [
    "For a simple example like ours, this does not make much sense and only makes things unnessarily complicated. But for larger projects where you may run into many kinds of problems and need to handle large amounts of data, this may actually make things easier!\n",
    "\n",
    "If you feel like going full nerd on a rainy Sunday, check out these two talks about web scraping projects:\n",
    "* Spiegel Online Mining: https://www.youtube.com/watch?v=-YpwsdRKt8Q\n",
    "* Deutsche Bahn Mining: https://www.youtube.com/watch?v=0rb9CfOvojk\n",
    "\n",
    "English versions:\n",
    "* https://www.youtube.com/watch?v=bYviBstTUwo\n",
    "* https://www.youtube.com/watch?v=AGCmPLWZKd8\n",
    "\n",
    "They are fun to watch but they also show you very typical webscraping pitfalls and solutions (scaling issues, umlauts, legal issues, ..)"
   ]
  },
  {
   "cell_type": "markdown",
   "metadata": {
    "application/vnd.databricks.v1+cell": {
     "cellMetadata": {},
     "inputWidgets": {},
     "nuid": "78267a9f-6c48-480d-a249-14217b73b3cd",
     "showTitle": false,
     "tableResultSettingsMap": {},
     "title": ""
    },
    "id": "Us0Eea5XsALh"
   },
   "source": [
    "### Be nice!"
   ]
  },
  {
   "cell_type": "markdown",
   "metadata": {
    "application/vnd.databricks.v1+cell": {
     "cellMetadata": {},
     "inputWidgets": {},
     "nuid": "2920c3c5-6ddf-4695-8d3e-db20b8c751e2",
     "showTitle": false,
     "tableResultSettingsMap": {},
     "title": ""
    },
    "id": "4VShn8Qqs5lL"
   },
   "source": [
    "Webscraping allows you to request large numbers of pages within seconds. This can **impose considerable load on the servers** – for them it is as if many people used the pages in their browsers. If things go badly, you can make a server slow down considerably (or even crash).\n",
    "\n",
    "Many 'free' resources on the web (e.g. Wikipedia) are shared by all of us and their infrastructure needs to be payed for somehow (e.g. by donations). So limit your requests to a polite rate and don't scrape more information than you need to!\n",
    "\n",
    "Some websites protect themselves against webscraping/webcrawling by imposing **rate limits**. For example, you may only be allowed to call a page every 2 seconds. When you get rate limited, you will mostly get a status code of ``429`` and not be able to retrieve the page.\n",
    "\n",
    "You can **make your program scrape more slowly** using the **``sleep``  function** of the ``time`` module. This function works as follows:"
   ]
  },
  {
   "cell_type": "code",
   "execution_count": 0,
   "metadata": {
    "application/vnd.databricks.v1+cell": {
     "cellMetadata": {},
     "inputWidgets": {},
     "nuid": "b3b8fa28-a0d7-4dbe-84d6-70dbae56e577",
     "showTitle": false,
     "tableResultSettingsMap": {},
     "title": ""
    },
    "id": "KCIllLLawrSd"
   },
   "outputs": [],
   "source": [
    "import time\n",
    "print(\"Printed immediately.\")\n",
    "time.sleep(2)\n",
    "print(\"Printed after 2 seconds.\")"
   ]
  },
  {
   "cell_type": "markdown",
   "metadata": {
    "application/vnd.databricks.v1+cell": {
     "cellMetadata": {},
     "inputWidgets": {},
     "nuid": "6ebc34cc-ab37-489d-818f-b53b19d88db7",
     "showTitle": false,
     "tableResultSettingsMap": {},
     "title": ""
    },
    "id": "7S5h8sftw-j5"
   },
   "source": [
    "Let's make our Wikipedia scraper retrieve the pages more slowly:"
   ]
  },
  {
   "cell_type": "code",
   "execution_count": 0,
   "metadata": {
    "application/vnd.databricks.v1+cell": {
     "cellMetadata": {},
     "inputWidgets": {},
     "nuid": "3f22aafd-d2c3-414a-a3f4-0364cdb5de04",
     "showTitle": false,
     "tableResultSettingsMap": {},
     "title": ""
    },
    "id": "2XGltCUIxcvl"
   },
   "outputs": [],
   "source": [
    "L = []\n",
    "\n",
    "for link in wiki_links:\n",
    "  time.sleep(1) # sleep for one second\n",
    "  resp = requests.get(link).text\n",
    "  s = BeautifulSoup(resp)\n",
    "\n",
    "  title = s.title.get_text()\n",
    "  nr_links = len(s.find_all(\"a\"))\n",
    "\n",
    "  L.append([title, nr_links])\n",
    "\n",
    "L"
   ]
  },
  {
   "cell_type": "markdown",
   "metadata": {
    "application/vnd.databricks.v1+cell": {
     "cellMetadata": {},
     "inputWidgets": {},
     "nuid": "18d5a5b5-8d57-467a-b3a2-d77ac99cbed1",
     "showTitle": false,
     "tableResultSettingsMap": {},
     "title": ""
    },
    "id": "dPtZD15uxoVr"
   },
   "source": [
    "Finally, there are some websites that disallow web scraping. Many websites have a ``robot.txt`` file that specifies if there are things you should not do. For example, this is the ``robot.txt`` file for the Wikipedia page: https://en.wikipedia.org/robots.txt.\n",
    "\n",
    "For further details see:\n",
    "* https://en.wikipedia.org/wiki/Robots_exclusion_standard\n",
    "* https://developers.google.com/search/docs/advanced/robots/robots_txt"
   ]
  },
  {
   "cell_type": "markdown",
   "metadata": {
    "application/vnd.databricks.v1+cell": {
     "cellMetadata": {},
     "inputWidgets": {},
     "nuid": "34ee8da2-2706-470f-99ac-66785a46c608",
     "showTitle": false,
     "tableResultSettingsMap": {},
     "title": ""
    },
    "id": "Me7-e0mVAuto"
   },
   "source": [
    "### Other tools and data sources"
   ]
  },
  {
   "cell_type": "markdown",
   "metadata": {
    "application/vnd.databricks.v1+cell": {
     "cellMetadata": {},
     "inputWidgets": {},
     "nuid": "25e961a4-c841-460d-974f-0b728c11f2f5",
     "showTitle": false,
     "tableResultSettingsMap": {},
     "title": ""
    },
    "id": "nnpPZcbhUv09"
   },
   "source": [
    "Appart from ``BeautifulSoup`` there are two other popular web scraping libraries for Python:\n",
    "\n",
    "* ``Scrapy`` (https://scrapy.org)\n",
    "* ``Selenium`` (https://selenium-python.readthedocs.io)\n",
    "\n",
    "These will take more time to learn, but depending on your project, it will be worth the effort. Watch this video for a short comparison: https://youtu.be/zucvHSQsKHA"
   ]
  },
  {
   "cell_type": "markdown",
   "metadata": {
    "application/vnd.databricks.v1+cell": {
     "cellMetadata": {},
     "inputWidgets": {},
     "nuid": "a80a7a57-183f-4e13-a802-826e015b73f3",
     "showTitle": false,
     "tableResultSettingsMap": {},
     "title": ""
    },
    "id": "fcqYaASW6aTx"
   },
   "source": [
    "In this tutorial we worked with 'live' versions of webpages. If you are interested in scraping pages over time (especially for the past), you could work with so-called web archives. The following are two well-known archives:\n",
    "\n",
    "* http://commoncrawl.org\n",
    "* https://archive.org\n",
    "\n",
    "Note, however, that accessing the web archives can be rather involved and you may need some time to find out how you can retrieve the archived pages you are interested in."
   ]
  }
 ],
 "metadata": {
  "application/vnd.databricks.v1+notebook": {
   "computePreferences": null,
   "dashboards": [],
   "environmentMetadata": null,
   "inputWidgetPreferences": null,
   "language": "python",
   "notebookMetadata": {},
   "notebookName": "1-Web-Scraping",
   "widgets": {}
  },
  "colab": {
   "collapsed_sections": [
    "AC0IV5rBNJn-",
    "H2MySC5fIDmJ"
   ],
   "provenance": [],
   "toc_visible": true
  },
  "kernelspec": {
   "display_name": "Python 3",
   "name": "python3"
  },
  "language_info": {
   "name": "python"
  }
 },
 "nbformat": 4,
 "nbformat_minor": 0
}
