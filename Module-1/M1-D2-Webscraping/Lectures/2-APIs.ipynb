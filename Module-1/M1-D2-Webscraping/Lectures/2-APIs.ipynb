{
 "cells": [
  {
   "cell_type": "markdown",
   "metadata": {
    "application/vnd.databricks.v1+cell": {
     "cellMetadata": {},
     "inputWidgets": {},
     "nuid": "e4be6a84-f381-4735-b69e-dac14ecb5a54",
     "showTitle": false,
     "tableResultSettingsMap": {},
     "title": ""
    },
    "id": "Gwwx6YFTV9Vt"
   },
   "source": [
    "# Working with APIs #\n",
    "#### CAS Applied Data Science 2024 ####"
   ]
  },
  {
   "cell_type": "markdown",
   "metadata": {
    "application/vnd.databricks.v1+cell": {
     "cellMetadata": {},
     "inputWidgets": {},
     "nuid": "74accae3-abe3-42da-9923-df27a545734b",
     "showTitle": false,
     "tableResultSettingsMap": {},
     "title": ""
    },
    "id": "dEa2mx7XBdfK"
   },
   "source": [
    "In the last tutorial, we learned how to automatically retrieve pages from the internet through **web scraping**. We sent HTTP requests with the  ``requests`` and used the ``BeautifulSoup`` library to parse and work with the HTML code from the response we got. For many of the more popular websites such as Wikipedia, Youtube, Twitter (X) or many newspapers, there is a more direct way to retrieve the information we need: through so-called **APIs**. In this tutorial we will learn how to gather web data through APIs. We will use the Wikipedia API to illustrate the process.\n",
    "\n",
    "To follow allong with the tutorial, you will have to import the ``requests`` and the ``BeautifulSoup`` library:\n"
   ]
  },
  {
   "cell_type": "code",
   "execution_count": 0,
   "metadata": {
    "application/vnd.databricks.v1+cell": {
     "cellMetadata": {},
     "inputWidgets": {},
     "nuid": "13b88122-0835-4f77-8668-2ac6fa3411fe",
     "showTitle": false,
     "tableResultSettingsMap": {},
     "title": ""
    },
    "id": "L7h726lofAAH"
   },
   "outputs": [],
   "source": [
    "import requests\n",
    "from bs4 import BeautifulSoup"
   ]
  },
  {
   "cell_type": "markdown",
   "metadata": {
    "application/vnd.databricks.v1+cell": {
     "cellMetadata": {},
     "inputWidgets": {},
     "nuid": "192e8018-2547-4932-9583-c77b797e4152",
     "showTitle": false,
     "tableResultSettingsMap": {},
     "title": ""
    },
    "id": "vTIe5VIL3feT"
   },
   "source": [
    "##Getting help"
   ]
  },
  {
   "cell_type": "markdown",
   "metadata": {
    "application/vnd.databricks.v1+cell": {
     "cellMetadata": {},
     "inputWidgets": {},
     "nuid": "2a5425ca-0ed0-4485-aed4-91277d564a56",
     "showTitle": false,
     "tableResultSettingsMap": {},
     "title": ""
    },
    "id": "tfSxfzDpTjRV"
   },
   "source": [
    "We are selective in this tutorial and only discuss elements that we believe are most important for the purpose of this class. If you want more details, you can consult, for example, the **Python Standard Library Reference** at https://docs.python.org/3/library/ or the **Language Reference** at https://docs.python.org/3/reference/. But be warned: the amount of detail in these sources can be overwhelming. For **quick and easy-to-understand overviews** of different topics see, for example, https://www.w3schools.com/python/. Here are some specific references for today's tutorial:\n",
    "\n",
    "Working with APIs in Python:\n",
    "* https://realpython.com/python-api/\n",
    "* https://www.dataquest.io/blog/python-api-tutorial/\n",
    "\n",
    "JSON:\n",
    "*  https://www.w3schools.com/js/js_json_intro.asp\n",
    "\n",
    "If you get stuck or don't remember how to do something, it is usually a good idea to **Google** your problem. Python has a large (and fast-growing) community and you will probably find answers to most of your questions online (e.g. on **Stack Overflow** or in a **Youtube tutorial**)."
   ]
  },
  {
   "cell_type": "markdown",
   "metadata": {
    "application/vnd.databricks.v1+cell": {
     "cellMetadata": {},
     "inputWidgets": {},
     "nuid": "a9dbd4dc-b6b6-49fd-9679-5829caaa6cc6",
     "showTitle": false,
     "tableResultSettingsMap": {},
     "title": ""
    },
    "id": "YTTxqag08CcA"
   },
   "source": [
    "## What is an API?"
   ]
  },
  {
   "cell_type": "markdown",
   "metadata": {
    "application/vnd.databricks.v1+cell": {
     "cellMetadata": {},
     "inputWidgets": {},
     "nuid": "c0c69be1-d257-4a41-b960-49ac0961a0d0",
     "showTitle": false,
     "tableResultSettingsMap": {},
     "title": ""
    },
    "id": "XFIjdUC8Lsa_"
   },
   "source": [
    "Suppose you have a (large) list of addresses and need the respective coordinates. If you wanted to do this manually, you could use Google Maps through your browser. But how could you automate this? You could try to generate the URLs for each request and fetch the coordinates from the pages. This may be feasable, but the pages you will request contain a lot of information and graphical \"overhead\" you are not interested in, making the process very tedious and inefficient (and web scrapers often get blocked by such services, as they are mostly comercial or have limited capacity). Fortunately, many providers offer an easier way to access the information in their databases: through APIs (e.g. the Google Maps API)."
   ]
  },
  {
   "cell_type": "markdown",
   "metadata": {
    "application/vnd.databricks.v1+cell": {
     "cellMetadata": {},
     "inputWidgets": {},
     "nuid": "3df52a3d-7f2a-4a94-b53f-ad66234ba6f6",
     "showTitle": false,
     "tableResultSettingsMap": {},
     "title": ""
    },
    "id": "vLf9nocWQGq_"
   },
   "source": [
    "So what is an API? API stands for **Application Programming Interface** and it is a very broad concept. You can think of it as an interface that is not meant for humans but for computer programs or applications. APIs allow different applications or programs to interact with each other. For example, the different programs installed on your computer may communicate with the operating system of your computer through APIs (e.g. when saving a file)."
   ]
  },
  {
   "cell_type": "markdown",
   "metadata": {
    "application/vnd.databricks.v1+cell": {
     "cellMetadata": {},
     "inputWidgets": {},
     "nuid": "93685c15-3ba2-4f69-9fc2-ac7f3429fd19",
     "showTitle": false,
     "tableResultSettingsMap": {},
     "title": ""
    },
    "id": "sNcOUGixDxPU"
   },
   "source": [
    "  \n",
    "In our context of gathering data from the web, we are mostly dealing with so-called **Web APIs**. They allow you to access content in a more **structured** way than scraping HTML pages. Web APIs consist of **a set of URLs through which the data is made accessible so that other applications/programs (for example your Python script) can work with it conveniently**. They also allow to take more control over the content you will receive. When providers offer an API, it just means that they’ve built a set of URLs that return structured data — meaning the responses won’t contain the presentational overhead that is required for a graphical user interface like a website. Web APIs have become so important that many people just say API when they are referring to a Web API.\n",
    "\n",
    "This probably still sounds very abstract. We'll walk you through some examples with the Wikipedia API to give you a more concrete idea of how APIs work. That being said, we still download and process data via an URL, only the URL and data structure will change a bit."
   ]
  },
  {
   "cell_type": "markdown",
   "metadata": {
    "application/vnd.databricks.v1+cell": {
     "cellMetadata": {},
     "inputWidgets": {},
     "nuid": "62d4ff95-358a-42a4-ac36-29f3f3c3608c",
     "showTitle": false,
     "tableResultSettingsMap": {},
     "title": ""
    },
    "id": "rb7JJyVLCNVo"
   },
   "source": [
    "## Making API requests with the ``requests`` library"
   ]
  },
  {
   "cell_type": "markdown",
   "metadata": {
    "application/vnd.databricks.v1+cell": {
     "cellMetadata": {},
     "inputWidgets": {},
     "nuid": "4a8e0054-fe49-4061-aa96-739dfb0ebca4",
     "showTitle": false,
     "tableResultSettingsMap": {},
     "title": ""
    },
    "id": "QKXhsS2cdG8u"
   },
   "source": [
    "How can we gather data through an API? In practice, **retrieving data through an API is quite similar to retrieving data through web scraping**. You will also have to **figure out the correct URL** for your request. In fact, you can type this URL into the browser — **instead of a designed web page, you will directly see structured data**. For example, this URL takes you to the structured data from the cat article on Wikipedia: https://en.wikipedia.org/w/api.php?action=parse&page=Cat&format=json"
   ]
  },
  {
   "cell_type": "markdown",
   "metadata": {
    "application/vnd.databricks.v1+cell": {
     "cellMetadata": {},
     "inputWidgets": {},
     "nuid": "72cfb6e2-97ec-4124-8e9a-458ba830a9b4",
     "showTitle": false,
     "tableResultSettingsMap": {},
     "title": ""
    },
    "id": "neIjGVGNf9hq"
   },
   "source": [
    "If we want to request the cat article through the API, we can thus just type:"
   ]
  },
  {
   "cell_type": "code",
   "execution_count": 0,
   "metadata": {
    "application/vnd.databricks.v1+cell": {
     "cellMetadata": {},
     "inputWidgets": {},
     "nuid": "f3846375-7fcc-476a-8171-92e1473f0be6",
     "showTitle": false,
     "tableResultSettingsMap": {},
     "title": ""
    },
    "id": "6O2xXujdgIEx"
   },
   "outputs": [],
   "source": [
    "r = requests.get(\"https://en.wikipedia.org/w/api.php?action=parse&page=Cat&format=json\")\n",
    "r.text"
   ]
  },
  {
   "cell_type": "markdown",
   "metadata": {
    "application/vnd.databricks.v1+cell": {
     "cellMetadata": {},
     "inputWidgets": {},
     "nuid": "96f17d56-9edb-41b4-a877-3e4124c4cccf",
     "showTitle": false,
     "tableResultSettingsMap": {},
     "title": ""
    },
    "id": "10iYQsKhiZUK"
   },
   "source": [
    "Let's take a closer look at the URL we used: The first part of the URL (https://en.wikipedia.org/w/api.php) is an **endpoint** of the API. You can think of endpoints as the base URLs of the API. After the ``?`` we have the **query string** (as we know already from the web scraping tutorial). It specifies the action we want to perform. Usually, it is more convenient to enter the parameters for the query string as an argument. The **``params`` parameter of the ``get`` function** allows you to do this (the order of the parameters typically does not matter):\n"
   ]
  },
  {
   "cell_type": "code",
   "execution_count": 0,
   "metadata": {
    "application/vnd.databricks.v1+cell": {
     "cellMetadata": {},
     "inputWidgets": {},
     "nuid": "352ea0fe-ecd0-446c-b80a-ffcdbd131b0e",
     "showTitle": false,
     "tableResultSettingsMap": {},
     "title": ""
    },
    "id": "2Zer5lYNk4P-"
   },
   "outputs": [],
   "source": [
    "ENDPOINT = \"https://en.wikipedia.org/w/api.php\"\n",
    "\n",
    "PARAMS = {\n",
    "    \"action\": \"parse\",\n",
    "    \"page\": \"Cat\",\n",
    "    \"format\": \"json\",\n",
    "}\n",
    "\n",
    "r = requests.get(url=ENDPOINT, params=PARAMS)\n",
    "r.text"
   ]
  },
  {
   "cell_type": "markdown",
   "metadata": {
    "application/vnd.databricks.v1+cell": {
     "cellMetadata": {},
     "inputWidgets": {},
     "nuid": "9d7718e1-a3bb-4dbf-bfb1-77188dfb8561",
     "showTitle": false,
     "tableResultSettingsMap": {},
     "title": ""
    },
    "id": "Zzoci3rgmrWe"
   },
   "source": [
    "To see that this makes exactly the same request, you can take a look the URL we just called:"
   ]
  },
  {
   "cell_type": "code",
   "execution_count": 0,
   "metadata": {
    "application/vnd.databricks.v1+cell": {
     "cellMetadata": {},
     "inputWidgets": {},
     "nuid": "3393d4db-c126-4a03-866e-1f08dfbe0cd9",
     "showTitle": false,
     "tableResultSettingsMap": {},
     "title": ""
    },
    "id": "I5Z6Zs-vmwX_"
   },
   "outputs": [],
   "source": [
    "r.url"
   ]
  },
  {
   "cell_type": "markdown",
   "metadata": {
    "application/vnd.databricks.v1+cell": {
     "cellMetadata": {},
     "inputWidgets": {},
     "nuid": "e9809ebb-3796-449b-a90e-aad29ac51ed7",
     "showTitle": false,
     "tableResultSettingsMap": {},
     "title": ""
    },
    "id": "W1jFXiM_gZb5"
   },
   "source": [
    "So far, so good. But how did we figure out that https://en.wikipedia.org/w/api.php?action=parse&page=Cat&format=json was the URL we needed to request? Many APIs have an extensive **documentation** that explain how to make different types of requests. These documentations can sometimes be overwhelming and it is usually a good idea to try to find some examples for the type of request you want to make (e.g. on Stack Overflow or within the documentation). Let's have a look at the documentation for the Wikipedia API:\n",
    "\n",
    "* https://www.mediawiki.org/wiki/API:Main_page\n",
    "\n",
    "We can see that there are different endpoints. For example, there is one endpoint for each language. The endpoint for English Wikipedia is:\n",
    "* https://en.wikipedia.org/w/api.php\n",
    "\n",
    "Now we will have to figure out what parameters to choose (i.e. how to construct the query string). If you scroll down on the page, you will see that there are many options as to how the parameters could be set. If you click through the documentation (or Google something like \"parse page Wikipedia API\") you may eventually get to this page that provides some useful examples as to how the content of a page could be retrieved:\n",
    "* https://www.mediawiki.org/wiki/API:Parsing_wikitext\n",
    "\n",
    "There, you will find example code similar to the one we used above.\n",
    "\n"
   ]
  },
  {
   "cell_type": "markdown",
   "metadata": {
    "application/vnd.databricks.v1+cell": {
     "cellMetadata": {},
     "inputWidgets": {},
     "nuid": "04a1eba3-e4a8-4f1a-a6ef-4d6480af19fa",
     "showTitle": false,
     "tableResultSettingsMap": {},
     "title": ""
    },
    "id": "ZmxIC_0odgEI"
   },
   "source": [
    "><font color = 4e1585> SIDENOTE: APIs often allow you to do many different things. You can retrieve information, but sometimes you can also add, change or delete information. Many Web APIs are so-called RESTful APIs, meaning that they implement the standard HTTP methods: GET, POST, PUT, and DELETE. For data science projects, you are typically only interested in GET requests (as you don't want to change anything on the respective websites). </font>"
   ]
  },
  {
   "cell_type": "markdown",
   "metadata": {
    "application/vnd.databricks.v1+cell": {
     "cellMetadata": {},
     "inputWidgets": {},
     "nuid": "2c69fe11-6969-4ac5-a316-5780ed362d9f",
     "showTitle": false,
     "tableResultSettingsMap": {},
     "title": ""
    },
    "id": "Dq5A6gPV8HAu"
   },
   "source": [
    "## Working with JSON data"
   ]
  },
  {
   "cell_type": "markdown",
   "metadata": {
    "application/vnd.databricks.v1+cell": {
     "cellMetadata": {},
     "inputWidgets": {},
     "nuid": "046b2514-ea8e-476c-ad03-5c89da7e2f8a",
     "showTitle": false,
     "tableResultSettingsMap": {},
     "title": ""
    },
    "id": "QrES187T2RDH"
   },
   "source": [
    "We mentioned that APIs allow you to access *structured data*. What exactly does this mean? Typically, the data you will retrieve through an API will be formatted as **JSON**. JSON stands for JavaScript Object Notation; it is a data exchange format based on human-readable text (as opposed to binary data formats) that is commonly used for data transportation over the web. Let's take a look at some JSON code:\n",
    "\n",
    "\n",
    "\n",
    "```json\n",
    "{\n",
    "  \"name\": \"Peter\",\n",
    "  \"age\": 56,\n",
    "  \"married\": false,\n",
    "  \"children\": [\n",
    "    {\n",
    "      \"name\": \"Nina\",\n",
    "      \"age\": 19,\n",
    "      \"educational degree\": \"High school\"\n",
    "    },\n",
    "    {\n",
    "      \"name\": \"Mary\",\n",
    "      \"age\": 14,\n",
    "      \"educational degree\": null\n",
    "    }\n",
    "  ]\n",
    "}\n",
    "```\n",
    "\n"
   ]
  },
  {
   "cell_type": "markdown",
   "metadata": {
    "application/vnd.databricks.v1+cell": {
     "cellMetadata": {},
     "inputWidgets": {},
     "nuid": "30fa1e00-25b6-45f8-ab1d-e87cfd36f801",
     "showTitle": false,
     "tableResultSettingsMap": {},
     "title": ""
    },
    "id": "Ej-SXXBEOcD3"
   },
   "source": [
    "><font color = 4e1585> SIDENOTE: If you want to know if something is valid (correctly formatted) JSON you can search for 'JSON lint' or 'JSON linter' and use one of the online tools, e.g. https://jsonlint.com. A lint or linter is a tool to check for errors in code (see https://en.wikipedia.org/wiki/Lint_(software) for more details)</font>"
   ]
  },
  {
   "cell_type": "markdown",
   "metadata": {
    "application/vnd.databricks.v1+cell": {
     "cellMetadata": {},
     "inputWidgets": {},
     "nuid": "a05752f3-7083-4252-80b1-a809dd9d7c4f",
     "showTitle": false,
     "tableResultSettingsMap": {},
     "title": ""
    },
    "id": "VxWYiHmm3trK"
   },
   "source": [
    "You may have noticed that JSON does not look so different from a Python dictionary. The great thing about JSON is that it can easily be **converted into a (nested) Python dictionary**. Let's parse the response we got from our Wikipida API request:"
   ]
  },
  {
   "cell_type": "code",
   "execution_count": 0,
   "metadata": {
    "application/vnd.databricks.v1+cell": {
     "cellMetadata": {},
     "inputWidgets": {},
     "nuid": "46bbcc45-c1a6-46ff-a3b4-70bb1e4082ee",
     "showTitle": false,
     "tableResultSettingsMap": {},
     "title": ""
    },
    "id": "NMUBPFSW3RBJ"
   },
   "outputs": [],
   "source": [
    "data = r.json()"
   ]
  },
  {
   "cell_type": "code",
   "execution_count": 0,
   "metadata": {
    "application/vnd.databricks.v1+cell": {
     "cellMetadata": {},
     "inputWidgets": {},
     "nuid": "f48ba5d1-ce3a-4340-9dc4-ed93aaa2474d",
     "showTitle": false,
     "tableResultSettingsMap": {},
     "title": ""
    },
    "id": "I5zeTd8_5mqv"
   },
   "outputs": [],
   "source": [
    "print(data)\n",
    "type(data)"
   ]
  },
  {
   "cell_type": "markdown",
   "metadata": {
    "application/vnd.databricks.v1+cell": {
     "cellMetadata": {},
     "inputWidgets": {},
     "nuid": "a71c9aba-640e-435c-9f4b-2a4870676484",
     "showTitle": false,
     "tableResultSettingsMap": {},
     "title": ""
    },
    "id": "vZ0o49Hs5pU4"
   },
   "source": [
    "We have now created a (large) Python dictionary. How can we **access the different parts** of it? If you **type the URL of your request into your browser**, you can expore the nested structure of the JSON code (and thus of your Python dictionary):\n"
   ]
  },
  {
   "cell_type": "code",
   "execution_count": 0,
   "metadata": {
    "application/vnd.databricks.v1+cell": {
     "cellMetadata": {},
     "inputWidgets": {},
     "nuid": "415139c1-c943-4030-a1f2-9dcb1243495f",
     "showTitle": false,
     "tableResultSettingsMap": {},
     "title": ""
    },
    "id": "VBFqFa8e-s0e"
   },
   "outputs": [],
   "source": [
    "r.url # this will display the URL; copy the URL to your browser and see what happens"
   ]
  },
  {
   "cell_type": "markdown",
   "metadata": {
    "application/vnd.databricks.v1+cell": {
     "cellMetadata": {},
     "inputWidgets": {},
     "nuid": "6aafa659-6220-4a47-993a-7426ad3ae19d",
     "showTitle": false,
     "tableResultSettingsMap": {},
     "title": ""
    },
    "id": "mtmMGBVU-z2E"
   },
   "source": [
    "\n",
    "Similarly, it is usually a good idea to explore the **keys** of the dictionary:"
   ]
  },
  {
   "cell_type": "code",
   "execution_count": 0,
   "metadata": {
    "application/vnd.databricks.v1+cell": {
     "cellMetadata": {},
     "inputWidgets": {},
     "nuid": "a8d65cac-e455-4d71-964c-81b5ab207964",
     "showTitle": false,
     "tableResultSettingsMap": {},
     "title": ""
    },
    "id": "EZyjF7ZR60-6"
   },
   "outputs": [],
   "source": [
    "data.keys()"
   ]
  },
  {
   "cell_type": "markdown",
   "metadata": {
    "application/vnd.databricks.v1+cell": {
     "cellMetadata": {},
     "inputWidgets": {},
     "nuid": "81f2a2bb-c062-429a-bc29-2cc0943b6524",
     "showTitle": false,
     "tableResultSettingsMap": {},
     "title": ""
    },
    "id": "zIxXtvYO64fl"
   },
   "source": [
    "We only have one key at the top level (``parse``). Let's explore its value to see what we have on the next level:  "
   ]
  },
  {
   "cell_type": "code",
   "execution_count": 0,
   "metadata": {
    "application/vnd.databricks.v1+cell": {
     "cellMetadata": {},
     "inputWidgets": {},
     "nuid": "67262b14-0246-45fb-b64b-3e80aae6b4b8",
     "showTitle": false,
     "tableResultSettingsMap": {},
     "title": ""
    },
    "id": "W2x4SwQP7OoF"
   },
   "outputs": [],
   "source": [
    "data[\"parse\"].keys()"
   ]
  },
  {
   "cell_type": "markdown",
   "metadata": {
    "application/vnd.databricks.v1+cell": {
     "cellMetadata": {},
     "inputWidgets": {},
     "nuid": "f2fb0e05-715d-46c1-a421-e86bb045c2e5",
     "showTitle": false,
     "tableResultSettingsMap": {},
     "title": ""
    },
    "id": "zLJ5eGwV7U_5"
   },
   "source": [
    "Now we can access different types of information about the page. Let's access the title:"
   ]
  },
  {
   "cell_type": "code",
   "execution_count": 0,
   "metadata": {
    "application/vnd.databricks.v1+cell": {
     "cellMetadata": {},
     "inputWidgets": {},
     "nuid": "9a0c5a20-81ba-41c2-a833-c6f1242f4a7a",
     "showTitle": false,
     "tableResultSettingsMap": {},
     "title": ""
    },
    "id": "DlqrKJXt7zTR"
   },
   "outputs": [],
   "source": [
    "data[\"parse\"][\"title\"]"
   ]
  },
  {
   "cell_type": "markdown",
   "metadata": {
    "application/vnd.databricks.v1+cell": {
     "cellMetadata": {},
     "inputWidgets": {},
     "nuid": "46dabbe8-184d-4aaf-8105-57178e32d14e",
     "showTitle": false,
     "tableResultSettingsMap": {},
     "title": ""
    },
    "id": "sP09G8LT8N0H"
   },
   "source": [
    "Let's now try to access the sections:"
   ]
  },
  {
   "cell_type": "code",
   "execution_count": 0,
   "metadata": {
    "application/vnd.databricks.v1+cell": {
     "cellMetadata": {},
     "inputWidgets": {},
     "nuid": "fae69e7e-343f-4a67-b1e0-11d44aaec64c",
     "showTitle": false,
     "tableResultSettingsMap": {},
     "title": ""
    },
    "id": "jpKjIZvg79XG"
   },
   "outputs": [],
   "source": [
    "sections = data[\"parse\"][\"sections\"]\n",
    "sections[0]"
   ]
  },
  {
   "cell_type": "markdown",
   "metadata": {
    "application/vnd.databricks.v1+cell": {
     "cellMetadata": {},
     "inputWidgets": {},
     "nuid": "3d18dd72-56f9-4cab-9b7f-989154ed9c3f",
     "showTitle": false,
     "tableResultSettingsMap": {},
     "title": ""
    },
    "id": "TyDh_DSl8frc"
   },
   "source": [
    "We got a list of dictionaries containing information on each section. If we are only interested in the heading of each section, we could write a list comprehension to extract it. The \"line\" key in each dictionary appears to contain the section heading."
   ]
  },
  {
   "cell_type": "code",
   "execution_count": 0,
   "metadata": {
    "application/vnd.databricks.v1+cell": {
     "cellMetadata": {},
     "inputWidgets": {},
     "nuid": "044bc2be-8a4c-4c5a-9e7b-803a15caddeb",
     "showTitle": false,
     "tableResultSettingsMap": {},
     "title": ""
    },
    "id": "IVory0Zl81nj"
   },
   "outputs": [],
   "source": [
    "[section[\"line\"] for section in sections]"
   ]
  },
  {
   "cell_type": "markdown",
   "metadata": {
    "application/vnd.databricks.v1+cell": {
     "cellMetadata": {},
     "inputWidgets": {},
     "nuid": "35487140-d359-41ab-9966-14fed86fb996",
     "showTitle": false,
     "tableResultSettingsMap": {},
     "title": ""
    },
    "id": "ZzEfQFsn9XS3"
   },
   "source": [
    "In this way, you can access different parts of your dictionary and extract the information on the page (e.g. internal and external links, images etc.)."
   ]
  },
  {
   "cell_type": "markdown",
   "metadata": {
    "application/vnd.databricks.v1+cell": {
     "cellMetadata": {},
     "inputWidgets": {},
     "nuid": "84061b0c-8fbf-40d1-b9f6-8fae6e6959df",
     "showTitle": false,
     "tableResultSettingsMap": {},
     "title": ""
    },
    "id": "wY8B_wXz9Tjl"
   },
   "source": [
    "## HTML within JSON data*\n",
    "\n",
    "<font color='gray'>This section is for self-study and will not be discussed in class.\n",
    "\n",
    "The dictionary (within \"parse\") **also contains a \"text\" key where the HTML code of the article is stored** (within the \"*\" key). You can convert it to a BeautifulSoup object and search it based on HTML tags (see notebook on web scraping):"
   ]
  },
  {
   "cell_type": "code",
   "execution_count": 0,
   "metadata": {
    "application/vnd.databricks.v1+cell": {
     "cellMetadata": {},
     "inputWidgets": {},
     "nuid": "8817c114-eed9-4e6e-a320-071094095af6",
     "showTitle": false,
     "tableResultSettingsMap": {},
     "title": ""
    },
    "id": "Do3PxVSl-2-z"
   },
   "outputs": [],
   "source": [
    "# Get html text\n",
    "html_text = BeautifulSoup(data[\"parse\"][\"text\"][\"*\"])\n",
    "type(html_text)"
   ]
  },
  {
   "cell_type": "code",
   "execution_count": 0,
   "metadata": {
    "application/vnd.databricks.v1+cell": {
     "cellMetadata": {},
     "inputWidgets": {},
     "nuid": "67275e74-0454-484c-994e-007a998101f4",
     "showTitle": false,
     "tableResultSettingsMap": {},
     "title": ""
    },
    "id": "zouIBKCs_eWA"
   },
   "outputs": [],
   "source": [
    "# get opening paragraph\n",
    "html_text.find_all(\"p\")[1]"
   ]
  },
  {
   "cell_type": "markdown",
   "metadata": {
    "application/vnd.databricks.v1+cell": {
     "cellMetadata": {},
     "inputWidgets": {},
     "nuid": "5dd2a96d-c824-4722-b181-691f7d87cfd9",
     "showTitle": false,
     "tableResultSettingsMap": {},
     "title": ""
    },
    "id": "Vt07LNudBE8p"
   },
   "source": [
    "---\n",
    "## **<font color='teal'>In-class exercise**\n",
    "\n",
    ">  <font color='teal'> Request the *Dog* page on Wikipedia (formatted as JSON) through the API and convert the response to a Python dictionary."
   ]
  },
  {
   "cell_type": "code",
   "execution_count": 0,
   "metadata": {
    "application/vnd.databricks.v1+cell": {
     "cellMetadata": {},
     "inputWidgets": {},
     "nuid": "4ee4ccfe-ec55-4f9e-9d6b-77486fb69373",
     "showTitle": false,
     "tableResultSettingsMap": {},
     "title": ""
    },
    "id": "tkq6nK-LzPHF"
   },
   "outputs": [],
   "source": []
  },
  {
   "cell_type": "markdown",
   "metadata": {
    "application/vnd.databricks.v1+cell": {
     "cellMetadata": {},
     "inputWidgets": {},
     "nuid": "32a300c2-a479-478e-b187-e68931750f10",
     "showTitle": false,
     "tableResultSettingsMap": {},
     "title": ""
    },
    "id": "KBzARxtjzmzZ"
   },
   "source": [
    ">  <font color='teal'> Print the title and all links to other Wikipedia articles."
   ]
  },
  {
   "cell_type": "code",
   "execution_count": 0,
   "metadata": {
    "application/vnd.databricks.v1+cell": {
     "cellMetadata": {},
     "inputWidgets": {},
     "nuid": "64f59e3c-36fd-46a0-9b06-acb19daa5631",
     "showTitle": false,
     "tableResultSettingsMap": {},
     "title": ""
    },
    "id": "0iSEvtl45xC-"
   },
   "outputs": [],
   "source": []
  },
  {
   "cell_type": "code",
   "execution_count": 0,
   "metadata": {
    "application/vnd.databricks.v1+cell": {
     "cellMetadata": {},
     "inputWidgets": {},
     "nuid": "e645b6ec-8343-4ae2-8708-3e167229c599",
     "showTitle": false,
     "tableResultSettingsMap": {},
     "title": ""
    },
    "id": "luyghogH7T28"
   },
   "outputs": [],
   "source": []
  },
  {
   "cell_type": "code",
   "execution_count": 0,
   "metadata": {
    "application/vnd.databricks.v1+cell": {
     "cellMetadata": {},
     "inputWidgets": {},
     "nuid": "5a5d0d75-4a33-41ae-ad16-ffeca6a9610a",
     "showTitle": false,
     "tableResultSettingsMap": {},
     "title": ""
    },
    "id": "sflRPDT_8eJ-"
   },
   "outputs": [],
   "source": []
  },
  {
   "cell_type": "code",
   "execution_count": 0,
   "metadata": {
    "application/vnd.databricks.v1+cell": {
     "cellMetadata": {},
     "inputWidgets": {},
     "nuid": "773e75a7-8345-49da-ad2f-3ef060970f18",
     "showTitle": false,
     "tableResultSettingsMap": {},
     "title": ""
    },
    "id": "WQHq1uQK8mCw"
   },
   "outputs": [],
   "source": []
  },
  {
   "cell_type": "markdown",
   "metadata": {
    "application/vnd.databricks.v1+cell": {
     "cellMetadata": {},
     "inputWidgets": {},
     "nuid": "997c54a1-bc70-40b3-b835-2d4becf7d025",
     "showTitle": false,
     "tableResultSettingsMap": {},
     "title": ""
    },
    "id": "mEMlhE3PzPeW"
   },
   "source": [
    "\n",
    "\n",
    "---\n",
    "\n"
   ]
  },
  {
   "cell_type": "markdown",
   "metadata": {
    "application/vnd.databricks.v1+cell": {
     "cellMetadata": {},
     "inputWidgets": {},
     "nuid": "0b02d447-59fb-457a-aeaf-b86d67d1cbfd",
     "showTitle": false,
     "tableResultSettingsMap": {},
     "title": ""
    },
    "id": "bqoiHSlKTADW"
   },
   "source": [
    "## Making advanced requests with the Wikipedia API"
   ]
  },
  {
   "cell_type": "markdown",
   "metadata": {
    "application/vnd.databricks.v1+cell": {
     "cellMetadata": {},
     "inputWidgets": {},
     "nuid": "227b06a1-04a4-4c08-8830-d83e94dc054a",
     "showTitle": false,
     "tableResultSettingsMap": {},
     "title": ""
    },
    "id": "pYnRJp_P_92w"
   },
   "source": [
    "The Wikipedia API allows you to do much more than just retrieving a single page. For example, you can search for **pages that match with certain words** (full text search in title or content: https://www.mediawiki.org/wiki/API:Search or https://en.wikipedia.org/w/api.php?action=help&modules=query%2Bsearch). Let's retrieve all pages about cats:"
   ]
  },
  {
   "cell_type": "code",
   "execution_count": 0,
   "metadata": {
    "application/vnd.databricks.v1+cell": {
     "cellMetadata": {},
     "inputWidgets": {},
     "nuid": "16bcf31f-a852-4dd5-941b-282f616f634b",
     "showTitle": false,
     "tableResultSettingsMap": {},
     "title": ""
    },
    "id": "5KK6cH0RFq4r"
   },
   "outputs": [],
   "source": [
    "# Perform page search\n",
    "URL = \"https://en.wikipedia.org/w/api.php\"\n",
    "\n",
    "PARAMS = {\n",
    "    \"action\": \"query\",\n",
    "    \"format\": \"json\",\n",
    "    \"list\": \"search\",\n",
    "    \"srsearch\": \"cat\",\n",
    "    \"srlimit\": \"max\"\n",
    "}\n",
    "\n",
    "r = requests.get(url=URL, params=PARAMS)\n",
    "\n",
    "# Convert to dictionary\n",
    "DATA = r.json()"
   ]
  },
  {
   "cell_type": "code",
   "execution_count": 0,
   "metadata": {
    "application/vnd.databricks.v1+cell": {
     "cellMetadata": {},
     "inputWidgets": {},
     "nuid": "9308784f-fbeb-4b1a-b267-2378a00634ce",
     "showTitle": false,
     "tableResultSettingsMap": {},
     "title": ""
    },
    "id": "lYQ4zUrAyBcF"
   },
   "outputs": [],
   "source": [
    "DATA.keys()"
   ]
  },
  {
   "cell_type": "code",
   "execution_count": 0,
   "metadata": {
    "application/vnd.databricks.v1+cell": {
     "cellMetadata": {},
     "inputWidgets": {},
     "nuid": "41385076-a6c4-4470-8b60-2b5f4f33e3e1",
     "showTitle": false,
     "tableResultSettingsMap": {},
     "title": ""
    },
    "id": "eA0Eui7wGT9Z"
   },
   "outputs": [],
   "source": [
    "# Navigate through dictionary\n",
    "print(DATA.keys())\n",
    "print(DATA[\"query\"].keys())"
   ]
  },
  {
   "cell_type": "code",
   "execution_count": 0,
   "metadata": {
    "application/vnd.databricks.v1+cell": {
     "cellMetadata": {},
     "inputWidgets": {},
     "nuid": "524eff2a-e2a0-46c8-81a2-186f0aa5695e",
     "showTitle": false,
     "tableResultSettingsMap": {},
     "title": ""
    },
    "id": "oT99YJukF1EV"
   },
   "outputs": [],
   "source": [
    "# Get titles of all cat pages that were found\n",
    "pages = DATA[\"query\"][\"search\"]\n",
    "cat_pages = [page[\"title\"] for page in pages]\n",
    "print(cat_pages)\n",
    "len(cat_pages)"
   ]
  },
  {
   "cell_type": "markdown",
   "metadata": {
    "application/vnd.databricks.v1+cell": {
     "cellMetadata": {},
     "inputWidgets": {},
     "nuid": "b2a4da09-124b-4118-8894-53af7b7b5c77",
     "showTitle": false,
     "tableResultSettingsMap": {},
     "title": ""
    },
    "id": "U1v3xdNu5YZR"
   },
   "source": [
    "Another interesting thing you can do is to **find pages based on coordinate locations** (see: https://www.mediawiki.org/wiki/API:Geosearch). Let's find all Wikipedia pages of places that are close (<1km) to the main building of University of Bern:"
   ]
  },
  {
   "cell_type": "code",
   "execution_count": 0,
   "metadata": {
    "application/vnd.databricks.v1+cell": {
     "cellMetadata": {},
     "inputWidgets": {},
     "nuid": "a0ce0fbd-17e7-4ef9-82ef-138116b57ef4",
     "showTitle": false,
     "tableResultSettingsMap": {},
     "title": ""
    },
    "id": "6BsM2oXTKZz5"
   },
   "outputs": [],
   "source": [
    "# Perform page search\n",
    "URL = \"https://de.wikipedia.org/w/api.php\"  # Change to German Wikipedia!\n",
    "\n",
    "PARAMS = {\n",
    "    \"action\": \"query\",\n",
    "    \"format\": \"json\",\n",
    "    \"list\": \"geosearch\",\n",
    "    \"gscoord\": \"46.950519|7.438109\",\n",
    "    \"gslimit\": \"max\",\n",
    "    \"gsradius\": 1000\n",
    "}\n",
    "\n",
    "r = requests.get(url=URL, params=PARAMS)\n",
    "\n",
    "# Convert to dictionary\n",
    "DATA = r.json()"
   ]
  },
  {
   "cell_type": "code",
   "execution_count": 0,
   "metadata": {
    "application/vnd.databricks.v1+cell": {
     "cellMetadata": {},
     "inputWidgets": {},
     "nuid": "9858aa85-2206-47ec-8e74-1e780c4d401b",
     "showTitle": false,
     "tableResultSettingsMap": {},
     "title": ""
    },
    "id": "A12JL1sEMtkT"
   },
   "outputs": [],
   "source": [
    "PLACES = DATA['query']['geosearch']\n",
    "[place[\"title\"] for place in PLACES]"
   ]
  },
  {
   "cell_type": "markdown",
   "metadata": {
    "application/vnd.databricks.v1+cell": {
     "cellMetadata": {},
     "inputWidgets": {},
     "nuid": "6837b743-2dd5-44fc-ba6e-936e205ce17a",
     "showTitle": false,
     "tableResultSettingsMap": {},
     "title": ""
    },
    "id": "LVUHkdRcNsYF"
   },
   "source": [
    "There are many more things you can do with the Wikipedia API. Some of them would be extremely difficult (or impossible) to achieve through web scraping (e.g. the two examples in this section). Check out the documentation (or Google your idea) to find out!"
   ]
  },
  {
   "cell_type": "markdown",
   "metadata": {
    "application/vnd.databricks.v1+cell": {
     "cellMetadata": {},
     "inputWidgets": {},
     "nuid": "0557beea-44d9-4c6f-9499-d2956ce4b7d8",
     "showTitle": false,
     "tableResultSettingsMap": {},
     "title": ""
    },
    "id": "gI2tCnawRagq"
   },
   "source": [
    "## Sidenote: Using the ``wikipedia`` module for simple requests*"
   ]
  },
  {
   "cell_type": "markdown",
   "metadata": {
    "application/vnd.databricks.v1+cell": {
     "cellMetadata": {},
     "inputWidgets": {},
     "nuid": "3cdb577b-519d-4c77-858d-09c3b5fac2d1",
     "showTitle": false,
     "tableResultSettingsMap": {},
     "title": ""
    },
    "id": "9FxBzABtOAzL"
   },
   "source": [
    "<font color='gray'>This section is for self-study and will not be discussed in class.\n",
    "\n",
    "For many of the more popular APIs, someone has written a **Python Module** that allows you to work with the API more conveniently. For example, there is a **``wikipedia`` module** to work with the Wikipedia API (see here for a documentation: https://pypi.org/project/wikipedia/):"
   ]
  },
  {
   "cell_type": "code",
   "execution_count": 0,
   "metadata": {
    "application/vnd.databricks.v1+cell": {
     "cellMetadata": {},
     "inputWidgets": {},
     "nuid": "48296664-ad30-41bb-8ad4-9c161d2d9b2e",
     "showTitle": false,
     "tableResultSettingsMap": {},
     "title": ""
    },
    "id": "OMTcRwNZPCmv"
   },
   "outputs": [],
   "source": [
    "# install and import wikipedia module\n",
    "!pip install wikipedia # When ! is being added at the beginning the statement is performed in the command-line!\n",
    "import wikipedia"
   ]
  },
  {
   "cell_type": "code",
   "execution_count": 0,
   "metadata": {
    "application/vnd.databricks.v1+cell": {
     "cellMetadata": {},
     "inputWidgets": {},
     "nuid": "4e592733-ae73-4b14-b729-807e0db06cdd",
     "showTitle": false,
     "tableResultSettingsMap": {},
     "title": ""
    },
    "id": "nu5ryId6PF2z"
   },
   "outputs": [],
   "source": [
    "# Search for pages about cats\n",
    "wikipedia.search(\"Cat\") # only first 10 results by default"
   ]
  },
  {
   "cell_type": "code",
   "execution_count": 0,
   "metadata": {
    "application/vnd.databricks.v1+cell": {
     "cellMetadata": {},
     "inputWidgets": {},
     "nuid": "37a4771c-4326-492f-a831-f88b9f9f615d",
     "showTitle": false,
     "tableResultSettingsMap": {},
     "title": ""
    },
    "id": "cqrf87_VQagL"
   },
   "outputs": [],
   "source": [
    "# Get contents of cat page\n",
    "wikipedia.page('Cat', auto_suggest=False).content"
   ]
  },
  {
   "cell_type": "markdown",
   "metadata": {
    "application/vnd.databricks.v1+cell": {
     "cellMetadata": {},
     "inputWidgets": {},
     "nuid": "dd50f0f9-eab0-4a85-82c2-7386f74ab8bb",
     "showTitle": false,
     "tableResultSettingsMap": {},
     "title": ""
    },
    "id": "RSPOb7MwRLCk"
   },
   "source": [
    "Such modules can be very convenient if you want to perform simple requests. However, they are often not very flexible and may not always allow you to make the requests you would like to perform. <font color='red'>Moreover, the quality may vary (anyone can program and upload such a module) as the following example shows:</font>"
   ]
  },
  {
   "cell_type": "code",
   "execution_count": 0,
   "metadata": {
    "application/vnd.databricks.v1+cell": {
     "cellMetadata": {},
     "inputWidgets": {},
     "nuid": "a6b3e3e8-1f9d-4f53-a6c3-756fffaa0607",
     "showTitle": false,
     "tableResultSettingsMap": {},
     "title": ""
    },
    "id": "xFmkv4fYiAVW"
   },
   "outputs": [],
   "source": [
    "#wikipedia.page('Cat') # Search for 'Cat' shows result for 'Can', as auto_suggest parameter is True by default."
   ]
  },
  {
   "cell_type": "markdown",
   "metadata": {
    "application/vnd.databricks.v1+cell": {
     "cellMetadata": {},
     "inputWidgets": {},
     "nuid": "0ff352d4-1f7c-440a-8233-4cccd4b89e46",
     "showTitle": false,
     "tableResultSettingsMap": {},
     "title": ""
    },
    "id": "j2mB0tC5WLfU"
   },
   "source": [
    "---\n",
    "## **<font color='teal'>In-class exercise\\***\n",
    "\n",
    "<font color='gray'>This exercise is for self-study and will not be discussed in class.\n",
    "\n",
    ">  <font color='teal'> Retrieve 20 Wikipedia pages that are located within a 2 km radius from the main train station in Bern (46.949722°, 7.439444°)"
   ]
  },
  {
   "cell_type": "code",
   "execution_count": 0,
   "metadata": {
    "application/vnd.databricks.v1+cell": {
     "cellMetadata": {},
     "inputWidgets": {},
     "nuid": "8a3ee109-72b8-4a17-a93a-4e874202723a",
     "showTitle": false,
     "tableResultSettingsMap": {},
     "title": ""
    },
    "id": "-Zen6VFiWP1F"
   },
   "outputs": [],
   "source": []
  },
  {
   "cell_type": "code",
   "execution_count": 0,
   "metadata": {
    "application/vnd.databricks.v1+cell": {
     "cellMetadata": {},
     "inputWidgets": {},
     "nuid": "1e8aab14-5f6a-4bc8-a4f4-90bf8f4dac29",
     "showTitle": false,
     "tableResultSettingsMap": {},
     "title": ""
    },
    "id": "W8KlRXWR1ZTH"
   },
   "outputs": [],
   "source": []
  },
  {
   "cell_type": "markdown",
   "metadata": {
    "application/vnd.databricks.v1+cell": {
     "cellMetadata": {},
     "inputWidgets": {},
     "nuid": "64f00564-d286-4f58-bbad-3d5eb971b299",
     "showTitle": false,
     "tableResultSettingsMap": {},
     "title": ""
    },
    "id": "SVS0_l9mTUq8"
   },
   "source": [
    ">  <font color='teal'> How far is each place from the train station? Create a dictionnary (or a pandas DataFrame) that shows the distances for all the pages you found."
   ]
  },
  {
   "cell_type": "code",
   "execution_count": 0,
   "metadata": {
    "application/vnd.databricks.v1+cell": {
     "cellMetadata": {},
     "inputWidgets": {},
     "nuid": "4fc74bb1-c61d-4a21-b577-23ca924b9fcc",
     "showTitle": false,
     "tableResultSettingsMap": {},
     "title": ""
    },
    "id": "wu_YP6q0S-h_"
   },
   "outputs": [],
   "source": []
  },
  {
   "cell_type": "code",
   "execution_count": 0,
   "metadata": {
    "application/vnd.databricks.v1+cell": {
     "cellMetadata": {},
     "inputWidgets": {},
     "nuid": "0e6eb850-48ec-4ab2-9b27-3d4044bbeedb",
     "showTitle": false,
     "tableResultSettingsMap": {},
     "title": ""
    },
    "id": "ILZ32EycSr0w"
   },
   "outputs": [],
   "source": []
  },
  {
   "cell_type": "code",
   "execution_count": 0,
   "metadata": {
    "application/vnd.databricks.v1+cell": {
     "cellMetadata": {},
     "inputWidgets": {},
     "nuid": "1b017ffb-681d-4997-a61c-f1c9e7c2403f",
     "showTitle": false,
     "tableResultSettingsMap": {},
     "title": ""
    },
    "id": "5q69EkTyHdTE"
   },
   "outputs": [],
   "source": []
  },
  {
   "cell_type": "markdown",
   "metadata": {
    "application/vnd.databricks.v1+cell": {
     "cellMetadata": {},
     "inputWidgets": {},
     "nuid": "4205d6f0-d7e3-4294-9fdd-ea0147891b44",
     "showTitle": false,
     "tableResultSettingsMap": {},
     "title": ""
    },
    "id": "WUEJZTQ4WQ3N"
   },
   "source": [
    "\n",
    "\n",
    "---\n",
    "\n"
   ]
  },
  {
   "cell_type": "markdown",
   "metadata": {
    "application/vnd.databricks.v1+cell": {
     "cellMetadata": {},
     "inputWidgets": {},
     "nuid": "29402555-8b26-4e0a-9816-293097e02f4d",
     "showTitle": false,
     "tableResultSettingsMap": {},
     "title": ""
    },
    "id": "85yXHaH-X6Lx"
   },
   "source": [
    "## Working with APIs in practice"
   ]
  },
  {
   "cell_type": "markdown",
   "metadata": {
    "application/vnd.databricks.v1+cell": {
     "cellMetadata": {},
     "inputWidgets": {},
     "nuid": "28df46c8-e2b2-41f6-a87b-1cae81dbcef0",
     "showTitle": false,
     "tableResultSettingsMap": {},
     "title": ""
    },
    "id": "URLakgjKUJA-"
   },
   "source": [
    "Now we have seen many different ways to retrieve data from the web and you might be asking yourself: When should I do web scraping? When should I use an API? When should I use a Python module (that accesses an API)?"
   ]
  },
  {
   "cell_type": "markdown",
   "metadata": {
    "application/vnd.databricks.v1+cell": {
     "cellMetadata": {},
     "inputWidgets": {},
     "nuid": "10938b30-a946-4949-8200-f596c76d507f",
     "showTitle": false,
     "tableResultSettingsMap": {},
     "title": ""
    },
    "id": "IlawQ0stVXQw"
   },
   "source": [
    "Or course, this depends on your project and on your preferences, but here's a rule of thumb:\n",
    "\n",
    "* Whenever there is an **API**, it is usually easier to work with it than to scrape the pages. Also, some data is only really accessible through APIs (e.g. if you want to retrieve all tweets about a certain topic on Twitter). So if there's an API, it's usually (but of course not always) a good idea to use it!\n",
    "\n",
    "* If there's a **Python library** for the API, it is a good idea to check it out and see what it can do. If it suits your needs, it may save you a lot of work (reading the API documentation etc.). However, some people prefer to work directly with the API to keep full control over their implementation.\n",
    "\n",
    "* **Web scraping** is useful when there is no API, which is the case for most websites. For some tasks, you may also find it easier to just scrape the pages instead of trying to find out how the API works.\n",
    "\n"
   ]
  },
  {
   "cell_type": "markdown",
   "metadata": {
    "application/vnd.databricks.v1+cell": {
     "cellMetadata": {},
     "inputWidgets": {},
     "nuid": "87c851d9-4b18-43ae-b993-9f18cc25e734",
     "showTitle": false,
     "tableResultSettingsMap": {},
     "title": ""
    },
    "id": "_86BDYZ2A3z6"
   },
   "source": [
    "When you start working with other APIs you will notice that each one works a bit differently. For example, many APIs require **authentication** (e.g. Twitter API, Google Maps API, Facebook API etc.). This means that you will first have to create a \"developer account\" and will then get some credentials you have to include into your request. You will have to read the documentation of the API (or some blog or answer on Stack Overflow) to find out how this works for the API you are interested in. Also, not all APIs give you **free access** to all the data. For example, the Google Maps API will start to charge you a price after a certain amount of requests, so be careful with your implementation."
   ]
  },
  {
   "cell_type": "markdown",
   "metadata": {
    "application/vnd.databricks.v1+cell": {
     "cellMetadata": {},
     "inputWidgets": {},
     "nuid": "db17be6a-a21a-44f7-8ad2-74b2eedb2a52",
     "showTitle": false,
     "tableResultSettingsMap": {},
     "title": ""
    },
    "id": "sESJcMRBqd1V"
   },
   "source": [
    "APIs are becoming increasingly common and larger providers usually have one (or several). Here are some **APIs you may find useful for future research projects**:"
   ]
  },
  {
   "cell_type": "markdown",
   "metadata": {
    "application/vnd.databricks.v1+cell": {
     "cellMetadata": {},
     "inputWidgets": {},
     "nuid": "c1e0c29f-c619-4112-9aa0-85e0fc1d14d9",
     "showTitle": false,
     "tableResultSettingsMap": {},
     "title": ""
    },
    "id": "t9mCCAFysbM7"
   },
   "source": [
    "| Name | Link | Python Module(s) |\n",
    "| --- | --- | --- |\n",
    "| Wikipedia API | https://www.mediawiki.org/wiki/API:Main_page | wikipedia, Wikipedia-API |\n",
    "| Twitter API | https://developer.twitter.com/en/docs/twitter-api | twitter, tweepy |\n",
    " Google Maps API| https://developers.google.com/maps/documentation | python-gmaps|\n",
    "| LinkedIn API|https://www.linkedin.com/developers/|python-linkedin-v2|\n",
    "| New York Times API|https://developer.nytimes.com/apis| pynytimes|\n",
    "| The Guardian API |https://open-platform.theguardian.com/documentation/||\n",
    "| Google Trends (no official API) | https://towardsdatascience.com/google-trends-api-for-python-a84bc25db88f | pytrends|\n",
    "\n"
   ]
  },
  {
   "cell_type": "markdown",
   "metadata": {
    "application/vnd.databricks.v1+cell": {
     "cellMetadata": {},
     "inputWidgets": {},
     "nuid": "1e66fd6d-a546-419d-8b6d-1ec7cdca6aba",
     "showTitle": false,
     "tableResultSettingsMap": {},
     "title": ""
    },
    "id": "9R-2C_2yVDvn"
   },
   "source": [
    "---\n",
    "## **<font color='teal'>In-class exercise\\***\n",
    "\n",
    "<font color='gray'>This exercise is for self-study and will not be discussed in class.\n",
    "\n",
    ">  <font color='teal'>\n",
    "Choose an API (e.g., from the list above or based on your own ideas/research) and try to find out how it works:\n",
    "\n",
    "> - Is it free of charge?\n",
    "> - Does it require authentication (i.e., do you need to crate an account, generate access tokens etc.)?\n",
    "> - What can it do (that might be interesting for a data science project)?\n",
    "> - Where can you find the documentation?\n",
    "> - Is there a Python module that facilitates working with the API?\n",
    "\n",
    ">  <font color='teal'>If there is time (and the API is free): Try to make a request through the API.\n",
    ">\n",
    ">  <font color='teal'>You may work in groups!"
   ]
  }
 ],
 "metadata": {
  "application/vnd.databricks.v1+notebook": {
   "computePreferences": null,
   "dashboards": [],
   "environmentMetadata": null,
   "inputWidgetPreferences": null,
   "language": "python",
   "notebookMetadata": {},
   "notebookName": "2-APIs",
   "widgets": {}
  },
  "colab": {
   "provenance": [],
   "toc_visible": true
  },
  "kernelspec": {
   "display_name": "Python 3",
   "name": "python3"
  },
  "language_info": {
   "name": "python"
  }
 },
 "nbformat": 4,
 "nbformat_minor": 0
}
