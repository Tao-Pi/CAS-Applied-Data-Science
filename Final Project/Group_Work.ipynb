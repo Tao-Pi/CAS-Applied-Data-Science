{
 "cells": [
  {
   "cell_type": "markdown",
   "metadata": {
    "application/vnd.databricks.v1+cell": {
     "cellMetadata": {
      "byteLimit": 2048000,
      "rowLimit": 10000
     },
     "inputWidgets": {},
     "nuid": "919d6a04-380d-4219-a636-d1ed27effbc1",
     "showTitle": false,
     "tableResultSettingsMap": {},
     "title": ""
    }
   },
   "source": [
    "# Data Acquisition (ETL) - test\n",
    "\n",
    "**Starting Point:**  \n",
    "The article data originates from a Kafka datastream. It is not normalized (so it cannot be analyzed directly) and requires Active Directory login (making collaboration difficult).  \n",
    "- [View Kafka topic data (AKHQ)](https://akhq.pdp.production.admin.srgssr.ch/ui/strimzi/topic/articles-v2/data?sort=NEWEST&partition=All)\n",
    "\n",
    "- **Processing steps:**  \n",
    "  1. Read article data from the Delta table populated from Kafka.\n",
    "  2. Flatten and transform nested fields (e.g., titles, resources, contributors) using a SQL view.\n",
    "  3. Create a Spark DataFrame from the flattened view and inspect the results.\n",
    "  4. Write the DataFrame to a Delta table for analytics and automation.\n",
    "  5. Export a <25MB Parquet sample with only public data for sharing (e.g., via GitHub).\n",
    "\n",
    "**Goal:**  \n",
    "The data should be available as a Parquet file for sharing. Since the dataset is large (5GB), only a public sample is exported for easy distribution.\n",
    "\n",
    "**Access Control:**  \n",
    "To guarantee data integrity and protect sensitive information, data distribution is based on user access rights. Entitled users can access the full confidential dataset, while restricted users are provided with only the public sample. This ensures that only authorized users can view sensitive data, maintaining compliance and data security."
   ]
  },
  {
   "cell_type": "markdown",
   "metadata": {
    "application/vnd.databricks.v1+cell": {
     "cellMetadata": {
      "byteLimit": 2048000,
      "rowLimit": 10000
     },
     "inputWidgets": {},
     "nuid": "f35abc26-aae0-4cc6-b0b5-4ff0d3bca2ae",
     "showTitle": false,
     "tableResultSettingsMap": {},
     "title": ""
    }
   },
   "source": [
    "## Step-01: Read from Kafka (SQL)\n",
    "\n",
    "The following steps read article data from the Delta table `udp_prd_atomic.pdp.articles_v2`, which is assumed to be populated from a Kafka stream. The original Kafka data contains nested lists and complex structures (e.g., for multilingual fields or arrays of resources). In the transformation, the SQL view `articles_flat` flattens this nested data by extracting relevant fields and, where multiple values exist (such as for titles in different languages), selects the first available entry—typically prioritizing German (`'de'`) or otherwise the first value. This process prepares the data, along with Kafka metadata (key, topic, partition, offset, timestamp), for further analysis in a flat, tabular format."
   ]
  },
  {
   "cell_type": "markdown",
   "metadata": {
    "application/vnd.databricks.v1+cell": {
     "cellMetadata": {
      "byteLimit": 2048000,
      "rowLimit": 10000
     },
     "inputWidgets": {},
     "nuid": "bbf8dd3b-2ede-4d29-8400-9538c6d279b5",
     "showTitle": false,
     "tableResultSettingsMap": {},
     "title": ""
    }
   },
   "source": [
    "## Step-02: Create DataFrame and Visually Inspect Results\n",
    "\n",
    "The code below runs a Spark SQL query against the temporary view `articles_flat`, loads the result into a Spark DataFrame named `df`, and then displays the DataFrame for visual inspection. This step materializes the flattened article data so it can be further processed or written to a Delta table."
   ]
  },
  {
   "cell_type": "markdown",
   "metadata": {
    "application/vnd.databricks.v1+cell": {
     "cellMetadata": {
      "byteLimit": 2048000,
      "rowLimit": 10000
     },
     "inputWidgets": {},
     "nuid": "6e96a63a-ade2-4735-a697-bd4f3e60ea82",
     "showTitle": false,
     "tableResultSettingsMap": {},
     "title": ""
    }
   },
   "source": [
    "## Step-03: Save Data to Delta Table\n",
    "\n",
    "In the next steps, the data will be saved both to a Delta table (for better automation and analytics)."
   ]
  },
  {
   "cell_type": "markdown",
   "metadata": {
    "application/vnd.databricks.v1+cell": {
     "cellMetadata": {
      "byteLimit": 2048000,
      "rowLimit": 10000
     },
     "inputWidgets": {},
     "nuid": "06aab4d4-2ceb-40e9-baa2-e40589325f8d",
     "showTitle": false,
     "tableResultSettingsMap": {},
     "title": ""
    }
   },
   "source": [
    "### Write to (private) Delta Table - all articles\n",
    "\n",
    "The following code appends the transformed DataFrame `df` to the Delta table `swi_audience_prd.pdp_articles_v2.articles_v2`. It writes in **append** mode, uses the **Delta** format, and enables **schema merging** so that any new columns are automatically added to the target table without overwriting existing data.\n",
    "\n",
    "- Contains all articles (**confidential**)"
   ]
  },
  {
   "cell_type": "markdown",
   "metadata": {
    "application/vnd.databricks.v1+cell": {
     "cellMetadata": {
      "byteLimit": 2048000,
      "rowLimit": 10000
     },
     "inputWidgets": {},
     "nuid": "7a6e6098-965f-4ad5-b8aa-79264468c1d8",
     "showTitle": false,
     "tableResultSettingsMap": {},
     "title": ""
    }
   },
   "source": [
    "\n",
    "### Write to (public) Parquet File - selected articles, manually Upload to GitHub\n",
    "\n",
    "Export a <25 MB sample of the data with only public data as a Parquet file for easy sharing via GitHub.  \n",
    "**Note:** The Parquet file must be manually downloaded from Databricks and then uploaded to your GitHub repository."
   ]
  },
  {
   "cell_type": "markdown",
   "metadata": {
    "application/vnd.databricks.v1+cell": {
     "cellMetadata": {
      "byteLimit": 2048000,
      "rowLimit": 10000
     },
     "inputWidgets": {},
     "nuid": "d5409a74-7842-49e5-9a43-56626ee9ea3e",
     "showTitle": false,
     "tableResultSettingsMap": {},
     "title": ""
    }
   },
   "source": [
    "...now manually:\n",
    "\n",
    "1. **Open the CSV file in Databricks:**\n",
    "   - Navigate to [Databricks Volume Browser](https://adb-4119964566130471.11.azuredatabricks.net/explore/data/volumes/swi_audience_prd/pdp_articles_v2/pdp_articles_v2_volume?o=4119964566130471) in the Databricks workspace file browser.\n",
    "\n",
    "2. **Download the file:**\n",
    "   - Right-click on `export_articles_v2_sample25mb.parquet` and select **\"Download\"** to save the file to your local machine.\n",
    "\n",
    "3. **Upload the file to GitHub:**\n",
    "   - Go to [GitHub Folder](https://github.com/Tao-Pi/CAS-Applied-Data-Science/tree/main/Module-3/01_Module%20Final%20Assignment).\n",
    "   - Click **\"Add file\"** > **\"Upload files\"**.\n",
    "   - Drag and drop `export_articles_v2_sample25mb.parquet` or use the file picker to select it.\n",
    "   - Commit the changes to upload the file."
   ]
  },
  {
   "cell_type": "markdown",
   "metadata": {
    "application/vnd.databricks.v1+cell": {
     "cellMetadata": {
      "byteLimit": 2048000,
      "rowLimit": 10000
     },
     "inputWidgets": {},
     "nuid": "fca686f8-2f86-434b-9576-c57c9d1b8bf4",
     "showTitle": false,
     "tableResultSettingsMap": {},
     "title": ""
    }
   },
   "source": [
    "\n",
    "## Step-04: Load Data Based on User Rights\n",
    "\n",
    "The next step is to load the data, with access determined by user rights:\n",
    "\n",
    "- **Restricted users** can load only the public data sample (e.g., the Parquet file exported for sharing).\n",
    "- **Entitled users** can load the full, confidential dataset from the Delta table.\n",
    "\n",
    "This ensures that sensitive information is only accessible to authorized users, while still allowing broader access to public data for collaboration and analysis."
   ]
  },
  {
   "cell_type": "code",
   "execution_count": 3,
   "metadata": {},
   "outputs": [
    {
     "name": "stdout",
     "output_type": "stream",
     "text": [
      "Collecting pandas\n",
      "  Downloading pandas-2.3.3-cp310-cp310-manylinux_2_24_x86_64.manylinux_2_28_x86_64.whl (12.8 MB)\n",
      "\u001b[2K     \u001b[90m━━━━━━━━━━━━━━━━━━━━━━━━━━━━━━━━━━━━━━━━\u001b[0m \u001b[32m12.8/12.8 MB\u001b[0m \u001b[31m70.8 MB/s\u001b[0m eta \u001b[36m0:00:00\u001b[0m00:01\u001b[0m00:01\u001b[0m\n",
      "\u001b[?25hCollecting numpy>=1.22.4 (from pandas)\n",
      "  Downloading numpy-2.2.6-cp310-cp310-manylinux_2_17_x86_64.manylinux2014_x86_64.whl (16.8 MB)\n",
      "\u001b[2K     \u001b[90m━━━━━━━━━━━━━━━━━━━━━━━━━━━━━━━━━━━━━━━━\u001b[0m \u001b[32m16.8/16.8 MB\u001b[0m \u001b[31m62.0 MB/s\u001b[0m eta \u001b[36m0:00:00\u001b[0m00:01\u001b[0m00:01\u001b[0m\n",
      "\u001b[?25hRequirement already satisfied: python-dateutil>=2.8.2 in /opt/conda/lib/python3.10/site-packages (from pandas) (2.8.2)\n",
      "Requirement already satisfied: pytz>=2020.1 in /opt/conda/lib/python3.10/site-packages (from pandas) (2023.3)\n",
      "Collecting tzdata>=2022.7 (from pandas)\n",
      "  Downloading tzdata-2025.2-py2.py3-none-any.whl (347 kB)\n",
      "\u001b[2K     \u001b[90m━━━━━━━━━━━━━━━━━━━━━━━━━━━━━━━━━━━━━━\u001b[0m \u001b[32m347.8/347.8 kB\u001b[0m \u001b[31m24.1 MB/s\u001b[0m eta \u001b[36m0:00:00\u001b[0m\n",
      "\u001b[?25hRequirement already satisfied: six>=1.5 in /opt/conda/lib/python3.10/site-packages (from python-dateutil>=2.8.2->pandas) (1.16.0)\n",
      "Installing collected packages: tzdata, numpy, pandas\n",
      "Successfully installed numpy-2.2.6 pandas-2.3.3 tzdata-2025.2\n",
      "Note: you may need to restart the kernel to use updated packages.\n",
      "Collecting pyarrow\n",
      "  Downloading pyarrow-22.0.0-cp310-cp310-manylinux_2_28_x86_64.whl (47.6 MB)\n",
      "\u001b[2K     \u001b[90m━━━━━━━━━━━━━━━━━━━━━━━━━━━━━━━━━━━━━━━━\u001b[0m \u001b[32m47.6/47.6 MB\u001b[0m \u001b[31m8.4 MB/s\u001b[0m eta \u001b[36m0:00:00\u001b[0m:00:01\u001b[0m00:01\u001b[0m\n",
      "\u001b[?25hInstalling collected packages: pyarrow\n",
      "Successfully installed pyarrow-22.0.0\n",
      "Note: you may need to restart the kernel to use updated packages.\n",
      "Collecting fastparquet\n",
      "  Downloading fastparquet-2024.11.0-cp310-cp310-manylinux_2_17_x86_64.manylinux2014_x86_64.whl (1.7 MB)\n",
      "\u001b[2K     \u001b[90m━━━━━━━━━━━━━━━━━━━━━━━━━━━━━━━━━━━━━━━━\u001b[0m \u001b[32m1.7/1.7 MB\u001b[0m \u001b[31m16.0 MB/s\u001b[0m eta \u001b[36m0:00:00\u001b[0m00:01\u001b[0m00:01\u001b[0m\n",
      "\u001b[?25hRequirement already satisfied: pandas>=1.5.0 in /opt/conda/lib/python3.10/site-packages (from fastparquet) (2.3.3)\n",
      "Requirement already satisfied: numpy in /opt/conda/lib/python3.10/site-packages (from fastparquet) (2.2.6)\n",
      "Collecting cramjam>=2.3 (from fastparquet)\n",
      "  Downloading cramjam-2.11.0-cp310-cp310-manylinux_2_17_x86_64.manylinux2014_x86_64.whl (2.0 MB)\n",
      "\u001b[2K     \u001b[90m━━━━━━━━━━━━━━━━━━━━━━━━━━━━━━━━━━━━━━━━\u001b[0m \u001b[32m2.0/2.0 MB\u001b[0m \u001b[31m26.6 MB/s\u001b[0m eta \u001b[36m0:00:00\u001b[0m00:01\u001b[0m00:01\u001b[0m\n",
      "\u001b[?25hCollecting fsspec (from fastparquet)\n",
      "  Downloading fsspec-2025.10.0-py3-none-any.whl (200 kB)\n",
      "\u001b[2K     \u001b[90m━━━━━━━━━━━━━━━━━━━━━━━━━━━━━━━━━━━━━━\u001b[0m \u001b[32m201.0/201.0 kB\u001b[0m \u001b[31m14.5 MB/s\u001b[0m eta \u001b[36m0:00:00\u001b[0m\n",
      "\u001b[?25hRequirement already satisfied: packaging in /opt/conda/lib/python3.10/site-packages (from fastparquet) (23.1)\n",
      "Requirement already satisfied: python-dateutil>=2.8.2 in /opt/conda/lib/python3.10/site-packages (from pandas>=1.5.0->fastparquet) (2.8.2)\n",
      "Requirement already satisfied: pytz>=2020.1 in /opt/conda/lib/python3.10/site-packages (from pandas>=1.5.0->fastparquet) (2023.3)\n",
      "Requirement already satisfied: tzdata>=2022.7 in /opt/conda/lib/python3.10/site-packages (from pandas>=1.5.0->fastparquet) (2025.2)\n",
      "Requirement already satisfied: six>=1.5 in /opt/conda/lib/python3.10/site-packages (from python-dateutil>=2.8.2->pandas>=1.5.0->fastparquet) (1.16.0)\n",
      "Installing collected packages: fsspec, cramjam, fastparquet\n",
      "Successfully installed cramjam-2.11.0 fastparquet-2024.11.0 fsspec-2025.10.0\n",
      "Note: you may need to restart the kernel to use updated packages.\n"
     ]
    }
   ],
   "source": [
    "%pip install pandas\n",
    "%pip install pyarrow\n",
    "%pip install fastparquet\n",
    "#%pip install -U sentence-transformers torch safetensors accelerate\n"
   ]
  },
  {
   "cell_type": "code",
   "execution_count": 4,
   "metadata": {
    "application/vnd.databricks.v1+cell": {
     "cellMetadata": {
      "byteLimit": 2048000,
      "rowLimit": 10000
     },
     "inputWidgets": {},
     "nuid": "c0706526-3796-466a-99d7-7ab6b3ff5026",
     "showTitle": false,
     "tableResultSettingsMap": {},
     "title": ""
    }
   },
   "outputs": [],
   "source": [
    "import pandas as pd\n",
    "url = \"https://github.com/Tao-Pi/CAS-Applied-Data-Science/raw/main/Module-3/01_Module%20Final%20Assignment/export_articles_v2_sample25mb.parquet\"\n",
    "srgssr_article_corpus = pd.read_parquet(url, engine=\"fastparquet\")"
   ]
  },
  {
   "cell_type": "code",
   "execution_count": 5,
   "metadata": {},
   "outputs": [],
   "source": [
    "has_read_access_udp_articles_v2 = False"
   ]
  },
  {
   "cell_type": "markdown",
   "metadata": {
    "application/vnd.databricks.v1+cell": {
     "cellMetadata": {
      "byteLimit": 2048000,
      "rowLimit": 10000
     },
     "inputWidgets": {},
     "nuid": "68d121c8-4b18-4d6e-827d-7d9b240da360",
     "showTitle": false,
     "tableResultSettingsMap": {},
     "title": ""
    }
   },
   "source": [
    "# Dataset Overview\n",
    "\n",
    "In this chapter, we provide a brief overview of the dataset used for analysis. We indicate whether the loaded dataset is the full confidential version or the public sample, report the total number of articles available, and present a first look at the articles data to understand its structure and content.\n"
   ]
  },
  {
   "cell_type": "markdown",
   "metadata": {
    "application/vnd.databricks.v1+cell": {
     "cellMetadata": {
      "byteLimit": 2048000,
      "rowLimit": 10000
     },
     "inputWidgets": {},
     "nuid": "e0836948-a298-4a9d-b408-a8f3fd8c97f5",
     "showTitle": false,
     "tableResultSettingsMap": {},
     "title": ""
    }
   },
   "source": [
    "## Step 1: Check Dataset Version (Confidential vs Public)\n",
    "\n",
    "Here we check and indicate whether the loaded dataset is the full confidential version or the public sample."
   ]
  },
  {
   "cell_type": "code",
   "execution_count": 6,
   "metadata": {
    "application/vnd.databricks.v1+cell": {
     "cellMetadata": {
      "byteLimit": 2048000,
      "rowLimit": 10000
     },
     "inputWidgets": {},
     "nuid": "a60a1ebc-6a6d-4e81-bfe5-d956f13f8e05",
     "showTitle": false,
     "tableResultSettingsMap": {},
     "title": ""
    }
   },
   "outputs": [
    {
     "name": "stdout",
     "output_type": "stream",
     "text": [
      "congrats: you have successfully read the publically available (sampled) data set. This contains an excerpt of more than 11 thousand articles within SRG-SSR as plain text together with some relevant metadata. You can access the dataframe object by calling 'srgssr_article_corpus' from Python now.\n"
     ]
    }
   ],
   "source": [
    "def format_rowcount(n):\n",
    "    if n >= 1_000_000:\n",
    "        return f\"more than {n // 1_000_000} million\"\n",
    "    elif n >= 1_000:\n",
    "        return f\"more than {n // 1_000} thousand\"\n",
    "        return f\"more than {n // 1_000_000} Mio.\"\n",
    "    elif n >= 1_000:\n",
    "        return f\"more than {n // 1_000} Tsd.\"\n",
    "    else:\n",
    "        return f\"{n}\"\n",
    "\n",
    "if has_read_access_udp_articles_v2:\n",
    "    rowcount = srgssr_article_corpus.count()\n",
    "    print(f\"congrats: you have successfully read the full data set. This contains the full corpus of {format_rowcount(rowcount)} Articles published by SRG-SSR as plain text together with some relevant metadata. You can access the dataframe object by calling 'srgssr_article_corpus' from Python now.\")\n",
    "else:\n",
    "    if isinstance(srgssr_article_corpus, pd.DataFrame):\n",
    "        rowcount = len(srgssr_article_corpus)\n",
    "    else:\n",
    "        rowcount = srgssr_article_corpus.count()\n",
    "    print(f\"congrats: you have successfully read the publically available (sampled) data set. This contains an excerpt of {format_rowcount(rowcount)} articles within SRG-SSR as plain text together with some relevant metadata. You can access the dataframe object by calling 'srgssr_article_corpus' from Python now.\")"
   ]
  },
  {
   "cell_type": "markdown",
   "metadata": {
    "application/vnd.databricks.v1+cell": {
     "cellMetadata": {
      "byteLimit": 2048000,
      "rowLimit": 10000
     },
     "inputWidgets": {},
     "nuid": "7446805d-88cc-41ba-a63e-8b91905fab1e",
     "showTitle": false,
     "tableResultSettingsMap": {},
     "title": ""
    }
   },
   "source": [
    "\n",
    "## Step 2: Overview of the Data\n",
    "\n",
    "In this step, we provide an overview of the data contained in the loaded dataset. This includes a summary of the available articles and a first look at their structure and content."
   ]
  },
  {
   "cell_type": "code",
   "execution_count": 7,
   "metadata": {
    "application/vnd.databricks.v1+cell": {
     "cellMetadata": {
      "byteLimit": 2048000,
      "rowLimit": 10000
     },
     "inputWidgets": {},
     "nuid": "7c41c756-4f7a-4617-bf25-bf39bed8a164",
     "showTitle": false,
     "tableResultSettingsMap": {},
     "title": ""
    }
   },
   "outputs": [
    {
     "data": {
      "text/html": [
       "<div>\n",
       "<style scoped>\n",
       "    .dataframe tbody tr th:only-of-type {\n",
       "        vertical-align: middle;\n",
       "    }\n",
       "\n",
       "    .dataframe tbody tr th {\n",
       "        vertical-align: top;\n",
       "    }\n",
       "\n",
       "    .dataframe thead th {\n",
       "        text-align: right;\n",
       "    }\n",
       "</style>\n",
       "<table border=\"1\" class=\"dataframe\">\n",
       "  <thead>\n",
       "    <tr style=\"text-align: right;\">\n",
       "      <th></th>\n",
       "      <th>column</th>\n",
       "      <th>type</th>\n",
       "      <th>example</th>\n",
       "    </tr>\n",
       "  </thead>\n",
       "  <tbody>\n",
       "    <tr>\n",
       "      <th>0</th>\n",
       "      <td>id</td>\n",
       "      <td>object</td>\n",
       "      <td>urn:pdp:cue_rsi:article:rsi:cue:story:3238385</td>\n",
       "    </tr>\n",
       "    <tr>\n",
       "      <th>1</th>\n",
       "      <td>publisher</td>\n",
       "      <td>object</td>\n",
       "      <td>RSI</td>\n",
       "    </tr>\n",
       "    <tr>\n",
       "      <th>2</th>\n",
       "      <td>provenance</td>\n",
       "      <td>object</td>\n",
       "      <td>CUE_RSI</td>\n",
       "    </tr>\n",
       "    <tr>\n",
       "      <th>3</th>\n",
       "      <td>modificationDate</td>\n",
       "      <td>datetime64[ns]</td>\n",
       "      <td>2025-11-17 15:48:25</td>\n",
       "    </tr>\n",
       "    <tr>\n",
       "      <th>4</th>\n",
       "      <td>releaseDate</td>\n",
       "      <td>datetime64[ns]</td>\n",
       "      <td>2025-10-29 15:48:31</td>\n",
       "    </tr>\n",
       "    <tr>\n",
       "      <th>5</th>\n",
       "      <td>title_auto</td>\n",
       "      <td>object</td>\n",
       "      <td>L’amore oltre le sbarre</td>\n",
       "    </tr>\n",
       "    <tr>\n",
       "      <th>6</th>\n",
       "      <td>lead_auto</td>\n",
       "      <td>object</td>\n",
       "      <td>Veronica Barbato fotografa la vita tormentata ...</td>\n",
       "    </tr>\n",
       "    <tr>\n",
       "      <th>7</th>\n",
       "      <td>kicker_auto</td>\n",
       "      <td>object</td>\n",
       "      <td>Fotografia e carceri</td>\n",
       "    </tr>\n",
       "    <tr>\n",
       "      <th>8</th>\n",
       "      <td>id_urn</td>\n",
       "      <td>object</td>\n",
       "      <td>None</td>\n",
       "    </tr>\n",
       "    <tr>\n",
       "      <th>9</th>\n",
       "      <td>id_srg</td>\n",
       "      <td>object</td>\n",
       "      <td>None</td>\n",
       "    </tr>\n",
       "    <tr>\n",
       "      <th>10</th>\n",
       "      <td>picture_url</td>\n",
       "      <td>object</td>\n",
       "      <td>None</td>\n",
       "    </tr>\n",
       "    <tr>\n",
       "      <th>11</th>\n",
       "      <td>content_text_csv</td>\n",
       "      <td>object</td>\n",
       "      <td>“Buonanotte” era una trasmissione di una radio...</td>\n",
       "    </tr>\n",
       "    <tr>\n",
       "      <th>12</th>\n",
       "      <td>contributors_csv</td>\n",
       "      <td>object</td>\n",
       "      <td>Author</td>\n",
       "    </tr>\n",
       "    <tr>\n",
       "      <th>13</th>\n",
       "      <td>resources_locator_urls_csv</td>\n",
       "      <td>object</td>\n",
       "      <td>https://www.rsi.ch/s/3238385</td>\n",
       "    </tr>\n",
       "    <tr>\n",
       "      <th>14</th>\n",
       "      <td>keywords_csv</td>\n",
       "      <td>object</td>\n",
       "      <td>CULTURA</td>\n",
       "    </tr>\n",
       "    <tr>\n",
       "      <th>15</th>\n",
       "      <td>key</td>\n",
       "      <td>object</td>\n",
       "      <td>urn:pdp:cue_rsi:article:rsi:cue:story:3238385</td>\n",
       "    </tr>\n",
       "    <tr>\n",
       "      <th>16</th>\n",
       "      <td>topic</td>\n",
       "      <td>object</td>\n",
       "      <td>articles-v2</td>\n",
       "    </tr>\n",
       "    <tr>\n",
       "      <th>17</th>\n",
       "      <td>partition</td>\n",
       "      <td>int32</td>\n",
       "      <td>6</td>\n",
       "    </tr>\n",
       "    <tr>\n",
       "      <th>18</th>\n",
       "      <td>offset</td>\n",
       "      <td>int64</td>\n",
       "      <td>897052</td>\n",
       "    </tr>\n",
       "    <tr>\n",
       "      <th>19</th>\n",
       "      <td>timestamp</td>\n",
       "      <td>datetime64[ns]</td>\n",
       "      <td>2025-10-29 15:55:20.290000</td>\n",
       "    </tr>\n",
       "  </tbody>\n",
       "</table>\n",
       "</div>"
      ],
      "text/plain": [
       "                        column            type  \\\n",
       "0                           id          object   \n",
       "1                    publisher          object   \n",
       "2                   provenance          object   \n",
       "3             modificationDate  datetime64[ns]   \n",
       "4                  releaseDate  datetime64[ns]   \n",
       "5                   title_auto          object   \n",
       "6                    lead_auto          object   \n",
       "7                  kicker_auto          object   \n",
       "8                       id_urn          object   \n",
       "9                       id_srg          object   \n",
       "10                 picture_url          object   \n",
       "11            content_text_csv          object   \n",
       "12            contributors_csv          object   \n",
       "13  resources_locator_urls_csv          object   \n",
       "14                keywords_csv          object   \n",
       "15                         key          object   \n",
       "16                       topic          object   \n",
       "17                   partition           int32   \n",
       "18                      offset           int64   \n",
       "19                   timestamp  datetime64[ns]   \n",
       "\n",
       "                                              example  \n",
       "0       urn:pdp:cue_rsi:article:rsi:cue:story:3238385  \n",
       "1                                                 RSI  \n",
       "2                                             CUE_RSI  \n",
       "3                                 2025-11-17 15:48:25  \n",
       "4                                 2025-10-29 15:48:31  \n",
       "5                             L’amore oltre le sbarre  \n",
       "6   Veronica Barbato fotografa la vita tormentata ...  \n",
       "7                               Fotografia e carceri   \n",
       "8                                                None  \n",
       "9                                                None  \n",
       "10                                               None  \n",
       "11  “Buonanotte” era una trasmissione di una radio...  \n",
       "12                                             Author  \n",
       "13                       https://www.rsi.ch/s/3238385  \n",
       "14                                            CULTURA  \n",
       "15      urn:pdp:cue_rsi:article:rsi:cue:story:3238385  \n",
       "16                                        articles-v2  \n",
       "17                                                  6  \n",
       "18                                             897052  \n",
       "19                         2025-10-29 15:55:20.290000  "
      ]
     },
     "execution_count": 7,
     "metadata": {},
     "output_type": "execute_result"
    }
   ],
   "source": [
    "# Falls DataFrame leer ist → leeres dict\n",
    "first_row = srgssr_article_corpus.iloc[0].to_dict() if not srgssr_article_corpus.empty else {}\n",
    "\n",
    "cols_info = [\n",
    "    {\n",
    "        \"column\": col,\n",
    "        \"type\": str(dtype),\n",
    "        \"example\": first_row.get(col, None)\n",
    "    }\n",
    "    for col, dtype in srgssr_article_corpus.dtypes.items()\n",
    "]\n",
    "\n",
    "# Schön anzeigen\n",
    "import pandas as pd\n",
    "pd.DataFrame(cols_info).head(20)\n"
   ]
  },
  {
   "cell_type": "markdown",
   "metadata": {
    "application/vnd.databricks.v1+cell": {
     "cellMetadata": {
      "byteLimit": 2048000,
      "rowLimit": 10000
     },
     "inputWidgets": {},
     "nuid": "5c53db45-2261-4f45-91ca-1196a86775ec",
     "showTitle": false,
     "tableResultSettingsMap": {},
     "title": ""
    }
   },
   "source": [
    "## Step 3: A Closer Look\n",
    "\n",
    "In this step, we take a deeper look at the loaded dataset, exploring its structure and content in more detail."
   ]
  },
  {
   "cell_type": "code",
   "execution_count": 8,
   "metadata": {
    "application/vnd.databricks.v1+cell": {
     "cellMetadata": {
      "byteLimit": 2048000,
      "rowLimit": 10000
     },
     "inputWidgets": {},
     "nuid": "23bfcf1f-6b0c-4056-b427-7f336aad844e",
     "showTitle": false,
     "tableResultSettingsMap": {
      "0": {
       "dataGridStateBlob": "{\"version\":1,\"tableState\":{\"columnPinning\":{\"left\":[\"#row_number#\"],\"right\":[]},\"columnSizing\":{},\"columnVisibility\":{}},\"settings\":{\"columns\":{\"picture_url\":{\"format\":{\"preset\":\"string-preset-url\"}},\"resources_locator_urls_csv\":{\"format\":{\"preset\":\"string-preset-url\"}}}},\"syncTimestamp\":1761747471537}",
       "filterBlob": null,
       "queryPlanFiltersBlob": null,
       "tableResultIndex": 0
      }
     },
     "title": ""
    }
   },
   "outputs": [
    {
     "data": {
      "text/html": [
       "<div>\n",
       "<style scoped>\n",
       "    .dataframe tbody tr th:only-of-type {\n",
       "        vertical-align: middle;\n",
       "    }\n",
       "\n",
       "    .dataframe tbody tr th {\n",
       "        vertical-align: top;\n",
       "    }\n",
       "\n",
       "    .dataframe thead th {\n",
       "        text-align: right;\n",
       "    }\n",
       "</style>\n",
       "<table border=\"1\" class=\"dataframe\">\n",
       "  <thead>\n",
       "    <tr style=\"text-align: right;\">\n",
       "      <th></th>\n",
       "      <th>id</th>\n",
       "      <th>publisher</th>\n",
       "      <th>provenance</th>\n",
       "      <th>modificationDate</th>\n",
       "      <th>releaseDate</th>\n",
       "      <th>title_auto</th>\n",
       "      <th>lead_auto</th>\n",
       "      <th>kicker_auto</th>\n",
       "      <th>id_urn</th>\n",
       "      <th>id_srg</th>\n",
       "      <th>picture_url</th>\n",
       "      <th>content_text_csv</th>\n",
       "      <th>contributors_csv</th>\n",
       "      <th>resources_locator_urls_csv</th>\n",
       "      <th>keywords_csv</th>\n",
       "      <th>key</th>\n",
       "      <th>topic</th>\n",
       "      <th>partition</th>\n",
       "      <th>offset</th>\n",
       "      <th>timestamp</th>\n",
       "    </tr>\n",
       "  </thead>\n",
       "  <tbody>\n",
       "    <tr>\n",
       "      <th>0</th>\n",
       "      <td>urn:pdp:cue_rsi:article:rsi:cue:story:3238385</td>\n",
       "      <td>RSI</td>\n",
       "      <td>CUE_RSI</td>\n",
       "      <td>2025-11-17 15:48:25.000</td>\n",
       "      <td>2025-10-29 15:48:31</td>\n",
       "      <td>L’amore oltre le sbarre</td>\n",
       "      <td>Veronica Barbato fotografa la vita tormentata ...</td>\n",
       "      <td>Fotografia e carceri</td>\n",
       "      <td>None</td>\n",
       "      <td>None</td>\n",
       "      <td>None</td>\n",
       "      <td>“Buonanotte” era una trasmissione di una radio...</td>\n",
       "      <td>Author</td>\n",
       "      <td>https://www.rsi.ch/s/3238385</td>\n",
       "      <td>CULTURA</td>\n",
       "      <td>urn:pdp:cue_rsi:article:rsi:cue:story:3238385</td>\n",
       "      <td>articles-v2</td>\n",
       "      <td>6</td>\n",
       "      <td>897052</td>\n",
       "      <td>2025-10-29 15:55:20.290</td>\n",
       "    </tr>\n",
       "    <tr>\n",
       "      <th>1</th>\n",
       "      <td>urn:pdp:cue_rsi:article:rsi:cue:story:3242447</td>\n",
       "      <td>RSI</td>\n",
       "      <td>CUE_RSI</td>\n",
       "      <td>2025-10-31 08:00:00.000</td>\n",
       "      <td>2025-10-30 20:32:57</td>\n",
       "      <td>“Dietro le quinte tanto lavoro per strutturars...</td>\n",
       "      <td>In attesa della licenza, l’ACB chiude all’FCL ...</td>\n",
       "      <td>Calcio Svizzero</td>\n",
       "      <td>None</td>\n",
       "      <td>None</td>\n",
       "      <td>https://il.rsi.ch/rsi-api/resize/image/v2//WEB...</td>\n",
       "      <td>Sono giorni decisamente importanti per il Bell...</td>\n",
       "      <td>Author</td>\n",
       "      <td>https://www.rsi.ch/s/3242447</td>\n",
       "      <td>SPORT</td>\n",
       "      <td>urn:pdp:cue_rsi:article:rsi:cue:story:3242447</td>\n",
       "      <td>articles-v2</td>\n",
       "      <td>3</td>\n",
       "      <td>902310</td>\n",
       "      <td>2025-10-30 20:34:41.815</td>\n",
       "    </tr>\n",
       "    <tr>\n",
       "      <th>2</th>\n",
       "      <td>urn:pdp:cms_swi:article:90255795</td>\n",
       "      <td>SWI</td>\n",
       "      <td>CMS_SWI</td>\n",
       "      <td>2025-10-31 00:01:11.708</td>\n",
       "      <td>2025-10-30 23:56:45</td>\n",
       "      <td>EUA reduzirá bruscamente admissão de refugiado...</td>\n",
       "      <td>None</td>\n",
       "      <td>None</td>\n",
       "      <td>None</td>\n",
       "      <td>None</td>\n",
       "      <td>https://www.swissinfo.ch/content/wp-content/up...</td>\n",
       "      <td>EUA reduzirá bruscamente admissão de refugiado...</td>\n",
       "      <td>None</td>\n",
       "      <td>https://www.swissinfo.ch/por/eua-reduzir%c3%a1...</td>\n",
       "      <td>Política,Sociedade,sociedade (geral)</td>\n",
       "      <td>urn:pdp:cms_swi:article:90255795</td>\n",
       "      <td>articles-v2</td>\n",
       "      <td>2</td>\n",
       "      <td>909146</td>\n",
       "      <td>2025-10-31 00:01:14.422</td>\n",
       "    </tr>\n",
       "    <tr>\n",
       "      <th>3</th>\n",
       "      <td>urn:pdp:cms_swi:article:90255781</td>\n",
       "      <td>SWI</td>\n",
       "      <td>CMS_SWI</td>\n",
       "      <td>2025-10-30 23:56:11.323</td>\n",
       "      <td>2025-10-30 23:50:50</td>\n",
       "      <td>República Dominicana se solidariza con el pres...</td>\n",
       "      <td>None</td>\n",
       "      <td>None</td>\n",
       "      <td>None</td>\n",
       "      <td>None</td>\n",
       "      <td>None</td>\n",
       "      <td>República Dominicana se solidariza con el pres...</td>\n",
       "      <td>None</td>\n",
       "      <td>https://www.swissinfo.ch/spa/rep%c3%bablica-do...</td>\n",
       "      <td>Política,tratados y organizaciones,democracia</td>\n",
       "      <td>urn:pdp:cms_swi:article:90255781</td>\n",
       "      <td>articles-v2</td>\n",
       "      <td>5</td>\n",
       "      <td>906285</td>\n",
       "      <td>2025-10-30 23:56:13.949</td>\n",
       "    </tr>\n",
       "    <tr>\n",
       "      <th>4</th>\n",
       "      <td>urn:pdp:cms_swi:article:90255780</td>\n",
       "      <td>SWI</td>\n",
       "      <td>CMS_SWI</td>\n",
       "      <td>2025-10-30 23:51:12.935</td>\n",
       "      <td>2025-10-30 23:49:07</td>\n",
       "      <td>La española Telefónica se despide de Ecuador t...</td>\n",
       "      <td>None</td>\n",
       "      <td>None</td>\n",
       "      <td>None</td>\n",
       "      <td>None</td>\n",
       "      <td>None</td>\n",
       "      <td>La española Telefónica se despide de Ecuador t...</td>\n",
       "      <td>None</td>\n",
       "      <td>https://www.swissinfo.ch/spa/la-espa%c3%b1ola-...</td>\n",
       "      <td>servicio de telecomunicaciones,empresas</td>\n",
       "      <td>urn:pdp:cms_swi:article:90255780</td>\n",
       "      <td>articles-v2</td>\n",
       "      <td>6</td>\n",
       "      <td>897411</td>\n",
       "      <td>2025-10-30 23:51:15.547</td>\n",
       "    </tr>\n",
       "    <tr>\n",
       "      <th>...</th>\n",
       "      <td>...</td>\n",
       "      <td>...</td>\n",
       "      <td>...</td>\n",
       "      <td>...</td>\n",
       "      <td>...</td>\n",
       "      <td>...</td>\n",
       "      <td>...</td>\n",
       "      <td>...</td>\n",
       "      <td>...</td>\n",
       "      <td>...</td>\n",
       "      <td>...</td>\n",
       "      <td>...</td>\n",
       "      <td>...</td>\n",
       "      <td>...</td>\n",
       "      <td>...</td>\n",
       "      <td>...</td>\n",
       "      <td>...</td>\n",
       "      <td>...</td>\n",
       "      <td>...</td>\n",
       "      <td>...</td>\n",
       "    </tr>\n",
       "    <tr>\n",
       "      <th>11065</th>\n",
       "      <td>urn:pdp:cms_swi:article:90204318</td>\n",
       "      <td>SWI</td>\n",
       "      <td>CMS_SWI</td>\n",
       "      <td>2025-10-21 21:31:05.000</td>\n",
       "      <td>2025-10-21 21:27:11</td>\n",
       "      <td>Dow Jones cierra al alza con nuevo récord apoy...</td>\n",
       "      <td>None</td>\n",
       "      <td>None</td>\n",
       "      <td>None</td>\n",
       "      <td>None</td>\n",
       "      <td>None</td>\n",
       "      <td>Dow Jones cierra al alza con nuevo récord apoy...</td>\n",
       "      <td>None</td>\n",
       "      <td>https://www.swissinfo.ch/spa/dow-jones-cierra-...</td>\n",
       "      <td>valores</td>\n",
       "      <td>urn:pdp:cms_swi:article:90204318</td>\n",
       "      <td>articles-v2</td>\n",
       "      <td>0</td>\n",
       "      <td>897977</td>\n",
       "      <td>2025-10-21 21:31:07.468</td>\n",
       "    </tr>\n",
       "    <tr>\n",
       "      <th>11066</th>\n",
       "      <td>urn:pdp:cms_swi:article:90204319</td>\n",
       "      <td>SWI</td>\n",
       "      <td>CMS_SWI</td>\n",
       "      <td>2025-10-21 21:31:03.932</td>\n",
       "      <td>2025-10-21 21:29:15</td>\n",
       "      <td>Condenan en Colombia a 21 años de prisión a ot...</td>\n",
       "      <td>None</td>\n",
       "      <td>None</td>\n",
       "      <td>None</td>\n",
       "      <td>None</td>\n",
       "      <td>None</td>\n",
       "      <td>Condenan en Colombia a 21 años de prisión a ot...</td>\n",
       "      <td>None</td>\n",
       "      <td>https://www.swissinfo.ch/spa/condenan-en-colom...</td>\n",
       "      <td>criminalidad,administración de corte,investiga...</td>\n",
       "      <td>urn:pdp:cms_swi:article:90204319</td>\n",
       "      <td>articles-v2</td>\n",
       "      <td>2</td>\n",
       "      <td>906813</td>\n",
       "      <td>2025-10-21 21:31:06.370</td>\n",
       "    </tr>\n",
       "    <tr>\n",
       "      <th>11067</th>\n",
       "      <td>urn:pdp:cms_swi:article:90204316</td>\n",
       "      <td>SWI</td>\n",
       "      <td>CMS_SWI</td>\n",
       "      <td>2025-10-21 21:26:09.636</td>\n",
       "      <td>2025-10-21 21:20:17</td>\n",
       "      <td>Costa Rica celebra la elección de la primera m...</td>\n",
       "      <td>None</td>\n",
       "      <td>None</td>\n",
       "      <td>None</td>\n",
       "      <td>None</td>\n",
       "      <td>None</td>\n",
       "      <td>Costa Rica celebra la elección de la primera m...</td>\n",
       "      <td>None</td>\n",
       "      <td>https://www.swissinfo.ch/spa/costa-rica-celebr...</td>\n",
       "      <td>gobierno</td>\n",
       "      <td>urn:pdp:cms_swi:article:90204316</td>\n",
       "      <td>articles-v2</td>\n",
       "      <td>7</td>\n",
       "      <td>900307</td>\n",
       "      <td>2025-10-21 21:26:12.101</td>\n",
       "    </tr>\n",
       "    <tr>\n",
       "      <th>11068</th>\n",
       "      <td>urn:pdp:cms_swi:article:90204317</td>\n",
       "      <td>SWI</td>\n",
       "      <td>CMS_SWI</td>\n",
       "      <td>2025-10-21 21:26:07.003</td>\n",
       "      <td>2025-10-21 21:20:56</td>\n",
       "      <td>Netflix aumentó su beneficio neto en un 25 % e...</td>\n",
       "      <td>None</td>\n",
       "      <td>None</td>\n",
       "      <td>None</td>\n",
       "      <td>None</td>\n",
       "      <td>None</td>\n",
       "      <td>Netflix aumentó su beneficio neto en un 25 % e...</td>\n",
       "      <td>None</td>\n",
       "      <td>https://www.swissinfo.ch/spa/netflix-aument%c3...</td>\n",
       "      <td>internet,economía (general),medios informativo...</td>\n",
       "      <td>urn:pdp:cms_swi:article:90204317</td>\n",
       "      <td>articles-v2</td>\n",
       "      <td>2</td>\n",
       "      <td>906811</td>\n",
       "      <td>2025-10-21 21:26:09.480</td>\n",
       "    </tr>\n",
       "    <tr>\n",
       "      <th>11069</th>\n",
       "      <td>urn:pdp:cms_swi:article:90204314</td>\n",
       "      <td>SWI</td>\n",
       "      <td>CMS_SWI</td>\n",
       "      <td>2025-10-21 21:26:03.041</td>\n",
       "      <td>2025-10-21 21:15:58</td>\n",
       "      <td>Trump asegura sobre su cumbre aplazada con Put...</td>\n",
       "      <td>None</td>\n",
       "      <td>None</td>\n",
       "      <td>None</td>\n",
       "      <td>None</td>\n",
       "      <td>None</td>\n",
       "      <td>Trump asegura sobre su cumbre aplazada con Put...</td>\n",
       "      <td>None</td>\n",
       "      <td>https://www.swissinfo.ch/spa/trump-asegura-sob...</td>\n",
       "      <td>guerra,diplomacia</td>\n",
       "      <td>urn:pdp:cms_swi:article:90204314</td>\n",
       "      <td>articles-v2</td>\n",
       "      <td>6</td>\n",
       "      <td>895068</td>\n",
       "      <td>2025-10-21 21:26:05.596</td>\n",
       "    </tr>\n",
       "  </tbody>\n",
       "</table>\n",
       "<p>11070 rows × 20 columns</p>\n",
       "</div>"
      ],
      "text/plain": [
       "                                                  id publisher provenance  \\\n",
       "0      urn:pdp:cue_rsi:article:rsi:cue:story:3238385       RSI    CUE_RSI   \n",
       "1      urn:pdp:cue_rsi:article:rsi:cue:story:3242447       RSI    CUE_RSI   \n",
       "2                   urn:pdp:cms_swi:article:90255795       SWI    CMS_SWI   \n",
       "3                   urn:pdp:cms_swi:article:90255781       SWI    CMS_SWI   \n",
       "4                   urn:pdp:cms_swi:article:90255780       SWI    CMS_SWI   \n",
       "...                                              ...       ...        ...   \n",
       "11065               urn:pdp:cms_swi:article:90204318       SWI    CMS_SWI   \n",
       "11066               urn:pdp:cms_swi:article:90204319       SWI    CMS_SWI   \n",
       "11067               urn:pdp:cms_swi:article:90204316       SWI    CMS_SWI   \n",
       "11068               urn:pdp:cms_swi:article:90204317       SWI    CMS_SWI   \n",
       "11069               urn:pdp:cms_swi:article:90204314       SWI    CMS_SWI   \n",
       "\n",
       "             modificationDate         releaseDate  \\\n",
       "0     2025-11-17 15:48:25.000 2025-10-29 15:48:31   \n",
       "1     2025-10-31 08:00:00.000 2025-10-30 20:32:57   \n",
       "2     2025-10-31 00:01:11.708 2025-10-30 23:56:45   \n",
       "3     2025-10-30 23:56:11.323 2025-10-30 23:50:50   \n",
       "4     2025-10-30 23:51:12.935 2025-10-30 23:49:07   \n",
       "...                       ...                 ...   \n",
       "11065 2025-10-21 21:31:05.000 2025-10-21 21:27:11   \n",
       "11066 2025-10-21 21:31:03.932 2025-10-21 21:29:15   \n",
       "11067 2025-10-21 21:26:09.636 2025-10-21 21:20:17   \n",
       "11068 2025-10-21 21:26:07.003 2025-10-21 21:20:56   \n",
       "11069 2025-10-21 21:26:03.041 2025-10-21 21:15:58   \n",
       "\n",
       "                                              title_auto  \\\n",
       "0                                L’amore oltre le sbarre   \n",
       "1      “Dietro le quinte tanto lavoro per strutturars...   \n",
       "2      EUA reduzirá bruscamente admissão de refugiado...   \n",
       "3      República Dominicana se solidariza con el pres...   \n",
       "4      La española Telefónica se despide de Ecuador t...   \n",
       "...                                                  ...   \n",
       "11065  Dow Jones cierra al alza con nuevo récord apoy...   \n",
       "11066  Condenan en Colombia a 21 años de prisión a ot...   \n",
       "11067  Costa Rica celebra la elección de la primera m...   \n",
       "11068  Netflix aumentó su beneficio neto en un 25 % e...   \n",
       "11069  Trump asegura sobre su cumbre aplazada con Put...   \n",
       "\n",
       "                                               lead_auto  \\\n",
       "0      Veronica Barbato fotografa la vita tormentata ...   \n",
       "1      In attesa della licenza, l’ACB chiude all’FCL ...   \n",
       "2                                                   None   \n",
       "3                                                   None   \n",
       "4                                                   None   \n",
       "...                                                  ...   \n",
       "11065                                               None   \n",
       "11066                                               None   \n",
       "11067                                               None   \n",
       "11068                                               None   \n",
       "11069                                               None   \n",
       "\n",
       "                 kicker_auto id_urn id_srg  \\\n",
       "0      Fotografia e carceri    None   None   \n",
       "1            Calcio Svizzero   None   None   \n",
       "2                       None   None   None   \n",
       "3                       None   None   None   \n",
       "4                       None   None   None   \n",
       "...                      ...    ...    ...   \n",
       "11065                   None   None   None   \n",
       "11066                   None   None   None   \n",
       "11067                   None   None   None   \n",
       "11068                   None   None   None   \n",
       "11069                   None   None   None   \n",
       "\n",
       "                                             picture_url  \\\n",
       "0                                                   None   \n",
       "1      https://il.rsi.ch/rsi-api/resize/image/v2//WEB...   \n",
       "2      https://www.swissinfo.ch/content/wp-content/up...   \n",
       "3                                                   None   \n",
       "4                                                   None   \n",
       "...                                                  ...   \n",
       "11065                                               None   \n",
       "11066                                               None   \n",
       "11067                                               None   \n",
       "11068                                               None   \n",
       "11069                                               None   \n",
       "\n",
       "                                        content_text_csv contributors_csv  \\\n",
       "0      “Buonanotte” era una trasmissione di una radio...           Author   \n",
       "1      Sono giorni decisamente importanti per il Bell...           Author   \n",
       "2      EUA reduzirá bruscamente admissão de refugiado...             None   \n",
       "3      República Dominicana se solidariza con el pres...             None   \n",
       "4      La española Telefónica se despide de Ecuador t...             None   \n",
       "...                                                  ...              ...   \n",
       "11065  Dow Jones cierra al alza con nuevo récord apoy...             None   \n",
       "11066  Condenan en Colombia a 21 años de prisión a ot...             None   \n",
       "11067  Costa Rica celebra la elección de la primera m...             None   \n",
       "11068  Netflix aumentó su beneficio neto en un 25 % e...             None   \n",
       "11069  Trump asegura sobre su cumbre aplazada con Put...             None   \n",
       "\n",
       "                              resources_locator_urls_csv  \\\n",
       "0                           https://www.rsi.ch/s/3238385   \n",
       "1                           https://www.rsi.ch/s/3242447   \n",
       "2      https://www.swissinfo.ch/por/eua-reduzir%c3%a1...   \n",
       "3      https://www.swissinfo.ch/spa/rep%c3%bablica-do...   \n",
       "4      https://www.swissinfo.ch/spa/la-espa%c3%b1ola-...   \n",
       "...                                                  ...   \n",
       "11065  https://www.swissinfo.ch/spa/dow-jones-cierra-...   \n",
       "11066  https://www.swissinfo.ch/spa/condenan-en-colom...   \n",
       "11067  https://www.swissinfo.ch/spa/costa-rica-celebr...   \n",
       "11068  https://www.swissinfo.ch/spa/netflix-aument%c3...   \n",
       "11069  https://www.swissinfo.ch/spa/trump-asegura-sob...   \n",
       "\n",
       "                                            keywords_csv  \\\n",
       "0                                                CULTURA   \n",
       "1                                                  SPORT   \n",
       "2                   Política,Sociedade,sociedade (geral)   \n",
       "3          Política,tratados y organizaciones,democracia   \n",
       "4                servicio de telecomunicaciones,empresas   \n",
       "...                                                  ...   \n",
       "11065                                            valores   \n",
       "11066  criminalidad,administración de corte,investiga...   \n",
       "11067                                           gobierno   \n",
       "11068  internet,economía (general),medios informativo...   \n",
       "11069                                  guerra,diplomacia   \n",
       "\n",
       "                                                 key        topic  partition  \\\n",
       "0      urn:pdp:cue_rsi:article:rsi:cue:story:3238385  articles-v2          6   \n",
       "1      urn:pdp:cue_rsi:article:rsi:cue:story:3242447  articles-v2          3   \n",
       "2                   urn:pdp:cms_swi:article:90255795  articles-v2          2   \n",
       "3                   urn:pdp:cms_swi:article:90255781  articles-v2          5   \n",
       "4                   urn:pdp:cms_swi:article:90255780  articles-v2          6   \n",
       "...                                              ...          ...        ...   \n",
       "11065               urn:pdp:cms_swi:article:90204318  articles-v2          0   \n",
       "11066               urn:pdp:cms_swi:article:90204319  articles-v2          2   \n",
       "11067               urn:pdp:cms_swi:article:90204316  articles-v2          7   \n",
       "11068               urn:pdp:cms_swi:article:90204317  articles-v2          2   \n",
       "11069               urn:pdp:cms_swi:article:90204314  articles-v2          6   \n",
       "\n",
       "       offset               timestamp  \n",
       "0      897052 2025-10-29 15:55:20.290  \n",
       "1      902310 2025-10-30 20:34:41.815  \n",
       "2      909146 2025-10-31 00:01:14.422  \n",
       "3      906285 2025-10-30 23:56:13.949  \n",
       "4      897411 2025-10-30 23:51:15.547  \n",
       "...       ...                     ...  \n",
       "11065  897977 2025-10-21 21:31:07.468  \n",
       "11066  906813 2025-10-21 21:31:06.370  \n",
       "11067  900307 2025-10-21 21:26:12.101  \n",
       "11068  906811 2025-10-21 21:26:09.480  \n",
       "11069  895068 2025-10-21 21:26:05.596  \n",
       "\n",
       "[11070 rows x 20 columns]"
      ]
     },
     "metadata": {},
     "output_type": "display_data"
    }
   ],
   "source": [
    "display(srgssr_article_corpus)"
   ]
  },
  {
   "cell_type": "markdown",
   "metadata": {
    "application/vnd.databricks.v1+cell": {
     "cellMetadata": {
      "byteLimit": 2048000,
      "rowLimit": 10000
     },
     "inputWidgets": {},
     "nuid": "13bc94dd-bc0a-4798-b51d-68d805ad6b64",
     "showTitle": false,
     "tableResultSettingsMap": {},
     "title": ""
    }
   },
   "source": [
    "#Analyses\n",
    "This is where analyses are performed. This is work in progress. Some ideas:\n",
    "\n",
    "**Story 1:** I want to quickly search all existing articles without the need to use Google. I want to do that because when I write a story, I want to make sure the same story was not just written by my colleagues working in a different branch.\n",
    "\n",
    "**Story 2:** I want to find out what topics SRG writes about – this could, for example, be used for navigation (News / Sport / etc.).\n",
    "\n",
    "**Story 3:** I want to translate all existing articles into all languages used. This way, I can multiply the offer easily. Instead of having some articles in French and some in English, I will have all articles available in all of our 11 languages.\n",
    "\n",
    "*List other ideas here...*"
   ]
  },
  {
   "cell_type": "code",
   "execution_count": 9,
   "metadata": {
    "application/vnd.databricks.v1+cell": {
     "cellMetadata": {
      "byteLimit": 2048000,
      "rowLimit": 10000
     },
     "collapsed": true,
     "inputWidgets": {},
     "nuid": "fab85f79-57a4-4286-8fbe-1d7cf24b9453",
     "showTitle": false,
     "tableResultSettingsMap": {},
     "title": ""
    }
   },
   "outputs": [],
   "source": [
    "srgssr_article_corpus = srgssr_article_corpus.head(1000)"
   ]
  },
  {
   "cell_type": "markdown",
   "metadata": {
    "application/vnd.databricks.v1+cell": {
     "cellMetadata": {
      "byteLimit": 2048000,
      "rowLimit": 10000
     },
     "inputWidgets": {},
     "nuid": "43080368-8370-42dd-8c45-da9b3b2684fd",
     "showTitle": false,
     "tableResultSettingsMap": {},
     "title": ""
    }
   },
   "source": [
    "## USE CASE: Quickly Search All Existing Articles\n",
    "\n",
    "I want to quickly search all existing articles without the need to use Google. I want to do that because when I write a story, I want to make sure the same story was not just written by my colleagues working in a different branch.\n",
    "\n",
    "**Approach:**\n",
    "- Implement a semantic search feature within Databricks that allows users to search articles by keywords, phrases, or topics.\n",
    "- Use text embeddings (e.g., with Sentence Transformers) to represent article content and enable similarity-based search.\n",
    "- Provide a simple search interface where users can enter queries and retrieve the most relevant articles.\n",
    "- Optionally, add filters for date, author, or branch to refine search results."
   ]
  },
  {
   "cell_type": "code",
   "execution_count": 10,
   "metadata": {
    "application/vnd.databricks.v1+cell": {
     "cellMetadata": {
      "byteLimit": 2048000,
      "rowLimit": 10000
     },
     "inputWidgets": {},
     "nuid": "b45aadfc-30df-4850-8189-86807f91fc0e",
     "showTitle": false,
     "tableResultSettingsMap": {},
     "title": ""
    }
   },
   "outputs": [
    {
     "ename": "ModuleNotFoundError",
     "evalue": "No module named 'sentence_transformers'",
     "output_type": "error",
     "traceback": [
      "\u001b[0;31m---------------------------------------------------------------------------\u001b[0m",
      "\u001b[0;31mModuleNotFoundError\u001b[0m                       Traceback (most recent call last)",
      "Cell \u001b[0;32mIn[10], line 6\u001b[0m\n\u001b[1;32m      4\u001b[0m \u001b[38;5;28;01mimport\u001b[39;00m \u001b[38;5;21;01mnumpy\u001b[39;00m \u001b[38;5;28;01mas\u001b[39;00m \u001b[38;5;21;01mnp\u001b[39;00m\n\u001b[1;32m      5\u001b[0m \u001b[38;5;28;01mimport\u001b[39;00m \u001b[38;5;21;01mpandas\u001b[39;00m \u001b[38;5;28;01mas\u001b[39;00m \u001b[38;5;21;01mpd\u001b[39;00m\n\u001b[0;32m----> 6\u001b[0m \u001b[38;5;28;01mfrom\u001b[39;00m \u001b[38;5;21;01msentence_transformers\u001b[39;00m \u001b[38;5;28;01mimport\u001b[39;00m SentenceTransformer\n\u001b[1;32m      8\u001b[0m \u001b[38;5;66;03m# ----- 1) Prepare data (pandas) -----\u001b[39;00m\n\u001b[1;32m      9\u001b[0m TEXT_COL \u001b[38;5;241m=\u001b[39m \u001b[38;5;124m\"\u001b[39m\u001b[38;5;124mcontent_text_csv\u001b[39m\u001b[38;5;124m\"\u001b[39m\n",
      "\u001b[0;31mModuleNotFoundError\u001b[0m: No module named 'sentence_transformers'"
     ]
    }
   ],
   "source": [
    "# If needed (run once per environment):\n",
    "# %pip install -U sentence-transformers torch safetensors accelerate\n",
    "\n",
    "import numpy as np\n",
    "import pandas as pd\n",
    "from sentence_transformers import SentenceTransformer\n",
    "\n",
    "# ----- 1) Prepare data (pandas) -----\n",
    "TEXT_COL = \"content_text_csv\"\n",
    "ID_COL = \"id\"\n",
    "\n",
    "df = srgssr_article_corpus.copy()\n",
    "df[TEXT_COL] = df[TEXT_COL].fillna(\"\").astype(str)\n",
    "\n",
    "# (Optional) downsample for quick prototyping\n",
    "# df = df.head(1000)\n",
    "\n",
    "# ----- 2) Load the embedder (cached) -----\n",
    "_model = None\n",
    "def get_embedder():\n",
    "    global _model\n",
    "    if _model is None:\n",
    "        _model = SentenceTransformer(\"sentence-transformers/all-MiniLM-L6-v2\")\n",
    "    return _model\n",
    "\n",
    "# ----- 3) Compute corpus embeddings (NumPy) -----\n",
    "model = get_embedder()\n",
    "# normalize_embeddings=True gives unit vectors → cosine = dot product\n",
    "emb_matrix = model.encode(\n",
    "    df[TEXT_COL].tolist(),\n",
    "    batch_size=64,\n",
    "    show_progress_bar=True,\n",
    "    convert_to_numpy=True,\n",
    "    normalize_embeddings=True,\n",
    ")\n",
    "\n",
    "# Keep references for lookup\n",
    "ids = df[ID_COL].tolist()\n",
    "texts = df[TEXT_COL].tolist()\n",
    "\n",
    "# ----- 4) Semantic search (cosine similarity) -----\n",
    "def semantic_search(query: str, top_k: int = 10) -> pd.DataFrame:\n",
    "    q = model.encode([query], convert_to_numpy=True, normalize_embeddings=True)[0]  # shape (d,)\n",
    "    sims = emb_matrix @ q  # cosine similarity because both are normalized\n",
    "    # Argpartition for speed, then sort exact top_k\n",
    "    top_idx = np.argpartition(-sims, kth=min(top_k, len(sims)-1))[:top_k]\n",
    "    top_idx = top_idx[np.argsort(-sims[top_idx])]\n",
    "\n",
    "    return pd.DataFrame({\n",
    "        \"id\": [ids[i] for i in top_idx],\n",
    "        \"content_text_csv\": [texts[i] for i in top_idx],\n",
    "        \"similarity\": [float(sims[i]) for i in top_idx],\n",
    "    })\n",
    "\n",
    "# ----- 5) Example -----\n",
    "results = semantic_search(\"climate change\", top_k=10)\n",
    "results.head(10)"
   ]
  },
  {
   "cell_type": "markdown",
   "metadata": {
    "application/vnd.databricks.v1+cell": {
     "cellMetadata": {
      "byteLimit": 2048000,
      "rowLimit": 10000
     },
     "inputWidgets": {},
     "nuid": "a0ece778-f9c3-469f-b11d-cab0530ec474",
     "showTitle": false,
     "tableResultSettingsMap": {},
     "title": ""
    }
   },
   "source": [
    "\n",
    "##USE CASE: find out what topics SRG writes about.\n",
    "**Approach:**  \n",
    "- Read the text from the `content_text_csv` column of the articles.\n",
    "- Compute similarity between article contents, e.g., by embedding the texts and using a Random Forest or other clustering/classification methods to group similar articles.\n",
    "- Identify clusters of similar content to reveal common topics or themes.\n",
    "- Use these clusters to enhance navigation and filtering options for users."
   ]
  },
  {
   "cell_type": "code",
   "execution_count": null,
   "metadata": {
    "application/vnd.databricks.v1+cell": {
     "cellMetadata": {
      "byteLimit": 2048000,
      "rowLimit": 10000
     },
     "inputWidgets": {},
     "nuid": "6a8f933a-3713-4069-b863-3937476d9563",
     "showTitle": false,
     "tableResultSettingsMap": {},
     "title": ""
    }
   },
   "outputs": [],
   "source": [
    "# For quick prototyping, we sample only 1000 articles here.\n",
    "# To run on the full dataset, remove the .limit(1000) line below.\n",
    "df_sample = srgssr_article_corpus.limit(1000)\n",
    "\n",
    "from pyspark.sql.functions import col, pandas_udf\n",
    "from pyspark.sql.types import ArrayType, FloatType\n",
    "from pyspark.ml.linalg import Vectors, VectorUDT\n",
    "from pyspark.ml.clustering import KMeans\n",
    "import pandas as pd\n",
    "\n",
    "# Load model once per executor for efficiency\n",
    "from sentence_transformers import SentenceTransformer\n",
    "\n",
    "def get_embedder():\n",
    "    if not hasattr(get_embedder, \"model\"):\n",
    "        get_embedder.model = SentenceTransformer(\"sentence-transformers/all-MiniLM-L6-v2\")\n",
    "    return get_embedder.model\n",
    "\n",
    "@pandas_udf(ArrayType(FloatType()))\n",
    "def embed_udf(texts: pd.Series) -> pd.Series:\n",
    "    model = get_embedder()\n",
    "    return pd.Series(model.encode(texts.tolist(), show_progress_bar=False, batch_size=64).tolist())\n",
    "\n",
    "# Add embeddings column (no translation)\n",
    "df_emb = df_sample.withColumn(\n",
    "    \"content_emb\", embed_udf(col(\"content_text_csv\"))\n",
    ")\n",
    "\n",
    "# Convert array to Spark Vector (required by ML algorithms)\n",
    "to_vector = pandas_udf(lambda arr: [Vectors.dense(x) if x else Vectors.dense([]) for x in arr], returnType=VectorUDT())\n",
    "df_vec = df_emb.withColumn(\"features\", to_vector(col(\"content_emb\")))\n",
    "\n",
    "# KMeans clustering (choose number of clusters, e.g., 10)\n",
    "k = 10\n",
    "kmeans = KMeans(featuresCol=\"features\", predictionCol=\"cluster\", k=k, seed=42)\n",
    "model = kmeans.fit(df_vec)\n",
    "\n",
    "# Assign cluster IDs\n",
    "df_clustered = model.transform(df_vec).select(\"id\", \"cluster\", \"content_text_csv\")\n",
    "\n",
    "# Show a sample of clustered articles\n",
    "display(df_clustered.orderBy(\"cluster\"))"
   ]
  },
  {
   "cell_type": "markdown",
   "metadata": {
    "application/vnd.databricks.v1+cell": {
     "cellMetadata": {
      "byteLimit": 2048000,
      "rowLimit": 10000
     },
     "inputWidgets": {},
     "nuid": "d1fa3228-64a0-48c5-a251-143717b3555d",
     "showTitle": false,
     "tableResultSettingsMap": {},
     "title": ""
    }
   },
   "source": [
    "\n",
    "## USE CASE: Translate All Existing Articles into All Languages Used\n",
    "\n",
    "Goal: Automatically translate every article into all supported languages, so each article is available in every language used by SRG.\n",
    "\n",
    "**Approach:**\n",
    "- For each article, use the `ai_translate` function to generate translations for all target languages.\n",
    "- Store the translated articles alongside the originals for easy access and analytics.\n",
    "\n",
    "**Example (SQL):**\n",
    "sql\n",
    "SELECT\n",
    "  *,\n",
    "  ai_translate(title, 'fr') AS title_fr,\n",
    "  ai_translate(title, 'it') AS title_it,\n",
    "  ai_translate(title, 'en') AS title_en,\n",
    "  ai_translate(title, 'rm') AS title_rm\n",
    "FROM articles_flat\n",
    "\n",
    "*(Repeat for all relevant text fields and all required languages.)*"
   ]
  },
  {
   "cell_type": "code",
   "execution_count": null,
   "metadata": {
    "application/vnd.databricks.v1+cell": {
     "cellMetadata": {
      "byteLimit": 2048000,
      "rowLimit": 10000
     },
     "inputWidgets": {},
     "nuid": "50182740-9fdf-4f7c-94bb-ffacb465ffdd",
     "showTitle": false,
     "tableResultSettingsMap": {},
     "title": ""
    }
   },
   "outputs": [],
   "source": [
    "# Assume ai_translate(text: str, target_lang: str) -> str is defined and available\n",
    "\n",
    "from pyspark.sql.functions import col, struct, udf\n",
    "from pyspark.sql.types import StringType\n",
    "\n",
    "target_languages = [\"en\", \"fr\", \"it\", \"de\"]  # Example target languages\n",
    "\n",
    "def make_translate_udf(lang):\n",
    "    @udf(StringType())\n",
    "    def translate_udf(text):\n",
    "        return ai_translate(text, lang)\n",
    "    return translate_udf\n",
    "\n",
    "df = srgssr_article_corpus\n",
    "\n",
    "for lang in target_languages:\n",
    "    df = df.withColumn(f\"content_text_csv_{lang}\", make_translate_udf(lang)(col(\"content_text_csv\")))\n",
    "\n",
    "# Store the DataFrame with translations alongside originals\n",
    "df.write.format(\"delta\") \\\n",
    "    .mode(\"overwrite\") \\\n",
    "    .option(\"overwriteSchema\", \"true\") \\\n",
    "    .saveAsTable(\"swi_audience_prd.pdp_articles_v2.articles_v2_translated\")\n",
    "\n",
    "display(df)"
   ]
  },
  {
   "cell_type": "code",
   "execution_count": null,
   "metadata": {
    "application/vnd.databricks.v1+cell": {
     "cellMetadata": {
      "byteLimit": 2048000,
      "rowLimit": 10000
     },
     "inputWidgets": {},
     "nuid": "f68fcc40-d6f9-4967-a565-2cf481d3de78",
     "showTitle": false,
     "tableResultSettingsMap": {},
     "title": ""
    }
   },
   "outputs": [],
   "source": [
    "# Falls noch nicht installiert+neu gestartet:\n",
    "# %pip install -U transformers sentencepiece torch safetensors accelerate\n",
    "# dbutils.library.restartPython()\n",
    "\n",
    "from transformers import pipeline\n",
    "import pandas as pd\n",
    "\n",
    "# 1) 20 Zeilen holen (nur nötige Spalten)\n",
    "pdf = (\n",
    "    srgssr_article_corpus\n",
    "    .select(\"id\", \"content_text_csv\")\n",
    "    .limit(20)\n",
    "    .toPandas()\n",
    ")\n",
    "\n",
    "# 2) Pipeline lokal laden (CPU)\n",
    "translator = pipeline(\"translation\", model=\"Helsinki-NLP/opus-mt-mul-en\", device=-1)\n",
    "\n",
    "# 3) Übersetzen (Batch pro Text-Chunk – hier simpel ohne Chunking)\n",
    "def translate_text(t):\n",
    "    if t is None or not str(t).strip():\n",
    "        return None\n",
    "    res = translator(t, truncation=True, max_length=1000)\n",
    "    return res[0][\"translation_text\"]\n",
    "\n",
    "pdf[\"content_text_csv_english\"] = [translate_text(t) for t in pdf[\"content_text_csv\"]]\n",
    "\n",
    "# 4) Zurück nach Spark (nur für Anzeige)\n",
    "df_test = spark.createDataFrame(pdf)\n",
    "display(df_test)"
   ]
  },
  {
   "cell_type": "code",
   "execution_count": null,
   "metadata": {
    "application/vnd.databricks.v1+cell": {
     "cellMetadata": {
      "byteLimit": 2048000,
      "rowLimit": 10000
     },
     "inputWidgets": {},
     "nuid": "2d0b0b3a-d8b3-4922-a5a6-f77f8e37dd8e",
     "showTitle": false,
     "tableResultSettingsMap": {},
     "title": ""
    }
   },
   "outputs": [],
   "source": [
    "%skip\n",
    "# 🧪 Nur 20 Zeilen nehmen\n",
    "df_sample = srgssr_article_corpus.limit(20)\n",
    "\n",
    "# 🔄 Übersetzungsspalte hinzufügen\n",
    "df_test = df_sample.withColumn(\n",
    "    \"content_text_csv_english\",\n",
    "    translate_series_to_en(F.col(\"content_text_csv\"))\n",
    ")\n",
    "\n",
    "# 👀 Ergebnis anzeigen\n",
    "df_test.select(\"id\", \"content_text_csv\", \"content_text_csv_english\").display()"
   ]
  },
  {
   "cell_type": "markdown",
   "metadata": {
    "application/vnd.databricks.v1+cell": {
     "cellMetadata": {
      "byteLimit": 2048000,
      "rowLimit": 10000
     },
     "inputWidgets": {},
     "nuid": "24b220d3-50ac-4a2d-b7c6-70eed00e4561",
     "showTitle": false,
     "tableResultSettingsMap": {},
     "title": ""
    }
   },
   "source": [
    "#Hints and Notes\n",
    "> **Hint:**  \n",
    "> For a temporary Jupyter environment to experiment or explore data, consider using [RenkuLab](https://renkulab.io/p/snsf-anoxia-project/proxy-proxy/sessions/01JX2TG1RZ9J0PQ53H3RT81BD4/start). RenkuLab offers cloud-based notebook sessions—no local setup required.\n",
    "\n",
    "> **Note:**  \n",
    "> RenkuLab sessions may require authentication and have limited resources. Save your work frequently, as sessions can time out or be terminated after inactivity."
   ]
  }
 ],
 "metadata": {
  "application/vnd.databricks.v1+notebook": {
   "computePreferences": {
    "hardware": {
     "accelerator": null,
     "gpuPoolId": null,
     "memory": "HIGH"
    }
   },
   "dashboards": [],
   "environmentMetadata": {
    "base_environment": "",
    "environment_version": "4"
   },
   "inputWidgetPreferences": null,
   "language": "python",
   "notebookMetadata": {
    "mostRecentlyExecutedCommandWithImplicitDF": {
     "commandId": 4689788114568825,
     "dataframes": [
      "_sqldf"
     ]
    },
    "pythonIndentUnit": 4
   },
   "notebookName": "01 - Data Reading from pdp",
   "widgets": {}
  },
  "kernelspec": {
   "display_name": "Python 3 (ipykernel)",
   "language": "python",
   "name": "python3"
  },
  "language_info": {
   "codemirror_mode": {
    "name": "ipython",
    "version": 3
   },
   "file_extension": ".py",
   "mimetype": "text/x-python",
   "name": "python",
   "nbconvert_exporter": "python",
   "pygments_lexer": "ipython3",
   "version": "3.10.11"
  }
 },
 "nbformat": 4,
 "nbformat_minor": 4
}
