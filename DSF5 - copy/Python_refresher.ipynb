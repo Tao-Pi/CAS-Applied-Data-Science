{
 "cells": [
  {
   "cell_type": "markdown",
   "metadata": {
    "application/vnd.databricks.v1+cell": {
     "cellMetadata": {},
     "inputWidgets": {},
     "nuid": "9212c91d-c638-4a2b-98e8-d1cce12eb542",
     "showTitle": false,
     "tableResultSettingsMap": {},
     "title": ""
    }
   },
   "source": [
    "<a href=\"https://colab.research.google.com/github/neworldemancer/DSF5/blob/master/Python_refresher.ipynb\" target=\"_parent\"><img src=\"https://colab.research.google.com/assets/colab-badge.svg\" alt=\"Open In Colab\"/></a>"
   ]
  },
  {
   "cell_type": "markdown",
   "metadata": {
    "application/vnd.databricks.v1+cell": {
     "cellMetadata": {},
     "inputWidgets": {},
     "nuid": "aac76eea-5714-4068-a942-826d651373a9",
     "showTitle": false,
     "tableResultSettingsMap": {},
     "title": ""
    }
   },
   "source": [
    "# Homework: Python for machine learning and Data Analysis\n",
    "#### Here are listed the most common Python & NumPy methods used in the course, as well as usage examples. This sheet doesn't contain extensive information. Please refer to the documentation for details.\n",
    "\n",
    "\n",
    "Prepared by Mykhailo Vladymyrov,\n",
    "Science IT Support, University of Bern, 2023\n",
    "\n",
    "Modified by Aris Marcolongo for the CAS ADS M3, 2025\n",
    "\n",
    "This work is licensed under <a href=\"https://creativecommons.org/share-your-work/public-domain/cc0/\">CC0</a>.\n"
   ]
  },
  {
   "cell_type": "markdown",
   "metadata": {
    "application/vnd.databricks.v1+cell": {
     "cellMetadata": {},
     "inputWidgets": {},
     "nuid": "467fed19-38d1-4d6d-bfce-15c934ae445e",
     "showTitle": false,
     "tableResultSettingsMap": {},
     "title": ""
    }
   },
   "source": [
    "## Table of Contents\n",
    "\n",
    "0. Most common data structures: tuples, list, set, dict  \n",
    "1. Functions, classes and modules  \n",
    "2. Using matplotlib.pyplot  \n",
    "3. Using numpy  \n",
    " 3.1 Optional: produce grids with numpy  \n",
    "4. Images and visualization  \n"
   ]
  },
  {
   "cell_type": "markdown",
   "metadata": {
    "application/vnd.databricks.v1+cell": {
     "cellMetadata": {},
     "inputWidgets": {},
     "nuid": "4b6ab1b9-e3da-49e8-aaea-20f6bf32c14d",
     "showTitle": false,
     "tableResultSettingsMap": {},
     "title": ""
    },
    "id": "HG8uZJrln4kz"
   },
   "source": [
    "# 0. Most common data structures: tuples, list, set, dict"
   ]
  },
  {
   "cell_type": "markdown",
   "metadata": {
    "application/vnd.databricks.v1+cell": {
     "cellMetadata": {},
     "inputWidgets": {},
     "nuid": "a96a9229-6846-408e-9b9c-aef6d4443a43",
     "showTitle": false,
     "tableResultSettingsMap": {},
     "title": ""
    }
   },
   "source": [
    "## 0.0 Tuples:"
   ]
  },
  {
   "cell_type": "code",
   "execution_count": 0,
   "metadata": {
    "application/vnd.databricks.v1+cell": {
     "cellMetadata": {},
     "inputWidgets": {},
     "nuid": "d318a923-7b65-4c10-b25f-47708be721f8",
     "showTitle": false,
     "tableResultSettingsMap": {},
     "title": ""
    },
    "id": "_WoGFvYlej7w"
   },
   "outputs": [],
   "source": [
    "# A `tuple` can contain any number of any element and can't be modified\n",
    "x_coordinates = (0, 1, 2, 3)\n",
    "\n",
    "#               ^ ---------^ tuple is written in normal brackets"
   ]
  },
  {
   "cell_type": "code",
   "execution_count": 0,
   "metadata": {
    "application/vnd.databricks.v1+cell": {
     "cellMetadata": {},
     "inputWidgets": {},
     "nuid": "1afe993f-2617-452b-b683-aa914b9a9e53",
     "showTitle": false,
     "tableResultSettingsMap": {},
     "title": ""
    },
    "id": "B_0hJbH2e2NV"
   },
   "outputs": [],
   "source": [
    "# To see what any object is, it's a good idea to print it:\n",
    "print(x_coordinates)"
   ]
  },
  {
   "cell_type": "code",
   "execution_count": 0,
   "metadata": {
    "application/vnd.databricks.v1+cell": {
     "cellMetadata": {},
     "inputWidgets": {},
     "nuid": "56af61cc-2e08-4e8a-9543-624f99aa4db1",
     "showTitle": false,
     "tableResultSettingsMap": {},
     "title": ""
    },
    "id": "YDUxG2tdfEUF"
   },
   "outputs": [],
   "source": [
    "# or just:\n",
    "x_coordinates"
   ]
  },
  {
   "cell_type": "code",
   "execution_count": 0,
   "metadata": {
    "application/vnd.databricks.v1+cell": {
     "cellMetadata": {},
     "inputWidgets": {},
     "nuid": "1e2b489b-16a3-46a5-9909-e11493cbe48d",
     "showTitle": false,
     "tableResultSettingsMap": {},
     "title": ""
    },
    "id": "rjRceVMWfG84"
   },
   "outputs": [],
   "source": [
    "# As well as check it's type:\n",
    "type(x_coordinates)"
   ]
  },
  {
   "cell_type": "code",
   "execution_count": 0,
   "metadata": {
    "application/vnd.databricks.v1+cell": {
     "cellMetadata": {},
     "inputWidgets": {},
     "nuid": "d1455620-148a-458a-a09f-de65603c8f16",
     "showTitle": false,
     "tableResultSettingsMap": {},
     "title": ""
    },
    "id": "6JXaYnPhkHEK"
   },
   "outputs": [],
   "source": [
    "# and available methods and properties\n",
    "dir(x_coordinates)"
   ]
  },
  {
   "cell_type": "code",
   "execution_count": 0,
   "metadata": {
    "application/vnd.databricks.v1+cell": {
     "cellMetadata": {},
     "inputWidgets": {},
     "nuid": "ab527ce3-4d77-446a-aef9-1e4d023e33a7",
     "showTitle": false,
     "tableResultSettingsMap": {},
     "title": ""
    },
    "id": "85mENGBBkMcR"
   },
   "outputs": [],
   "source": [
    "# the `__doc__` property often contains useful info\n",
    "print(x_coordinates.__doc__)"
   ]
  },
  {
   "cell_type": "code",
   "execution_count": 0,
   "metadata": {
    "application/vnd.databricks.v1+cell": {
     "cellMetadata": {},
     "inputWidgets": {},
     "nuid": "02bb5c3e-9457-417b-83de-bebd9a6f244e",
     "showTitle": false,
     "tableResultSettingsMap": {},
     "title": ""
    },
    "id": "BP7PCSQsoAPQ"
   },
   "outputs": [],
   "source": [
    "# The function len() returns the length of the tuple\n",
    "# Note that the function len() can be called on other type of objects as well - array like object — and always return the length of the object.\n",
    "\n",
    "x_coordinates_length = len(x_coordinates)\n",
    "print('length of the `x_coordinates` is', x_coordinates_length)"
   ]
  },
  {
   "cell_type": "code",
   "execution_count": 0,
   "metadata": {
    "application/vnd.databricks.v1+cell": {
     "cellMetadata": {},
     "inputWidgets": {},
     "nuid": "ea4e181a-54fa-4b50-a842-902e84095e4e",
     "showTitle": false,
     "tableResultSettingsMap": {},
     "title": ""
    },
    "id": "3n-L1q4egLCS"
   },
   "outputs": [],
   "source": [
    "print('When printing strings and the values of variables at the same time, it is handy to use so-called f-strings (formatted string): they allow to easily format the output:')\n",
    "print(f'For example:\\n\\tlength of the `x_coordinates={x_coordinates}` is {x_coordinates_length}')\n",
    "\n",
    "#     ^------- f before string marks an f-string\n"
   ]
  },
  {
   "cell_type": "markdown",
   "metadata": {
    "application/vnd.databricks.v1+cell": {
     "cellMetadata": {},
     "inputWidgets": {},
     "nuid": "135d1dce-9c30-456f-b47b-9f6152c7aa25",
     "showTitle": false,
     "tableResultSettingsMap": {},
     "title": ""
    }
   },
   "source": [
    "## 0.1 Lists:"
   ]
  },
  {
   "cell_type": "code",
   "execution_count": 0,
   "metadata": {
    "application/vnd.databricks.v1+cell": {
     "cellMetadata": {},
     "inputWidgets": {},
     "nuid": "0ec43016-27cd-49dc-9a1d-dfedeba47a69",
     "showTitle": false,
     "tableResultSettingsMap": {},
     "title": ""
    },
    "id": "q2DFllByhrBz"
   },
   "outputs": [],
   "source": [
    "# `list` is similar to `tuple`, but can be modified:\n",
    "\n",
    "y_coordinates = [1, 1, 4]\n",
    "\n",
    "#               ^ ---------^ list is written in square brackets"
   ]
  },
  {
   "cell_type": "code",
   "execution_count": 0,
   "metadata": {
    "application/vnd.databricks.v1+cell": {
     "cellMetadata": {},
     "inputWidgets": {},
     "nuid": "5d534a38-13a8-49f8-b043-8193214f9dba",
     "showTitle": false,
     "tableResultSettingsMap": {},
     "title": ""
    },
    "id": "ehJvl7fLoBtL"
   },
   "outputs": [],
   "source": [
    "# One can loop through elements of a collection:\n",
    "\n",
    "for x in x_coordinates:\n",
    "  print (x)"
   ]
  },
  {
   "cell_type": "code",
   "execution_count": 0,
   "metadata": {
    "application/vnd.databricks.v1+cell": {
     "cellMetadata": {},
     "inputWidgets": {},
     "nuid": "8e33d03d-0c18-413b-8c2a-89acdabcdd94",
     "showTitle": false,
     "tableResultSettingsMap": {},
     "title": ""
    },
    "id": "xn7tgZnAiZEW"
   },
   "outputs": [],
   "source": [
    "# Or also obtain the index of the element:\n",
    "\n",
    "for idx, y in enumerate(y_coordinates):\n",
    "  print (f'y[{idx}] = {y}')"
   ]
  },
  {
   "cell_type": "code",
   "execution_count": 0,
   "metadata": {
    "application/vnd.databricks.v1+cell": {
     "cellMetadata": {},
     "inputWidgets": {},
     "nuid": "8d367a64-88d0-4d9d-a642-ffb0c9f3e62f",
     "showTitle": false,
     "tableResultSettingsMap": {},
     "title": ""
    },
    "id": "npPC3AIyng6e"
   },
   "outputs": [],
   "source": [
    "# Several collections can be iterated together by zipping them:\n",
    "\n",
    "for x, y in zip(x_coordinates, y_coordinates):\n",
    "  print (x, y)"
   ]
  },
  {
   "cell_type": "code",
   "execution_count": 0,
   "metadata": {
    "application/vnd.databricks.v1+cell": {
     "cellMetadata": {},
     "inputWidgets": {},
     "nuid": "8034cdf3-9e7b-4809-b857-c0846b76b451",
     "showTitle": false,
     "tableResultSettingsMap": {},
     "title": ""
    },
    "id": "iP0ZE9KEjXXy"
   },
   "outputs": [],
   "source": [
    "# Elements of the list can be modified:\n",
    "print(y_coordinates[0])\n",
    "y_coordinates[0] = 0\n",
    "print(y_coordinates[1])\n",
    "print(y_coordinates)"
   ]
  },
  {
   "cell_type": "code",
   "execution_count": 0,
   "metadata": {
    "application/vnd.databricks.v1+cell": {
     "cellMetadata": {},
     "inputWidgets": {},
     "nuid": "01ce5979-0a9c-4f9d-93c8-2170718d1610",
     "showTitle": false,
     "tableResultSettingsMap": {},
     "title": ""
    },
    "id": "KrK_a1e4lDAk"
   },
   "outputs": [],
   "source": [
    "# `list` can be created from another collection:\n",
    "\n",
    "x_coordinates = list(x_coordinates)\n",
    "print(f'now `x_coordinates` is {type(x_coordinates)}')"
   ]
  },
  {
   "cell_type": "code",
   "execution_count": 0,
   "metadata": {
    "application/vnd.databricks.v1+cell": {
     "cellMetadata": {},
     "inputWidgets": {},
     "nuid": "fae83258-924a-43b2-a586-c29e72f0e7e0",
     "showTitle": false,
     "tableResultSettingsMap": {},
     "title": ""
    },
    "id": "aSIod_Rxk2aC"
   },
   "outputs": [],
   "source": [
    "# Elements can be appended to a list\n",
    "\n",
    "\n",
    "y_coordinates.append(9)\n",
    "print(y_coordinates)\n",
    "\n",
    "y_coordinates.append(16)\n",
    "print(y_coordinates)\n",
    "\n",
    "y_coordinates.append(25)\n",
    "print(y_coordinates)\n"
   ]
  },
  {
   "cell_type": "code",
   "execution_count": 0,
   "metadata": {
    "application/vnd.databricks.v1+cell": {
     "cellMetadata": {},
     "inputWidgets": {},
     "nuid": "6bd25dd0-85c6-4daf-bdd3-6b36f3d80474",
     "showTitle": false,
     "tableResultSettingsMap": {},
     "title": ""
    },
    "id": "lVIWxE6FoDcm"
   },
   "outputs": [],
   "source": [
    "# Extended with another list:\n",
    "x_coordinates.extend([4, 5])"
   ]
  },
  {
   "cell_type": "code",
   "execution_count": 0,
   "metadata": {
    "application/vnd.databricks.v1+cell": {
     "cellMetadata": {},
     "inputWidgets": {},
     "nuid": "e23a9cfa-1695-47e4-acf9-7e19786dcc6a",
     "showTitle": false,
     "tableResultSettingsMap": {},
     "title": ""
    },
    "id": "S00vbLWWlyeV"
   },
   "outputs": [],
   "source": [
    "# or added, i.e. concatenating them:\n",
    "\n",
    "all_numbers = x_coordinates + y_coordinates\n",
    "print(all_numbers)"
   ]
  },
  {
   "cell_type": "markdown",
   "metadata": {
    "application/vnd.databricks.v1+cell": {
     "cellMetadata": {},
     "inputWidgets": {},
     "nuid": "28b38eab-f5b4-4028-b775-e77775e0cec8",
     "showTitle": false,
     "tableResultSettingsMap": {},
     "title": ""
    }
   },
   "source": [
    "## 0.2 Sets:"
   ]
  },
  {
   "cell_type": "code",
   "execution_count": 0,
   "metadata": {
    "application/vnd.databricks.v1+cell": {
     "cellMetadata": {},
     "inputWidgets": {},
     "nuid": "5fab5ffc-4dd7-49c6-8f29-88346b62e388",
     "showTitle": false,
     "tableResultSettingsMap": {},
     "title": ""
    },
    "id": "RIeE7l2Gpg1E"
   },
   "outputs": [],
   "source": [
    "# `set` - is a collection of unique elements:\n",
    "unique_numbers = set(all_numbers)\n",
    "print(unique_numbers)"
   ]
  },
  {
   "cell_type": "markdown",
   "metadata": {
    "application/vnd.databricks.v1+cell": {
     "cellMetadata": {},
     "inputWidgets": {},
     "nuid": "21436356-6cd0-422a-8ad9-52a4055204ed",
     "showTitle": false,
     "tableResultSettingsMap": {},
     "title": ""
    }
   },
   "source": [
    "## 0. 3 Dictionaries:"
   ]
  },
  {
   "cell_type": "code",
   "execution_count": 0,
   "metadata": {
    "application/vnd.databricks.v1+cell": {
     "cellMetadata": {},
     "inputWidgets": {},
     "nuid": "e72ea96e-46bc-4d60-a864-9c8bcb20fd47",
     "showTitle": false,
     "tableResultSettingsMap": {},
     "title": ""
    },
    "id": "Va8RWA0vmdjL"
   },
   "outputs": [],
   "source": [
    "# `dictionary` is a collection where the values are assigned to unique keys and can be accessed by the key:\n",
    "\n",
    "uptime_hours = {'jupyter': 10, 'chrome': 30}"
   ]
  },
  {
   "cell_type": "code",
   "execution_count": 0,
   "metadata": {
    "application/vnd.databricks.v1+cell": {
     "cellMetadata": {},
     "inputWidgets": {},
     "nuid": "97753cdd-0844-46b3-bb6e-47f0f4d67257",
     "showTitle": false,
     "tableResultSettingsMap": {},
     "title": ""
    },
    "id": "lDkXouaBoE6j"
   },
   "outputs": [],
   "source": [
    "print(uptime_hours['jupyter'])"
   ]
  },
  {
   "cell_type": "code",
   "execution_count": 0,
   "metadata": {
    "application/vnd.databricks.v1+cell": {
     "cellMetadata": {},
     "inputWidgets": {},
     "nuid": "ff23b595-22b7-4541-ac07-7af5fba6d2b1",
     "showTitle": false,
     "tableResultSettingsMap": {},
     "title": ""
    },
    "id": "w2XKXUUrpkQU"
   },
   "outputs": [],
   "source": [
    "# `list` comprehensions are a quick way to define a list:\n",
    "\n",
    "y_coordinates = [x**2 for x in x_coordinates]\n",
    "print(y_coordinates)"
   ]
  },
  {
   "cell_type": "code",
   "execution_count": 0,
   "metadata": {
    "application/vnd.databricks.v1+cell": {
     "cellMetadata": {},
     "inputWidgets": {},
     "nuid": "e0ae9e72-31a0-470e-ba54-7b7e7285d625",
     "showTitle": false,
     "tableResultSettingsMap": {},
     "title": ""
    },
    "id": "OVGGeg_QodDc"
   },
   "outputs": [],
   "source": [
    "# `set`:\n",
    "values = {v%7 for v in y_coordinates}\n",
    "print(values)"
   ]
  },
  {
   "cell_type": "code",
   "execution_count": 0,
   "metadata": {
    "application/vnd.databricks.v1+cell": {
     "cellMetadata": {},
     "inputWidgets": {},
     "nuid": "94546c49-d9d1-4920-8ac4-058c7fd2c97e",
     "showTitle": false,
     "tableResultSettingsMap": {},
     "title": ""
    },
    "id": "SRLIn6wQot8b"
   },
   "outputs": [],
   "source": [
    "# `dictionary`\n",
    "\n",
    "x_at_y = {y:x for x, y in zip(x_coordinates, y_coordinates)}\n",
    "print(x_at_y)\n",
    "print(x_at_y[25])"
   ]
  },
  {
   "cell_type": "markdown",
   "metadata": {
    "application/vnd.databricks.v1+cell": {
     "cellMetadata": {},
     "inputWidgets": {},
     "nuid": "9a5249c0-77cb-4d2d-84cb-edeb76b7a024",
     "showTitle": false,
     "tableResultSettingsMap": {},
     "title": ""
    }
   },
   "source": [
    "# 1. Functions, classes and modules"
   ]
  },
  {
   "cell_type": "markdown",
   "metadata": {
    "application/vnd.databricks.v1+cell": {
     "cellMetadata": {},
     "inputWidgets": {},
     "nuid": "1c01faa8-bf8e-478d-9176-45518d9585e9",
     "showTitle": false,
     "tableResultSettingsMap": {},
     "title": ""
    }
   },
   "source": [
    "## 1.0 Functions"
   ]
  },
  {
   "cell_type": "code",
   "execution_count": 0,
   "metadata": {
    "application/vnd.databricks.v1+cell": {
     "cellMetadata": {},
     "inputWidgets": {},
     "nuid": "8c14dff7-568a-4077-a543-cd9f1a6028c1",
     "showTitle": false,
     "tableResultSettingsMap": {},
     "title": ""
    }
   },
   "outputs": [],
   "source": [
    "# A function in python takes an input and returns an output:\n",
    "\n",
    "def my_addition(input):\n",
    "    output = input + 2\n",
    "    return output\n",
    "\n",
    "print(my_addition(5))"
   ]
  },
  {
   "cell_type": "code",
   "execution_count": 0,
   "metadata": {
    "application/vnd.databricks.v1+cell": {
     "cellMetadata": {},
     "inputWidgets": {},
     "nuid": "7c28b98a-f639-4c38-94bf-02264d165c9f",
     "showTitle": false,
     "tableResultSettingsMap": {},
     "title": ""
    }
   },
   "outputs": [],
   "source": [
    "# The number of parameters of a function can be more than one\n",
    "\n",
    "def my_addition(input, delta):\n",
    "    output = input + delta\n",
    "    return output\n",
    "\n",
    "print(my_addition(5,7))"
   ]
  },
  {
   "cell_type": "code",
   "execution_count": 0,
   "metadata": {
    "application/vnd.databricks.v1+cell": {
     "cellMetadata": {},
     "inputWidgets": {},
     "nuid": "9e954b2b-7324-4a27-b579-94cafd47521c",
     "showTitle": false,
     "tableResultSettingsMap": {},
     "title": ""
    }
   },
   "outputs": [],
   "source": [
    "# Arguments can also have default values, making them optional:\n",
    "\n",
    "def my_addition(input, delta=10):\n",
    "    output = input + delta\n",
    "    return output\n",
    "\n",
    "print(my_addition(5))\n",
    "print(my_addition(5, 12))"
   ]
  },
  {
   "cell_type": "code",
   "execution_count": 0,
   "metadata": {
    "application/vnd.databricks.v1+cell": {
     "cellMetadata": {},
     "inputWidgets": {},
     "nuid": "f5a91fab-bc52-48c4-9edc-9a39c29024d2",
     "showTitle": false,
     "tableResultSettingsMap": {},
     "title": ""
    }
   },
   "outputs": [],
   "source": [
    "# When calling a function, keyword arguments can be added at the end after positional ones using the syntax `parameter_name=value`.\n",
    "res = my_addition(5, delta=9)\n",
    "print(res)"
   ]
  },
  {
   "cell_type": "markdown",
   "metadata": {
    "application/vnd.databricks.v1+cell": {
     "cellMetadata": {},
     "inputWidgets": {},
     "nuid": "9d6133b0-3437-46af-a842-61ed10e23ad6",
     "showTitle": false,
     "tableResultSettingsMap": {},
     "title": ""
    }
   },
   "source": [
    "## 1.1 Classes"
   ]
  },
  {
   "cell_type": "markdown",
   "metadata": {
    "application/vnd.databricks.v1+cell": {
     "cellMetadata": {},
     "inputWidgets": {},
     "nuid": "3ce6e4e2-1b96-4296-819b-bc805238372e",
     "showTitle": false,
     "tableResultSettingsMap": {},
     "title": ""
    }
   },
   "source": [
    "#### How to define a class"
   ]
  },
  {
   "cell_type": "markdown",
   "metadata": {
    "application/vnd.databricks.v1+cell": {
     "cellMetadata": {},
     "inputWidgets": {},
     "nuid": "a0c1c118-6fa8-47b4-b9d9-033d52b77757",
     "showTitle": false,
     "tableResultSettingsMap": {},
     "title": ""
    }
   },
   "source": [
    "We will not program many classes in the course, but use them often. In the following please focus on understanding and remembering the terminology!"
   ]
  },
  {
   "cell_type": "markdown",
   "metadata": {
    "application/vnd.databricks.v1+cell": {
     "cellMetadata": {},
     "inputWidgets": {},
     "nuid": "7a2cce17-134a-4798-b32b-3916592f4fe9",
     "showTitle": false,
     "tableResultSettingsMap": {},
     "title": ""
    }
   },
   "source": [
    "Main properties:\n",
    "\n",
    "- Classes combine data-structures (e.g. lists,..) and functions together\n",
    "\n",
    "- Classes contain an `__init__` method and additional ones. The following syntax defines a class:\n",
    "\n",
    "```\n",
    "class class_name():\n",
    "    def __init__(self, ...):\n",
    "        ...\n",
    "\n",
    "    def method_name(self, ...):\n",
    "        ...\n",
    "```\n",
    "\n",
    ", where the dots ... should be replaced by parameters or code. \n",
    "\n",
    "For practical purposes we consider the `self` parameter as purely syntactic. It appears in the definition of the class (as above) but not when using it.\n",
    "\n",
    "Let's see some class in practice to understand how to use them!"
   ]
  },
  {
   "cell_type": "code",
   "execution_count": 0,
   "metadata": {
    "application/vnd.databricks.v1+cell": {
     "cellMetadata": {},
     "inputWidgets": {},
     "nuid": "1ad74be6-dcc5-4348-89c1-ecec5e3cc7f2",
     "showTitle": false,
     "tableResultSettingsMap": {},
     "title": ""
    }
   },
   "outputs": [],
   "source": [
    "# Example of a class definition:\n",
    "\n",
    "class MyChatBot():\n",
    "    def __init__(self, name):\n",
    "        print(f'Hello {name}. This is the init method.')\n"
   ]
  },
  {
   "cell_type": "markdown",
   "metadata": {
    "application/vnd.databricks.v1+cell": {
     "cellMetadata": {},
     "inputWidgets": {},
     "nuid": "4982ddb1-1c8b-4e1c-943c-daabdb3097a0",
     "showTitle": false,
     "tableResultSettingsMap": {},
     "title": ""
    }
   },
   "source": [
    "\n",
    "To `use a class`, we instantiate/construct `objects` (also called `instances`) of that class, using the following syntax:\n",
    "\n",
    "`object_name =  class_name(...)`\n",
    "\n",
    "where the ... contains parameters of the `__init__` method\n",
    "\n",
    "IMPORTANT: The init method is called immediately when the object is created, using the parameters provided during construction.\n",
    "\n",
    "E.g. here when creating the object of type MyChatBot a string is printed."
   ]
  },
  {
   "cell_type": "code",
   "execution_count": 0,
   "metadata": {
    "application/vnd.databricks.v1+cell": {
     "cellMetadata": {},
     "inputWidgets": {},
     "nuid": "48315fff-b056-455a-a2f6-8d9b34889157",
     "showTitle": false,
     "tableResultSettingsMap": {},
     "title": ""
    }
   },
   "outputs": [],
   "source": [
    "# Basic class structure:\n",
    "\n",
    "class MyChatBot():\n",
    "    def __init__(self, name):\n",
    "        print(f'Hello {name}. This is the init method.')\n",
    "\n",
    "# Creating objects beloning to the class. Note that the __init__ function is executed:\n",
    "chatbot = MyChatBot('Mike')"
   ]
  },
  {
   "cell_type": "markdown",
   "metadata": {
    "application/vnd.databricks.v1+cell": {
     "cellMetadata": {},
     "inputWidgets": {},
     "nuid": "6a6a0173-2b72-4665-9399-2500e54da60e",
     "showTitle": false,
     "tableResultSettingsMap": {},
     "title": ""
    }
   },
   "source": [
    "#### How to use class methods and variables"
   ]
  },
  {
   "cell_type": "markdown",
   "metadata": {
    "application/vnd.databricks.v1+cell": {
     "cellMetadata": {},
     "inputWidgets": {},
     "nuid": "d3ee66dd-edce-4a9d-9b54-b6d868c05a7a",
     "showTitle": false,
     "tableResultSettingsMap": {},
     "title": ""
    }
   },
   "source": [
    "To use the class methods, create an object and call `object_name.method_name`. This is referred to as the `dot` notation:"
   ]
  },
  {
   "cell_type": "code",
   "execution_count": 0,
   "metadata": {
    "application/vnd.databricks.v1+cell": {
     "cellMetadata": {},
     "inputWidgets": {},
     "nuid": "5cdbfa8b-51e8-4df2-8e31-1b519e18cc3e",
     "showTitle": false,
     "tableResultSettingsMap": {},
     "title": ""
    }
   },
   "outputs": [],
   "source": [
    "# Basic structure with additional method:\n",
    "class MyChatBot():\n",
    "    def __init__(self, name):\n",
    "        print(f'Hello {name}. This is the init method.')\n",
    "    def answer(self, question): # This is a class method!\n",
    "        print(f'Hello. I am not sure I understood. Did you just say \"{question}\" ?')\n",
    "\n",
    "# Using of the method with dot notation:\n",
    "chatbot = MyChatBot('Mike')\n",
    "chatbot.answer('What is the answer to life?')"
   ]
  },
  {
   "cell_type": "markdown",
   "metadata": {
    "application/vnd.databricks.v1+cell": {
     "cellMetadata": {},
     "inputWidgets": {},
     "nuid": "1ed9565a-806e-4a37-b20b-bca3ea988619",
     "showTitle": false,
     "tableResultSettingsMap": {},
     "title": ""
    }
   },
   "source": [
    "A class has `attributes` in addition to `methods`, where variables are stored. \n",
    "\n",
    "Variables/attributes are accessed:\n",
    "- `by the class methods`:  inside the class definition use the syntax `self.variable_name` ;\n",
    "\n",
    "- `using the class via an object`: use the dot notation `object_name.variable_name`, similar to methods ;\n",
    "\n"
   ]
  },
  {
   "cell_type": "code",
   "execution_count": 0,
   "metadata": {
    "application/vnd.databricks.v1+cell": {
     "cellMetadata": {},
     "inputWidgets": {},
     "nuid": "43a9cde1-f8bf-4059-aab5-9e507aec2877",
     "showTitle": false,
     "tableResultSettingsMap": {},
     "title": ""
    }
   },
   "outputs": [],
   "source": [
    "# Here we define a variable inside the class, called \"name\" and use it in the answer method:\n",
    "\n",
    "class MyChatBot():\n",
    "    def __init__(self, name):\n",
    "        print(f'Hello {name}. This is the init method.')\n",
    "        self.name = name # This is a class variable!\n",
    "    def answer(self, question):\n",
    "        print(f'Hello {self.name}. I am not sure I understood. Did you just say \"{question}\" ?')\n",
    "\n",
    "# Usage of new method is as before:\n",
    "chatbot = MyChatBot('Mike')\n",
    "chatbot.answer('What is the answer to life?')\n",
    "\n",
    "# The variable can now be accessed with the dot notation also outside of the class:\n",
    "print('Accessing variable value outside of the class: ', chatbot.name)"
   ]
  },
  {
   "cell_type": "markdown",
   "metadata": {
    "application/vnd.databricks.v1+cell": {
     "cellMetadata": {},
     "inputWidgets": {},
     "nuid": "a90f26c9-4a91-43ae-9a90-e1f958e7d797",
     "showTitle": false,
     "tableResultSettingsMap": {},
     "title": ""
    }
   },
   "source": [
    "## 1.2 Modules"
   ]
  },
  {
   "cell_type": "markdown",
   "metadata": {
    "application/vnd.databricks.v1+cell": {
     "cellMetadata": {},
     "inputWidgets": {},
     "nuid": "4d159349-2070-44f3-8710-6b4de029ff23",
     "showTitle": false,
     "tableResultSettingsMap": {},
     "title": ""
    }
   },
   "source": [
    "### How to import classes and functions defined in external files or libraries"
   ]
  },
  {
   "cell_type": "markdown",
   "metadata": {
    "application/vnd.databricks.v1+cell": {
     "cellMetadata": {},
     "inputWidgets": {},
     "nuid": "c383ee6f-59ff-4d09-ac8b-d66375120d6f",
     "showTitle": false,
     "tableResultSettingsMap": {},
     "title": ""
    }
   },
   "source": [
    "Modules can be considered as `a collection of methods, variables and classes`, that can be imported from a python program. \n",
    "\n",
    "Often classes are not explicitely defined, but imported from modules and objects constructed, without accessing directly the class definition.\n",
    "\n",
    "We import modules, or classes contained in modules, with the following syntaxes:\n",
    "\n",
    "`import module_name`\n",
    "\n",
    "`import module_name as module_alias`\n",
    "\n",
    "`from module_name import class_name`\n",
    "\n",
    "For demonstration we import the class Counter from the collections library and use it to process a list:  "
   ]
  },
  {
   "cell_type": "code",
   "execution_count": 0,
   "metadata": {
    "application/vnd.databricks.v1+cell": {
     "cellMetadata": {},
     "inputWidgets": {},
     "nuid": "b4e1d45a-3f36-419f-9fc3-7cfce0ebd9f6",
     "showTitle": false,
     "tableResultSettingsMap": {},
     "title": ""
    }
   },
   "outputs": [],
   "source": [
    "from collections import Counter\n",
    "\n",
    "fruits = ['apple', 'banana', 'orange', 'apple', 'orange', 'banana', 'apple', 'banana', 'apple', 'banana', 'kiwi']\n",
    "fruit_counter = Counter(fruits)\n",
    "\n",
    "# Get the most common fruits using the most_common() method\n",
    "most_common_fruits = fruit_counter.most_common()\n",
    "print(most_common_fruits[0])"
   ]
  },
  {
   "cell_type": "markdown",
   "metadata": {
    "application/vnd.databricks.v1+cell": {
     "cellMetadata": {},
     "inputWidgets": {},
     "nuid": "197bb0d7-3af3-4c61-88cc-54c1d1093544",
     "showTitle": false,
     "tableResultSettingsMap": {},
     "title": ""
    }
   },
   "source": [
    "Methods from modules are called as well with the dot syntax (`module_name.method_name`)\n",
    "\n",
    "For demonstration we import here the math module and use the `sqrt` and `factorial` methods :"
   ]
  },
  {
   "cell_type": "code",
   "execution_count": 0,
   "metadata": {
    "application/vnd.databricks.v1+cell": {
     "cellMetadata": {},
     "inputWidgets": {},
     "nuid": "b70f9421-5d52-4404-bda1-1274f678c9ea",
     "showTitle": false,
     "tableResultSettingsMap": {},
     "title": ""
    }
   },
   "outputs": [],
   "source": [
    "import math\n",
    "\n",
    "# Calculate the square root of a number\n",
    "num = 16\n",
    "sqrt_value = math.sqrt(num)\n",
    "print(f\"The square root of {num} is {sqrt_value}\")\n",
    "\n",
    "# Calculate the factorial of a number\n",
    "factorial_value = math.factorial(5)\n",
    "print(f\"The factorial of 5 is {factorial_value}\")\n",
    "\n",
    "# Use the value of pi from the math module\n",
    "print(f\"The value of pi is {math.pi}\")"
   ]
  },
  {
   "cell_type": "markdown",
   "metadata": {
    "application/vnd.databricks.v1+cell": {
     "cellMetadata": {},
     "inputWidgets": {},
     "nuid": "c5ee6279-d687-4572-8035-03779cf65a92",
     "showTitle": false,
     "tableResultSettingsMap": {},
     "title": ""
    }
   },
   "source": [
    "Other commonly used modules are `matplotlib.pyplot` and `numpy`, that we are going to explore more in detail."
   ]
  },
  {
   "cell_type": "markdown",
   "metadata": {
    "application/vnd.databricks.v1+cell": {
     "cellMetadata": {},
     "inputWidgets": {},
     "nuid": "163650b0-a8ff-442d-aa06-811ae301d8be",
     "showTitle": false,
     "tableResultSettingsMap": {},
     "title": ""
    },
    "id": "TAmAx1ZDlXjT"
   },
   "source": [
    "# 2. Using `matplotlib.pyplot` module"
   ]
  },
  {
   "cell_type": "markdown",
   "metadata": {
    "application/vnd.databricks.v1+cell": {
     "cellMetadata": {},
     "inputWidgets": {},
     "nuid": "2af6e1d3-5a56-4c8a-ba19-1312ff37dad2",
     "showTitle": false,
     "tableResultSettingsMap": {},
     "title": ""
    }
   },
   "source": [
    "The matplotlib.pyplot module (often imported as `plt`) serves to make and save plots"
   ]
  },
  {
   "cell_type": "code",
   "execution_count": 0,
   "metadata": {
    "application/vnd.databricks.v1+cell": {
     "cellMetadata": {},
     "inputWidgets": {},
     "nuid": "bcc88e2d-3184-4c57-903a-e97819a80425",
     "showTitle": false,
     "tableResultSettingsMap": {},
     "title": ""
    },
    "id": "x_vlxByweeEE"
   },
   "outputs": [],
   "source": [
    "import matplotlib.pyplot as plt"
   ]
  },
  {
   "cell_type": "code",
   "execution_count": 0,
   "metadata": {
    "application/vnd.databricks.v1+cell": {
     "cellMetadata": {},
     "inputWidgets": {},
     "nuid": "dff6f371-5cc6-4088-b489-3161d98ff894",
     "showTitle": false,
     "tableResultSettingsMap": {},
     "title": ""
    },
    "id": "1hOOzT0ZN3xO"
   },
   "outputs": [],
   "source": [
    "x_coordinates = list(range(6))\n",
    "y_coordinates = [x**2 for x in x_coordinates]"
   ]
  },
  {
   "cell_type": "code",
   "execution_count": 0,
   "metadata": {
    "application/vnd.databricks.v1+cell": {
     "cellMetadata": {},
     "inputWidgets": {},
     "nuid": "89352f5b-94d6-4e9f-a00b-a118bdbc9ed2",
     "showTitle": false,
     "tableResultSettingsMap": {},
     "title": ""
    },
    "id": "o5Wqm89oOGu2"
   },
   "outputs": [],
   "source": [
    "# Simple plot\n",
    "\n",
    "plt.plot(x_coordinates, y_coordinates)"
   ]
  },
  {
   "cell_type": "code",
   "execution_count": 0,
   "metadata": {
    "application/vnd.databricks.v1+cell": {
     "cellMetadata": {},
     "inputWidgets": {},
     "nuid": "ee9e9788-902c-4d41-845e-5045fa92d0df",
     "showTitle": false,
     "tableResultSettingsMap": {},
     "title": ""
    },
    "id": "f0gwwI_ilrgQ"
   },
   "outputs": [],
   "source": [
    "# Scatter plot\n",
    "plt.scatter(x_coordinates, y_coordinates, marker='x', color='b', s=10)"
   ]
  },
  {
   "cell_type": "code",
   "execution_count": 0,
   "metadata": {
    "application/vnd.databricks.v1+cell": {
     "cellMetadata": {},
     "inputWidgets": {},
     "nuid": "b939feed-8165-4712-a673-ae9a28099fb8",
     "showTitle": false,
     "tableResultSettingsMap": {},
     "title": ""
    },
    "id": "LFeRVBCARbQw"
   },
   "outputs": [],
   "source": [
    "# Scatter plot with axes range\n",
    "plt.scatter(x_coordinates, y_coordinates, marker='x', color='b', s=10)\n",
    "plt.xlim(0, 10)\n",
    "plt.ylim(0, 10)"
   ]
  },
  {
   "cell_type": "code",
   "execution_count": 0,
   "metadata": {
    "application/vnd.databricks.v1+cell": {
     "cellMetadata": {},
     "inputWidgets": {},
     "nuid": "b7084810-6b88-4d93-9e06-9590bc14ddc5",
     "showTitle": false,
     "tableResultSettingsMap": {},
     "title": ""
    },
    "id": "5mqZY6hFReu5"
   },
   "outputs": [],
   "source": [
    "# Plot with isotropic axes\n",
    "\n",
    "plt.scatter(x_coordinates, y_coordinates, marker='x', color='b', s=10)\n",
    "\n",
    "current_axis = plt.gca()\n",
    "current_axis.set_aspect('equal')"
   ]
  },
  {
   "cell_type": "code",
   "execution_count": 0,
   "metadata": {
    "application/vnd.databricks.v1+cell": {
     "cellMetadata": {},
     "inputWidgets": {},
     "nuid": "25b25b8b-df46-4a19-951f-15d049c1936f",
     "showTitle": false,
     "tableResultSettingsMap": {},
     "title": ""
    }
   },
   "outputs": [],
   "source": [
    "# Big plot, with details\n",
    "\n",
    "plt.figure(figsize=(8,8))  # plot size\n",
    "\n",
    "plt.plot(x_coordinates, y_coordinates)\n",
    "\n",
    "plt.xlabel('x coordinate')\n",
    "plt.ylabel('y coordinate')\n",
    "plt.title('x=y^2')\n"
   ]
  },
  {
   "cell_type": "code",
   "execution_count": 0,
   "metadata": {
    "application/vnd.databricks.v1+cell": {
     "cellMetadata": {},
     "inputWidgets": {},
     "nuid": "31db6a81-e66c-4da7-a612-81442a1b4f9f",
     "showTitle": false,
     "tableResultSettingsMap": {},
     "title": ""
    },
    "id": "QY_T2HmRl9Mw"
   },
   "outputs": [],
   "source": [
    "# Multiple plots can be combined with subplots:\n",
    "\n",
    "fig, ax = plt.subplots(nrows=2, ncols=2, figsize=(8, 8))\n",
    "\n",
    "ax[0][0].scatter(x_coordinates, y_coordinates, marker='x', color='b', s=30)\n",
    "ax[0][1].scatter(x_coordinates, y_coordinates, marker='o', c=y_coordinates, s=30)\n",
    "\n",
    "ax[1][0].plot(x_coordinates, y_coordinates)\n",
    "ax[1][1].scatter(x_coordinates, y_coordinates, marker='^', c=y_coordinates, s=30, cmap=plt.cm.Accent)\n"
   ]
  },
  {
   "cell_type": "code",
   "execution_count": 0,
   "metadata": {
    "application/vnd.databricks.v1+cell": {
     "cellMetadata": {},
     "inputWidgets": {},
     "nuid": "b458ec5a-f446-46a9-a41e-fd0ac031df70",
     "showTitle": false,
     "tableResultSettingsMap": {},
     "title": ""
    },
    "id": "0CKMn1PPmp9E"
   },
   "outputs": [],
   "source": [
    "# To make a plot in 3D\n",
    "\n",
    "fig = plt.figure(figsize=(8,8))\n",
    "ax = fig.add_subplot(111, projection='3d')\n",
    "z_coordinates = y_coordinates\n",
    "\n",
    "ax.scatter3D(x_coordinates, y_coordinates, z_coordinates, marker='x', s=20)\n"
   ]
  },
  {
   "cell_type": "markdown",
   "metadata": {
    "application/vnd.databricks.v1+cell": {
     "cellMetadata": {},
     "inputWidgets": {},
     "nuid": "691c9200-0d56-4353-a3c6-8d65cdf5022d",
     "showTitle": false,
     "tableResultSettingsMap": {},
     "title": ""
    },
    "id": "iqyBKVXmfHvn"
   },
   "source": [
    "# 3. Using  `numpy` module"
   ]
  },
  {
   "cell_type": "markdown",
   "metadata": {
    "application/vnd.databricks.v1+cell": {
     "cellMetadata": {},
     "inputWidgets": {},
     "nuid": "491ef5a9-b063-4533-8105-ffd888e3a662",
     "showTitle": false,
     "tableResultSettingsMap": {},
     "title": ""
    }
   },
   "source": [
    "The numpy module (often imported as np) contains several objects and functions to perform mathematical operations, e.g. list of numbers in the form of arrays."
   ]
  },
  {
   "cell_type": "code",
   "execution_count": 0,
   "metadata": {
    "application/vnd.databricks.v1+cell": {
     "cellMetadata": {},
     "inputWidgets": {},
     "nuid": "08f09121-dc9b-4247-83ba-6f52a4878490",
     "showTitle": false,
     "tableResultSettingsMap": {},
     "title": ""
    },
    "id": "SM4lpuQTZE8U"
   },
   "outputs": [],
   "source": [
    "import numpy as np"
   ]
  },
  {
   "cell_type": "markdown",
   "metadata": {
    "application/vnd.databricks.v1+cell": {
     "cellMetadata": {},
     "inputWidgets": {},
     "nuid": "f59c6bc8-5423-4186-bc9e-30178b8b9011",
     "showTitle": false,
     "tableResultSettingsMap": {},
     "title": ""
    }
   },
   "source": [
    "`numpy` arrays are similar to `list`s mutable containers with much richer functionality"
   ]
  },
  {
   "cell_type": "code",
   "execution_count": 0,
   "metadata": {
    "application/vnd.databricks.v1+cell": {
     "cellMetadata": {},
     "inputWidgets": {},
     "nuid": "2e291927-b07c-4046-880a-e804907684a4",
     "showTitle": false,
     "tableResultSettingsMap": {},
     "title": ""
    },
    "id": "rTNRdQvlpMAq"
   },
   "outputs": [],
   "source": [
    "# Array-like objects can be converted to `numpy` array:\n",
    "arr = np.array(x_coordinates)\n",
    "print(arr)"
   ]
  },
  {
   "cell_type": "code",
   "execution_count": 0,
   "metadata": {
    "application/vnd.databricks.v1+cell": {
     "cellMetadata": {},
     "inputWidgets": {},
     "nuid": "300e23d9-6ffc-4d43-89c9-0877f1274ee1",
     "showTitle": false,
     "tableResultSettingsMap": {},
     "title": ""
    },
    "id": "tU2F9DBNpP9j"
   },
   "outputs": [],
   "source": [
    "# Attribute `shape` shows the size of an array.\n",
    "print(arr.shape)"
   ]
  },
  {
   "cell_type": "code",
   "execution_count": 0,
   "metadata": {
    "application/vnd.databricks.v1+cell": {
     "cellMetadata": {},
     "inputWidgets": {},
     "nuid": "3bb4ac77-80c5-4867-a4d4-8146d08b91a3",
     "showTitle": false,
     "tableResultSettingsMap": {},
     "title": ""
    },
    "id": "bf0WtJruTCbY"
   },
   "outputs": [],
   "source": [
    "# Shape is a `tuple` because an array can have more than one dimension (e.g. a two dimensional array is a matrix, as in the following example):\n",
    "\n",
    "arr2d = np.asarray([[1,2,3], [4, 5, 6]])\n",
    "print(arr2d)\n",
    "print(arr2d.shape)  # last element of the shape - most inner dimension of the array"
   ]
  },
  {
   "cell_type": "code",
   "execution_count": 0,
   "metadata": {
    "application/vnd.databricks.v1+cell": {
     "cellMetadata": {},
     "inputWidgets": {},
     "nuid": "88044866-0537-42dd-bc52-7646d7f1931c",
     "showTitle": false,
     "tableResultSettingsMap": {},
     "title": ""
    },
    "id": "Pe5Rr_zeXCen"
   },
   "outputs": [],
   "source": [
    "# Multidimensional array can be reshaped to different a shape, preserving the total number of elements and their order\n",
    "\n",
    "arr2d_r1 = arr2d.reshape((3, 2))\n",
    "print(arr2d_r1)"
   ]
  },
  {
   "cell_type": "code",
   "execution_count": 0,
   "metadata": {
    "application/vnd.databricks.v1+cell": {
     "cellMetadata": {},
     "inputWidgets": {},
     "nuid": "481b804e-7cf4-4564-8e43-2a6af72ee307",
     "showTitle": false,
     "tableResultSettingsMap": {},
     "title": ""
    },
    "id": "KSD5HQ0dXYcC"
   },
   "outputs": [],
   "source": [
    "# or turned into 1-d with flatten method:\n",
    "\n",
    "arr2d_1d = arr2d.flatten()\n",
    "print(arr2d_1d, arr2d_1d.shape)"
   ]
  },
  {
   "cell_type": "code",
   "execution_count": 0,
   "metadata": {
    "application/vnd.databricks.v1+cell": {
     "cellMetadata": {},
     "inputWidgets": {},
     "nuid": "caaf6cb0-e256-4e57-b3ff-a2343b3c8070",
     "showTitle": false,
     "tableResultSettingsMap": {},
     "title": ""
    },
    "id": "GTGugOCbToZE"
   },
   "outputs": [],
   "source": [
    "# Slicing of an array:\n",
    "# start:stop - elements from start (included) till stop (excluded)\n",
    "\n",
    "print(arr[1:3])"
   ]
  },
  {
   "cell_type": "code",
   "execution_count": 0,
   "metadata": {
    "application/vnd.databricks.v1+cell": {
     "cellMetadata": {},
     "inputWidgets": {},
     "nuid": "ed885f9f-684d-4b8c-a03a-1f8b75bba510",
     "showTitle": false,
     "tableResultSettingsMap": {},
     "title": ""
    },
    "id": "1-UMIkjlUKkT"
   },
   "outputs": [],
   "source": [
    "# Slicing of an array:\n",
    "# start:stop:step - elements from start (included) till stop (excluded) with stride step\n",
    "\n",
    "print(arr[1:6:2])"
   ]
  },
  {
   "cell_type": "code",
   "execution_count": 0,
   "metadata": {
    "application/vnd.databricks.v1+cell": {
     "cellMetadata": {},
     "inputWidgets": {},
     "nuid": "9edfa3e7-c694-433e-ad45-c4ca73d40e57",
     "showTitle": false,
     "tableResultSettingsMap": {},
     "title": ""
    },
    "id": "ezZWjdifUPlG"
   },
   "outputs": [],
   "source": [
    "# Similarly for a multidimensional array:\n",
    "#\n",
    "print(arr2d[0:1, 1:3])"
   ]
  },
  {
   "cell_type": "code",
   "execution_count": 0,
   "metadata": {
    "application/vnd.databricks.v1+cell": {
     "cellMetadata": {},
     "inputWidgets": {},
     "nuid": "d0c83970-3a7e-40d6-bdf4-c97650bc563a",
     "showTitle": false,
     "tableResultSettingsMap": {},
     "title": ""
    },
    "id": "21yoWRYRUhdf"
   },
   "outputs": [],
   "source": [
    "# `:` means take elements along the axis\n",
    "#\n",
    "print(arr2d[:, 1:3])"
   ]
  },
  {
   "cell_type": "code",
   "execution_count": 0,
   "metadata": {
    "application/vnd.databricks.v1+cell": {
     "cellMetadata": {},
     "inputWidgets": {},
     "nuid": "790ba777-4fb9-4e33-87d8-6f1ed69a4fed",
     "showTitle": false,
     "tableResultSettingsMap": {},
     "title": ""
    },
    "id": "Lcp7R64EUrRU"
   },
   "outputs": [],
   "source": [
    "# To take elements over several sequential axes - use ellipsis (...):\n",
    "#\n",
    "print(arr2d[..., 1:3])"
   ]
  },
  {
   "cell_type": "code",
   "execution_count": 0,
   "metadata": {
    "application/vnd.databricks.v1+cell": {
     "cellMetadata": {},
     "inputWidgets": {},
     "nuid": "90596e6e-8190-4e19-9e42-aefb2b6be242",
     "showTitle": false,
     "tableResultSettingsMap": {},
     "title": ""
    },
    "id": "8xAcxvn4U9rm"
   },
   "outputs": [],
   "source": [
    "# To generate sequential integers (similar to `range`):\n",
    "numbers = np.arange(0, 20, 2)\n",
    "print(numbers)"
   ]
  },
  {
   "cell_type": "code",
   "execution_count": 0,
   "metadata": {
    "application/vnd.databricks.v1+cell": {
     "cellMetadata": {},
     "inputWidgets": {},
     "nuid": "d06a689e-341c-4ab6-941e-36b4cd930a98",
     "showTitle": false,
     "tableResultSettingsMap": {},
     "title": ""
    },
    "id": "-Vjm0nkMVP6_"
   },
   "outputs": [],
   "source": [
    "# For floating point values\n",
    "\n",
    "x_coord = np.linspace(start=-1, stop=1, num=5)\n",
    "print (x_coord)"
   ]
  },
  {
   "cell_type": "code",
   "execution_count": 0,
   "metadata": {
    "application/vnd.databricks.v1+cell": {
     "cellMetadata": {},
     "inputWidgets": {},
     "nuid": "5028e9c5-2623-4fe1-9348-562d3078a02a",
     "showTitle": false,
     "tableResultSettingsMap": {},
     "title": ""
    },
    "id": "XMa31sIQVl0L"
   },
   "outputs": [],
   "source": [
    "# Operations on the numpy arrays can be performed in a pythonic way:\n",
    "\n",
    "y_coord = 2*x_coord**2 + 3\n",
    "\n",
    "plt.plot(x_coord, y_coord)\n",
    "plt.gca().set_aspect('equal')"
   ]
  },
  {
   "cell_type": "code",
   "execution_count": 0,
   "metadata": {
    "application/vnd.databricks.v1+cell": {
     "cellMetadata": {},
     "inputWidgets": {},
     "nuid": "9b982d77-8eb9-4b9f-9a64-05315f3eb5b9",
     "showTitle": false,
     "tableResultSettingsMap": {},
     "title": ""
    },
    "id": "KR5RK_ExV7aB"
   },
   "outputs": [],
   "source": [
    "# To generate uniformly distributed random numbers:\n",
    "rnd = np.random.uniform(0, 10, size=10)\n",
    "print(rnd)\n",
    "print(rnd.shape)"
   ]
  },
  {
   "cell_type": "code",
   "execution_count": 0,
   "metadata": {
    "application/vnd.databricks.v1+cell": {
     "cellMetadata": {},
     "inputWidgets": {},
     "nuid": "165c8ca0-c05e-477d-a7cf-344168a9508a",
     "showTitle": false,
     "tableResultSettingsMap": {},
     "title": ""
    },
    "id": "SdrRHq1tWRue"
   },
   "outputs": [],
   "source": [
    "# or normally distributed, 3D array:\n",
    "rnd = np.random.normal(loc=0.5, scale=2, size=(3, 4, 5))\n",
    "print(rnd)\n",
    "print(rnd.shape)"
   ]
  },
  {
   "cell_type": "code",
   "execution_count": 0,
   "metadata": {
    "application/vnd.databricks.v1+cell": {
     "cellMetadata": {},
     "inputWidgets": {},
     "nuid": "7c5186d1-33b7-49de-b2a6-8e0724649d91",
     "showTitle": false,
     "tableResultSettingsMap": {},
     "title": ""
    },
    "id": "rZXXQ7joWtK1"
   },
   "outputs": [],
   "source": [
    "# Let's check distribution:\n",
    "plt.hist(rnd.flatten(), 10);"
   ]
  },
  {
   "cell_type": "code",
   "execution_count": 0,
   "metadata": {
    "application/vnd.databricks.v1+cell": {
     "cellMetadata": {},
     "inputWidgets": {},
     "nuid": "1d314c80-5a51-4821-9341-24f3ef072fa6",
     "showTitle": false,
     "tableResultSettingsMap": {},
     "title": ""
    },
    "id": "xfx4gLbEmTZA"
   },
   "outputs": [],
   "source": [
    "# Arrays statistics can be obtained using the array methods:\n",
    "print('array `rnd` mean = ', rnd.mean())\n",
    "print('array `rnd` standard deviation = ', rnd.std())\n",
    "print('array `rnd` minimum = ', rnd.min())\n",
    "print('array `rnd` maximum = ', rnd.max())\n",
    "print()\n",
    "\n",
    "# , or with numpy functions :\n",
    "print('array `rnd` mean = ', np.mean(rnd))\n",
    "print('array `rnd` standard deviation = ', np.std(rnd))\n",
    "print('array `rnd` minimum = ', np.min(rnd))\n",
    "print('array `rnd` maximum = ', np.max(rnd))\n",
    "\n",
    "print()\n",
    "print('array `rnd` maximum 40th percentile= ', np.percentile(rnd, 40))"
   ]
  },
  {
   "cell_type": "code",
   "execution_count": 0,
   "metadata": {
    "application/vnd.databricks.v1+cell": {
     "cellMetadata": {},
     "inputWidgets": {},
     "nuid": "3b0c5b8a-6910-4b8c-b286-c1413ebe0bc9",
     "showTitle": false,
     "tableResultSettingsMap": {},
     "title": ""
    },
    "id": "oVhGYgE6YJJS"
   },
   "outputs": [],
   "source": [
    "# To get an element from a 1D array:\n",
    "print(np.random.choice(arr))"
   ]
  },
  {
   "cell_type": "code",
   "execution_count": 0,
   "metadata": {
    "application/vnd.databricks.v1+cell": {
     "cellMetadata": {},
     "inputWidgets": {},
     "nuid": "a38eaae3-d8ea-4682-bfac-ce09885cbb59",
     "showTitle": false,
     "tableResultSettingsMap": {},
     "title": ""
    },
    "id": "04TaJO8RYaf1"
   },
   "outputs": [],
   "source": [
    "# or several elements:\n",
    "mtx = np.random.choice(arr, size=(2,2))\n",
    "print(mtx)"
   ]
  },
  {
   "cell_type": "code",
   "execution_count": 0,
   "metadata": {
    "application/vnd.databricks.v1+cell": {
     "cellMetadata": {},
     "inputWidgets": {},
     "nuid": "f466c1b4-8318-43cd-a4da-6750e405ae64",
     "showTitle": false,
     "tableResultSettingsMap": {},
     "title": ""
    },
    "id": "e7WySajre_xb"
   },
   "outputs": [],
   "source": [
    "# Matrix multiplication\n",
    "np.dot([1, 2], mtx)  "
   ]
  },
  {
   "cell_type": "code",
   "execution_count": 0,
   "metadata": {
    "application/vnd.databricks.v1+cell": {
     "cellMetadata": {},
     "inputWidgets": {},
     "nuid": "e3dd9ee9-dea6-4187-9635-0dee1b543249",
     "showTitle": false,
     "tableResultSettingsMap": {},
     "title": ""
    },
    "id": "g--l6v-cj-pS"
   },
   "outputs": [],
   "source": [
    "# Arrays can be concatenated along a specific axis, provided the other dimensions are same\n",
    "\n",
    "arr_1 = np.zeros(shape=(5, 3, 6))\n",
    "arr_2 = np.ones(shape=(5, 4, 6))\n",
    "\n",
    "print(arr_1.shape, arr_2.shape)\n",
    "#print(arr_1)\n",
    "#print(arr_2)"
   ]
  },
  {
   "cell_type": "code",
   "execution_count": 0,
   "metadata": {
    "application/vnd.databricks.v1+cell": {
     "cellMetadata": {},
     "inputWidgets": {},
     "nuid": "b1898ce7-43b2-493b-9f1d-3776b02c62a6",
     "showTitle": false,
     "tableResultSettingsMap": {},
     "title": ""
    },
    "id": "_PDW38NTmdza"
   },
   "outputs": [],
   "source": [
    "arr_conc = np.concatenate((arr_1, arr_2), axis=1)\n",
    "\n",
    "print(arr_conc.shape)"
   ]
  },
  {
   "cell_type": "code",
   "execution_count": 0,
   "metadata": {
    "application/vnd.databricks.v1+cell": {
     "cellMetadata": {},
     "inputWidgets": {},
     "nuid": "be302da2-e301-4be5-b9ad-45b2058a2693",
     "showTitle": false,
     "tableResultSettingsMap": {},
     "title": ""
    },
    "id": "WXwDyLYjoOWg"
   },
   "outputs": [],
   "source": [
    "# stack along new last axis\n",
    "arr_stack = np.stack((arr_1, arr_2[:, :-1]), axis=-1)\n",
    "\n",
    "print(arr_stack.shape)"
   ]
  },
  {
   "cell_type": "code",
   "execution_count": 0,
   "metadata": {
    "application/vnd.databricks.v1+cell": {
     "cellMetadata": {},
     "inputWidgets": {},
     "nuid": "e36c79ec-fa68-49c3-9b0a-28efa7b9fc7b",
     "showTitle": false,
     "tableResultSettingsMap": {},
     "title": ""
    },
    "id": "OqkjxZxgpPti"
   },
   "outputs": [],
   "source": [
    "# Similarly to indexing one element, multiple elements of an array can be obtained\n",
    "y = np.arange(6)**2\n",
    "print(y)\n",
    "\n",
    "print(f'y[2] = {y[2]}')\n",
    "print(f'y[4] = {y[4]}')\n",
    "print(f'y[[2,4]] = {y[[2,4]]}')"
   ]
  },
  {
   "cell_type": "code",
   "execution_count": 0,
   "metadata": {
    "application/vnd.databricks.v1+cell": {
     "cellMetadata": {},
     "inputWidgets": {},
     "nuid": "50703230-be9b-48c2-bb89-bd4ab286920a",
     "showTitle": false,
     "tableResultSettingsMap": {},
     "title": ""
    }
   },
   "outputs": [],
   "source": [
    "# This trick can be useful to shuffle several arrays of elements coherently. \n",
    "# We first define a permutation and use it to reindex the original array:\n",
    "\n",
    "shuffled_indexes = np.random.permutation(len(y))\n",
    "y_shuffled = y[shuffled_indexes]\n",
    "\n",
    "print(f'y: {y}')\n",
    "print(f'shuffled_indexes: {shuffled_indexes}')\n",
    "print(f'y_shuffled: {y_shuffled}')\n",
    "print()\n",
    "print(f'y[shuffled_indexes] = y_shuffled : {y}[{shuffled_indexes}] = {y_shuffled}')"
   ]
  },
  {
   "cell_type": "code",
   "execution_count": 0,
   "metadata": {
    "application/vnd.databricks.v1+cell": {
     "cellMetadata": {},
     "inputWidgets": {},
     "nuid": "0ac1fa41-622d-4d4e-aaec-97000d1ba51a",
     "showTitle": false,
     "tableResultSettingsMap": {},
     "title": ""
    },
    "id": "G2Xi9wBLm6aw"
   },
   "outputs": [],
   "source": [
    "# Boolean arrays of the same dimensions can be used as masks\n",
    "mask = [True, False, False, False, False, True]\n",
    "y_mask = y[mask]\n",
    "\n",
    "print(f'y[mask] = y_mask: {y}[{mask}] = {y[mask]}')"
   ]
  },
  {
   "cell_type": "code",
   "execution_count": 0,
   "metadata": {
    "application/vnd.databricks.v1+cell": {
     "cellMetadata": {},
     "inputWidgets": {},
     "nuid": "e2f07eaf-aec4-4c8a-8de4-51ec630aafa1",
     "showTitle": false,
     "tableResultSettingsMap": {},
     "title": ""
    },
    "id": "OESo1PsNrQXM"
   },
   "outputs": [],
   "source": [
    "# This is useful to select a group of elements:\n",
    "mask_above_2 = y > 2\n",
    "print(mask_above_2)\n",
    "\n",
    "mask_less_17 = y <17\n",
    "print(mask_less_17)\n",
    "\n",
    "mask = mask_above_2 * mask_less_17  # elementwise `and` operation on Boolean numpy arrays\n",
    "print(mask)\n",
    "\n",
    "print('values between 2 and 17:', y[mask])"
   ]
  },
  {
   "cell_type": "code",
   "execution_count": 0,
   "metadata": {
    "application/vnd.databricks.v1+cell": {
     "cellMetadata": {},
     "inputWidgets": {},
     "nuid": "f362d899-c683-436c-b482-fc1966280829",
     "showTitle": false,
     "tableResultSettingsMap": {},
     "title": ""
    },
    "id": "fyCLpDiPsTXt"
   },
   "outputs": [],
   "source": [
    "# To get index of first smallest or largest element use `argmin` and `argmax`:\n",
    "\n",
    "print(y_shuffled)\n",
    "\n",
    "ixd_smallest = y_shuffled.argmin()\n",
    "ixd_largest = y_shuffled.argmax()\n",
    "\n",
    "print(f'index of smallest element: {ixd_smallest}. {y_shuffled}[{ixd_smallest}] = {y_shuffled[ixd_smallest]}')\n",
    "print(f'index of largest element: {ixd_largest}. {y_shuffled}[{ixd_largest}] = {y_shuffled[ixd_largest]}')"
   ]
  },
  {
   "cell_type": "code",
   "execution_count": 0,
   "metadata": {
    "application/vnd.databricks.v1+cell": {
     "cellMetadata": {},
     "inputWidgets": {},
     "nuid": "6575ceca-5176-41a7-906d-5785a86bc732",
     "showTitle": false,
     "tableResultSettingsMap": {},
     "title": ""
    },
    "id": "uxnZuhd8tDYq"
   },
   "outputs": [],
   "source": [
    "# Form a multidimensional array, or if more the one element has to be found - use argwhere:\n",
    "coords_elements_above_3 = np.argwhere(rnd > 3)\n",
    "print(coords_elements_above_3)\n",
    "\n",
    "for i, j, k in coords_elements_above_3:\n",
    "  print(f'rnd[{i}, {j}, {k}] = {rnd[i, j, k]}')"
   ]
  },
  {
   "cell_type": "markdown",
   "metadata": {
    "application/vnd.databricks.v1+cell": {
     "cellMetadata": {},
     "inputWidgets": {},
     "nuid": "0357d941-ba28-4765-b46d-4c749803b760",
     "showTitle": false,
     "tableResultSettingsMap": {},
     "title": ""
    }
   },
   "source": [
    "## 3.1: Optional: produce grids with np.meshgrid"
   ]
  },
  {
   "cell_type": "code",
   "execution_count": 0,
   "metadata": {
    "application/vnd.databricks.v1+cell": {
     "cellMetadata": {},
     "inputWidgets": {},
     "nuid": "ec329b1f-13b6-49fd-88fd-e028a3225bd1",
     "showTitle": false,
     "tableResultSettingsMap": {},
     "title": ""
    }
   },
   "outputs": [],
   "source": [
    "# Sometimes it's needed to obtain a grid of values, given a set of values along each axis,\n",
    "# e.g. for a grid search or visualization. `meshgrid` does it so:\n",
    "\n",
    "\n",
    "# define set of values along x, y axes\n",
    "x_coords = np.linspace(0, 4.5, 10)      # 10 values between 0 and 45\n",
    "y_coords = np.linspace(-10, -5.5, 10)   # 10 values between -10 and -6.5\n",
    "\n",
    "# create the meshgrid\n",
    "meshgrid_x, meshgrid_y = np.meshgrid(x_coords, y_coords)\n",
    "print(meshgrid_x.shape, meshgrid_y.shape)  # all x, y coordinates of the mesh"
   ]
  },
  {
   "cell_type": "code",
   "execution_count": 0,
   "metadata": {
    "application/vnd.databricks.v1+cell": {
     "cellMetadata": {},
     "inputWidgets": {},
     "nuid": "84fded37-f066-4ede-9912-04a4e278b894",
     "showTitle": false,
     "tableResultSettingsMap": {},
     "title": ""
    }
   },
   "outputs": [],
   "source": [
    "print('x_coords:', x_coords)\n",
    "print('y_coords:', y_coords)"
   ]
  },
  {
   "cell_type": "code",
   "execution_count": 0,
   "metadata": {
    "application/vnd.databricks.v1+cell": {
     "cellMetadata": {},
     "inputWidgets": {},
     "nuid": "513cc3c8-7ac1-4c0a-a6c6-102317f6382d",
     "showTitle": false,
     "tableResultSettingsMap": {},
     "title": ""
    }
   },
   "outputs": [],
   "source": [
    "print(meshgrid_x)"
   ]
  },
  {
   "cell_type": "code",
   "execution_count": 0,
   "metadata": {
    "application/vnd.databricks.v1+cell": {
     "cellMetadata": {},
     "inputWidgets": {},
     "nuid": "8d6aad2c-7b19-4e51-83dd-3f6245ba6a8e",
     "showTitle": false,
     "tableResultSettingsMap": {},
     "title": ""
    }
   },
   "outputs": [],
   "source": [
    "print(meshgrid_y)"
   ]
  },
  {
   "cell_type": "code",
   "execution_count": 0,
   "metadata": {
    "application/vnd.databricks.v1+cell": {
     "cellMetadata": {},
     "inputWidgets": {},
     "nuid": "3789418b-6f3c-4cd8-bf69-3f5a27a07e43",
     "showTitle": false,
     "tableResultSettingsMap": {},
     "title": ""
    }
   },
   "outputs": [],
   "source": [
    "# To plot the points created by the meshgrid we need to flatten them:\n",
    "\n",
    "x_coordinates = meshgrid_x.flatten()\n",
    "y_coordinates = meshgrid_y.flatten()\n",
    "\n",
    "plt.scatter(x_coordinates, y_coordinates)"
   ]
  },
  {
   "cell_type": "code",
   "execution_count": 0,
   "metadata": {
    "application/vnd.databricks.v1+cell": {
     "cellMetadata": {},
     "inputWidgets": {},
     "nuid": "19784611-0f52-4a86-9fa3-712334d58313",
     "showTitle": false,
     "tableResultSettingsMap": {},
     "title": ""
    }
   },
   "outputs": [],
   "source": [
    "# We can use the meshgrid to visualize a 2-dimensional function\n",
    "\n",
    "def function_2d(x, y):\n",
    "    return np.sin(x) + np.cos(y)\n",
    "z = function_2d(meshgrid_x, meshgrid_y)\n",
    "\n",
    "# Contourplot visualization\n",
    "\n",
    "plt.figure(figsize=(5,5))\n",
    "plt.contourf(meshgrid_x, meshgrid_y, z, cmap='viridis')\n",
    "plt.xlabel('x')\n",
    "plt.ylabel('y')\n",
    "plt.title('Contourplots of f(x,y)=sin(x)+cos(y)')\n",
    "\n",
    "# 2-d surface\n",
    "\n",
    "plt.figure(figsize=(5, 5))\n",
    "ax = plt.axes(projection='3d')\n",
    "surface = ax.plot_surface(meshgrid_x, meshgrid_y, z, cmap='viridis')\n",
    "plt.title('Visualization of f(x,y)=sin(x)+cos(y) as a 2d surface')\n",
    "ax.set_xlabel('x')\n",
    "ax.set_ylabel('y')\n",
    "ax.set_zlabel('z')"
   ]
  },
  {
   "cell_type": "markdown",
   "metadata": {
    "application/vnd.databricks.v1+cell": {
     "cellMetadata": {},
     "inputWidgets": {},
     "nuid": "a09b5e8d-81f5-4ee5-afb4-d877361af051",
     "showTitle": false,
     "tableResultSettingsMap": {},
     "title": ""
    },
    "id": "dvIWHnPdJT3w"
   },
   "source": [
    "# 4. Working with images"
   ]
  },
  {
   "cell_type": "markdown",
   "metadata": {
    "application/vnd.databricks.v1+cell": {
     "cellMetadata": {},
     "inputWidgets": {},
     "nuid": "d554c3cc-3a85-432e-b74f-08c21c1254c3",
     "showTitle": false,
     "tableResultSettingsMap": {},
     "title": ""
    }
   },
   "source": [
    "Colored images are often stored as 3-d numpy arrays:"
   ]
  },
  {
   "cell_type": "code",
   "execution_count": 0,
   "metadata": {
    "application/vnd.databricks.v1+cell": {
     "cellMetadata": {},
     "inputWidgets": {},
     "nuid": "b51fc1d4-5c04-440b-8321-eceed84b84d6",
     "showTitle": false,
     "tableResultSettingsMap": {},
     "title": ""
    },
    "id": "VN2wP54lJaTk"
   },
   "outputs": [],
   "source": [
    "# Load an image from a file or a URL\n",
    "from skimage import io\n",
    "\n",
    "image = io.imread('https://github.com/neworldemancer/DSF5/raw/master/figures/unibe.jpg')\n",
    "\n",
    "print(f'The image is stored as a numpy array {type(image)}')\n",
    "\n",
    "# Note that the resulting image is of dimension N_pixel_1 x N_pixel_2 x 3, because it is a colored image with 3 color channels (red-green-blue, also called RGB color coding) \n",
    "\n",
    "print('Dimensions of a colored image: ', image.shape)"
   ]
  },
  {
   "cell_type": "code",
   "execution_count": 0,
   "metadata": {
    "application/vnd.databricks.v1+cell": {
     "cellMetadata": {},
     "inputWidgets": {},
     "nuid": "092f2251-06f7-4cfd-86a1-ee69b35abe4f",
     "showTitle": false,
     "tableResultSettingsMap": {},
     "title": ""
    },
    "id": "l-UqZTNKaShx"
   },
   "outputs": [],
   "source": [
    "# Display an image with pyplot\n",
    "plt.imshow(image)"
   ]
  },
  {
   "cell_type": "markdown",
   "metadata": {
    "application/vnd.databricks.v1+cell": {
     "cellMetadata": {},
     "inputWidgets": {},
     "nuid": "99f6cd0d-a6a8-42b8-81d8-ee0cb3953dcb",
     "showTitle": false,
     "tableResultSettingsMap": {},
     "title": ""
    }
   },
   "source": [
    "Gray scale images are 2-d objects:"
   ]
  },
  {
   "cell_type": "code",
   "execution_count": 0,
   "metadata": {
    "application/vnd.databricks.v1+cell": {
     "cellMetadata": {},
     "inputWidgets": {},
     "nuid": "f1488a0d-d074-4adc-9840-0cc875351c63",
     "showTitle": false,
     "tableResultSettingsMap": {},
     "title": ""
    }
   },
   "outputs": [],
   "source": [
    "\n",
    "from skimage import color\n",
    "\n",
    "# Convert the image to grayscale\n",
    "gray_image = color.rgb2gray(image)\n",
    "\n",
    "print('Dimensions of a grayscale image: ', gray_image.shape)\n",
    "\n",
    "# Display the grayscale image\n",
    "plt.imshow(gray_image, cmap='gray')\n",
    "\n",
    "print(gray_image.shape)\n"
   ]
  },
  {
   "cell_type": "markdown",
   "metadata": {
    "application/vnd.databricks.v1+cell": {
     "cellMetadata": {},
     "inputWidgets": {},
     "nuid": "8a288ec0-e912-4b97-8985-44b8d74c82f1",
     "showTitle": false,
     "tableResultSettingsMap": {},
     "title": ""
    }
   },
   "source": [
    "Visualization of a 2-d histogram as an image:"
   ]
  },
  {
   "cell_type": "code",
   "execution_count": 0,
   "metadata": {
    "application/vnd.databricks.v1+cell": {
     "cellMetadata": {},
     "inputWidgets": {},
     "nuid": "ffa03e9e-fa77-449c-828d-60ab66863500",
     "showTitle": false,
     "tableResultSettingsMap": {},
     "title": ""
    }
   },
   "outputs": [],
   "source": [
    "# Any 2D map can be visualized similarly, e.g. we can create a 2-d histogram of a dataset:\n",
    "\n",
    "# generate a random dataset of shape (1000 x 2)\n",
    "values = np.random.multivariate_normal([0, 0], [[1, 0.3],[ 0.3, 0.2]], size=1000)\n",
    "\n",
    "# plot the dataset \n",
    "plt.scatter(values[:,0], values[:,1], s=5)\n",
    "plt.title('Dataset scatterplot')\n",
    "\n",
    "plt.figure()\n",
    "\n",
    "# make a 2-d histogram of the dataset\n",
    "h, bx, by = np.histogram2d(values[:,0], values[:,1], bins = 20)\n",
    "\n",
    "print(h.shape)\n",
    "\n",
    "plt.title('Histogram visualization')\n",
    "plt.imshow(h, origin='lower')\n",
    "\n"
   ]
  }
 ],
 "metadata": {
  "application/vnd.databricks.v1+notebook": {
   "computePreferences": null,
   "dashboards": [],
   "environmentMetadata": null,
   "inputWidgetPreferences": null,
   "language": "python",
   "notebookMetadata": {},
   "notebookName": "Python_refresher",
   "widgets": {}
  },
  "colab": {
   "collapsed_sections": [
    "HG8uZJrln4kz",
    "TAmAx1ZDlXjT",
    "iqyBKVXmfHvn",
    "dvIWHnPdJT3w",
    "bbfroLuAnlce",
    "uRAvV9F1ouiV",
    "x7VLnpW3ywdE"
   ],
   "name": "Python key points homework",
   "provenance": []
  },
  "kernelspec": {
   "display_name": "aitexa",
   "language": "python",
   "name": "python3"
  },
  "language_info": {
   "name": "python"
  }
 },
 "nbformat": 4,
 "nbformat_minor": 0
}
