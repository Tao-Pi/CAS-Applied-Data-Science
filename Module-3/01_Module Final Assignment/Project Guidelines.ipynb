{
 "cells": [
  {
   "cell_type": "markdown",
   "metadata": {
    "application/vnd.databricks.v1+cell": {
     "cellMetadata": {},
     "inputWidgets": {},
     "nuid": "61ea1574-5da4-4e2a-9e2c-81b823ec6d46",
     "showTitle": false,
     "tableResultSettingsMap": {},
     "title": ""
    }
   },
   "source": [
    "# 📘 Module Final Assignment – Project Guidelines\n",
    "\n",
    "## 1. Choose a Field of Your Interest\n",
    "Examples:\n",
    "- Passion: sports, botanics  \n",
    "- Medicine  \n",
    "- Meteorology  \n",
    "- Work-related topic  \n",
    "\n",
    "---\n",
    "\n",
    "## 2. Find Your Data\n",
    "Maybe you already have it.  \n",
    "If not, try searching on sites specific to your field:\n",
    "- [Sports Statistics Data](https://sports-statistics.com/sports-data/)\n",
    "- [Kaggle Datasets](https://www.kaggle.com/datasets)\n",
    "- Web scraping\n",
    "\n",
    "---\n",
    "\n",
    "## 3. Scientific or Technical Problem\n",
    "Interested in a research-oriented topic?  \n",
    "Why not try to **replicate results** from a published article?\n",
    "\n",
    "---\n",
    "\n",
    "## 4. Techniques and Scope\n",
    "You should apply the techniques described in the module.  \n",
    "If you want to go beyond those techniques (e.g. *forecasting*), please have a chat beforehand.\n",
    "\n",
    "> 🧠 New techniques should also be described during your presentation.\n",
    "\n",
    "---\n",
    "\n",
    "## 5. Presentation\n",
    "- Duration: **30 minutes**  \n",
    "- Format: **Slides or Notebook**\n",
    "\n",
    "---\n",
    "\n",
    "## 🧩 Project Steps\n",
    "\n",
    "### Step 1: Define Your Question\n",
    "Examples:\n",
    "- “Can I cluster tennis players into groups?”  \n",
    "- “Can I estimate how many heartbeats are in this ECG signal?”  \n",
    "- “Can I optimize revenue or reduce customer churn?”  \n",
    "- “Are chocolate sales related to temperature?”  \n",
    "- “How do I classify these labelled images?”\n",
    "\n",
    "### Step 2: Develop a Plan of Attack\n",
    "Ask yourself:\n",
    "- What data am I using for my goal?  \n",
    "- Do I need to merge different data sources?  \n",
    "- Am I doing **Supervised** or **Unsupervised** learning?  \n",
    "- Is it **Classification** or **Regression**?  \n",
    "- Do I have enough data to try **Neural Networks** to balance bias and variance?\n",
    "\n",
    "---\n",
    "\n",
    "## ⏱ Estimated Workload\n",
    "**~30 hours**\n",
    "\n",
    "---\n",
    "\n",
    "## 📬 Contact\n",
    "**Good luck!**  \n",
    "✉️ aris.marcolongo@gmail.com\n"
   ]
  },
  {
   "cell_type": "markdown",
   "metadata": {
    "application/vnd.databricks.v1+cell": {
     "cellMetadata": {},
     "inputWidgets": {},
     "nuid": "e6f09d7c-253a-43e5-b3d7-dbdf15b75fb6",
     "showTitle": false,
     "tableResultSettingsMap": {},
     "title": ""
    }
   },
   "source": []
  }
 ],
 "metadata": {
  "application/vnd.databricks.v1+notebook": {
   "computePreferences": null,
   "dashboards": [],
   "environmentMetadata": {
    "base_environment": "",
    "environment_version": "4"
   },
   "inputWidgetPreferences": null,
   "language": "python",
   "notebookMetadata": {
    "pythonIndentUnit": 4
   },
   "notebookName": "Project Guidelines",
   "widgets": {}
  },
  "language_info": {
   "name": "python"
  }
 },
 "nbformat": 4,
 "nbformat_minor": 0
}
