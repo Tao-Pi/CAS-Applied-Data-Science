{
 "cells": [
  {
   "cell_type": "code",
   "execution_count": 0,
   "metadata": {
    "application/vnd.databricks.v1+cell": {
     "cellMetadata": {
      "byteLimit": 2048000,
      "rowLimit": 10000
     },
     "inputWidgets": {},
     "nuid": "6e9b2245-32b6-48e9-a4d9-4f184c46b44a",
     "showTitle": false,
     "tableResultSettingsMap": {},
     "title": ""
    }
   },
   "outputs": [],
   "source": [
    "import re\n",
    "\n",
    "def add(x, y):\n",
    "    \"\"\"This function adds two numbers.\"\"\"\n",
    "    return x + y\n",
    "\n",
    "def multiply(x, y):\n",
    "    \"\"\"This function multiplies two numbers.\"\"\"\n",
    "    return x * y\n",
    "\n",
    "\n",
    "def find_longest_word(sentence):\n",
    "    \"\"\"\n",
    "    Finds the longest word in a given sentence.\n",
    "\n",
    "    This function ignores punctuation and considers words to be sequences of\n",
    "    alphabetic characters. If the input is not a string, empty, or contains no\n",
    "    alphabetic words, it returns None. In case of a tie (multiple words\n",
    "    of the same maximum length), it returns the first one encountered.\n",
    "\n",
    "    Args:\n",
    "        sentence (str): The input string to search within.\n",
    "\n",
    "    Returns:\n",
    "        str or None: The longest word found, or None if no valid word is found.\n",
    "    \"\"\"\n",
    "    if not isinstance(sentence, str) or not sentence:\n",
    "        return None\n",
    "\n",
    "    # Remove punctuation and split the sentence into words\n",
    "    words = re.findall(r'[a-zA-Z]+', sentence)\n",
    "\n",
    "    if not words:\n",
    "        return None\n",
    "\n",
    "    # Find the longest word\n",
    "    longest_word = \"\"\n",
    "    for word in words:\n",
    "        if len(word) > len(longest_word):\n",
    "            longest_word = word\n",
    "    \n",
    "    return longest_word\n",
    "            "
   ]
  },
  {
   "cell_type": "code",
   "execution_count": 0,
   "metadata": {
    "application/vnd.databricks.v1+cell": {
     "cellMetadata": {
      "byteLimit": 2048000,
      "rowLimit": 10000
     },
     "inputWidgets": {},
     "nuid": "9a82ab0b-12c9-4e4b-82e2-a18c3127a895",
     "showTitle": false,
     "tableResultSettingsMap": {},
     "title": ""
    }
   },
   "outputs": [],
   "source": [
    "lorem_ipsum = \"Lorem ipsum dolor sit amet, consectetur adipiscing elit. Nulla finibus diam vel mollis luctus. Mauris pharetra, ex id lobortis sodales, odio nulla rutrum mauris, in vehicula arcu libero eu ligula. Integer sed posuere lacus. Morbi est felis, egestas vitae egestas at, pharetra eu quam. Duis imperdiet ligula justo. Aenean ut facilisis urna. Mauris in risus laoreet, aliquet justo ut, tristique sapien. Cras nec dolor quis nulla elementum consequat. Quisque consequat est augue, vitae dictum metus efficitur sed. Duis quis erat enim. Nullam enim mauris, hendrerit nec ipsum non, ullamcorper malesuada nisl. Nam ex odio, vulputate non maximus nec, facilisis ut velit. Sed ullamcorper vulputate felis id dignissim. Nullam facilisis sem semper magna feugiat mollis. Nulla et rutrum mauris, quis consequat quam. Morbi vehicula nisi quis ipsum volutpat blandit non id arcu. Vestibulum vel nulla ante. Aenean enim purus, luctus ac dui quis, vehicula rhoncus felis. Curabitur hendrerit velit ac nulla condimentum vehicula. In sagittis ultrices dolor, ut lobortis dolor condimentum a. Nunc lorem odio, feugiat eu pharetra non, mollis ut lorem. Morbi vel pulvinar justo. Integer id nisi in mauris congue dignissim id ut quam. Class aptent taciti sociosqu ad litora torquent per conubia nostra, per inceptos himenaeos. Nam bibendum, quam placerat cursus commodo, ipsum augue eleifend metus, id cursus nunc velit quis risus. Vivamus quis ullamcorper mauris. Ut id tristique leo. In hac habitasse platea dictumst. Vestibulum ante ipsum primis in faucibus orci luctus et ultrices posuere cubilia curae; Etiam porttitor nunc erat, eget ullamcorper ligula auctor ut. Donec congue, massa sit amet ultrices finibus, neque elit suscipit magna, eget mattis dolor lectus ac elit. Nam varius massa velit, consectetur vulputate quam egestas vitae. Suspendisse vitae facilisis lorem. In semper tempor massa, in pulvinar ligula rhoncus nec. Morbi commodo felis in magna gravida, congue cursus dui luctus. Pellentesque aliquet laoreet dui, sed fermentum nisl vestibulum sit amet. Ut varius justo posuere libero lobortis volutpat. Nunc convallis iaculis diam, fermentum fermentum leo iaculis non. Aenean egestas sollicitudin nibh. Curabitur posuere, urna in egestas bibendum, tortor quam facilisis turpis, a lacinia magna velit at velit. Aliquam erat volutpat. Pellentesque habitant morbi tristique senectus et netus et malesuada fames ac turpis egestas. Quisque aliquam velit ac lacus pulvinar, ac pellentesque leo consectetur. Cras sagittis mattis erat sed scelerisque. Praesent convallis, ante id finibus tempor, odio eros aliquet arcu, et elementum metus nisi vel urna. Aenean lobortis ante ac semper tincidunt. Integer nisl erat, mollis id ipsum non, pharetra consequat mi. Maecenas mollis, ipsum vitae ultrices volutpat, tellus lacus malesuada risus, a consequat tellus neque in enim. Mauris vel ante sit amet ex rhoncus vestibulum. Ut faucibus, turpis ac vehicula blandit, tellus elit porttitor ipsum, non dapibus arcu enim a sem. Nulla quam elit, pellentesque ac nisl hendrerit, lacinia hendrerit mi. Pellentesque vehicula consectetur tellus, vel sodales diam convallis in. Nulla euismod porta mi, non eleifend ipsum.\""
   ]
  },
  {
   "cell_type": "code",
   "execution_count": 0,
   "metadata": {
    "application/vnd.databricks.v1+cell": {
     "cellMetadata": {
      "byteLimit": 2048000,
      "rowLimit": 10000
     },
     "inputWidgets": {},
     "nuid": "e6a94404-5a62-41ae-996e-3afac61c5400",
     "showTitle": false,
     "tableResultSettingsMap": {},
     "title": ""
    }
   },
   "outputs": [],
   "source": [
    "import pytest\n",
    "from pytest_example import add, multiply, find_longest_word\n",
    "\n",
    "def test_add():\n",
    "    assert add(2, 3) == 5\n",
    "    assert add(-1, 1) == 0\n",
    "    assert add(0, 0) == 0\n",
    "\n",
    "def test_multiply():\n",
    "    assert multiply(2, 3) == 6\n",
    "    assert multiply(-1, 1) == -1\n",
    "    assert multiply(0, 0) == 0\n",
    "\n",
    "\n",
    "\n",
    "def test_find_longest_word():\n",
    "    assert find_longest_word(lorem_ipsum) == \"Pellentesque\""
   ]
  },
  {
   "cell_type": "code",
   "execution_count": 0,
   "metadata": {
    "application/vnd.databricks.v1+cell": {
     "cellMetadata": {
      "byteLimit": 2048000,
      "rowLimit": 10000
     },
     "inputWidgets": {},
     "nuid": "9bea5fc0-6b70-4762-b0b0-5f257620e254",
     "showTitle": false,
     "tableResultSettingsMap": {},
     "title": ""
    }
   },
   "outputs": [],
   "source": [
    "test_find_longest_word()"
   ]
  }
 ],
 "metadata": {
  "application/vnd.databricks.v1+notebook": {
   "computePreferences": null,
   "dashboards": [],
   "environmentMetadata": {
    "base_environment": "",
    "environment_version": "4"
   },
   "inputWidgetPreferences": null,
   "language": "python",
   "notebookMetadata": {
    "pythonIndentUnit": 4
   },
   "notebookName": "pytest_example_Notebook",
   "widgets": {}
  },
  "language_info": {
   "name": "python"
  }
 },
 "nbformat": 4,
 "nbformat_minor": 0
}
