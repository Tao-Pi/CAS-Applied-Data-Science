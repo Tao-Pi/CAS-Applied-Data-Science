{
 "cells": [
  {
   "cell_type": "markdown",
   "metadata": {
    "application/vnd.databricks.v1+cell": {
     "cellMetadata": {},
     "inputWidgets": {},
     "nuid": "053da16d-523c-40a6-8cb5-3d931d669888",
     "showTitle": false,
     "tableResultSettingsMap": {},
     "title": ""
    },
    "id": "VaNsYCMm00Uv"
   },
   "source": [
    "<a href=\"https://colab.research.google.com/github/KGzB/CAS-Applied-Data-Science/blob/master/Module-2/CAS-D2-Regression-Sol.ipynb\" target=\"_parent\"><img src=\"https://colab.research.google.com/assets/colab-badge.svg\" alt=\"Open In Colab\"/></a>"
   ]
  },
  {
   "cell_type": "markdown",
   "metadata": {
    "application/vnd.databricks.v1+cell": {
     "cellMetadata": {},
     "inputWidgets": {},
     "nuid": "fe98a43c-35ed-4198-8965-47619aa64a81",
     "showTitle": false,
     "tableResultSettingsMap": {},
     "title": ""
    },
    "id": "UnOP-6EzHZ9q"
   },
   "source": [
    "Notebook 3, Module 2, Statistical Inference for Data Science, CAS Applied Data Science, 2024-08-28, A. Mühlemann, University of Bern.\n",
    "\n",
    "*This notebook is based on the notebook by S. Haug and G. Conti from 2020*"
   ]
  },
  {
   "cell_type": "markdown",
   "metadata": {
    "application/vnd.databricks.v1+cell": {
     "cellMetadata": {},
     "inputWidgets": {},
     "nuid": "b80e0072-87ab-4dbf-b680-cd882cc53017",
     "showTitle": false,
     "tableResultSettingsMap": {},
     "title": ""
    },
    "id": "gpx2r-WAHZ9s"
   },
   "source": [
    "# Parameter estimation / regression\n",
    "\n",
    "**Average expected study time :** 3x45 min (depending on your background)\n",
    "\n",
    "**Learning outcomes :**\n",
    "\n",
    "- Know what is meant by parameter estimation and regression\n",
    "- Calculation of confidence intervals via Python\n",
    "- Perform linear regression with Python by example\n",
    "- Perform non-linear regression with Python by example\n",
    "- Know what non-parametric regression is\n",
    "- Perform linear regression with Python scikit-learn by example\n",
    "...\n",
    "\n",
    "**Main python modules used**\n",
    "- the Scipy.stat module https://docs.scipy.org/doc/scipy/reference/stats.html\n",
    "- the Scikit-learn module\n",
    "\n",
    "If you run this notebook on google colab, you will (probably) have no problems with importing the modules."
   ]
  },
  {
   "cell_type": "markdown",
   "metadata": {
    "application/vnd.databricks.v1+cell": {
     "cellMetadata": {},
     "inputWidgets": {},
     "nuid": "d5542160-903c-407b-8bd4-764d42563e71",
     "showTitle": false,
     "tableResultSettingsMap": {},
     "title": ""
    },
    "id": "VWIThuikPO7W"
   },
   "source": [
    "**Link to weighted descriptive statistical methods in python**:\n",
    "https://www.statsmodels.org/stable/generated/statsmodels.stats.weightstats.DescrStatsW.html"
   ]
  },
  {
   "cell_type": "markdown",
   "metadata": {
    "application/vnd.databricks.v1+cell": {
     "cellMetadata": {},
     "inputWidgets": {},
     "nuid": "9fa059ef-25ff-426b-ab19-c614dd506c5b",
     "showTitle": false,
     "tableResultSettingsMap": {},
     "title": ""
    },
    "id": "YrHViWYQHZ9x"
   },
   "source": [
    "# 3. Inferential Statistics I\n"
   ]
  },
  {
   "cell_type": "markdown",
   "metadata": {
    "application/vnd.databricks.v1+cell": {
     "cellMetadata": {},
     "inputWidgets": {},
     "nuid": "816696a1-62a2-42f5-bc52-65ae4e38d3b5",
     "showTitle": false,
     "tableResultSettingsMap": {},
     "title": ""
    },
    "id": "3rFRb9rhHZ90"
   },
   "source": [
    "Import the Python libraries we need."
   ]
  },
  {
   "cell_type": "code",
   "execution_count": 0,
   "metadata": {
    "application/vnd.databricks.v1+cell": {
     "cellMetadata": {},
     "inputWidgets": {},
     "nuid": "83fd7817-c8b9-41e8-a3ed-37beacb37057",
     "showTitle": false,
     "tableResultSettingsMap": {},
     "title": ""
    },
    "executionInfo": {
     "elapsed": 819,
     "status": "ok",
     "timestamp": 1724840277294,
     "user": {
      "displayName": "Anja Mühlemann",
      "userId": "13180139022750424409"
     },
     "user_tz": -120
    },
    "id": "St85roiBHZ91"
   },
   "outputs": [],
   "source": [
    "import numpy as np\n",
    "import matplotlib.pyplot as plt\n",
    "import pandas as pd\n",
    "import seaborn as sns\n",
    "import scipy.stats as stats"
   ]
  },
  {
   "cell_type": "markdown",
   "metadata": {
    "application/vnd.databricks.v1+cell": {
     "cellMetadata": {},
     "inputWidgets": {},
     "nuid": "e4c2e84c-6728-4844-8682-3117398136b8",
     "showTitle": false,
     "tableResultSettingsMap": {},
     "title": ""
    },
    "id": "Y-6YDunfZZpk"
   },
   "source": [
    "In this notebook, we work with a data set that contains records of river melting dates in the Baltic region.\n",
    "The data set contains the columns\n",
    "\n",
    "- *YEAR*: year\n",
    "- *Riga*: day of year when ice melts in the western Dvina river\n",
    "- *Bolderaja*: day of year when ice melts in the Bullupe river\n",
    "- *Parnu*: day of year when ice melts in the Parnu river\n",
    "- *Tallinn*: day of year of ice break date in Tallinn port\n",
    "- *Narva*: day of year of ice break in the Narva river\n",
    "- *St_Petersburg*: day of year of ice break in the Newa river\n",
    "- *Kronstadt*: day of year of ice break in the gulf of Finland\n",
    "- *Porvoo*: day of year of ice break in the Porvoonjoki river\n",
    "- *Turku*: day of year of ice break in the Aura river\n",
    "- *Pori*: day of year of ice break in the Kokemaenjoki river\n",
    "\n",
    "Let us first read the data set from Github."
   ]
  },
  {
   "cell_type": "code",
   "execution_count": 0,
   "metadata": {
    "application/vnd.databricks.v1+cell": {
     "cellMetadata": {},
     "inputWidgets": {},
     "nuid": "fd319f1c-c66c-40fa-9046-3a11ac306358",
     "showTitle": false,
     "tableResultSettingsMap": {},
     "title": ""
    },
    "colab": {
     "base_uri": "https://localhost:8080/",
     "height": 455
    },
    "executionInfo": {
     "elapsed": 40,
     "status": "ok",
     "timestamp": 1724840277783,
     "user": {
      "displayName": "Anja Mühlemann",
      "userId": "13180139022750424409"
     },
     "user_tz": -120
    },
    "id": "YSg-y1hgHZ99",
    "outputId": "2a0842a0-ac15-4ba1-d624-6dda445c2355"
   },
   "outputs": [],
   "source": [
    "url = \"https://github.com/KGzB/CAS-Applied-Data-Science/blob/master/Module-2/baltikum_eisschmelze.csv?raw=true\"\n",
    "df = pd.read_csv(url, sep=\";\", index_col=0)\n",
    "df"
   ]
  },
  {
   "cell_type": "markdown",
   "metadata": {
    "application/vnd.databricks.v1+cell": {
     "cellMetadata": {},
     "inputWidgets": {},
     "nuid": "ce07290c-609f-44ae-80a9-1d8e70cdbce0",
     "showTitle": false,
     "tableResultSettingsMap": {},
     "title": ""
    },
    "id": "O9-YVTFpH9MD"
   },
   "source": [
    "We can see that there are places where we have a lot of missing data. Thus let us first look at the available records."
   ]
  },
  {
   "cell_type": "code",
   "execution_count": 0,
   "metadata": {
    "application/vnd.databricks.v1+cell": {
     "cellMetadata": {},
     "inputWidgets": {},
     "nuid": "180de4c4-5694-46a6-a54d-bfcbadb0ad54",
     "showTitle": false,
     "tableResultSettingsMap": {},
     "title": ""
    },
    "colab": {
     "base_uri": "https://localhost:8080/",
     "height": 470
    },
    "executionInfo": {
     "elapsed": 593,
     "status": "ok",
     "timestamp": 1724840278346,
     "user": {
      "displayName": "Anja Mühlemann",
      "userId": "13180139022750424409"
     },
     "user_tz": -120
    },
    "id": "7moARexNIY0K",
    "outputId": "deb8999f-333c-47b2-dc3f-50f312c70332"
   },
   "outputs": [],
   "source": [
    "plt.figure(figsize=(12,5))\n",
    "colours = ['seagreen', 'white']\n",
    "sns.heatmap(df.isnull(), cmap=sns.color_palette(colours))"
   ]
  },
  {
   "cell_type": "markdown",
   "metadata": {
    "application/vnd.databricks.v1+cell": {
     "cellMetadata": {},
     "inputWidgets": {},
     "nuid": "1bb21c38-0589-4bb7-9621-a62334fe5ced",
     "showTitle": false,
     "tableResultSettingsMap": {},
     "title": ""
    },
    "id": "HEI4Y963J62x"
   },
   "source": [
    "We can see that the time series in from Tallinn is the most complete one already starting in 1600."
   ]
  },
  {
   "cell_type": "markdown",
   "metadata": {
    "application/vnd.databricks.v1+cell": {
     "cellMetadata": {},
     "inputWidgets": {},
     "nuid": "f2228c59-c0f9-46b5-a907-d5b6197046cf",
     "showTitle": false,
     "tableResultSettingsMap": {},
     "title": ""
    },
    "id": "cWPbHuDbVzVG"
   },
   "source": [
    "## 3.1 Model parameter estimation\n",
    "Let us start with model parameter estimation.\n",
    "To this end we look at the DOY (day of year) the ice broke up in St_Petersburg."
   ]
  },
  {
   "cell_type": "code",
   "execution_count": 0,
   "metadata": {
    "application/vnd.databricks.v1+cell": {
     "cellMetadata": {},
     "inputWidgets": {},
     "nuid": "cab582fb-960c-4b4b-b4b0-0d2a12fb62bb",
     "showTitle": false,
     "tableResultSettingsMap": {},
     "title": ""
    },
    "colab": {
     "base_uri": "https://localhost:8080/",
     "height": 524
    },
    "executionInfo": {
     "elapsed": 912,
     "status": "ok",
     "timestamp": 1724840279240,
     "user": {
      "displayName": "Anja Mühlemann",
      "userId": "13180139022750424409"
     },
     "user_tz": -120
    },
    "id": "FA4RUOWbKeEv",
    "outputId": "d5b54007-179d-49fb-c481-e277eb22b124"
   },
   "outputs": [],
   "source": [
    "df['St_Petersburg'].plot(kind=\"hist\",fill=True, density=True, histtype='bar',edgecolor='black', title='ice break DOY in St Peterburg')\n",
    "plt.xlabel(\"DOY\")\n",
    "plt.show()"
   ]
  },
  {
   "cell_type": "markdown",
   "metadata": {
    "application/vnd.databricks.v1+cell": {
     "cellMetadata": {},
     "inputWidgets": {},
     "nuid": "3941a3b2-37ae-4021-a4ca-f74635919d33",
     "showTitle": false,
     "tableResultSettingsMap": {},
     "title": ""
    },
    "id": "QPjlMfAcMN7t"
   },
   "source": [
    "The histogram suggests that the feature is slightly skewed. But let us nevertheless how well a normal model would fit this feature. Because the mean $\\mu$ and the standard deviation $\\sigma$ (or variance $\\sigma^2$, respectively) completely characterize the form of the normal pdf, we need to estimate the mean and standard deviation from the data."
   ]
  },
  {
   "cell_type": "code",
   "execution_count": 0,
   "metadata": {
    "application/vnd.databricks.v1+cell": {
     "cellMetadata": {},
     "inputWidgets": {},
     "nuid": "8c9447c5-4964-4edd-853b-f22052ca1e6c",
     "showTitle": false,
     "tableResultSettingsMap": {},
     "title": ""
    },
    "colab": {
     "base_uri": "https://localhost:8080/"
    },
    "executionInfo": {
     "elapsed": 114,
     "status": "ok",
     "timestamp": 1724840279242,
     "user": {
      "displayName": "Anja Mühlemann",
      "userId": "13180139022750424409"
     },
     "user_tz": -120
    },
    "id": "EHC4Q_mOVspZ",
    "outputId": "b06832c0-5399-4457-e6aa-ac04fffb25a3"
   },
   "outputs": [],
   "source": [
    "# Estimation of mean and standard deviation\n",
    "mean  = df['St_Petersburg'].mean()\n",
    "sd = df['St_Petersburg'].std()\n",
    "print(mean,sd)"
   ]
  },
  {
   "cell_type": "markdown",
   "metadata": {
    "application/vnd.databricks.v1+cell": {
     "cellMetadata": {},
     "inputWidgets": {},
     "nuid": "cba9d8de-88e5-4671-ac1c-31c88f629299",
     "showTitle": false,
     "tableResultSettingsMap": {},
     "title": ""
    },
    "id": "jT_04i14cuDM"
   },
   "source": [
    "Thus, as an estimate for the mean we get 111.20 and 8.67 for the standard deviation. Let us now visually compare the histogram the the estimated normal pdf."
   ]
  },
  {
   "cell_type": "code",
   "execution_count": 0,
   "metadata": {
    "application/vnd.databricks.v1+cell": {
     "cellMetadata": {},
     "inputWidgets": {},
     "nuid": "9d732271-02d1-4d8a-8f3f-f209787ceae6",
     "showTitle": false,
     "tableResultSettingsMap": {},
     "title": ""
    },
    "colab": {
     "base_uri": "https://localhost:8080/",
     "height": 524
    },
    "executionInfo": {
     "elapsed": 101,
     "status": "ok",
     "timestamp": 1724840279244,
     "user": {
      "displayName": "Anja Mühlemann",
      "userId": "13180139022750424409"
     },
     "user_tz": -120
    },
    "id": "2cM7b2eiYwbK",
    "outputId": "24b8d649-8da0-4b0e-bf7c-03ffdf172bcf"
   },
   "outputs": [],
   "source": [
    "# Create histogram and add the normal pdf with the estimated mean and standard deviation from above\n",
    "df['St_Petersburg'].plot(kind=\"hist\",fill=True,density=True,histtype='bar',edgecolor='black', title='ice break DOY in St Peterburg')\n",
    "\n",
    "# Calculate the normal pdf based on the estimates above\n",
    "x = np.linspace(df['St_Petersburg'].min(), df['St_Petersburg'].max(), 100)\n",
    "pdf = stats.norm.pdf(x, mean, sd)\n",
    "\n",
    "# add the pdf\n",
    "plt.plot(x, pdf, color='red', linewidth=2)\n",
    "plt.xlabel(\"DOY\")\n",
    "\n",
    "plt.show()"
   ]
  },
  {
   "cell_type": "markdown",
   "metadata": {
    "application/vnd.databricks.v1+cell": {
     "cellMetadata": {},
     "inputWidgets": {},
     "nuid": "5a6e376d-2aeb-4b4c-adc0-69dbd8e44706",
     "showTitle": false,
     "tableResultSettingsMap": {},
     "title": ""
    },
    "id": "qlcjT_YeYr7T"
   },
   "source": [
    "Looks not too bad, but the left tail is probably a bit too heavy while the right tail is less heavier that for a normal distrubition. Thus, a slightly skewed distribution model would probably suit better. Tomorrow and below we will see more precise options to check normality."
   ]
  },
  {
   "cell_type": "markdown",
   "metadata": {
    "application/vnd.databricks.v1+cell": {
     "cellMetadata": {},
     "inputWidgets": {},
     "nuid": "01f40a3f-08bd-4a03-a7d1-16262089b3d6",
     "showTitle": false,
     "tableResultSettingsMap": {},
     "title": ""
    },
    "id": "9EW2fVflHZ-i"
   },
   "source": [
    "### Example Exponential p.d.f.\n",
    "\n",
    "This example shall illustrate that even in perfect world where no measurement errors occure, just the fact that we work on a sample rather the whole population does introduce a lot of uncertainty. We now draw a sampe of size 50 from a exponential distribution with $\\beta=0.5$ and $\\mu=0$, where\n",
    "\n",
    "the exponential pdf is defined as\n",
    "\n",
    "$$f(x)=\\frac{1}{\\beta} e^{-(x-\\mu)/\\beta}     ,  x \\ge \\mu;\\beta>0$$.\n",
    "\n",
    "Then from our sample we estimate the scale and location. When you do rerun the code several times you can see that the estimates $\\hat{\\beta}$ and $\\hat{\\mu}$ are sometimes quite far from the true values $\\beta=0.5$ and $\\mu=0$. This uncertainty comes into play by working on a sample. Having measurement errors or more complicated settings increases the uncertainty even more."
   ]
  },
  {
   "cell_type": "code",
   "execution_count": 0,
   "metadata": {
    "application/vnd.databricks.v1+cell": {
     "cellMetadata": {},
     "inputWidgets": {},
     "nuid": "f44afbe1-fa14-48a0-8190-66e3c599bf8f",
     "showTitle": false,
     "tableResultSettingsMap": {},
     "title": ""
    },
    "colab": {
     "base_uri": "https://localhost:8080/",
     "height": 504
    },
    "executionInfo": {
     "elapsed": 92,
     "status": "ok",
     "timestamp": 1724840279244,
     "user": {
      "displayName": "Anja Mühlemann",
      "userId": "13180139022750424409"
     },
     "user_tz": -120
    },
    "id": "6eu7CsUFHZ-j",
    "outputId": "56537af3-e501-4404-c9d9-be9b509b0882"
   },
   "outputs": [],
   "source": [
    "# Let us fit data to an exponential distribution\n",
    "fig, ax = plt.subplots(1, 1)\n",
    "# First generate a data set from a exponential distribution\n",
    "x = stats.expon.rvs(0.0,0.5,size=50) #  scale = 0.5, location = 0.00, 100 variates\n",
    "ax.hist(x, density=True, histtype='stepfilled', alpha=0.3)\n",
    "# Fit scale and location to the histogram/data\n",
    "loc, scale = stats.expon.fit(x) # ML estimator scale, lambda * exp(-lambda * x), scale =1/lambda\n",
    "print(' Location = %1.2f , Scale = %1.2f' % (loc,scale))\n",
    "plt.show()"
   ]
  },
  {
   "cell_type": "markdown",
   "metadata": {
    "application/vnd.databricks.v1+cell": {
     "cellMetadata": {},
     "inputWidgets": {},
     "nuid": "0bbad1be-1c29-4cec-add4-28769a526826",
     "showTitle": false,
     "tableResultSettingsMap": {},
     "title": ""
    },
    "id": "OGXrcmQnHZ-o"
   },
   "source": [
    "If you run this code serval times, you'll observe that sometimes the estimates for location and scale are rather poor. Here, we know the true underlying distribution but in general we don't. Thus, it would be helpful to know the uncertainties on the fitted values."
   ]
  },
  {
   "cell_type": "markdown",
   "metadata": {
    "application/vnd.databricks.v1+cell": {
     "cellMetadata": {},
     "inputWidgets": {},
     "nuid": "19c6aea1-92c1-4e40-9019-f49c18884db1",
     "showTitle": false,
     "tableResultSettingsMap": {},
     "title": ""
    },
    "id": "hOVBrT0WdjrZ"
   },
   "source": [
    "## 3.2 Confidence intervall\n",
    "At the moment we have no clue on how certain we are about point estimates for the mean and standard deviation we calculated above. Hence, it makes sense to additionally look at the confidence intervals."
   ]
  },
  {
   "cell_type": "code",
   "execution_count": 0,
   "metadata": {
    "application/vnd.databricks.v1+cell": {
     "cellMetadata": {},
     "inputWidgets": {},
     "nuid": "cf94f670-0356-4719-b83a-28280549ebfc",
     "showTitle": false,
     "tableResultSettingsMap": {},
     "title": ""
    },
    "colab": {
     "base_uri": "https://localhost:8080/"
    },
    "executionInfo": {
     "elapsed": 76,
     "status": "ok",
     "timestamp": 1724840279246,
     "user": {
      "displayName": "Anja Mühlemann",
      "userId": "13180139022750424409"
     },
     "user_tz": -120
    },
    "id": "MqZxZqfjhOs5",
    "outputId": "3ff28ad4-6bf6-4b61-b073-5ff258b1e4d8"
   },
   "outputs": [],
   "source": [
    "#95%-t-confidence interval for the mean\n",
    "n=len(df['St_Petersburg'])\n",
    "stats.t.interval(confidence=0.95, df=n-1, loc=mean, scale=sd/np.sqrt(n))\n",
    "\n"
   ]
  },
  {
   "cell_type": "markdown",
   "metadata": {
    "application/vnd.databricks.v1+cell": {
     "cellMetadata": {},
     "inputWidgets": {},
     "nuid": "18bfdc36-e6c1-4906-9fa2-9787f0571833",
     "showTitle": false,
     "tableResultSettingsMap": {},
     "title": ""
    },
    "id": "LOczDpjAj4m1"
   },
   "source": [
    "Unfortunately, there is no Python library that computes the confidence interval of standard deviation, so we have to do it \"by hand\"."
   ]
  },
  {
   "cell_type": "code",
   "execution_count": 0,
   "metadata": {
    "application/vnd.databricks.v1+cell": {
     "cellMetadata": {},
     "inputWidgets": {},
     "nuid": "077e7edc-a254-4fbd-82ca-96dad5f7ad9a",
     "showTitle": false,
     "tableResultSettingsMap": {},
     "title": ""
    },
    "colab": {
     "base_uri": "https://localhost:8080/"
    },
    "executionInfo": {
     "elapsed": 65,
     "status": "ok",
     "timestamp": 1724840279247,
     "user": {
      "displayName": "Anja Mühlemann",
      "userId": "13180139022750424409"
     },
     "user_tz": -120
    },
    "id": "X6E1O5idl5Cu",
    "outputId": "8d613d78-03b7-4c3d-b8a8-a41ae8baec0a"
   },
   "outputs": [],
   "source": [
    "# confidence intervall for the standard deviation of normally distributed data\n",
    "alpha = 0.05  # significance level = 5%\n",
    "n = len(df['St_Petersburg'])  # sample sizes\n",
    "s2 = np.var(df['St_Petersburg'], ddof=1)   # sample variance\n",
    "degf = n - 1                 # degrees of freedom\n",
    "\n",
    "upper = np.sqrt((n - 1) * s2 / stats.chi2.ppf(alpha / 2, degf))\n",
    "lower = np.sqrt((n - 1) * s2 / stats.chi2.ppf(1 - alpha / 2, degf))\n",
    "(lower, upper)"
   ]
  },
  {
   "cell_type": "markdown",
   "metadata": {
    "application/vnd.databricks.v1+cell": {
     "cellMetadata": {},
     "inputWidgets": {},
     "nuid": "d0c4159c-008d-4308-bd33-04451a514c3b",
     "showTitle": false,
     "tableResultSettingsMap": {},
     "title": ""
    },
    "id": "yFHy-HgEnVTI"
   },
   "source": [
    "Interpret the confidence intervals.\n",
    "\n",
    "You can find more on confidence intervals under https://aegis4048.github.io/comprehensive_confidence_intervals_for_python_developers#chi_square - I found this Link quite helpful :)"
   ]
  },
  {
   "cell_type": "markdown",
   "metadata": {
    "application/vnd.databricks.v1+cell": {
     "cellMetadata": {},
     "inputWidgets": {},
     "nuid": "63d62f51-1cde-4ba8-9434-4cfac116c822",
     "showTitle": false,
     "tableResultSettingsMap": {},
     "title": ""
    },
    "id": "ldd4t9BUHZ9y"
   },
   "source": [
    "## 3.1 About linear Regression\n",
    "\n",
    "Simple linear regression means fitting a straight line to data a set of points $(x,y)$. A line is described as\n",
    "\n",
    "$$y = ax + b$$\n",
    "\n",
    "Thus, two parameters $a$ (slope) and $b$ (intersection with y axis) are fitted.\n",
    "\n",
    "There are different fitting methods, mostly least squares or maximum likelihood are used.\n"
   ]
  },
  {
   "cell_type": "markdown",
   "metadata": {
    "application/vnd.databricks.v1+cell": {
     "cellMetadata": {},
     "inputWidgets": {},
     "nuid": "65851b87-71e7-4ffa-9de6-29d16ea2d1d7",
     "showTitle": false,
     "tableResultSettingsMap": {},
     "title": ""
    },
    "id": "tCRukbUyHZ9z"
   },
   "source": [
    "### Linear regression in Python"
   ]
  },
  {
   "cell_type": "markdown",
   "metadata": {
    "application/vnd.databricks.v1+cell": {
     "cellMetadata": {},
     "inputWidgets": {},
     "nuid": "d6ef68db-ed45-4589-95be-225f99d9bb93",
     "showTitle": false,
     "tableResultSettingsMap": {},
     "title": ""
    },
    "id": "vVN3HiA_HZ98"
   },
   "source": [
    "When we look at the available data from Riga and Bolderaja, we see that there is a lot less measurements from Bolderaja. It would, however, be nice if we could reconstruct the missing measurement from Bolderaja by using our observations from Riga. Before we go ahead, we should probably check whether this is reasonable. Let us thus compare the two line plots."
   ]
  },
  {
   "cell_type": "code",
   "execution_count": 0,
   "metadata": {
    "application/vnd.databricks.v1+cell": {
     "cellMetadata": {},
     "inputWidgets": {},
     "nuid": "1562df2a-4ff2-4d14-b988-3781009be5e3",
     "showTitle": false,
     "tableResultSettingsMap": {},
     "title": ""
    },
    "colab": {
     "base_uri": "https://localhost:8080/",
     "height": 562
    },
    "executionInfo": {
     "elapsed": 669,
     "status": "ok",
     "timestamp": 1724840279859,
     "user": {
      "displayName": "Anja Mühlemann",
      "userId": "13180139022750424409"
     },
     "user_tz": -120
    },
    "id": "aWEngLcnTz5W",
    "outputId": "2cc0a0ff-3fb0-4bab-c9b1-e7b67083a2c0"
   },
   "outputs": [],
   "source": [
    "df = df.reset_index()\n",
    "plt.figure(figsize=(12, 6))\n",
    "\n",
    "# Plot Riga\n",
    "plt.plot(df['YEAR'], df['Riga'], marker='o', label='Riga', color='blue')\n",
    "\n",
    "# Plot Bolderaja\n",
    "plt.plot(df['YEAR'], df['Bolderaja'], marker='o', label='Bolderaja', color='orange')\n",
    "\n",
    "# Add labels and title\n",
    "plt.xlabel('Year')\n",
    "plt.ylabel('DOY')\n",
    "plt.title('Riga and Bolderaja')\n",
    "plt.legend()\n",
    "plt.grid(True)\n",
    "\n",
    "\n",
    "plt.show()"
   ]
  },
  {
   "cell_type": "markdown",
   "metadata": {
    "application/vnd.databricks.v1+cell": {
     "cellMetadata": {},
     "inputWidgets": {},
     "nuid": "ef7322d0-2887-499a-b804-73582469311e",
     "showTitle": false,
     "tableResultSettingsMap": {},
     "title": ""
    },
    "id": "P4npY1AWTpui"
   },
   "source": [
    "There seems to indeed exist a relationship between the DOY the ice melts in Riga and Bolderaja. Thus, let us now try to estimate the missing data by using a simple linear regression model.\n",
    "\n",
    "We use https://docs.scipy.org/doc/scipy/reference/generated/scipy.stats.linregress.html, using least squares."
   ]
  },
  {
   "cell_type": "code",
   "execution_count": 0,
   "metadata": {
    "application/vnd.databricks.v1+cell": {
     "cellMetadata": {},
     "inputWidgets": {},
     "nuid": "d2c36ae3-605e-4886-b2dc-6f207211af08",
     "showTitle": false,
     "tableResultSettingsMap": {},
     "title": ""
    },
    "colab": {
     "base_uri": "https://localhost:8080/"
    },
    "executionInfo": {
     "elapsed": 39,
     "status": "ok",
     "timestamp": 1724840279860,
     "user": {
      "displayName": "Anja Mühlemann",
      "userId": "13180139022750424409"
     },
     "user_tz": -120
    },
    "id": "2i1LDcA4TXoD",
    "outputId": "659864ab-3687-4183-8b3a-42400e00a76d"
   },
   "outputs": [],
   "source": [
    "import statsmodels.api as sm\n",
    "\n",
    "# drop all rows with missing values\n",
    "df_clean = df[['Riga','Bolderaja']].dropna()\n",
    "\n",
    "# Define covariate and response\n",
    "X = df_clean['Riga']\n",
    "Y = df_clean['Bolderaja']\n",
    "\n",
    "# Add a intercept to the model\n",
    "X = sm.add_constant(X)\n",
    "\n",
    "# Fit the OLS model\n",
    "model = sm.OLS(Y, X)\n",
    "results = model.fit()\n",
    "\n",
    "# Print the results\n",
    "print(results.summary())"
   ]
  },
  {
   "cell_type": "markdown",
   "metadata": {
    "application/vnd.databricks.v1+cell": {
     "cellMetadata": {},
     "inputWidgets": {},
     "nuid": "64adec1a-fbc8-4b60-bfed-f775b6ab06ad",
     "showTitle": false,
     "tableResultSettingsMap": {},
     "title": ""
    },
    "id": "V3BFeEvyHZ-J"
   },
   "source": [
    "Under *coef* we can see the estimates for $a$ and $b$. *P>|t|* corresponds to the p-value for the test with working hypothesis that the respective estimate ($\\hat{a}, \\hat{b}$) not equals 0. *Prob (F-statistic)* is the p-value for the test with working hypothesis, that at least one explanatory variable has a significant effect on the outcome. *R-squared* describes how well the variance in the data is explained by the model (1 = everything, 0 = nothing). One Problem with *R-squared* is that its value increases with the number of explanatory variables. Thus, often it makes more sense to look at *Adj. R-squared* which is corrected for the number of explanatory variables."
   ]
  },
  {
   "cell_type": "code",
   "execution_count": 0,
   "metadata": {
    "application/vnd.databricks.v1+cell": {
     "cellMetadata": {},
     "inputWidgets": {},
     "nuid": "c685f7fe-1c76-499f-abe7-b8cc97a50817",
     "showTitle": false,
     "tableResultSettingsMap": {},
     "title": ""
    },
    "colab": {
     "base_uri": "https://localhost:8080/",
     "height": 524
    },
    "executionInfo": {
     "elapsed": 1529,
     "status": "ok",
     "timestamp": 1724840281360,
     "user": {
      "displayName": "Anja Mühlemann",
      "userId": "13180139022750424409"
     },
     "user_tz": -120
    },
    "id": "8qvhN0jLYWjw",
    "outputId": "68eadf30-e8e0-4628-88c6-89000f99d366"
   },
   "outputs": [],
   "source": [
    "# Draw Scatterplot and add model\n",
    "\n",
    "#Calculate the y-values the model would estimate\n",
    "Y_est = results.predict(X)\n",
    "# Plotting\n",
    "plt.scatter(df_clean['Riga'], df_clean['Bolderaja'], color='blue', label='Data')\n",
    "plt.plot(df_clean['Riga'], Y_est, color='red', linewidth=2, label='OLS Fit')\n",
    "plt.xlabel('Riga')\n",
    "plt.ylabel('Bolderaja')\n",
    "plt.title('Ordinary Least Squares (OLS) Regression')\n",
    "plt.legend()\n",
    "plt.show()"
   ]
  },
  {
   "cell_type": "markdown",
   "metadata": {
    "application/vnd.databricks.v1+cell": {
     "cellMetadata": {},
     "inputWidgets": {},
     "nuid": "522ba17e-1c70-49dd-a049-def4dee9c403",
     "showTitle": false,
     "tableResultSettingsMap": {},
     "title": ""
    },
    "id": "4-meHNvEZVUZ"
   },
   "source": [
    "Let us now look at the reconstructed time series in Bolderaja."
   ]
  },
  {
   "cell_type": "code",
   "execution_count": 0,
   "metadata": {
    "application/vnd.databricks.v1+cell": {
     "cellMetadata": {},
     "inputWidgets": {},
     "nuid": "9a8e1678-8a1f-43c1-8b26-d57e830143d4",
     "showTitle": false,
     "tableResultSettingsMap": {},
     "title": ""
    },
    "colab": {
     "base_uri": "https://localhost:8080/",
     "height": 524
    },
    "executionInfo": {
     "elapsed": 58,
     "status": "ok",
     "timestamp": 1724840281361,
     "user": {
      "displayName": "Anja Mühlemann",
      "userId": "13180139022750424409"
     },
     "user_tz": -120
    },
    "id": "vsbFmYE1XuHf",
    "outputId": "206eed2b-48e5-4afc-8a3a-c5b605566440"
   },
   "outputs": [],
   "source": [
    "# Make predictions for Bolderaja\n",
    "df_full = df[['YEAR', 'Riga']].dropna()\n",
    "X_full = df_full['Riga']\n",
    "X_full = sm.add_constant(X_full)\n",
    "\n",
    "Y_pred = results.predict(X_full)\n",
    "\n",
    "# Plot Riga (true observations)\n",
    "plt.plot(df_full['YEAR'], df_full['Riga'], marker='o', label='Riga', color='blue', alpha=0.8)\n",
    "\n",
    "# Plot Bolderaja (predictions)\n",
    "plt.plot(df_full['YEAR'], Y_pred, marker='o', label='Bolderaja (estimated)', color='orange', alpha=0.8)\n",
    "\n",
    "# Plot Bolderaja (true)\n",
    "plt.plot(df['YEAR'], df['Bolderaja'], marker='o', label='Bolderaja (true)', color='red', alpha=0.8)\n",
    "\n",
    "# Add labels and title\n",
    "plt.xlabel('Year')\n",
    "plt.ylabel('DOY')\n",
    "plt.title('Riga and predictions for Bolderaja')\n",
    "plt.legend()\n",
    "plt.show()\n"
   ]
  },
  {
   "cell_type": "markdown",
   "metadata": {
    "application/vnd.databricks.v1+cell": {
     "cellMetadata": {},
     "inputWidgets": {},
     "nuid": "c3e0fee6-8ab2-49b4-8a26-aa157d8e39f4",
     "showTitle": false,
     "tableResultSettingsMap": {},
     "title": ""
    },
    "id": "xIR3DN_aaqJi"
   },
   "source": [
    "Let us look more closely the area, where we know the true ice melt times in Bolderaja."
   ]
  },
  {
   "cell_type": "code",
   "execution_count": 0,
   "metadata": {
    "application/vnd.databricks.v1+cell": {
     "cellMetadata": {},
     "inputWidgets": {},
     "nuid": "4a0d98f4-60d4-41bb-883d-29894f67bd0f",
     "showTitle": false,
     "tableResultSettingsMap": {},
     "title": ""
    },
    "colab": {
     "base_uri": "https://localhost:8080/",
     "height": 524
    },
    "executionInfo": {
     "elapsed": 50,
     "status": "ok",
     "timestamp": 1724840281361,
     "user": {
      "displayName": "Anja Mühlemann",
      "userId": "13180139022750424409"
     },
     "user_tz": -120
    },
    "id": "HZ0g5OqRa0IB",
    "outputId": "06002a8e-9695-42b2-c7f1-2eb0f6a5f458"
   },
   "outputs": [],
   "source": [
    "# Plot Riga (true observations)\n",
    "plt.plot(df_full['YEAR'], df_full['Riga'], marker='o', label='Riga', color='blue', alpha=0.8)\n",
    "\n",
    "# Plot Bolderaja (predictions)\n",
    "plt.plot(df_full['YEAR'], Y_pred, marker='o', label='Bolderaja (estimated)', color='orange', alpha=0.8)\n",
    "\n",
    "# Plot Bolderaja (true)\n",
    "plt.plot(df['YEAR'], df['Bolderaja'], marker='o', label='Bolderaja (true)', color='red', alpha=0.8)\n",
    "\n",
    "# Add labels and title\n",
    "plt.xlim(1840, 1882)\n",
    "plt.xlabel('Year')\n",
    "plt.ylabel('DOY')\n",
    "plt.title('Riga and predictions for Bolderaja')\n",
    "plt.legend()\n",
    "\n",
    "plt.show()"
   ]
  },
  {
   "cell_type": "markdown",
   "metadata": {
    "application/vnd.databricks.v1+cell": {
     "cellMetadata": {},
     "inputWidgets": {},
     "nuid": "1c3835b5-aa90-41c2-8133-a3a8fa8fd465",
     "showTitle": false,
     "tableResultSettingsMap": {},
     "title": ""
    },
    "id": "WyBk8akCbOeb"
   },
   "source": [
    "What do you think?"
   ]
  },
  {
   "cell_type": "markdown",
   "metadata": {
    "application/vnd.databricks.v1+cell": {
     "cellMetadata": {},
     "inputWidgets": {},
     "nuid": "fc805e57-0151-4688-8daf-d4cb9bf9eb08",
     "showTitle": false,
     "tableResultSettingsMap": {},
     "title": ""
    },
    "id": "O7m4p7Uw_G7k"
   },
   "source": [
    "### Diagnostics\n",
    "Credits to https://robert-alvarez.github.io/2018-06-04-diagnostic_plots/ for implementing the diagnostic plots! This reference also helps with interpretation of those plots!"
   ]
  },
  {
   "cell_type": "code",
   "execution_count": 0,
   "metadata": {
    "application/vnd.databricks.v1+cell": {
     "cellMetadata": {},
     "inputWidgets": {},
     "nuid": "a13db88a-c7ee-4ea0-9a79-6513257a9f46",
     "showTitle": false,
     "tableResultSettingsMap": {},
     "title": ""
    },
    "executionInfo": {
     "elapsed": 45,
     "status": "ok",
     "timestamp": 1724840281362,
     "user": {
      "displayName": "Anja Mühlemann",
      "userId": "13180139022750424409"
     },
     "user_tz": -120
    },
    "id": "NFT6hL7eit2F"
   },
   "outputs": [],
   "source": [
    "import numpy as np\n",
    "import pandas as pd\n",
    "import seaborn as sns\n",
    "import statsmodels.api as sm\n",
    "import matplotlib.pyplot as plt\n",
    "from statsmodels.graphics.gofplots import ProbPlot\n",
    "plt.style.use(\"seaborn-v0_8\") # pretty matplotlib plots\n",
    "\n",
    "def graph(formula, x_range, label=None):\n",
    "    \"\"\"\n",
    "    Helper function for plotting cook's distance lines\n",
    "    \"\"\"\n",
    "    x = x_range\n",
    "    y = formula(x)\n",
    "    plt.plot(x, y, label=label, lw=1, ls='--', color='red')\n",
    "\n",
    "\n",
    "def diagnostic_plots(X, y, model_fit=None):\n",
    "  \"\"\"\n",
    "  Function to reproduce the 4 base plots of an OLS model in R.\n",
    "\n",
    "  ---\n",
    "  Inputs:\n",
    "\n",
    "  X: A numpy array or pandas dataframe of the features to use in building the linear regression model\n",
    "\n",
    "  y: A numpy array or pandas series/dataframe of the target variable of the linear regression model\n",
    "\n",
    "  model_fit [optional]: a statsmodel.api.OLS model after regressing y on X. If not provided, will be\n",
    "                        generated from X, y\n",
    "  \"\"\"\n",
    "\n",
    "  model_fit = sm.OLS(y, sm.add_constant(X)).fit()\n",
    "\n",
    "  # create dataframe from X, y for easier plot handling\n",
    "  dataframe = pd.concat([X, y], axis=1)\n",
    "\n",
    "  # model values\n",
    "  model_fitted_y = model_fit.fittedvalues\n",
    "  # model residuals\n",
    "  model_residuals = model_fit.resid\n",
    "  # normalized residuals\n",
    "  model_norm_residuals = model_fit.get_influence().resid_studentized_internal\n",
    "  # absolute squared normalized residuals\n",
    "  model_norm_residuals_abs_sqrt = np.sqrt(np.abs(model_norm_residuals))\n",
    "  # absolute residuals\n",
    "  model_abs_resid = np.abs(model_residuals)\n",
    "  # leverage, from statsmodels internals\n",
    "  model_leverage = model_fit.get_influence().hat_matrix_diag\n",
    "  # cook's distance, from statsmodels internals\n",
    "  model_cooks = model_fit.get_influence().cooks_distance[0]\n",
    "  tmp = pd.concat([model_fitted_y, model_residuals], axis=1, keys=['fitted', 'residuals'])\n",
    "\n",
    "\n",
    "  plot_lm_1 = plt.figure()\n",
    "  plot_lm_1.axes[0] = sns.residplot(data=tmp, x='fitted', y='residuals',\n",
    "                            lowess=True,\n",
    "                            scatter_kws={'alpha': 0.5},\n",
    "                            line_kws={'color': 'red', 'lw': 1, 'alpha': 0.8})\n",
    "\n",
    "  plot_lm_1.axes[0].set_title('Residuals vs Fitted')\n",
    "  plot_lm_1.axes[0].set_xlabel('Fitted values')\n",
    "  plot_lm_1.axes[0].set_ylabel('Residuals');\n",
    "\n",
    "  # annotations\n",
    "  abs_resid = model_abs_resid.sort_values(ascending=False)\n",
    "\n",
    "  QQ = ProbPlot(model_norm_residuals)\n",
    "  plot_lm_2 = QQ.qqplot(line='45', alpha=0.5, color='#4C72B0', lw=1)\n",
    "  plot_lm_2.axes[0].set_title('Normal Q-Q')\n",
    "  plot_lm_2.axes[0].set_xlabel('Theoretical Quantiles')\n",
    "  plot_lm_2.axes[0].set_ylabel('Standardized Residuals');\n",
    "  # annotations\n",
    "  abs_norm_resid = np.flip(np.argsort(np.abs(model_norm_residuals)), 0)\n",
    "\n",
    "  plot_lm_3 = plt.figure()\n",
    "  plt.scatter(model_fitted_y, model_norm_residuals_abs_sqrt, alpha=0.5);\n",
    "  tmp2 = pd.DataFrame(model_norm_residuals_abs_sqrt, columns = ['model_norm_residuals_abs_sqrt'])\n",
    "  tmp3 = pd.concat([model_fitted_y, tmp2], axis=1, keys=['fitted', 'residuals_normed'])\n",
    "  sns.regplot(data=tmp3, x='fitted', y='residuals_normed',\n",
    "                scatter=False,\n",
    "                ci=False,\n",
    "                lowess=True,\n",
    "                line_kws={'color': 'red', 'lw': 1, 'alpha': 0.8})\n",
    "  plot_lm_3.axes[0].set_title('Scale-Location')\n",
    "  plot_lm_3.axes[0].set_xlabel('Fitted values')\n",
    "  plot_lm_3.axes[0].set_ylabel('$\\sqrt{|Standardized Residuals|}$');\n",
    "\n",
    "  # annotations\n",
    "  abs_sq_norm_resid = np.flip(np.argsort(model_norm_residuals_abs_sqrt), 0)\n",
    "\n",
    "\n",
    "  plot_lm_4 = plt.figure();\n",
    "  plt.scatter(model_leverage, model_norm_residuals, alpha=0.5);\n",
    "  tmp4 = pd.DataFrame(model_leverage, columns = ['model_leverage'])\n",
    "  tmp5 = pd.DataFrame(model_norm_residuals, columns = ['model_norm_residuals'])\n",
    "  tmp6 = pd.concat([tmp4, tmp5], axis=1, keys=['leverage', 'residuals_normed'])\n",
    "  sns.regplot(data=tmp6, x='leverage', y='residuals_normed',\n",
    "             scatter=False,\n",
    "             ci=False,\n",
    "             lowess=True,\n",
    "              line_kws={'color': 'red', 'lw': 1, 'alpha': 0.8});\n",
    "  plot_lm_4.axes[0].set_xlim(0, max(model_leverage)+0.01)\n",
    "  plot_lm_4.axes[0].set_ylim(-3, 5)\n",
    "  plot_lm_4.axes[0].set_title('Residuals vs Leverage')\n",
    "  plot_lm_4.axes[0].set_xlabel('Leverage')\n",
    "  plot_lm_4.axes[0].set_ylabel('Standardized Residuals');\n",
    "\n",
    "  # annotations\n",
    "  leverage_top_3 = np.flip(np.argsort(model_cooks), 0)[:3]\n",
    "  for i in leverage_top_3:\n",
    "      plot_lm_4.axes[0].annotate(i,\n",
    "                                 xy=(model_leverage[i],\n",
    "                                     model_norm_residuals[i]));\n",
    "\n",
    "  p = len(model_fit.params) # number of model parameters\n",
    "  graph(lambda x: np.sqrt((0.5 * p * (1 - x)) / x),\n",
    "        np.linspace(0.001, max(model_leverage), 50),\n",
    "        'Cook\\'s distance') # 0.5 line\n",
    "  graph(lambda x: np.sqrt((1 * p * (1 - x)) / x),\n",
    "        np.linspace(0.001, max(model_leverage), 50)) # 1 line\n",
    "  plot_lm_4.legend(loc='upper right');"
   ]
  },
  {
   "cell_type": "code",
   "execution_count": 0,
   "metadata": {
    "application/vnd.databricks.v1+cell": {
     "cellMetadata": {},
     "inputWidgets": {},
     "nuid": "a26b7ec2-1347-4a92-94da-d95c313adf2a",
     "showTitle": false,
     "tableResultSettingsMap": {},
     "title": ""
    },
    "colab": {
     "base_uri": "https://localhost:8080/",
     "height": 1000
    },
    "executionInfo": {
     "elapsed": 1900,
     "status": "ok",
     "timestamp": 1724840283219,
     "user": {
      "displayName": "Anja Mühlemann",
      "userId": "13180139022750424409"
     },
     "user_tz": -120
    },
    "id": "iePh2Q_wiycC",
    "outputId": "1a0624e9-542e-49da-aa90-f6e09e935b9e"
   },
   "outputs": [],
   "source": [
    "diagnostic_plots(X,Y)"
   ]
  },
  {
   "cell_type": "markdown",
   "metadata": {
    "application/vnd.databricks.v1+cell": {
     "cellMetadata": {},
     "inputWidgets": {},
     "nuid": "dd3e49e4-dff0-4c46-a679-5bcc99481495",
     "showTitle": false,
     "tableResultSettingsMap": {},
     "title": ""
    },
    "id": "jtxZPiXOrz6w"
   },
   "source": [
    "## 3.2 More on regression"
   ]
  },
  {
   "cell_type": "markdown",
   "metadata": {
    "application/vnd.databricks.v1+cell": {
     "cellMetadata": {},
     "inputWidgets": {},
     "nuid": "58f5c53b-a95d-4d80-bfc4-8083c4f373f3",
     "showTitle": false,
     "tableResultSettingsMap": {},
     "title": ""
    },
    "id": "rzjGIJouHZ-p"
   },
   "source": [
    "### 3.2.1 Non-linear regression\n",
    "\n",
    "If a line is not straight it is curved. There are many mathematical functions whose parameters we can try to fit to experimental data points. Some examples: Polynominals (first order is linear regression, second order is a parabola etc), exponential functions, normal function, sindoial wave function etc. You need to choose an approriate shape/function to obtain a good result.\n",
    "\n",
    "With the Scipy.stat module we can look for preprogrammed functions (in principle you can program your own function whose parameters you want to fit too): https://docs.scipy.org/doc/scipy/reference/stats.html."
   ]
  },
  {
   "cell_type": "markdown",
   "metadata": {
    "application/vnd.databricks.v1+cell": {
     "cellMetadata": {},
     "inputWidgets": {},
     "nuid": "c4a1c031-8971-45fa-a875-adab777dedf4",
     "showTitle": false,
     "tableResultSettingsMap": {},
     "title": ""
    },
    "id": "831QxcoRHZ-p"
   },
   "source": [
    "The scipy.optimize module provides a more general non-linear least squares fit. Look at and play with this example. It is complex and you will probably use some time to fully understand every step."
   ]
  },
  {
   "cell_type": "code",
   "execution_count": 0,
   "metadata": {
    "application/vnd.databricks.v1+cell": {
     "cellMetadata": {},
     "inputWidgets": {},
     "nuid": "1fb4837e-bfb1-4e82-bf61-ccff6fe11634",
     "showTitle": false,
     "tableResultSettingsMap": {},
     "title": ""
    },
    "colab": {
     "base_uri": "https://localhost:8080/",
     "height": 484
    },
    "executionInfo": {
     "elapsed": 47,
     "status": "ok",
     "timestamp": 1724840283222,
     "user": {
      "displayName": "Anja Mühlemann",
      "userId": "13180139022750424409"
     },
     "user_tz": -120
    },
    "id": "1wsB4y-wHZ-q",
    "outputId": "6e14fe33-fa92-44a4-f699-49e2ef6dcdff"
   },
   "outputs": [],
   "source": [
    "from scipy.optimize import curve_fit\n",
    "\n",
    "def func(x, a, b, c):\n",
    "     return a * np.exp(-b * x) + c\n",
    "\n",
    "xdata = np.linspace(0, 4, 50) #\n",
    "y = func(xdata, 2.5, 1.3, 0.5)\n",
    "plt.plot(xdata, y, 'g-', label='Generated data')\n",
    "np.random.seed(1729)\n",
    "y_noise = 0.2 * np.random.normal(size=xdata.size)\n",
    "ydata = y + y_noise\n",
    "plt.plot(xdata, ydata, 'bo', label='Generated data with noise')\n",
    "plt.legend()\n",
    "plt.show()"
   ]
  },
  {
   "cell_type": "markdown",
   "metadata": {
    "application/vnd.databricks.v1+cell": {
     "cellMetadata": {},
     "inputWidgets": {},
     "nuid": "227d36df-0e79-4ad9-9f14-b9269be549b8",
     "showTitle": false,
     "tableResultSettingsMap": {},
     "title": ""
    },
    "id": "EssTbnMBvvI7"
   },
   "source": [
    "Let's fit the curve."
   ]
  },
  {
   "cell_type": "code",
   "execution_count": 0,
   "metadata": {
    "application/vnd.databricks.v1+cell": {
     "cellMetadata": {},
     "inputWidgets": {},
     "nuid": "c8436f00-74a1-427f-a44e-d82e470fbc90",
     "showTitle": false,
     "tableResultSettingsMap": {},
     "title": ""
    },
    "colab": {
     "base_uri": "https://localhost:8080/",
     "height": 539
    },
    "executionInfo": {
     "elapsed": 42,
     "status": "ok",
     "timestamp": 1724840283223,
     "user": {
      "displayName": "Anja Mühlemann",
      "userId": "13180139022750424409"
     },
     "user_tz": -120
    },
    "id": "FizQcBT1HZ-v",
    "outputId": "177dc8bd-fd75-46a1-b490-e298c73edaea"
   },
   "outputs": [],
   "source": [
    "popt, pcov = curve_fit(func, xdata, ydata)\n",
    "print(popt)\n",
    "perr = np.sqrt(np.diag(pcov)) # Standard deviation = square root of the variance being on the diagonal of the covariance matrix\n",
    "plt.plot(xdata, func(xdata, *popt), 'r-',label= \\\n",
    "         'fit: a=%5.3f +- %5.3f, \\n b=%5.3f +- %5.3f, \\n c=%5.3f +-%5.3f' % \\\n",
    "         (popt[0],perr[0],popt[1],perr[1],popt[2],perr[2]))\n",
    "plt.xlabel('x')\n",
    "plt.ylabel('y')\n",
    "plt.legend()\n",
    "plt.show()\n",
    "# pcov is the covariance matrix. The errors**2 of each parameter are the values on the diagonal.\n",
    "perr = np.sqrt(np.diag(pcov)) # Standard deviation = square root of the variance being on the diagonal of the covariance matrix\n",
    "perr\n"
   ]
  },
  {
   "cell_type": "markdown",
   "metadata": {
    "application/vnd.databricks.v1+cell": {
     "cellMetadata": {},
     "inputWidgets": {},
     "nuid": "40b49757-3a5c-4c87-96f4-ffb65080aa21",
     "showTitle": false,
     "tableResultSettingsMap": {},
     "title": ""
    },
    "id": "9e_ZppEZvzi0"
   },
   "source": [
    "Compare it to the data and the true function."
   ]
  },
  {
   "cell_type": "code",
   "execution_count": 0,
   "metadata": {
    "application/vnd.databricks.v1+cell": {
     "cellMetadata": {},
     "inputWidgets": {},
     "nuid": "9b379989-62e5-4fcf-ae6d-fc3b557d3c03",
     "showTitle": false,
     "tableResultSettingsMap": {},
     "title": ""
    },
    "colab": {
     "base_uri": "https://localhost:8080/",
     "height": 484
    },
    "executionInfo": {
     "elapsed": 1049,
     "status": "ok",
     "timestamp": 1724840284242,
     "user": {
      "displayName": "Anja Mühlemann",
      "userId": "13180139022750424409"
     },
     "user_tz": -120
    },
    "id": "aOuM_jywv6Vu",
    "outputId": "9009666e-e347-42d0-e191-5b875c16bd42"
   },
   "outputs": [],
   "source": [
    "plt.plot(xdata, y, 'g-', label='true')\n",
    "plt.plot(xdata, func(xdata, *popt), 'r-',label= 'fit')\n",
    "plt.plot(xdata, ydata, 'bo', label='Generated data with noise')\n",
    "plt.legend()\n",
    "plt.show()"
   ]
  },
  {
   "cell_type": "markdown",
   "metadata": {
    "application/vnd.databricks.v1+cell": {
     "cellMetadata": {},
     "inputWidgets": {},
     "nuid": "50b6578b-53e2-408c-b1b1-db887cc1d498",
     "showTitle": false,
     "tableResultSettingsMap": {},
     "title": ""
    },
    "id": "sfYUc2gayS7n"
   },
   "source": [
    "Try to add a bit noise and rerun the code."
   ]
  },
  {
   "cell_type": "markdown",
   "metadata": {
    "application/vnd.databricks.v1+cell": {
     "cellMetadata": {},
     "inputWidgets": {},
     "nuid": "accacd77-6dc6-4a92-a881-d6a5fb157774",
     "showTitle": false,
     "tableResultSettingsMap": {},
     "title": ""
    },
    "id": "N399vCV4HZ-z"
   },
   "source": [
    "### 3.2.2 Non-parametric regression\n",
    "\n",
    "So far we have used functions (models) with some predefined model. The parameters we fitted to data. If we have no clue about the model, but a rought idea on the shape non-parametric methods like isotonic regression. However, these require more data as also the exact shape needs to guessed or fitted from the data. So normally a non-parametric method gives poorer results.\n",
    "\n",
    "There are several ways to do this in Python. You make look at this if you are interested:\n",
    "\n",
    "https://pythonhosted.org/PyQt-Fit/NonParam_tut.html"
   ]
  },
  {
   "cell_type": "markdown",
   "metadata": {
    "application/vnd.databricks.v1+cell": {
     "cellMetadata": {},
     "inputWidgets": {},
     "nuid": "37b072ed-2f6c-4e33-a3d2-ca1cb1fabced",
     "showTitle": false,
     "tableResultSettingsMap": {},
     "title": ""
    },
    "id": "uxKmRNrRHZ-0"
   },
   "source": [
    "### 3.2.3 Fitting with scikit-learn\n",
    "\n",
    "When it comes to machine learning, the `scikit-learn` module is much richer than the stats module. You can find extensive documentation with examples in the [user guide](https://scikit-learn.org/stable/user_guide.html)\n",
    "\n",
    "The module contains A LOT of different machine learning methods, and here we will cover only few of them. What is great about `scikit-learn` is that it has a uniform and consistent interface.\n",
    "\n",
    "All the different ML approaches are implemented as classes with a set of same main methods:\n",
    "\n",
    "1. `fitter = ...`: Create object.\n",
    "2. `fitter.fit(x, y[, sample_weight])`: Fit model.\n",
    "3. `y_pred = fitter.predict(X)`: Predict using the model.\n",
    "4. `s = fitter.score(x, y[, sample_weight])`: Return an appropriate measure of model performance.\n",
    "\n",
    "This allows us to easily replace one approach with another and find the best one for the problem at hand, by simply using another regression/classification object, while the rest of the code can remain the same.\n",
    "\n",
    "*But you should be careful that there remains some justification! Otherwise you'll overfit. To be sure, you should use an approach like cross validation.*"
   ]
  },
  {
   "cell_type": "code",
   "execution_count": 0,
   "metadata": {
    "application/vnd.databricks.v1+cell": {
     "cellMetadata": {},
     "inputWidgets": {},
     "nuid": "f4363514-1b8c-454a-8bc7-b764e153eb1b",
     "showTitle": false,
     "tableResultSettingsMap": {},
     "title": ""
    },
    "executionInfo": {
     "elapsed": 115,
     "status": "ok",
     "timestamp": 1724840284243,
     "user": {
      "displayName": "Anja Mühlemann",
      "userId": "13180139022750424409"
     },
     "user_tz": -120
    },
    "id": "ezmW4pb2HZ-1"
   },
   "outputs": [],
   "source": [
    "# Let's write a method which can generate a linear dataset\n",
    "# with n_d dimensions and some gaussian noise to it\n",
    "import numpy as np\n",
    "import matplotlib.pyplot as plt\n",
    "\n",
    "def get_linear(n_d=1, n_points=10, w=None, b=None, sigma=5):\n",
    "  x = np.random.uniform(0, 10, size=(n_points, n_d))\n",
    "\n",
    "  w = w or np.random.uniform(0.1, 10, n_d)\n",
    "  b = b or np.random.uniform(-10, 10)\n",
    "  y = np.dot(x, w) + b + np.random.normal(0, sigma, size=n_points)\n",
    "\n",
    "  print('true w =', w, ';  b =', b)\n",
    "\n",
    "  return x, y"
   ]
  },
  {
   "cell_type": "code",
   "execution_count": 0,
   "metadata": {
    "application/vnd.databricks.v1+cell": {
     "cellMetadata": {},
     "inputWidgets": {},
     "nuid": "41f1dd33-1425-4590-8d1c-61addf68af1c",
     "showTitle": false,
     "tableResultSettingsMap": {},
     "title": ""
    },
    "colab": {
     "base_uri": "https://localhost:8080/",
     "height": 520
    },
    "executionInfo": {
     "elapsed": 116,
     "status": "ok",
     "timestamp": 1724840284245,
     "user": {
      "displayName": "Anja Mühlemann",
      "userId": "13180139022750424409"
     },
     "user_tz": -120
    },
    "id": "GlsmKqA_HZ-7",
    "outputId": "6389ac8b-3ce3-4be3-a2a1-9b88af9cdbcb"
   },
   "outputs": [],
   "source": [
    "# Sample data from a straight line with noise to it\n",
    "x, y = get_linear(n_d=1, n_points=10)\n",
    "plt.plot(x[:, 0], y, '*')"
   ]
  },
  {
   "cell_type": "code",
   "execution_count": 0,
   "metadata": {
    "application/vnd.databricks.v1+cell": {
     "cellMetadata": {},
     "inputWidgets": {},
     "nuid": "4385e193-1009-4ccf-af6d-cbf88dacf7a1",
     "showTitle": false,
     "tableResultSettingsMap": {},
     "title": ""
    },
    "colab": {
     "base_uri": "https://localhost:8080/",
     "height": 75
    },
    "executionInfo": {
     "elapsed": 107,
     "status": "ok",
     "timestamp": 1724840284246,
     "user": {
      "displayName": "Anja Mühlemann",
      "userId": "13180139022750424409"
     },
     "user_tz": -120
    },
    "id": "NbGHUG25Jr_n",
    "outputId": "b33bd295-0762-4580-d36f-70c7bb13dc43"
   },
   "outputs": [],
   "source": [
    "from sklearn import datasets, linear_model\n",
    "reg = linear_model.LinearRegression()\n",
    "reg.fit(x, y)"
   ]
  },
  {
   "cell_type": "code",
   "execution_count": 0,
   "metadata": {
    "application/vnd.databricks.v1+cell": {
     "cellMetadata": {},
     "inputWidgets": {},
     "nuid": "e47a3d51-d7b4-4ea0-97a5-12acf9887a9e",
     "showTitle": false,
     "tableResultSettingsMap": {},
     "title": ""
    },
    "colab": {
     "base_uri": "https://localhost:8080/"
    },
    "executionInfo": {
     "elapsed": 106,
     "status": "ok",
     "timestamp": 1724840284247,
     "user": {
      "displayName": "Anja Mühlemann",
      "userId": "13180139022750424409"
     },
     "user_tz": -120
    },
    "id": "94oQqhyTKHlX",
    "outputId": "de2d1b94-bfcd-4384-812f-334f7f92292d"
   },
   "outputs": [],
   "source": [
    "w, w0 = reg.coef_, reg.intercept_\n",
    "print(w, w0)"
   ]
  },
  {
   "cell_type": "markdown",
   "metadata": {
    "application/vnd.databricks.v1+cell": {
     "cellMetadata": {},
     "inputWidgets": {},
     "nuid": "df83d3b1-0374-4695-a84b-83b4953a3527",
     "showTitle": false,
     "tableResultSettingsMap": {},
     "title": ""
    },
    "id": "QSNozJUJTSFa"
   },
   "source": [
    "scikit-learn does not support calculation of covariance on fitted parameters. That is a pity maybe. However, we can use numpy vectorized methods.\n"
   ]
  },
  {
   "cell_type": "code",
   "execution_count": 0,
   "metadata": {
    "application/vnd.databricks.v1+cell": {
     "cellMetadata": {},
     "inputWidgets": {},
     "nuid": "4b2b4b35-dab5-4974-aec3-3607db064192",
     "showTitle": false,
     "tableResultSettingsMap": {},
     "title": ""
    },
    "colab": {
     "base_uri": "https://localhost:8080/"
    },
    "executionInfo": {
     "elapsed": 101,
     "status": "ok",
     "timestamp": 1724840284248,
     "user": {
      "displayName": "Anja Mühlemann",
      "userId": "13180139022750424409"
     },
     "user_tz": -120
    },
    "id": "rJIV5pKmUPSz",
    "outputId": "d1a86966-6a64-4c90-df20-abf9501f6d94"
   },
   "outputs": [],
   "source": [
    "np.std(y - reg.predict(x))"
   ]
  },
  {
   "cell_type": "code",
   "execution_count": 0,
   "metadata": {
    "application/vnd.databricks.v1+cell": {
     "cellMetadata": {},
     "inputWidgets": {},
     "nuid": "a627f019-f95c-4913-9bbf-8bdfd8736caa",
     "showTitle": false,
     "tableResultSettingsMap": {},
     "title": ""
    },
    "colab": {
     "base_uri": "https://localhost:8080/"
    },
    "executionInfo": {
     "elapsed": 96,
     "status": "ok",
     "timestamp": 1724840284249,
     "user": {
      "displayName": "Anja Mühlemann",
      "userId": "13180139022750424409"
     },
     "user_tz": -120
    },
    "id": "RF6OAUOkUQ9b",
    "outputId": "952746bd-0505-43ca-f440-d5d66bdb18e7"
   },
   "outputs": [],
   "source": [
    "(np.cov(y - reg.predict(x)))**0.5"
   ]
  },
  {
   "cell_type": "markdown",
   "metadata": {
    "application/vnd.databricks.v1+cell": {
     "cellMetadata": {},
     "inputWidgets": {},
     "nuid": "ddb6a262-5736-4296-876e-4da2f3b42a23",
     "showTitle": false,
     "tableResultSettingsMap": {},
     "title": ""
    },
    "id": "QmYtZZnhM_ZB"
   },
   "source": [
    "What about ```.score()```?\n",
    "\n"
   ]
  },
  {
   "cell_type": "code",
   "execution_count": 0,
   "metadata": {
    "application/vnd.databricks.v1+cell": {
     "cellMetadata": {},
     "inputWidgets": {},
     "nuid": "5f41872d-c727-4848-9942-0073e69871d9",
     "showTitle": false,
     "tableResultSettingsMap": {},
     "title": ""
    },
    "colab": {
     "base_uri": "https://localhost:8080/"
    },
    "executionInfo": {
     "elapsed": 90,
     "status": "ok",
     "timestamp": 1724840284249,
     "user": {
      "displayName": "Anja Mühlemann",
      "userId": "13180139022750424409"
     },
     "user_tz": -120
    },
    "id": "55dZuqcvM-49",
    "outputId": "2176965b-43cf-4f07-ea8c-758f8aa352ca"
   },
   "outputs": [],
   "source": [
    "from sklearn.metrics import mean_squared_error, r2_score\n",
    "# For regression the .score() yields the coefficient of determination.\n",
    "print('Score: %.2f'\n",
    "      % reg.score(x, y))\n",
    "# Indeed, when calculating r2 \"by hand\" we end up with the same result.\n",
    "print('Coefficient of determination: %.2f'\n",
    "      % r2_score(y, reg.predict(x)))\n",
    "\n"
   ]
  },
  {
   "cell_type": "markdown",
   "metadata": {
    "application/vnd.databricks.v1+cell": {
     "cellMetadata": {},
     "inputWidgets": {},
     "nuid": "7c6b1033-28ec-49fd-a773-996bbfa0575a",
     "showTitle": false,
     "tableResultSettingsMap": {},
     "title": ""
    },
    "id": "N7ebNwFpNhJz"
   },
   "source": [
    "What the default of ```.score()``` is can be found in each estimator’s documentation. If you like to choose your scoring function yourself, you can find the implemented versions under this link https://scikit-learn.org/stable/modules/model_evaluation.html."
   ]
  },
  {
   "cell_type": "code",
   "execution_count": 0,
   "metadata": {
    "application/vnd.databricks.v1+cell": {
     "cellMetadata": {},
     "inputWidgets": {},
     "nuid": "b2eee1d0-ae40-43d0-b474-67a9e44091f9",
     "showTitle": false,
     "tableResultSettingsMap": {},
     "title": ""
    },
    "colab": {
     "base_uri": "https://localhost:8080/",
     "height": 502
    },
    "executionInfo": {
     "elapsed": 81,
     "status": "ok",
     "timestamp": 1724840284250,
     "user": {
      "displayName": "Anja Mühlemann",
      "userId": "13180139022750424409"
     },
     "user_tz": -120
    },
    "id": "tzWRQdCATrl9",
    "outputId": "1d2cf8eb-291e-4c2f-c310-5e541776318d"
   },
   "outputs": [],
   "source": [
    "# Plot the fitted model with plus minus one standard deviation.\n",
    "# Are the data points distributed as expected?\n",
    "plt.scatter(x, y, marker='*')\n",
    "x_f = np.linspace(x.min(), x.max(), 10)\n",
    "y_f = w0 + w[0] * x_f\n",
    "plt.plot(x_f, y_f)\n",
    "plt.plot(x_f, y_f+5.5)\n",
    "plt.plot(x_f, y_f-5.5)"
   ]
  },
  {
   "cell_type": "code",
   "execution_count": 0,
   "metadata": {
    "application/vnd.databricks.v1+cell": {
     "cellMetadata": {},
     "inputWidgets": {},
     "nuid": "93a1aef7-78e0-4fdd-8c3a-c3b1f3456278",
     "showTitle": false,
     "tableResultSettingsMap": {},
     "title": ""
    },
    "colab": {
     "base_uri": "https://localhost:8080/",
     "height": 689
    },
    "executionInfo": {
     "elapsed": 1196,
     "status": "ok",
     "timestamp": 1724840285380,
     "user": {
      "displayName": "Anja Mühlemann",
      "userId": "13180139022750424409"
     },
     "user_tz": -120
    },
    "id": "JddYy37lHZ-_",
    "outputId": "93fabb54-6c17-45e4-deb1-7e2560e1813d"
   },
   "outputs": [],
   "source": [
    "# Generate data points from a plane with some noise to it (default)\n",
    "n_d = 2\n",
    "x, y = get_linear(n_d=n_d, n_points=100)\n",
    "\n",
    "fig = plt.figure(figsize=(8,8))\n",
    "ax = fig.add_subplot(111, projection='3d')\n",
    "ax.scatter(x[:,0], x[:,1], y, marker='x', color='b',s=40)"
   ]
  },
  {
   "cell_type": "code",
   "execution_count": 0,
   "metadata": {
    "application/vnd.databricks.v1+cell": {
     "cellMetadata": {},
     "inputWidgets": {},
     "nuid": "e2de64de-4daf-49bf-ac3e-5851f7bf8d62",
     "showTitle": false,
     "tableResultSettingsMap": {},
     "title": ""
    },
    "colab": {
     "base_uri": "https://localhost:8080/",
     "height": 75
    },
    "executionInfo": {
     "elapsed": 122,
     "status": "ok",
     "timestamp": 1724840285381,
     "user": {
      "displayName": "Anja Mühlemann",
      "userId": "13180139022750424409"
     },
     "user_tz": -120
    },
    "id": "VinHbzEjIBFm",
    "outputId": "706148b3-a914-4954-dcbb-be29bb69682e"
   },
   "outputs": [],
   "source": [
    "reg = linear_model.LinearRegression()\n",
    "reg.fit(x, y)"
   ]
  },
  {
   "cell_type": "code",
   "execution_count": 0,
   "metadata": {
    "application/vnd.databricks.v1+cell": {
     "cellMetadata": {},
     "inputWidgets": {},
     "nuid": "e81c4957-26b9-4d37-8445-708c86ea02e9",
     "showTitle": false,
     "tableResultSettingsMap": {},
     "title": ""
    },
    "colab": {
     "base_uri": "https://localhost:8080/",
     "height": 671
    },
    "executionInfo": {
     "elapsed": 118,
     "status": "ok",
     "timestamp": 1724840285381,
     "user": {
      "displayName": "Anja Mühlemann",
      "userId": "13180139022750424409"
     },
     "user_tz": -120
    },
    "id": "pdeRD7-ZTf0A",
    "outputId": "afbe0af9-a9f1-419f-c179-05e6a454f04c"
   },
   "outputs": [],
   "source": [
    "# When doing ML, it is recommended to split the dataset into a training\n",
    "# and a test set. The training set is used to learn the parameters. The\n",
    "# test set can be used to assess the performance of the trained model\n",
    "# (overfitting and underfitting). sklearn provides a helpful method doing that.\n",
    "\n",
    "from sklearn.model_selection import train_test_split\n",
    "\n",
    "n_d = 2\n",
    "x, y = get_linear(n_d=n_d, n_points=100, sigma=5)\n",
    "\n",
    "# train test split\n",
    "x_train, x_test, y_train, y_test = train_test_split(x, y, test_size=0.2)\n",
    "\n",
    "reg = linear_model.LinearRegression()\n",
    "reg.fit(x_train, y_train)\n",
    "\n",
    "\n",
    "fig = plt.figure(figsize=(8,8))\n",
    "ax = fig.add_subplot(111, projection='3d')\n",
    "ax.scatter(x_train[:,0], x_train[:,1], y_train, marker='x', color='b',s=40)\n",
    "ax.scatter(x_test[:,0], x_test[:,1], y_test, marker='+', color='r',s=80)\n",
    "\n",
    "xx0 = np.linspace(x[:,0].min(), x[:,0].max(), 10)\n",
    "xx1 = np.linspace(x[:,1].min(), x[:,1].max(), 10)\n",
    "xx0, xx1 = [a.flatten() for a in np.meshgrid(xx0, xx1)]\n",
    "xx = np.stack((xx0, xx1), axis=-1)\n",
    "yy = reg.predict(xx)\n",
    "ax.plot_trisurf(xx0, xx1, yy, alpha=0.5, color='g');"
   ]
  },
  {
   "cell_type": "code",
   "execution_count": 0,
   "metadata": {
    "application/vnd.databricks.v1+cell": {
     "cellMetadata": {},
     "inputWidgets": {},
     "nuid": "832b94b7-f87e-4c97-ac5f-060dcbbed623",
     "showTitle": false,
     "tableResultSettingsMap": {},
     "title": ""
    },
    "colab": {
     "base_uri": "https://localhost:8080/"
    },
    "executionInfo": {
     "elapsed": 103,
     "status": "ok",
     "timestamp": 1724840285382,
     "user": {
      "displayName": "Anja Mühlemann",
      "userId": "13180139022750424409"
     },
     "user_tz": -120
    },
    "id": "3xw69ZnYY7R2",
    "outputId": "3a12afa8-89c7-40ab-f964-8adea6b9e1ec"
   },
   "outputs": [],
   "source": [
    "print('Score: %.2f'\n",
    "      % reg.score(x, y))\n",
    "print('Standard deviation of error: %.2f'\n",
    "      % np.std(y-reg.predict(x)))"
   ]
  },
  {
   "cell_type": "markdown",
   "metadata": {
    "application/vnd.databricks.v1+cell": {
     "cellMetadata": {},
     "inputWidgets": {},
     "nuid": "7dce67cf-aaba-44e1-b904-2752fcaaf8b6",
     "showTitle": false,
     "tableResultSettingsMap": {},
     "title": ""
    },
    "id": "f2sQVIJP0r9B"
   },
   "source": [
    "### 3.2.4 Much used ML performance measures\n",
    "\n",
    "1. Regression:\n",
    "* Mean Square Error (MSE): $mse=\\frac{1}{n}\\sum_i(y_i - \\hat y(\\bar x_i))^2$\n",
    "* Mean Absolute Error (MAE): $mae=\\frac{1}{n}\\sum_i|y_i - \\hat y(\\bar x_i)|$\n",
    "* Median Absolute Deviation (MAD): $mad=median(|y_i - \\hat y(\\bar x_i)|)$\n",
    "* Fraction of the explained variance: $R^2=1-\\frac{\\sum_i(y_i - \\hat y(\\bar x_i))^2}{\\sum_i(y_i - \\bar y_i)^2}$, where $\\bar y=\\frac{1}{n}\\sum_i y_i$\n"
   ]
  },
  {
   "cell_type": "markdown",
   "metadata": {
    "application/vnd.databricks.v1+cell": {
     "cellMetadata": {},
     "inputWidgets": {},
     "nuid": "96a39a9f-6656-421c-9320-6eaa5ade40f7",
     "showTitle": false,
     "tableResultSettingsMap": {},
     "title": ""
    },
    "id": "U1J7txZf1vCg"
   },
   "source": [
    "### 3.2.5 Multiple Linear Regression"
   ]
  },
  {
   "cell_type": "code",
   "execution_count": 0,
   "metadata": {
    "application/vnd.databricks.v1+cell": {
     "cellMetadata": {},
     "inputWidgets": {},
     "nuid": "86db2a9a-a583-4e1b-8084-fcfb2ffb9ad6",
     "showTitle": false,
     "tableResultSettingsMap": {},
     "title": ""
    },
    "colab": {
     "base_uri": "https://localhost:8080/",
     "height": 206
    },
    "executionInfo": {
     "elapsed": 95,
     "status": "ok",
     "timestamp": 1724840285382,
     "user": {
      "displayName": "Anja Mühlemann",
      "userId": "13180139022750424409"
     },
     "user_tz": -120
    },
    "id": "ljndBAw8TAml",
    "outputId": "a598077d-24d2-4ca7-fa9e-3eacd1e1ff12"
   },
   "outputs": [],
   "source": [
    "url = \"https://raw.githubusercontent.com/krishnaik06/Multiple-Linear-Regression/master/50_Startups.csv\"\n",
    "ds = pd.read_csv(url)\n",
    "ds.head()\n"
   ]
  },
  {
   "cell_type": "code",
   "execution_count": 0,
   "metadata": {
    "application/vnd.databricks.v1+cell": {
     "cellMetadata": {},
     "inputWidgets": {},
     "nuid": "ecbba6f6-2acc-4bb3-a9c9-c55ad3efa0c1",
     "showTitle": false,
     "tableResultSettingsMap": {},
     "title": ""
    },
    "colab": {
     "base_uri": "https://localhost:8080/"
    },
    "executionInfo": {
     "elapsed": 90,
     "status": "ok",
     "timestamp": 1724840285382,
     "user": {
      "displayName": "Anja Mühlemann",
      "userId": "13180139022750424409"
     },
     "user_tz": -120
    },
    "id": "2ajvIE33VMPr",
    "outputId": "bbeef69f-2d07-414e-8e1d-2bda71f403fa"
   },
   "outputs": [],
   "source": [
    "#Convert the 'States' into categorical columns\n",
    "states=pd.get_dummies(ds['State'],drop_first=True)\n",
    "\n",
    "# Convert boolean dummy variables to integers\n",
    "states = states.astype(int)\n",
    "\n",
    "# X explanatory variables, Y response\n",
    "X = ds[['R&D Spend','Administration','Marketing Spend']]\n",
    "X = pd.concat([X,states],axis=1)\n",
    "Y = ds['Profit']\n",
    "\n",
    "# Split data into training and test sets\n",
    "X_train, X_test, Y_train, Y_test = train_test_split(X, Y, test_size=0.2, random_state=0)\n",
    "\n",
    "# Add intercept\n",
    "X_train = sm.add_constant(X_train)\n",
    "X_test = sm.add_constant(X_test)\n",
    "\n",
    "# Create and fit the OLS model on training data\n",
    "model = sm.OLS(Y_train, X_train)\n",
    "results = model.fit()\n",
    "\n",
    "# Print the summary\n",
    "print(results.summary())"
   ]
  },
  {
   "cell_type": "markdown",
   "metadata": {
    "application/vnd.databricks.v1+cell": {
     "cellMetadata": {},
     "inputWidgets": {},
     "nuid": "c74eb3f3-1ec3-4a32-b1f4-3021d62ddd43",
     "showTitle": false,
     "tableResultSettingsMap": {},
     "title": ""
    },
    "id": "0WeBubTSZXkH"
   },
   "source": [
    "Evaluate other scores:"
   ]
  },
  {
   "cell_type": "code",
   "execution_count": 0,
   "metadata": {
    "application/vnd.databricks.v1+cell": {
     "cellMetadata": {},
     "inputWidgets": {},
     "nuid": "017ece12-7a86-4ca3-87b1-fa2fb20d017a",
     "showTitle": false,
     "tableResultSettingsMap": {},
     "title": ""
    },
    "colab": {
     "base_uri": "https://localhost:8080/"
    },
    "executionInfo": {
     "elapsed": 80,
     "status": "ok",
     "timestamp": 1724840285383,
     "user": {
      "displayName": "Anja Mühlemann",
      "userId": "13180139022750424409"
     },
     "user_tz": -120
    },
    "id": "7_R4r2gIZWfn",
    "outputId": "3fe87b00-0d43-4c80-ab22-5ce8e6b00e0c"
   },
   "outputs": [],
   "source": [
    "#evaluate MSE, MAD, and R2 on train and test datasets\n",
    "#prediction in sample:\n",
    "y_p_train = results.predict(X_train)\n",
    "\n",
    "# Predicting the Test set results\n",
    "X_test = sm.add_constant(X_test)\n",
    "y_p_test = results.predict(X_test)\n",
    "\n",
    "# mse\n",
    "print('train mse =', np.std(Y_train - y_p_train))\n",
    "print('test mse =', np.std(Y_test - y_p_test))\n",
    "# mae\n",
    "print('train mae =', np.mean(np.abs(Y_train - y_p_train)))\n",
    "print('test mae =', np.mean(np.abs(Y_test - y_p_test)))"
   ]
  },
  {
   "cell_type": "code",
   "execution_count": 0,
   "metadata": {
    "application/vnd.databricks.v1+cell": {
     "cellMetadata": {},
     "inputWidgets": {},
     "nuid": "eefb315c-3c80-4869-92c5-97fa0c1ecc6c",
     "showTitle": false,
     "tableResultSettingsMap": {},
     "title": ""
    },
    "colab": {
     "base_uri": "https://localhost:8080/"
    },
    "executionInfo": {
     "elapsed": 1655,
     "status": "ok",
     "timestamp": 1724840286973,
     "user": {
      "displayName": "Anja Mühlemann",
      "userId": "13180139022750424409"
     },
     "user_tz": -120
    },
    "id": "gRpdrj-7aDSQ",
    "outputId": "9dddb7bb-e6f3-48a4-84ec-dc92e87d55ca"
   },
   "outputs": [],
   "source": [
    "# plot y vs predicted y for test and train parts\n",
    "plt.plot(Y_train, y_p_train, 'b.', label='train')\n",
    "plt.plot(Y_test, y_p_test, 'r.', label='test')\n",
    "\n",
    "plt.plot([0], [0], 'w.')  # dummy to have origin\n",
    "plt.xlabel('true')\n",
    "plt.ylabel('predicted')\n",
    "plt.gca().set_aspect('equal')\n",
    "plt.legend()"
   ]
  },
  {
   "cell_type": "markdown",
   "metadata": {
    "application/vnd.databricks.v1+cell": {
     "cellMetadata": {},
     "inputWidgets": {},
     "nuid": "bb13a4cf-60cd-4f98-904a-0f7779dc2d70",
     "showTitle": false,
     "tableResultSettingsMap": {},
     "title": ""
    },
    "id": "UAFWFkR4gaAf"
   },
   "source": [
    "## Questions\n",
    "We have now seen how to calculate confidence intervals and do linear regression with several python modules. The most popular ML models are implemented in sklearn. We don't have time practicing them in this Module. In Module 3 we will learn and practice deep neural networks.\n",
    "\n",
    "Please post a question about today's content here:\n",
    "https://forms.gle/ZY4pbMiEu1iYFYbp7\n",
    "\n",
    "Many thanks and see you tomorrow !\n"
   ]
  }
 ],
 "metadata": {
  "application/vnd.databricks.v1+notebook": {
   "computePreferences": null,
   "dashboards": [],
   "environmentMetadata": null,
   "inputWidgetPreferences": null,
   "language": "python",
   "notebookMetadata": {},
   "notebookName": "CAS-D2-Regression-Sol",
   "widgets": {}
  },
  "colab": {
   "provenance": [
    {
     "file_id": "https://github.com/KGzB/CAS-Applied-Data-Science/blob/master/Module-2/CAS-D2-Regression.ipynb",
     "timestamp": 1724773283337
    }
   ],
   "toc_visible": true
  },
  "kernelspec": {
   "display_name": "Python 3",
   "language": "python",
   "name": "python3"
  },
  "language_info": {
   "name": "python"
  }
 },
 "nbformat": 4,
 "nbformat_minor": 0
}
