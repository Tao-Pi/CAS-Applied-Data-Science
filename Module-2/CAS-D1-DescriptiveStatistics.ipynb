{
 "cells": [
  {
   "cell_type": "markdown",
   "metadata": {
    "application/vnd.databricks.v1+cell": {
     "cellMetadata": {
      "byteLimit": 2048000,
      "rowLimit": 10000
     },
     "inputWidgets": {},
     "nuid": "d6e03302-3df9-414b-9e9c-102f00b116c9",
     "showTitle": false,
     "tableResultSettingsMap": {},
     "title": ""
    },
    "id": "AXL8yqJa0bQg"
   },
   "source": [
    "<a href=\"https://colab.research.google.com/github/KGzB/CAS-Applied-Data-Science/blob/master/Module-2/CAS-D1-DescriptiveStatistics.ipynb\" target=\"_parent\"><img src=\"https://colab.research.google.com/assets/colab-badge.svg\" alt=\"Open In Colab\"/></a>"
   ]
  },
  {
   "cell_type": "markdown",
   "metadata": {
    "application/vnd.databricks.v1+cell": {
     "cellMetadata": {
      "byteLimit": 2048000,
      "rowLimit": 10000
     },
     "inputWidgets": {},
     "nuid": "6c021a66-c04b-4165-825e-abd7a71043a5",
     "showTitle": false,
     "tableResultSettingsMap": {},
     "title": ""
    },
    "id": "5t2xPoSCBN_Y"
   },
   "source": [
    "Notebook 1, Module 2, Statistical Inference for Data Science, CAS Applied Data Science, 2024-08-27, A. Mühlemann, University of Bern.\n",
    "\n",
    "*This notebook is based on the notebook by S. Haug and G. Conti from 2020*"
   ]
  },
  {
   "cell_type": "markdown",
   "metadata": {
    "application/vnd.databricks.v1+cell": {
     "cellMetadata": {
      "byteLimit": 2048000,
      "rowLimit": 10000
     },
     "inputWidgets": {},
     "nuid": "7c4813a0-7c6d-48da-b180-753a533c6c98",
     "showTitle": false,
     "tableResultSettingsMap": {},
     "title": ""
    },
    "id": "3dfWj8ypBN_b"
   },
   "source": [
    "\n",
    "# 1. Descriptive Statistics on Single Features\n",
    "\n"
   ]
  },
  {
   "cell_type": "markdown",
   "metadata": {
    "application/vnd.databricks.v1+cell": {
     "cellMetadata": {
      "byteLimit": 2048000,
      "rowLimit": 10000
     },
     "inputWidgets": {},
     "nuid": "993029f1-1e72-4a28-883e-044dea65c8d5",
     "showTitle": false,
     "tableResultSettingsMap": {},
     "title": ""
    },
    "id": "-xxxutTABN_b"
   },
   "source": [
    "**Goals**\n",
    "- Graphical preparation of the data\n",
    "- Calculate summary statistics\n"
   ]
  },
  {
   "cell_type": "markdown",
   "metadata": {
    "application/vnd.databricks.v1+cell": {
     "cellMetadata": {
      "byteLimit": 2048000,
      "rowLimit": 10000
     },
     "inputWidgets": {},
     "nuid": "9d201a91-8749-48bd-9fa7-aa30c48e2049",
     "showTitle": false,
     "tableResultSettingsMap": {},
     "title": ""
    },
    "id": "3ke1EHw5BN_c"
   },
   "source": [
    "First load the necessary libraries / modules."
   ]
  },
  {
   "cell_type": "code",
   "execution_count": 0,
   "metadata": {
    "application/vnd.databricks.v1+cell": {
     "cellMetadata": {
      "byteLimit": 2048000,
      "rowLimit": 10000
     },
     "inputWidgets": {},
     "nuid": "6bb8d90b-b238-4068-a7ed-5faefc6bfa7e",
     "showTitle": false,
     "tableResultSettingsMap": {},
     "title": ""
    },
    "id": "uND0_WeNBN_d"
   },
   "outputs": [],
   "source": [
    "# Load the needed python libraries by executing this python code (press ctrl enter)\n",
    "import numpy as np\n",
    "import scipy.stats\n",
    "import matplotlib.pyplot as plt\n",
    "import pandas as pd\n",
    "import io"
   ]
  },
  {
   "cell_type": "markdown",
   "metadata": {
    "application/vnd.databricks.v1+cell": {
     "cellMetadata": {
      "byteLimit": 2048000,
      "rowLimit": 10000
     },
     "inputWidgets": {},
     "nuid": "c986e855-cf4b-4b07-9ff2-7137702ec4ed",
     "showTitle": false,
     "tableResultSettingsMap": {},
     "title": ""
    },
    "id": "XvllAJhNBN_f"
   },
   "source": [
    "In this notebook we will look at a dataset about the effect of surface and vision on balance (source https://gksmyth.github.io/ozdasl/oz/ctsib.html).\n",
    "\n",
    "The balance of subjects were observed on two different surfaces and for restricted and unrestricted vision.\n",
    "\n",
    "- *Subject*: id of subject-\n",
    "- *Sex*: male or female\n",
    "- *Age*: age in years\n",
    "- *Height*: height in cm\n",
    "- *Weight*:\tweight in kg\n",
    "-\t*Surface*: normal or foam\n",
    "- *Vision*:\teyes open, eyes closed, or closed dome\n",
    "-\t*CTSIB*: Qualitive measure of balance, 1 (stable) - 4 (unstable)\n",
    "\n",
    "I uploaded the dataset to Github so that we can read it directly from there."
   ]
  },
  {
   "cell_type": "code",
   "execution_count": 0,
   "metadata": {
    "application/vnd.databricks.v1+cell": {
     "cellMetadata": {
      "byteLimit": 2048000,
      "rowLimit": 10000
     },
     "inputWidgets": {},
     "nuid": "1d3b2cc4-7ae9-4090-a774-dd229b7e712f",
     "showTitle": false,
     "tableResultSettingsMap": {},
     "title": ""
    },
    "colab": {
     "base_uri": "https://localhost:8080/",
     "height": 206
    },
    "id": "HpRHtBTwBN_f",
    "outputId": "c3e39e96-9b64-4a8b-ee8a-22724568839c"
   },
   "outputs": [],
   "source": [
    "url = \"https://github.com/KGzB/CAS-Applied-Data-Science/blob/master/Module-2/balance.csv?raw=true\"\n",
    "df = pd.read_csv(url, sep=\";\")\n",
    "df.head() # Print the first five rows"
   ]
  },
  {
   "cell_type": "markdown",
   "metadata": {
    "application/vnd.databricks.v1+cell": {
     "cellMetadata": {
      "byteLimit": 2048000,
      "rowLimit": 10000
     },
     "inputWidgets": {},
     "nuid": "d87f6510-9558-40dc-9d71-aa3df8317e7f",
     "showTitle": false,
     "tableResultSettingsMap": {},
     "title": ""
    },
    "id": "1uww2vBozF3N"
   },
   "source": [
    "## 1.1 Graphical Analyis\n",
    "### 1.1.1 Pie chart and bar plot (categorical variables)\n",
    "Pie charts are used to show proportions of a whole.\n",
    "\n",
    "We could, for example, ask ourselves about how the genders were represented in this study percentage-wise. When we look at the dataset more closely we can see that each participant participated in different experiments. Thus, it probably would make sense to first get a subdataframe with just the distinct individuals."
   ]
  },
  {
   "cell_type": "code",
   "execution_count": 0,
   "metadata": {
    "application/vnd.databricks.v1+cell": {
     "cellMetadata": {
      "byteLimit": 2048000,
      "rowLimit": 10000
     },
     "inputWidgets": {},
     "nuid": "706480ac-0602-49ae-a5c8-19e698951972",
     "showTitle": false,
     "tableResultSettingsMap": {},
     "title": ""
    },
    "id": "SyxSS1TAyiPI"
   },
   "outputs": [],
   "source": [
    "# Pie chart of the gender distribution\n",
    "gender_counts = df['Sex'].value_counts()\n",
    "plt.figure(figsize=(8, 8))\n",
    "plt.pie(gender_counts, labels=gender_counts.index, autopct='%1.1f%%', startangle=90)\n",
    "plt.title('Gender Distribution')\n",
    "plt.show()"
   ]
  },
  {
   "cell_type": "markdown",
   "metadata": {
    "application/vnd.databricks.v1+cell": {
     "cellMetadata": {
      "byteLimit": 2048000,
      "rowLimit": 10000
     },
     "inputWidgets": {},
     "nuid": "7de749ef-4a10-46f2-b378-bcd1fee2a591",
     "showTitle": false,
     "tableResultSettingsMap": {},
     "title": ""
    },
    "id": "2vSVaaCeMQfW"
   },
   "source": [
    "The problem with pie charts is that if there are many groups we tend missinterpret the pie slices (https://www.data-to-viz.com/caveat/pie.html). Thus, it often is reasonable sense to use a barplot instead."
   ]
  },
  {
   "cell_type": "code",
   "execution_count": 0,
   "metadata": {
    "application/vnd.databricks.v1+cell": {
     "cellMetadata": {
      "byteLimit": 2048000,
      "rowLimit": 10000
     },
     "inputWidgets": {},
     "nuid": "d0573a78-7fd8-4d22-a23a-8c11659539c3",
     "showTitle": false,
     "tableResultSettingsMap": {},
     "title": ""
    },
    "id": "pqal3Ss6Lm-4"
   },
   "outputs": [],
   "source": [
    "# Barplot of the gender distribution\n",
    "gender_counts = df['Sex'].value_counts()\n",
    "plt.figure(figsize=(10, 6))\n",
    "plt.bar(gender_counts.index, gender_counts.values, color=['blue', 'orange'])\n",
    "plt.xlabel('Gender')\n",
    "plt.ylabel('Count')\n",
    "plt.title('Gender Distribution')\n",
    "plt.show()"
   ]
  },
  {
   "cell_type": "markdown",
   "metadata": {
    "application/vnd.databricks.v1+cell": {
     "cellMetadata": {
      "byteLimit": 2048000,
      "rowLimit": 10000
     },
     "inputWidgets": {},
     "nuid": "1457cfd5-ccd1-4af0-a48c-87b762b7553d",
     "showTitle": false,
     "tableResultSettingsMap": {},
     "title": ""
    },
    "id": "AXyM4d-GUgVU"
   },
   "source": [
    "## 1.1.2 Histogram (numerical variables)\n",
    "Histograms are used to display frequencies or proportions.\n",
    "\n",
    "To get a better idea about our participants we would like to look at their age distribution using a histogram."
   ]
  },
  {
   "cell_type": "code",
   "execution_count": 0,
   "metadata": {
    "application/vnd.databricks.v1+cell": {
     "cellMetadata": {
      "byteLimit": 2048000,
      "rowLimit": 10000
     },
     "inputWidgets": {},
     "nuid": "c00eccb6-5332-412a-9f70-f0016f3e4fc9",
     "showTitle": false,
     "tableResultSettingsMap": {},
     "title": ""
    },
    "id": "3asExU9jBN_n"
   },
   "outputs": [],
   "source": [
    "# histogram of age distribution\n",
    "plt.figure(figsize=(10, 6))\n",
    "plt.hist(df['Age'], bins=20, color='skyblue', edgecolor='black')\n",
    "plt.xlabel('Age')\n",
    "plt.ylabel('Frequency')\n",
    "plt.title('Age Distribution')\n",
    "plt.show()"
   ]
  },
  {
   "cell_type": "markdown",
   "metadata": {
    "application/vnd.databricks.v1+cell": {
     "cellMetadata": {
      "byteLimit": 2048000,
      "rowLimit": 10000
     },
     "inputWidgets": {},
     "nuid": "77ac301e-ed0f-4bd6-b13d-132ed64f86ab",
     "showTitle": false,
     "tableResultSettingsMap": {},
     "title": ""
    },
    "id": "gxgzY16oTasN"
   },
   "source": [
    "The authors mention\n",
    "\"for both males and females, ten older (more than 24 years old) and ten younger subjects were selected\".\n",
    "This can be seen in this histogramm (at least that when not considering the genders yet)"
   ]
  },
  {
   "cell_type": "markdown",
   "metadata": {
    "application/vnd.databricks.v1+cell": {
     "cellMetadata": {
      "byteLimit": 2048000,
      "rowLimit": 10000
     },
     "inputWidgets": {},
     "nuid": "bc8fa55a-ebcd-43f6-8c4a-7b100bd57a90",
     "showTitle": false,
     "tableResultSettingsMap": {},
     "title": ""
    },
    "id": "Ta0VdSbOKRKM"
   },
   "source": [
    "Let us now check whether this is fulfilled for each gender."
   ]
  },
  {
   "cell_type": "code",
   "execution_count": 0,
   "metadata": {
    "application/vnd.databricks.v1+cell": {
     "cellMetadata": {
      "byteLimit": 2048000,
      "rowLimit": 10000
     },
     "inputWidgets": {},
     "nuid": "6f57fa4c-79ab-4a7f-91a6-8bd86125ca39",
     "showTitle": false,
     "tableResultSettingsMap": {},
     "title": ""
    },
    "id": "YDerjeIuKae6"
   },
   "outputs": [],
   "source": [
    "# Create a histogram for each gender\n",
    "genders = df['Sex'].unique()\n",
    "plt.figure(figsize=(12, 6))\n",
    "\n",
    "for gender in genders:\n",
    "    subset = df[df['Sex'] == gender]\n",
    "    plt.hist(subset['Age'], bins=20, alpha=0.5, label=gender, edgecolor='black')\n",
    "\n",
    "plt.xlabel('Age')\n",
    "plt.ylabel('Frequency')\n",
    "plt.title('Age Distribution by Gender')\n",
    "plt.legend()\n",
    "plt.show()"
   ]
  },
  {
   "cell_type": "markdown",
   "metadata": {
    "application/vnd.databricks.v1+cell": {
     "cellMetadata": {
      "byteLimit": 2048000,
      "rowLimit": 10000
     },
     "inputWidgets": {},
     "nuid": "8c525e85-e888-4da9-91a9-e3062774d1d9",
     "showTitle": false,
     "tableResultSettingsMap": {},
     "title": ""
    },
    "id": "vKm8gVFqdQxo"
   },
   "source": []
  },
  {
   "cell_type": "markdown",
   "metadata": {
    "application/vnd.databricks.v1+cell": {
     "cellMetadata": {
      "byteLimit": 2048000,
      "rowLimit": 10000
     },
     "inputWidgets": {},
     "nuid": "89979fa1-f090-4488-9697-6e050a4ae356",
     "showTitle": false,
     "tableResultSettingsMap": {},
     "title": ""
    },
    "id": "fH2NT1exXql8"
   },
   "source": [
    "### Kernel Density Estimation\n",
    "Kernel Density Estimation is a method for visualizing the distribution of a dataset by creating a smooth curve. An advantage of using KDE over a histogram is that it produces a continuous, smooth curve that is not dependent on the bin size. This can provide a clearer picture of the underlying data distribution, especially with smaller datasets, and can reveal multimodality (multiple peaks) that might be hidden by a histogram's fixed binning. Its primary drawback is that its appearance is highly dependent on a parameter called the \"bandwidth,\" which can be difficult to choose, and a poor choice can lead to a misleading representation of the data. *Please play around with the bandwidth to see its effect.*"
   ]
  },
  {
   "cell_type": "code",
   "execution_count": 0,
   "metadata": {
    "application/vnd.databricks.v1+cell": {
     "cellMetadata": {
      "byteLimit": 2048000,
      "rowLimit": 10000
     },
     "inputWidgets": {},
     "nuid": "8be12913-bc40-47d9-a4d2-eec83b3a54c9",
     "showTitle": false,
     "tableResultSettingsMap": {},
     "title": ""
    },
    "id": "CZ-mkvGXYUhh"
   },
   "outputs": [],
   "source": [
    "import pandas as pd\n",
    "import numpy as np\n",
    "import matplotlib.pyplot as plt\n",
    "from sklearn.neighbors import KernelDensity\n",
    "\n",
    "# create a kernel density estimate for the participants age\n",
    "age_data = df['Age'].values[:, np.newaxis]\n",
    "kde = KernelDensity(bandwidth=3.0)\n",
    "kde.fit(age_data)\n",
    "\n",
    "age_range = np.linspace(age_data.min(), age_data.max(), 100)[:, np.newaxis]\n",
    "log_density = kde.score_samples(age_range)\n",
    "\n",
    "plt.figure(figsize=(10, 6))\n",
    "plt.plot(age_range, np.exp(log_density), color='blue')\n",
    "plt.xlabel('Age')\n",
    "plt.ylabel('Density')\n",
    "plt.title('Kernel Density Estimate of Age')\n",
    "plt.show()"
   ]
  },
  {
   "cell_type": "markdown",
   "metadata": {
    "application/vnd.databricks.v1+cell": {
     "cellMetadata": {
      "byteLimit": 2048000,
      "rowLimit": 10000
     },
     "inputWidgets": {},
     "nuid": "5efa7b69-2514-47b8-80c5-d057d00ba66c",
     "showTitle": false,
     "tableResultSettingsMap": {},
     "title": ""
    },
    "id": "EhcAE4mkbz5W"
   },
   "source": [
    "Try to draw the densities for the males and females in the same plot."
   ]
  },
  {
   "cell_type": "code",
   "execution_count": 0,
   "metadata": {
    "application/vnd.databricks.v1+cell": {
     "cellMetadata": {
      "byteLimit": 2048000,
      "rowLimit": 10000
     },
     "inputWidgets": {},
     "nuid": "a0178265-291d-4ad8-b421-f03bea9886aa",
     "showTitle": false,
     "tableResultSettingsMap": {},
     "title": ""
    },
    "id": "zjcjuhp9bzkI"
   },
   "outputs": [],
   "source": [
    "# Convert Pandas df to Spark DataFrame (if needed)\n",
    "df_spark = spark.createDataFrame(df)\n",
    "\n",
    "# Compute Pearson correlation\n",
    "corr_age_height = df_spark.stat.corr('Age', 'Height')\n",
    "corr_age_weight = df_spark.stat.corr('Age', 'Weight')\n",
    "corr_height_weight = df_spark.stat.corr('Height', 'Weight')\n",
    "\n",
    "# Display results\n",
    "result = spark.createDataFrame(\n",
    "    [\n",
    "        ('Age', 'Height', corr_age_height),\n",
    "        ('Age', 'Weight', corr_age_weight),\n",
    "        ('Height', 'Weight', corr_height_weight)\n",
    "    ],\n",
    "    ['Column1', 'Column2', 'PearsonCorrelation']\n",
    ")\n",
    "display(result)\n"
   ]
  },
  {
   "cell_type": "markdown",
   "metadata": {
    "application/vnd.databricks.v1+cell": {
     "cellMetadata": {
      "byteLimit": 2048000,
      "rowLimit": 10000
     },
     "inputWidgets": {},
     "nuid": "0e76ed28-9283-4dc0-81ea-a01892be6a8f",
     "showTitle": false,
     "tableResultSettingsMap": {},
     "title": ""
    },
    "id": "9oS7mRrh7Aso"
   },
   "source": [
    "### 1.1.3 Scatter plot colored by gender (simulatneous description)\n",
    "\n",
    "Scatter plots use dots to represent values for two different numeric variables.\n",
    "\n",
    "For example, we could look at the species and one of the numerical characteristics simulatneously.\n",
    "\n",
    "It is reasonable to assume that taller people tend to be heavier. We would like to check whether this assumption is fulfilled in our dataset. To differentiate between the genders we can color the dots with respect to the genders."
   ]
  },
  {
   "cell_type": "code",
   "execution_count": 0,
   "metadata": {
    "application/vnd.databricks.v1+cell": {
     "cellMetadata": {
      "byteLimit": 2048000,
      "rowLimit": 10000
     },
     "inputWidgets": {},
     "nuid": "9f5fd513-5469-409a-bb46-c6356b60ba04",
     "showTitle": false,
     "tableResultSettingsMap": {},
     "title": ""
    },
    "id": "Jo3ZQNgKUn90"
   },
   "outputs": [],
   "source": [
    "# Scatter plot of Height and Weight colored with respect to gender\n",
    "plt.figure(figsize=(10, 6))\n",
    "for gender in participants['Sex'].unique():\n",
    "    subset = participants[participants['Sex'] == gender]\n",
    "    plt.scatter(subset['Height'], subset['Weight'], label=gender, alpha=0.6)\n",
    "\n",
    "plt.xlabel('Height')\n",
    "plt.ylabel('Weight')\n",
    "plt.title('Height vs Weight by Gender')\n",
    "plt.legend()\n",
    "plt.show()"
   ]
  },
  {
   "cell_type": "markdown",
   "metadata": {
    "application/vnd.databricks.v1+cell": {
     "cellMetadata": {
      "byteLimit": 2048000,
      "rowLimit": 10000
     },
     "inputWidgets": {},
     "nuid": "4010c808-9796-44bf-a561-9ef178f89575",
     "showTitle": false,
     "tableResultSettingsMap": {},
     "title": ""
    },
    "id": "Mph_PEaOw4ax"
   },
   "source": [
    "What can you see in this picture?"
   ]
  },
  {
   "cell_type": "markdown",
   "metadata": {
    "application/vnd.databricks.v1+cell": {
     "cellMetadata": {},
     "inputWidgets": {},
     "nuid": "07976b94-a25b-4879-bac4-420457015498",
     "showTitle": false,
     "tableResultSettingsMap": {},
     "title": ""
    }
   },
   "source": [
    "GEnerally, hinght and weight are correlated. In the sample, man are taller and heavier then women. "
   ]
  },
  {
   "cell_type": "markdown",
   "metadata": {
    "application/vnd.databricks.v1+cell": {
     "cellMetadata": {
      "byteLimit": 2048000,
      "rowLimit": 10000
     },
     "inputWidgets": {},
     "nuid": "85f1ec76-9516-4807-b343-02dd7e194068",
     "showTitle": false,
     "tableResultSettingsMap": {},
     "title": ""
    },
    "id": "vheKqfRkBN_h"
   },
   "source": [
    "# 1.2 Numerical analysis\n",
    "\n",
    "# 1.2.1 Location\n",
    "\n",
    "Location measures are used to describe typical values of a variable. Best known are the mean and the median.\n"
   ]
  },
  {
   "cell_type": "code",
   "execution_count": 0,
   "metadata": {
    "application/vnd.databricks.v1+cell": {
     "cellMetadata": {
      "byteLimit": 2048000,
      "rowLimit": 10000
     },
     "inputWidgets": {},
     "nuid": "fe4e6b10-77b9-4bf8-9212-8d721aa632a5",
     "showTitle": false,
     "tableResultSettingsMap": {},
     "title": ""
    },
    "id": "xn3igNCgBN_i",
    "scrolled": true
   },
   "outputs": [],
   "source": [
    "# Mean of numerical variables of participants\n",
    "mean_values = df[['Age', 'Height', 'Weight']].mean()\n",
    "display(mean_values)"
   ]
  },
  {
   "cell_type": "markdown",
   "metadata": {
    "application/vnd.databricks.v1+cell": {
     "cellMetadata": {
      "byteLimit": 2048000,
      "rowLimit": 10000
     },
     "inputWidgets": {},
     "nuid": "82d3f6e9-69ab-4ed7-9b1c-d122fe140a21",
     "showTitle": false,
     "tableResultSettingsMap": {},
     "title": ""
    },
    "id": "KvTzObrCWHQ-"
   },
   "source": [
    "Maybe it would make sense to group by gender."
   ]
  },
  {
   "cell_type": "code",
   "execution_count": 0,
   "metadata": {
    "application/vnd.databricks.v1+cell": {
     "cellMetadata": {
      "byteLimit": 2048000,
      "rowLimit": 10000
     },
     "inputWidgets": {},
     "nuid": "e3aa9c08-023e-40e4-a91a-a5f43dd8fcb6",
     "showTitle": false,
     "tableResultSettingsMap": {},
     "title": ""
    },
    "id": "xK8QQTpNWNlU"
   },
   "outputs": [],
   "source": [
    "# Mean of numerical variables of participants grouped by gender\n",
    "mean_values_by_gender = df.groupby('Sex', as_index=False)[['Age', 'Height', 'Weight']].mean()\n",
    "display(mean_values_by_gender)"
   ]
  },
  {
   "cell_type": "code",
   "execution_count": 0,
   "metadata": {
    "application/vnd.databricks.v1+cell": {
     "cellMetadata": {
      "byteLimit": 2048000,
      "rowLimit": 10000
     },
     "inputWidgets": {},
     "nuid": "61931319-2c7e-4798-a6cd-8cf9db08d3aa",
     "showTitle": false,
     "tableResultSettingsMap": {},
     "title": ""
    },
    "id": "hN0LAK8BBN_i"
   },
   "outputs": [],
   "source": [
    "# Median of numerical variables on participants grouped by Sex\n",
    "median_values_by_gender = df.groupby('Sex', as_index=False)[['Age', 'Height', 'Weight']].median()\n",
    "display(median_values_by_gender)"
   ]
  },
  {
   "cell_type": "code",
   "execution_count": 0,
   "metadata": {
    "application/vnd.databricks.v1+cell": {
     "cellMetadata": {
      "byteLimit": 2048000,
      "rowLimit": 10000
     },
     "inputWidgets": {},
     "nuid": "3a37685c-80c8-4f15-bdee-8e0e6966858a",
     "showTitle": false,
     "tableResultSettingsMap": {},
     "title": ""
    }
   },
   "outputs": [],
   "source": [
    "# Compare the mean with the median for numerical variables grouped by gender\n",
    "mean_values_by_gender = df.groupby('Sex', as_index=False)[['Age', 'Height', 'Weight']].mean()\n",
    "median_values_by_gender = df.groupby('Sex', as_index=False)[['Age', 'Height', 'Weight']].median()\n",
    "\n",
    "comparison = mean_values_by_gender.set_index('Sex') - median_values_by_gender.set_index('Sex')\n",
    "display(comparison)"
   ]
  },
  {
   "cell_type": "markdown",
   "metadata": {
    "application/vnd.databricks.v1+cell": {
     "cellMetadata": {
      "byteLimit": 2048000,
      "rowLimit": 10000
     },
     "inputWidgets": {},
     "nuid": "c04c7300-f284-4bd8-b340-7c0df65604e2",
     "showTitle": false,
     "tableResultSettingsMap": {},
     "title": ""
    },
    "id": "ps0oDi4jBN_i"
   },
   "source": [
    "What do you notice when you compare the mean with the median?\n",
    "\n",
    "## 1.2.2 Spread\n",
    "\n",
    "Typical values are interesting but sometimes more information is needed. It is for example also of interest to see how spead the values are. Typical measures for the spread are the variance, standard deviation, inter quartile range, etc.\n"
   ]
  },
  {
   "cell_type": "code",
   "execution_count": 0,
   "metadata": {
    "application/vnd.databricks.v1+cell": {
     "cellMetadata": {
      "byteLimit": 2048000,
      "rowLimit": 10000
     },
     "inputWidgets": {},
     "nuid": "167a4bfc-1927-4e1e-b999-2eb7d42d2135",
     "showTitle": false,
     "tableResultSettingsMap": {},
     "title": ""
    },
    "id": "t4S8mY8NBN_j"
   },
   "outputs": [],
   "source": [
    "# Standard deviation of numerical variables on participants grouped by Sex\n",
    "std_values_by_gender = df.groupby('Sex', as_index=False)[['Age', 'Height', 'Weight']].std()\n",
    "display(std_values_by_gender)"
   ]
  },
  {
   "cell_type": "code",
   "execution_count": 0,
   "metadata": {
    "application/vnd.databricks.v1+cell": {
     "cellMetadata": {
      "byteLimit": 2048000,
      "rowLimit": 10000
     },
     "inputWidgets": {},
     "nuid": "b9690072-cf79-48d1-89f0-437b6027bb6f",
     "showTitle": false,
     "tableResultSettingsMap": {},
     "title": ""
    }
   },
   "outputs": [],
   "source": [
    "from sklearn.preprocessing import StandardScaler\n",
    "\n",
    "# Z-scaling the values\n",
    "scaler = StandardScaler()\n",
    "scaled_values = scaler.fit_transform(df[['Age', 'Height', 'Weight']])\n",
    "\n",
    "# Convert scaled values back to DataFrame\n",
    "scaled_df = pd.DataFrame(scaled_values, columns=['Age', 'Height', 'Weight'])\n",
    "\n",
    "# Mean of numerical variables of participants\n",
    "mean_values = scaled_df.mean()\n",
    "display(mean_values)\n",
    "\n",
    "# Mean of numerical variables of participants grouped by gender\n",
    "mean_values_by_gender = df[['Sex']].join(scaled_df).groupby('Sex', as_index=False).mean()\n",
    "display(mean_values_by_gender)\n",
    "\n",
    "# Median of numerical variables on participants grouped by Sex\n",
    "median_values_by_gender = df[['Sex']].join(scaled_df).groupby('Sex', as_index=False).median()\n",
    "display(median_values_by_gender)\n",
    "\n",
    "# Compare the mean with the median for numerical variables grouped by gender\n",
    "comparison = mean_values_by_gender.set_index('Sex') - median_values_by_gender.set_index('Sex')\n",
    "display(comparison)\n",
    "\n",
    "# Standard deviation of numerical variables on participants grouped by Sex\n",
    "std_values_by_gender = df[['Sex']].join(scaled_df).groupby('Sex', as_index=False).std()\n",
    "display(std_values_by_gender)"
   ]
  },
  {
   "cell_type": "markdown",
   "metadata": {
    "application/vnd.databricks.v1+cell": {
     "cellMetadata": {
      "byteLimit": 2048000,
      "rowLimit": 10000
     },
     "inputWidgets": {},
     "nuid": "3ab2aa0e-a345-4624-9e11-1afb9b6a8c99",
     "showTitle": false,
     "tableResultSettingsMap": {},
     "title": ""
    },
    "id": "hDUlAN3FBN_j"
   },
   "source": [
    "Which variable has the most standard deviation? would you have expected that?\n",
    "\n",
    "We can also look at the IQR."
   ]
  },
  {
   "cell_type": "markdown",
   "metadata": {
    "application/vnd.databricks.v1+cell": {
     "cellMetadata": {},
     "inputWidgets": {},
     "nuid": "b08a1703-11b5-454e-871d-c2c9dfab0e5b",
     "showTitle": false,
     "tableResultSettingsMap": {},
     "title": ""
    }
   },
   "source": [
    "The weight. Yes. I would have expected that"
   ]
  },
  {
   "cell_type": "code",
   "execution_count": 0,
   "metadata": {
    "application/vnd.databricks.v1+cell": {
     "cellMetadata": {
      "byteLimit": 2048000,
      "rowLimit": 10000
     },
     "inputWidgets": {},
     "nuid": "dca3c144-ca4a-4df6-8568-e9ccd54de7ec",
     "showTitle": false,
     "tableResultSettingsMap": {},
     "title": ""
    },
    "id": "xvXWq9WeBN_l"
   },
   "outputs": [],
   "source": [
    "# IQR of Weight\n",
    "Q1 = df['Weight'].quantile(0.25)\n",
    "Q3 = df['Weight'].quantile(0.75)\n",
    "IQR = Q3 - Q1\n",
    "IQR"
   ]
  },
  {
   "cell_type": "markdown",
   "metadata": {
    "application/vnd.databricks.v1+cell": {
     "cellMetadata": {
      "byteLimit": 2048000,
      "rowLimit": 10000
     },
     "inputWidgets": {},
     "nuid": "02ad1b09-31f9-4c45-bae2-07f01b2c037c",
     "showTitle": false,
     "tableResultSettingsMap": {},
     "title": ""
    },
    "id": "yeR9yrw7BN_l"
   },
   "source": [
    "Compare the standard deviation of *Weight* with its IQR.\n"
   ]
  },
  {
   "cell_type": "code",
   "execution_count": 0,
   "metadata": {
    "application/vnd.databricks.v1+cell": {
     "cellMetadata": {
      "byteLimit": 2048000,
      "rowLimit": 10000
     },
     "inputWidgets": {},
     "nuid": "53316084-faf6-46d2-aa24-d3f812774a3d",
     "showTitle": false,
     "tableResultSettingsMap": {},
     "title": ""
    }
   },
   "outputs": [],
   "source": [
    "# Standard deviation of Weight\n",
    "std_weight = df['Weight'].std()\n",
    "\n",
    "# IQR of Weight\n",
    "q1_weight = df['Weight'].quantile(0.25)\n",
    "q3_weight = df['Weight'].quantile(0.75)\n",
    "iqr_weight = q3_weight - q1_weight\n",
    "\n",
    "# Comparison\n",
    "comparison = pd.DataFrame({\n",
    "    'Metric': ['Standard Deviation', 'IQR'],\n",
    "    'Weight': [std_weight, iqr_weight]\n",
    "})\n",
    "\n",
    "display(comparison)"
   ]
  },
  {
   "cell_type": "markdown",
   "metadata": {
    "application/vnd.databricks.v1+cell": {
     "cellMetadata": {
      "byteLimit": 2048000,
      "rowLimit": 10000
     },
     "inputWidgets": {},
     "nuid": "b3943edf-7357-46a0-b782-81e98df00eef",
     "showTitle": false,
     "tableResultSettingsMap": {},
     "title": ""
    },
    "id": "p_pKE9fRBN_k"
   },
   "source": [
    "Alternatively, one can also get most of those measures with a single command:"
   ]
  },
  {
   "cell_type": "code",
   "execution_count": 0,
   "metadata": {
    "application/vnd.databricks.v1+cell": {
     "cellMetadata": {
      "byteLimit": 2048000,
      "rowLimit": 10000
     },
     "inputWidgets": {},
     "nuid": "af31aa12-1229-4b88-8dd0-7e6ed81549ff",
     "showTitle": false,
     "tableResultSettingsMap": {},
     "title": ""
    },
    "colab": {
     "base_uri": "https://localhost:8080/",
     "height": 204
    },
    "id": "hhJHnOl1BN_k",
    "outputId": "d3d0a05a-0f91-4cb1-a54b-4b9aba11f87a"
   },
   "outputs": [],
   "source": [
    "participants = df[['Subject', 'Sex', 'Age', 'Height',\t'Weight']].drop_duplicates()\n",
    "grouped_participants = participants.groupby('Sex')\n",
    "grouped_participants[['Age', 'Height',\t'Weight']].describe()"
   ]
  },
  {
   "cell_type": "markdown",
   "metadata": {
    "application/vnd.databricks.v1+cell": {
     "cellMetadata": {
      "byteLimit": 2048000,
      "rowLimit": 10000
     },
     "inputWidgets": {},
     "nuid": "b950bd19-0c68-455a-9bad-27bc2790a499",
     "showTitle": false,
     "tableResultSettingsMap": {},
     "title": ""
    },
    "id": "qpMNEry6ygJe"
   },
   "source": [
    "However, this output is not very comprehensible. Here it makes more sense to consider only one species for the summary:"
   ]
  },
  {
   "cell_type": "code",
   "execution_count": 0,
   "metadata": {
    "application/vnd.databricks.v1+cell": {
     "cellMetadata": {
      "byteLimit": 2048000,
      "rowLimit": 10000
     },
     "inputWidgets": {},
     "nuid": "c5c41a16-f639-4ca5-a1b9-c4c4070c9c76",
     "showTitle": false,
     "tableResultSettingsMap": {},
     "title": ""
    },
    "colab": {
     "base_uri": "https://localhost:8080/",
     "height": 143
    },
    "id": "gHiuAviVy2g9",
    "outputId": "fcbb4190-adfe-485f-98d5-0d21bb9eb4c0"
   },
   "outputs": [],
   "source": [
    "grouped_participants['Weight'].describe()"
   ]
  },
  {
   "cell_type": "markdown",
   "metadata": {
    "application/vnd.databricks.v1+cell": {
     "cellMetadata": {
      "byteLimit": 2048000,
      "rowLimit": 10000
     },
     "inputWidgets": {},
     "nuid": "0d90b50a-dbe0-4236-811a-4fde20440c7a",
     "showTitle": false,
     "tableResultSettingsMap": {},
     "title": ""
    },
    "id": "Wdix4VdpBN_k"
   },
   "source": [
    "Do all these digits after the comma make sense?"
   ]
  },
  {
   "cell_type": "markdown",
   "metadata": {
    "application/vnd.databricks.v1+cell": {
     "cellMetadata": {
      "byteLimit": 2048000,
      "rowLimit": 10000
     },
     "inputWidgets": {},
     "nuid": "5e95b655-b5aa-4f27-af47-fb66111c376c",
     "showTitle": false,
     "tableResultSettingsMap": {},
     "title": ""
    },
    "id": "PHpxH8YXBN_l"
   },
   "source": [
    "## 1.2.3 Shape\n",
    "\n",
    "Another measure that is often looked at is the shape of the distribution. The mostly used measures are the skewness and the kurtosis."
   ]
  },
  {
   "cell_type": "code",
   "execution_count": 0,
   "metadata": {
    "application/vnd.databricks.v1+cell": {
     "cellMetadata": {
      "byteLimit": 2048000,
      "rowLimit": 10000
     },
     "inputWidgets": {},
     "nuid": "23783d6f-a27c-4f47-8abd-805c24a1169e",
     "showTitle": false,
     "tableResultSettingsMap": {},
     "title": ""
    },
    "id": "pnAT-C8LBN_m"
   },
   "outputs": [],
   "source": [
    "# Skew of numerical variables on participants grouped by Sex\n",
    "skew_values_by_gender = df.groupby('Sex', as_index=False)[['Age', 'Height', 'Weight']].skew()\n",
    "display(skew_values_by_gender)"
   ]
  },
  {
   "cell_type": "markdown",
   "metadata": {
    "application/vnd.databricks.v1+cell": {
     "cellMetadata": {
      "byteLimit": 2048000,
      "rowLimit": 10000
     },
     "inputWidgets": {},
     "nuid": "6a0e78cc-b9bd-442b-a375-f70d2f820719",
     "showTitle": false,
     "tableResultSettingsMap": {},
     "title": ""
    },
    "id": "Am0fE2_lZJCC"
   },
   "source": [
    "The skewness of *Height* is $<0$ for both genders. What does that mean?"
   ]
  },
  {
   "cell_type": "markdown",
   "metadata": {
    "application/vnd.databricks.v1+cell": {
     "cellMetadata": {},
     "inputWidgets": {},
     "nuid": "f3c6611f-12a1-4e66-92cd-4f472b39dd93",
     "showTitle": false,
     "tableResultSettingsMap": {},
     "title": ""
    }
   },
   "source": [
    "The distribution of height is negatively skewed. This means most people are relatively tall, while a smaller number of much shorter individuals create a long tail on the left."
   ]
  },
  {
   "cell_type": "markdown",
   "metadata": {
    "application/vnd.databricks.v1+cell": {
     "cellMetadata": {
      "byteLimit": 2048000,
      "rowLimit": 10000
     },
     "inputWidgets": {},
     "nuid": "de393c55-8fa1-4e31-897c-282e49edeab7",
     "showTitle": false,
     "tableResultSettingsMap": {},
     "title": ""
    },
    "id": "ESSMUOTzzNRJ"
   },
   "source": [
    "Now let us look at the kurtosis."
   ]
  },
  {
   "cell_type": "code",
   "execution_count": 0,
   "metadata": {
    "application/vnd.databricks.v1+cell": {
     "cellMetadata": {
      "byteLimit": 2048000,
      "rowLimit": 10000
     },
     "inputWidgets": {},
     "nuid": "bc194b5f-f7ac-43c7-ad1a-8355f7c78450",
     "showTitle": false,
     "tableResultSettingsMap": {},
     "title": ""
    },
    "id": "nSsgKpEQBN_m"
   },
   "outputs": [],
   "source": [
    "# Kurtosis of numerical variables on participants grouped by Sex\n",
    "kurtosis_values_by_gender = df.groupby('Sex', as_index=False)[['Age', 'Height', 'Weight']].apply(lambda x: x.kurtosis())\n",
    "display(kurtosis_values_by_gender)"
   ]
  },
  {
   "cell_type": "markdown",
   "metadata": {
    "application/vnd.databricks.v1+cell": {
     "cellMetadata": {
      "byteLimit": 2048000,
      "rowLimit": 10000
     },
     "inputWidgets": {},
     "nuid": "e39bc4db-84c9-420f-bc87-8e11cd53e177",
     "showTitle": false,
     "tableResultSettingsMap": {},
     "title": ""
    },
    "id": "M5F_R7A-Zebi"
   },
   "source": [
    "The idea behind the kurtosis is the following:\n",
    "Some numerical characteristics, when the sample size is large and the intervals are small, result in a histogram that resembles a Gaussian bell curve. In this case, the value of the kurtosis is close to zero. If the tails are heavier than you would expect for a Gaussian distribution the kurtosis will be substantially positive. If the tails are less heavy than you would expect for a Gaussian distribution the kurtosis will be negative.\n"
   ]
  },
  {
   "cell_type": "markdown",
   "metadata": {
    "application/vnd.databricks.v1+cell": {
     "cellMetadata": {
      "byteLimit": 2048000,
      "rowLimit": 10000
     },
     "inputWidgets": {},
     "nuid": "e05e617a-7fa4-442f-9628-4c4460d51e63",
     "showTitle": false,
     "tableResultSettingsMap": {},
     "title": ""
    },
    "id": "KcdP5k5p3ml2"
   },
   "source": [
    "## 1.7 Outlook\n",
    "A often used example of a normal distribtion is the height distribtion in a population. Let us check, whether this could also be the case for our data set.\n",
    "\n",
    "When looking at hypothesis testing, we will see how to test this mathematically.\n",
    "\n",
    "Our model is a normal distribution with the mean and width taken from the dataset: **norm.pdf(x,mean,width)**."
   ]
  },
  {
   "cell_type": "code",
   "execution_count": 0,
   "metadata": {
    "application/vnd.databricks.v1+cell": {
     "cellMetadata": {
      "byteLimit": 2048000,
      "rowLimit": 10000
     },
     "inputWidgets": {},
     "nuid": "39e88209-ba87-41ec-84cf-86f7c5083437",
     "showTitle": false,
     "tableResultSettingsMap": {},
     "title": ""
    },
    "colab": {
     "base_uri": "https://localhost:8080/",
     "height": 448
    },
    "id": "QrOQY6ubBN_p",
    "outputId": "7412df6d-1262-416a-854e-4611c3b39af9"
   },
   "outputs": [],
   "source": [
    "from scipy.stats import norm\n",
    "\n",
    "# Get mean and std from height\n",
    "\n",
    "mean  = participants['Height'].mean()\n",
    "std = participants['Height'].std()\n",
    "print(mean,std)\n",
    "\n",
    "# Create gaussian pdf\n",
    "xmin = participants['Height'].min()\n",
    "xmax = participants['Height'].max()\n",
    "x = np.linspace(xmin, xmax, 100)\n",
    "pdf = norm.pdf(x, mean, std)\n",
    "\n",
    "# Plot histogram\n",
    "plt.hist(participants['Height'], density=True, alpha=0.6, color='skyblue', edgecolor='black', label=' Histogram')\n",
    "plt.plot(x, pdf, 'r', linewidth=2, label='Normal Distribution')\n",
    "plt.show()"
   ]
  },
  {
   "cell_type": "markdown",
   "metadata": {
    "application/vnd.databricks.v1+cell": {
     "cellMetadata": {
      "byteLimit": 2048000,
      "rowLimit": 10000
     },
     "inputWidgets": {},
     "nuid": "f78f52cd-fe17-4ad1-8681-a941a46240b4",
     "showTitle": false,
     "tableResultSettingsMap": {},
     "title": ""
    },
    "id": "9oFpq7dSYZVd"
   },
   "source": [
    "What do you think?"
   ]
  },
  {
   "cell_type": "markdown",
   "metadata": {
    "application/vnd.databricks.v1+cell": {
     "cellMetadata": {
      "byteLimit": 2048000,
      "rowLimit": 10000
     },
     "inputWidgets": {},
     "nuid": "ba9bbe2b-2328-4f82-b047-583ad6633aff",
     "showTitle": false,
     "tableResultSettingsMap": {},
     "title": ""
    },
    "id": "HWZjciel5AUV"
   },
   "source": [
    "# 2. Simultaneous Description of two Features"
   ]
  },
  {
   "cell_type": "markdown",
   "metadata": {
    "application/vnd.databricks.v1+cell": {
     "cellMetadata": {
      "byteLimit": 2048000,
      "rowLimit": 10000
     },
     "inputWidgets": {},
     "nuid": "d8ff3a17-201a-480d-9427-e074441c2a3b",
     "showTitle": false,
     "tableResultSettingsMap": {},
     "title": ""
    },
    "id": "TOGNGrrA54CW"
   },
   "source": [
    "In the first part of this notebook, we only looked at individual characteristics. For example, we calculated the mean *slength* of *iris setosa*. Of course, we did this simultaneously for all characteristics and species, but we never compared two characteristics directly. That is what we would like to do now."
   ]
  },
  {
   "cell_type": "markdown",
   "metadata": {
    "application/vnd.databricks.v1+cell": {
     "cellMetadata": {
      "byteLimit": 2048000,
      "rowLimit": 10000
     },
     "inputWidgets": {},
     "nuid": "38a067d7-1bab-44a5-81a3-f88f602a06db",
     "showTitle": false,
     "tableResultSettingsMap": {},
     "title": ""
    },
    "id": "T7WYGeJT59j6"
   },
   "source": [
    "## 2.1 Graphical Analysis\n",
    "\n",
    "### 2.1.1 Boxplots\n",
    "\n",
    "A boxplot is a graphical display of the minimum, maximum, and the 3 quartiles.\n",
    "\n",
    "We could for example look at the difference in balance scores depending on the surface the participants stand on. Let us first consider the case when the particiants view is not obstructed."
   ]
  },
  {
   "cell_type": "code",
   "execution_count": 0,
   "metadata": {
    "application/vnd.databricks.v1+cell": {
     "cellMetadata": {
      "byteLimit": 2048000,
      "rowLimit": 10000
     },
     "inputWidgets": {},
     "nuid": "880b9014-510d-47d1-bce3-a88cd9456d93",
     "showTitle": false,
     "tableResultSettingsMap": {},
     "title": ""
    },
    "id": "HmXZmvCS5mTT"
   },
   "outputs": [],
   "source": [
    "# Boxplots of CTSIB-score for the two different surfaces."
   ]
  },
  {
   "cell_type": "markdown",
   "metadata": {
    "application/vnd.databricks.v1+cell": {
     "cellMetadata": {
      "byteLimit": 2048000,
      "rowLimit": 10000
     },
     "inputWidgets": {},
     "nuid": "442214a6-fc9d-4a0b-9971-56da93d30601",
     "showTitle": false,
     "tableResultSettingsMap": {},
     "title": ""
    },
    "id": "lWOvVmKPZYrg"
   },
   "source": [
    "Would you expect the boxplots to look like this? Inspect the dataset more closely.\n",
    "\n",
    "We could also look at the height distribution according to the genders."
   ]
  },
  {
   "cell_type": "code",
   "execution_count": 0,
   "metadata": {
    "application/vnd.databricks.v1+cell": {
     "cellMetadata": {
      "byteLimit": 2048000,
      "rowLimit": 10000
     },
     "inputWidgets": {},
     "nuid": "d43781a1-6cbc-4c00-9424-17641eced5da",
     "showTitle": false,
     "tableResultSettingsMap": {},
     "title": ""
    },
    "id": "MQQZixCfZwG6"
   },
   "outputs": [],
   "source": [
    "# Boxplots of height for the genders."
   ]
  },
  {
   "cell_type": "markdown",
   "metadata": {
    "application/vnd.databricks.v1+cell": {
     "cellMetadata": {
      "byteLimit": 2048000,
      "rowLimit": 10000
     },
     "inputWidgets": {},
     "nuid": "2f802042-d8a3-4c04-ab61-97f700ef8fa1",
     "showTitle": false,
     "tableResultSettingsMap": {},
     "title": ""
    },
    "id": "qXmVK39e5nJs"
   },
   "source": [
    "### 2.1.2 Scatter matrix\n",
    "\n",
    "Now let us see whether some of the numerical infos on the participants correlate.  (https://pandas.pydata.org/pandas-docs/stable/generated/pandas.plotting.scatter_matrix.html)"
   ]
  },
  {
   "cell_type": "code",
   "execution_count": 0,
   "metadata": {
    "application/vnd.databricks.v1+cell": {
     "cellMetadata": {
      "byteLimit": 2048000,
      "rowLimit": 10000
     },
     "inputWidgets": {},
     "nuid": "6891a549-57d6-4026-9eac-308b4d7ef3af",
     "showTitle": false,
     "tableResultSettingsMap": {},
     "title": ""
    },
    "colab": {
     "base_uri": "https://localhost:8080/",
     "height": 457
    },
    "id": "Ga4qdeOyBN_o",
    "outputId": "22b2e878-9def-4151-bfe3-24e2f0a22a6f"
   },
   "outputs": [],
   "source": [
    "from pandas.plotting import scatter_matrix\n",
    "scatter_matrix(participants[['Age','Height','Weight']], alpha=0.2, diagonal='hist')\n",
    "plt.show()"
   ]
  },
  {
   "cell_type": "markdown",
   "metadata": {
    "application/vnd.databricks.v1+cell": {
     "cellMetadata": {
      "byteLimit": 2048000,
      "rowLimit": 10000
     },
     "inputWidgets": {},
     "nuid": "5d678361-1420-480d-93d4-01ec2c9f1028",
     "showTitle": false,
     "tableResultSettingsMap": {},
     "title": ""
    },
    "id": "QzoWz7FEUcoj"
   },
   "source": [
    "As we would have assumed there is a positive correlation between height and weight."
   ]
  },
  {
   "cell_type": "markdown",
   "metadata": {
    "application/vnd.databricks.v1+cell": {
     "cellMetadata": {
      "byteLimit": 2048000,
      "rowLimit": 10000
     },
     "inputWidgets": {},
     "nuid": "c30d4237-dd9f-4b04-8571-09e15f27626e",
     "showTitle": false,
     "tableResultSettingsMap": {},
     "title": ""
    },
    "id": "ZY2mdnccBN_m"
   },
   "source": [
    "## 2.2 Numerical Analyis\n",
    "\n",
    "### 2.3 Correlation\n",
    "To get more information on the correlation between two variables the correlation coefficient is calculated.\n",
    "\n",
    "Let's see whether the correlation coefficient does support this observation.\n",
    "\n",
    "**Caution**: correlation not equals causation!!\n"
   ]
  },
  {
   "cell_type": "code",
   "execution_count": 0,
   "metadata": {
    "application/vnd.databricks.v1+cell": {
     "cellMetadata": {
      "byteLimit": 2048000,
      "rowLimit": 10000
     },
     "inputWidgets": {},
     "nuid": "c825f450-0210-4845-8b0f-b088038af5d3",
     "showTitle": false,
     "tableResultSettingsMap": {},
     "title": ""
    },
    "id": "s411Z4HHBN_m"
   },
   "outputs": [],
   "source": [
    "# Ensure df_spark is a Spark DataFrame\n",
    "df_spark = df if isinstance(df, type(spark.createDataFrame([(1,)]).toDF(\"x\"))) else spark.createDataFrame(df)\n",
    "\n",
    "# (Optional) cast to numeric if needed\n",
    "from pyspark.sql import functions as F\n",
    "for c in [\"Age\", \"Height\", \"Weight\"]:\n",
    "    df_spark = df_spark.withColumn(c, F.col(c).cast(\"double\"))\n",
    "\n",
    "# Compute Pearson correlations\n",
    "corr_age_height   = df_spark.stat.corr(\"Age\", \"Height\")\n",
    "corr_age_weight   = df_spark.stat.corr(\"Age\", \"Weight\")\n",
    "corr_height_weight= df_spark.stat.corr(\"Height\", \"Weight\")\n",
    "\n",
    "# Show as Spark DataFrame (avoids MLSerDe error)\n",
    "result = spark.createDataFrame(\n",
    "    [\n",
    "        (\"Age\",   \"Height\", corr_age_height),\n",
    "        (\"Age\",   \"Weight\", corr_age_weight),\n",
    "        (\"Height\",\"Weight\", corr_height_weight),\n",
    "    ],\n",
    "    [\"Column1\", \"Column2\", \"PearsonCorrelation\"]\n",
    ")\n",
    "\n",
    "display(result)\n"
   ]
  },
  {
   "cell_type": "markdown",
   "metadata": {
    "application/vnd.databricks.v1+cell": {
     "cellMetadata": {
      "byteLimit": 2048000,
      "rowLimit": 10000
     },
     "inputWidgets": {},
     "nuid": "a8da4afe-5c05-4b3b-9a71-6e63e81a145a",
     "showTitle": false,
     "tableResultSettingsMap": {},
     "title": ""
    },
    "id": "2EII7nSeBN_m"
   },
   "source": [
    "What is the definition of the correlation?\n"
   ]
  },
  {
   "cell_type": "markdown",
   "metadata": {
    "application/vnd.databricks.v1+cell": {
     "cellMetadata": {},
     "inputWidgets": {},
     "nuid": "867d9bd9-2281-415d-b33d-074066070d3b",
     "showTitle": false,
     "tableResultSettingsMap": {},
     "title": ""
    }
   },
   "source": [
    "### 📌 Definition of Correlation\n",
    "\n",
    "**Correlation** measures the strength and direction of a **linear relationship** between two quantitative variables.\n",
    "\n",
    "The most common measure is the **Pearson correlation coefficient (r)**:\n",
    "\n",
    "\\[\n",
    "r = \\frac{\\text{Cov}(X, Y)}{\\sigma_X \\, \\sigma_Y}\n",
    "\\]\n",
    "\n",
    "where:  \n",
    "- \\(\\text{Cov}(X, Y)\\) = covariance of \\(X\\) and \\(Y\\)  \n",
    "- \\(\\sigma_X, \\sigma_Y\\) = standard deviations of \\(X\\) and \\(Y\\)  \n",
    "\n",
    "---\n",
    "\n",
    "### 📊 Interpretation of Pearson r\n",
    "- **+1** → perfect positive linear relationship (as one increases, so does the other)  \n",
    "- **0** → no linear relationship  \n",
    "- **–1** → perfect negative linear relationship (as one increases, the other decreases)  \n",
    "\n",
    "---\n",
    "\n",
    "⚠️ **Note**:  \n",
    "- Correlation only captures **linear** relationships.  \n",
    "- Correlation does **not imply causation**.\n"
   ]
  },
  {
   "cell_type": "markdown",
   "metadata": {
    "application/vnd.databricks.v1+cell": {
     "cellMetadata": {
      "byteLimit": 2048000,
      "rowLimit": 10000
     },
     "inputWidgets": {},
     "nuid": "3b9e15b0-ffb5-4e2d-a780-0ba7710d13d1",
     "showTitle": false,
     "tableResultSettingsMap": {},
     "title": ""
    },
    "id": "BqbmMLgp8fxz"
   },
   "source": [
    "What kind of relationship between *Age* and *Height* does the correlation coefficient suggest?"
   ]
  },
  {
   "cell_type": "markdown",
   "metadata": {
    "application/vnd.databricks.v1+cell": {
     "cellMetadata": {},
     "inputWidgets": {},
     "nuid": "d54f794d-fd9d-4875-92c6-2f10027610b5",
     "showTitle": false,
     "tableResultSettingsMap": {},
     "title": ""
    }
   },
   "source": [
    "Close to zero. No relationship as seems intuitive"
   ]
  },
  {
   "cell_type": "markdown",
   "metadata": {
    "application/vnd.databricks.v1+cell": {
     "cellMetadata": {
      "byteLimit": 2048000,
      "rowLimit": 10000
     },
     "inputWidgets": {},
     "nuid": "f4d83b77-64cd-43af-a5b5-03b3570e2d93",
     "showTitle": false,
     "tableResultSettingsMap": {},
     "title": ""
    },
    "id": "gSkqLlnFV-ce"
   },
   "source": [
    "### Exercise\n",
    "We have now seen several examples of desciptive approaches. What we have left out so far is to really investigate the difference in balance depending of *Surface* and *Vision*. User the remaining time to further investigate!"
   ]
  },
  {
   "cell_type": "code",
   "execution_count": 0,
   "metadata": {
    "application/vnd.databricks.v1+cell": {
     "cellMetadata": {
      "byteLimit": 2048000,
      "rowLimit": 10000
     },
     "inputWidgets": {},
     "nuid": "f7c74d97-df9f-4133-9069-fc90c030dd8e",
     "showTitle": false,
     "tableResultSettingsMap": {},
     "title": ""
    }
   },
   "outputs": [],
   "source": [
    "# Investigate the difference in balance depending on Surface and Vision\n",
    "\n",
    "from pyspark.sql import functions as F\n",
    "\n",
    "# Ensure Spark DF\n",
    "df_spark = df if \"toDF\" in dir(df) and hasattr(df, \"schema\") else spark.createDataFrame(df)\n",
    "\n",
    "# Pick the correct score column (CTSIB_score vs CTSIB)\n",
    "score_col = \"CTSIB_score\" if \"CTSIB_score\" in df_spark.columns else \"CTSIB\"\n",
    "\n",
    "# Cast to double\n",
    "df_spark = df_spark.withColumn(score_col, F.col(score_col).cast(\"double\"))\n",
    "\n",
    "# Descriptive stats by Surface x Vision\n",
    "balance_stats = (\n",
    "    df_spark\n",
    "    .groupBy(\"Surface\", \"Vision\")\n",
    "    .agg(\n",
    "        F.mean(score_col).alias(\"mean\"),\n",
    "        F.stddev(score_col).alias(\"stddev\"),\n",
    "        F.expr(f\"percentile_approx({score_col}, 0.25)\").alias(\"q1\"),\n",
    "        F.expr(f\"percentile_approx({score_col}, 0.75)\").alias(\"q3\"),\n",
    "        F.count(F.col(score_col)).alias(\"n\")\n",
    "    )\n",
    "    .withColumn(\"iqr\", F.col(\"q3\") - F.col(\"q1\"))\n",
    "    .orderBy(\"Surface\", \"Vision\")\n",
    ")\n",
    "\n",
    "display(balance_stats)\n"
   ]
  },
  {
   "cell_type": "code",
   "execution_count": 0,
   "metadata": {
    "application/vnd.databricks.v1+cell": {
     "cellMetadata": {
      "byteLimit": 2048000,
      "rowLimit": 10000
     },
     "inputWidgets": {},
     "nuid": "5de30b90-54af-4c52-b457-5f562481f74e",
     "showTitle": false,
     "tableResultSettingsMap": {},
     "title": ""
    }
   },
   "outputs": [],
   "source": []
  }
 ],
 "metadata": {
  "application/vnd.databricks.v1+notebook": {
   "computePreferences": null,
   "dashboards": [],
   "environmentMetadata": null,
   "inputWidgetPreferences": null,
   "language": "python",
   "notebookMetadata": {
    "pythonIndentUnit": 4
   },
   "notebookName": "CAS-D1-DescriptiveStatistics",
   "widgets": {}
  },
  "colab": {
   "provenance": []
  },
  "kernelspec": {
   "display_name": "Python 3",
   "name": "python3"
  },
  "language_info": {
   "name": "python"
  }
 },
 "nbformat": 4,
 "nbformat_minor": 0
}
