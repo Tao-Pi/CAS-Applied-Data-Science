{
 "cells": [
  {
   "cell_type": "markdown",
   "metadata": {
    "application/vnd.databricks.v1+cell": {
     "cellMetadata": {},
     "inputWidgets": {},
     "nuid": "973d1866-0f2d-4884-a611-6381953d8d21",
     "showTitle": false,
     "tableResultSettingsMap": {},
     "title": ""
    },
    "id": "YzJtB9Mo1Hql"
   },
   "source": [
    "<a href=\"https://colab.research.google.com/github/KGzB/CAS-Applied-Data-Science/blob/master/Module-2/CAS-D4-StatisticsSummary.ipynb\" target=\"_parent\"><img src=\"https://colab.research.google.com/assets/colab-badge.svg\" alt=\"Open In Colab\"/></a>"
   ]
  },
  {
   "cell_type": "markdown",
   "metadata": {
    "application/vnd.databricks.v1+cell": {
     "cellMetadata": {},
     "inputWidgets": {},
     "nuid": "e7739add-cca9-4447-8652-ef651de66941",
     "showTitle": false,
     "tableResultSettingsMap": {},
     "title": ""
    },
    "id": "vi0l7ZtiEKhy"
   },
   "source": [
    "Notebook 5, Module 2, Statistical Inference for Data Science, CAS Applied Data Science, 2024-08-30, A. Mühlemann, University of Bern.\n",
    "\n",
    "*This notebook is based on the notebook by S. Haug and G. Conti from 2020*"
   ]
  },
  {
   "cell_type": "markdown",
   "metadata": {
    "application/vnd.databricks.v1+cell": {
     "cellMetadata": {},
     "inputWidgets": {},
     "nuid": "35ceb5ee-d49e-4be4-b7ed-da806ecd60af",
     "showTitle": false,
     "tableResultSettingsMap": {},
     "title": ""
    },
    "id": "MC4IaKMC1OpX"
   },
   "source": []
  },
  {
   "cell_type": "markdown",
   "metadata": {
    "application/vnd.databricks.v1+cell": {
     "cellMetadata": {},
     "inputWidgets": {},
     "nuid": "b2109925-24e6-453c-9648-517a2ce03931",
     "showTitle": false,
     "tableResultSettingsMap": {},
     "title": ""
    },
    "id": "rLlWFcE4EKh2"
   },
   "source": [
    "## Project work Module 2\n",
    "\n",
    "This is my project work for Module 2. Plots, numbers and tables for the poster or presentation are produced with this Notebook.\n",
    "\n",
    "The data used is the Iris data set. Available here:\n",
    "https://archive.ics.uci.edu/ml/datasets/iris\n",
    "\n",
    "**Outline of the data analysis** 3x45 min (depending on your background)\n",
    "\n",
    "- Introduction (situation and goal)\n",
    "- Descriptive part\n",
    "- Data filtering with efficiency from fitted models\n",
    "- Hypothesis testing\n",
    "- Conclusions\n"
   ]
  },
  {
   "cell_type": "markdown",
   "metadata": {
    "application/vnd.databricks.v1+cell": {
     "cellMetadata": {},
     "inputWidgets": {},
     "nuid": "a4f36e34-0ea5-407f-9bb1-0600f94d251e",
     "showTitle": false,
     "tableResultSettingsMap": {},
     "title": ""
    },
    "id": "4mX1nGv8EKh4"
   },
   "source": [
    "## 1. Introduction\n",
    "\n",
    "I am in court as a data science expert. My task is to give advice to the judges. I will have 15 minutes time and plan to bring slides for the presentation. This way court participants can also look at it in the breaks.\n",
    "\n",
    "**Situation (fictional):**\n",
    "\n",
    "Some new company v4Setosa recently sequenced the genes of the Iris species Setosa and patented it, apparently in order to preserve this species because it is so beautiful. Due this patent it is not allowed to change the plant.\n",
    "\n",
    "A big farmer and hater of Iris and with a field where Iris is a disturbing weed, has been using a new product from Sonte Manto for a couple of years. The product is supposed to effectively kill Iris plants.\n",
    "\n",
    "A big Iris lover collected a sample of Iris plants from the farmer's field and thinks the Iris Setosa setal leaves are bigger than normal. She sent the sample to v4setosa, which in turn came to the conclusion that Setosa must have mutated due to the product from Sonte Manto.\n",
    "\n",
    "So w4setosa sued Sonte Manto with the claim that they have changed the plant with their product. Sonte Manto may risk to pay a billion dollars. The court has asked me to give a neutral and scientific advice.\n",
    "\n",
    "**Data Analysis**\n",
    "\n",
    "- Data collection\n",
    "    - Request a larger Iris sample from a field far away from the farmer -dataset 0. The data is labeled as the local collector had separate greenhouses for each species.\n",
    "    - Request a Iris sample from the farmer (collected by some neutral person) - dataset 1. The data is a random mix of all species\n",
    "- Description of the data\n",
    "    - Calculate means, variances and correlations\n",
    "    - Test normality\n",
    "    - Choose good plots\n",
    "- Find by **regression** a good way to filter out setosa in the farmer sample (increases the the power of the final test)\n",
    "- Add a **test** to the filtered sample, checking if the farmer setosa leaves differ significantly from the reference sample\n",
    "- Conclude\n",
    "- (Additionally **exclude** all mutation hypotheses not compatible with this experiment)\n",
    "\n",
    "\n",
    "\n",
    "\n"
   ]
  },
  {
   "cell_type": "markdown",
   "metadata": {
    "application/vnd.databricks.v1+cell": {
     "cellMetadata": {},
     "inputWidgets": {},
     "nuid": "3b06a711-c5f2-495a-b390-d06337a72505",
     "showTitle": false,
     "tableResultSettingsMap": {},
     "title": ""
    },
    "id": "bjeOWLTPEKh5"
   },
   "source": [
    "**Definition of significant**\n",
    "\n",
    "We consider p-values below 0.001 as unlikely enough to reject the fluctuation hypothesis. We will for such values advice the court to consider it as a mutation. (This is a weak point that the laywers of Sonte Manto will of course attack.)"
   ]
  },
  {
   "cell_type": "markdown",
   "metadata": {
    "application/vnd.databricks.v1+cell": {
     "cellMetadata": {},
     "inputWidgets": {},
     "nuid": "b76d8c45-35a1-4f8d-9695-3dc74e2a44cc",
     "showTitle": false,
     "tableResultSettingsMap": {},
     "title": ""
    },
    "id": "vhPdmeIWEKh5"
   },
   "source": [
    "## 2. Description of the datasets"
   ]
  },
  {
   "cell_type": "markdown",
   "metadata": {
    "application/vnd.databricks.v1+cell": {
     "cellMetadata": {},
     "inputWidgets": {},
     "nuid": "ecbdf01d-6c82-4a6e-803e-e951a303e9f1",
     "showTitle": false,
     "tableResultSettingsMap": {},
     "title": ""
    },
    "id": "9X4hV95yEKh6"
   },
   "source": [
    "We artificially create the datasets. Out of the first 30 entries from each Iris species make the reference sets (annotated/labeled). With the rest, 20 rows per species, we create a mixed sample being the farmer sample (not anotated).   "
   ]
  },
  {
   "cell_type": "markdown",
   "metadata": {
    "application/vnd.databricks.v1+cell": {
     "cellMetadata": {},
     "inputWidgets": {},
     "nuid": "70dfbda0-51c5-4ab2-b062-337291ecf09c",
     "showTitle": false,
     "tableResultSettingsMap": {},
     "title": ""
    },
    "id": "dcT0YMpDEKh6"
   },
   "source": [
    "**Import modules we may need**"
   ]
  },
  {
   "cell_type": "code",
   "execution_count": 0,
   "metadata": {
    "application/vnd.databricks.v1+cell": {
     "cellMetadata": {},
     "inputWidgets": {},
     "nuid": "b506dc0c-bdb1-41fa-a598-be0120fcc6ff",
     "showTitle": false,
     "tableResultSettingsMap": {},
     "title": ""
    },
    "id": "zxLAHf2ZEKh7"
   },
   "outputs": [],
   "source": [
    "import numpy as np\n",
    "import matplotlib.pyplot as plt\n",
    "import pandas as pd\n",
    "from scipy import stats"
   ]
  },
  {
   "cell_type": "markdown",
   "metadata": {
    "application/vnd.databricks.v1+cell": {
     "cellMetadata": {},
     "inputWidgets": {},
     "nuid": "89742ad4-cc6e-4333-aa8a-5edb84eabaeb",
     "showTitle": false,
     "tableResultSettingsMap": {},
     "title": ""
    },
    "id": "7PAJhqRjEKh8"
   },
   "source": [
    "**Create the datasets**"
   ]
  },
  {
   "cell_type": "code",
   "execution_count": 0,
   "metadata": {
    "application/vnd.databricks.v1+cell": {
     "cellMetadata": {},
     "inputWidgets": {},
     "nuid": "93502aea-ab43-485b-8ab5-2066497c34dd",
     "showTitle": false,
     "tableResultSettingsMap": {},
     "title": ""
    },
    "colab": {
     "base_uri": "https://localhost:8080/"
    },
    "id": "NEaKzgytEKh9",
    "outputId": "0d8dde4d-060a-405e-d5ad-b288b49671b3"
   },
   "outputs": [],
   "source": [
    "url = \"https://archive.ics.uci.edu/ml/machine-learning-databases/iris/iris.data\"\n",
    "df_org = pd.read_csv(url,names=['slength','swidth','plength','pwidth','species'])\n",
    "df_ref_set = df_org[df_org['species']=='Iris-setosa'][:30]\n",
    "df_ref_vir = df_org[df_org['species']=='Iris-virginica'][:30]\n",
    "df_ref_ver = df_org[df_org['species']=='Iris-versicolor'][:30]\n",
    "df_farm_1 = df_org[df_org['species']=='Iris-setosa'][30:]\n",
    "df_farm_2 = df_org[df_org['species']=='Iris-virginica'][30:]\n",
    "df_farm_3 = df_org[df_org['species']=='Iris-versicolor'][30:]\n",
    "\n",
    "# Corrected line using pandas.concat()\n",
    "df_farm = pd.concat([df_farm_1, df_farm_2, df_farm_3])\n",
    "\n",
    "# You can now use df_farm as intended\n",
    "print(df_farm.head())\n",
    "print(df_farm.tail())\n"
   ]
  },
  {
   "cell_type": "markdown",
   "metadata": {
    "application/vnd.databricks.v1+cell": {
     "cellMetadata": {},
     "inputWidgets": {},
     "nuid": "7f4142c6-33ec-4f4b-aeb2-4f00ed056857",
     "showTitle": false,
     "tableResultSettingsMap": {},
     "title": ""
    },
    "id": "6c26uuPcEKh9"
   },
   "source": [
    "The labels in the farmer dataset are unknown, so we remove them to 'simulate' the real situation."
   ]
  },
  {
   "cell_type": "code",
   "execution_count": 0,
   "metadata": {
    "application/vnd.databricks.v1+cell": {
     "cellMetadata": {},
     "inputWidgets": {},
     "nuid": "45596a98-2759-47c8-8f8e-0004a1c390a5",
     "showTitle": false,
     "tableResultSettingsMap": {},
     "title": ""
    },
    "colab": {
     "base_uri": "https://localhost:8080/",
     "height": 206
    },
    "id": "VK_gWoawEKh-",
    "outputId": "8984deb6-adf2-4a25-f058-36a1a63f1ba4"
   },
   "outputs": [],
   "source": [
    "df_farm['species']='Unknown'\n",
    "df_farm.head()"
   ]
  },
  {
   "cell_type": "markdown",
   "metadata": {
    "application/vnd.databricks.v1+cell": {
     "cellMetadata": {},
     "inputWidgets": {},
     "nuid": "3d7df888-55b4-484d-8b83-346403adca42",
     "showTitle": false,
     "tableResultSettingsMap": {},
     "title": ""
    },
    "id": "BRmnQSbHEKh_"
   },
   "source": [
    "**Describe setosa**"
   ]
  },
  {
   "cell_type": "code",
   "execution_count": 0,
   "metadata": {
    "application/vnd.databricks.v1+cell": {
     "cellMetadata": {},
     "inputWidgets": {},
     "nuid": "2e049c90-e85a-4084-b23c-7b1ccb4ebc0d",
     "showTitle": false,
     "tableResultSettingsMap": {},
     "title": ""
    },
    "colab": {
     "base_uri": "https://localhost:8080/",
     "height": 300
    },
    "id": "pUARmtDDEKiA",
    "outputId": "47240664-bef1-45cd-acbb-dd617a4866fd"
   },
   "outputs": [],
   "source": [
    "df_ref_set.describe()"
   ]
  },
  {
   "cell_type": "markdown",
   "metadata": {
    "application/vnd.databricks.v1+cell": {
     "cellMetadata": {},
     "inputWidgets": {},
     "nuid": "6df8958f-7ac7-4738-84b0-ff19bcdd70cc",
     "showTitle": false,
     "tableResultSettingsMap": {},
     "title": ""
    },
    "id": "J4_zUV0j-4Ej"
   },
   "source": [
    "**Describe virginica**"
   ]
  },
  {
   "cell_type": "code",
   "execution_count": 0,
   "metadata": {
    "application/vnd.databricks.v1+cell": {
     "cellMetadata": {},
     "inputWidgets": {},
     "nuid": "cd90c9d3-b571-41f5-96f5-056363b71f82",
     "showTitle": false,
     "tableResultSettingsMap": {},
     "title": ""
    },
    "colab": {
     "base_uri": "https://localhost:8080/",
     "height": 300
    },
    "id": "lxrZUUiHEKiA",
    "outputId": "60f72e53-5c5f-4a26-a06d-36f646d07a9e"
   },
   "outputs": [],
   "source": [
    "df_ref_vir.describe()"
   ]
  },
  {
   "cell_type": "markdown",
   "metadata": {
    "application/vnd.databricks.v1+cell": {
     "cellMetadata": {},
     "inputWidgets": {},
     "nuid": "faaef4b6-7fc1-47d6-b19c-841d5ed87c77",
     "showTitle": false,
     "tableResultSettingsMap": {},
     "title": ""
    },
    "id": "WAduKX_u_ApX"
   },
   "source": [
    "**Describe versicolor**"
   ]
  },
  {
   "cell_type": "code",
   "execution_count": 0,
   "metadata": {
    "application/vnd.databricks.v1+cell": {
     "cellMetadata": {},
     "inputWidgets": {},
     "nuid": "ff64e383-e8ac-4ae9-b145-34076f2adc34",
     "showTitle": false,
     "tableResultSettingsMap": {},
     "title": ""
    },
    "colab": {
     "base_uri": "https://localhost:8080/",
     "height": 300
    },
    "id": "YoN5EqrREKiA",
    "outputId": "39f7f472-9010-431a-a835-2e1b52e4eef4"
   },
   "outputs": [],
   "source": [
    "df_ref_ver.describe()"
   ]
  },
  {
   "cell_type": "markdown",
   "metadata": {
    "application/vnd.databricks.v1+cell": {
     "cellMetadata": {},
     "inputWidgets": {},
     "nuid": "1b7731c3-5f80-456c-8eda-f399a2739ae2",
     "showTitle": false,
     "tableResultSettingsMap": {},
     "title": ""
    },
    "id": "ThAkLAUG_GD7"
   },
   "source": [
    "**Describe the unknown sample**"
   ]
  },
  {
   "cell_type": "code",
   "execution_count": 0,
   "metadata": {
    "application/vnd.databricks.v1+cell": {
     "cellMetadata": {},
     "inputWidgets": {},
     "nuid": "7c2ba3d7-b31e-4405-8220-3a871bc14c0e",
     "showTitle": false,
     "tableResultSettingsMap": {},
     "title": ""
    },
    "colab": {
     "base_uri": "https://localhost:8080/",
     "height": 300
    },
    "id": "yO6g0yI1_Moc",
    "outputId": "01f601ce-d2f4-487b-f496-1d5393e4bdf7"
   },
   "outputs": [],
   "source": [
    "df_farm.describe()"
   ]
  },
  {
   "cell_type": "markdown",
   "metadata": {
    "application/vnd.databricks.v1+cell": {
     "cellMetadata": {},
     "inputWidgets": {},
     "nuid": "98f57ac6-0582-427c-ae68-706bb61bead8",
     "showTitle": false,
     "tableResultSettingsMap": {},
     "title": ""
    },
    "id": "8sp4LwMn_QK9"
   },
   "source": [
    "The descriptive measures from the possibly mutated sample do not seem to differ a lot from the known species. But since it's a mix it also does not really coincide with a specific species"
   ]
  },
  {
   "cell_type": "markdown",
   "metadata": {
    "application/vnd.databricks.v1+cell": {
     "cellMetadata": {},
     "inputWidgets": {},
     "nuid": "e63ce9db-6fa1-4339-a1be-2a49e4ad5720",
     "showTitle": false,
     "tableResultSettingsMap": {},
     "title": ""
    },
    "id": "SFSh1lC-EKiC"
   },
   "source": [
    "**Plot the histograms**"
   ]
  },
  {
   "cell_type": "code",
   "execution_count": 0,
   "metadata": {
    "application/vnd.databricks.v1+cell": {
     "cellMetadata": {},
     "inputWidgets": {},
     "nuid": "fe671d58-dfa4-4dee-b221-43ee79b2ec99",
     "showTitle": false,
     "tableResultSettingsMap": {},
     "title": ""
    },
    "colab": {
     "base_uri": "https://localhost:8080/",
     "height": 853
    },
    "id": "yM8ke-zjEKiD",
    "outputId": "28a1f5cc-e50a-467f-d9ff-7b627a9a3585"
   },
   "outputs": [],
   "source": [
    "datasets = [df_ref_set['swidth'],df_ref_vir['swidth'],df_ref_ver['swidth'],df_farm['swidth'] ]\n",
    "dataset_labels = ['Setosa','Virginica','Versicolor','Farmer']\n",
    "plt.figure(figsize=(12,10))\n",
    "plt.subplot(2,2,1)\n",
    "plt.title('Setal Width')\n",
    "i=0\n",
    "for dataset in datasets[0:4]:\n",
    "    dataset.plot(kind=\"hist\",fill=True,alpha=0.2,histtype='step',label=dataset_labels[i])\n",
    "    #print('%10s %1.2f ' % (datasets_labels[i],p))\n",
    "    i+=1\n",
    "plt.legend()\n",
    "plt.subplot(2,2,2)\n",
    "plt.title('Setal Length')\n",
    "datasets2 = [df_ref_set['slength'],df_ref_vir['slength'],df_ref_ver['slength'],df_farm['slength'] ]\n",
    "i=0\n",
    "for dataset in datasets2[0:4]:\n",
    "    dataset.plot(kind=\"hist\",fill=True,alpha=0.2,histtype='step',label=dataset_labels[i])\n",
    "    #print('%10s %1.2f ' % (datasets_labels[i],p))\n",
    "    i+=1\n",
    "plt.legend()\n",
    "#plt.show()\n",
    "plt.subplot(2,2,3)\n",
    "plt.title('Petal Width')\n",
    "datasets3 = [df_ref_set['pwidth'],df_ref_vir['pwidth'],df_ref_ver['pwidth'],df_farm['pwidth'] ]\n",
    "i=0\n",
    "for dataset in datasets3[0:4]:\n",
    "    dataset.plot(kind=\"hist\",fill=True,alpha=0.2,histtype='step',label=dataset_labels[i])\n",
    "    #print('%10s %1.2f ' % (datasets_labels[i],p))\n",
    "    i+=1\n",
    "plt.legend()\n",
    "#plt.show()\n",
    "plt.subplot(2,2,4)\n",
    "plt.title('Petal Length')\n",
    "datasets4 = [df_ref_set['plength'],df_ref_vir['plength'],df_ref_ver['plength'],df_farm['plength'] ]\n",
    "i=0\n",
    "for dataset in datasets4[0:4]:\n",
    "    dataset.plot(kind=\"hist\",fill=True,alpha=0.2,histtype='step',label=dataset_labels[i])\n",
    "    #print('%10s %1.2f ' % (datasets_labels[i],p))\n",
    "    i+=1\n",
    "plt.legend()\n",
    "plt.show()"
   ]
  },
  {
   "cell_type": "markdown",
   "metadata": {
    "application/vnd.databricks.v1+cell": {
     "cellMetadata": {},
     "inputWidgets": {},
     "nuid": "98e92e70-a81e-41d6-b4f8-736a3c480684",
     "showTitle": false,
     "tableResultSettingsMap": {},
     "title": ""
    },
    "id": "y-gkxYkrEKiD"
   },
   "source": [
    "While the 3 known species seem the differ a bit from each other concerning the four characteristics, the sample from the farmers field seem to not strongly differ from any of known species however one can clearly see that it might be a mix of all species."
   ]
  },
  {
   "cell_type": "code",
   "execution_count": 0,
   "metadata": {
    "application/vnd.databricks.v1+cell": {
     "cellMetadata": {},
     "inputWidgets": {},
     "nuid": "df1db734-8058-4d7d-a66b-e3a133b1c37d",
     "showTitle": false,
     "tableResultSettingsMap": {},
     "title": ""
    },
    "colab": {
     "base_uri": "https://localhost:8080/",
     "height": 449
    },
    "id": "Vf-8_mrTEKiD",
    "outputId": "17886357-d4e9-423b-c2e1-367c2bf752d5"
   },
   "outputs": [],
   "source": [
    "plt.subplot(1,1,1)\n",
    "plt.scatter(df_ref_set['plength'],df_ref_set['pwidth'],c='b',label='Setosa')\n",
    "plt.scatter(df_ref_vir['plength'],df_ref_vir['pwidth'],c='g',label='Virginica')\n",
    "plt.scatter(df_ref_ver['plength'],df_ref_ver['pwidth'],c='r',label='Versicolor')\n",
    "plt.scatter(df_farm['plength'],df_farm['pwidth'],c='purple',label='Farmer')\n",
    "plt.xlabel('plength')\n",
    "plt.ylabel('pwidth')\n",
    "plt.legend()\n",
    "plt.show()"
   ]
  },
  {
   "cell_type": "markdown",
   "metadata": {
    "application/vnd.databricks.v1+cell": {
     "cellMetadata": {},
     "inputWidgets": {},
     "nuid": "b9ab54d1-1cf9-469a-86f0-21034c1aed03",
     "showTitle": false,
     "tableResultSettingsMap": {},
     "title": ""
    },
    "id": "D50xds2PEKiE"
   },
   "source": [
    "Take a look at the sepal version of the plot, too."
   ]
  },
  {
   "cell_type": "code",
   "execution_count": 0,
   "metadata": {
    "application/vnd.databricks.v1+cell": {
     "cellMetadata": {},
     "inputWidgets": {},
     "nuid": "ce1815db-2140-4cef-9d44-d557d6685ef6",
     "showTitle": false,
     "tableResultSettingsMap": {},
     "title": ""
    },
    "colab": {
     "base_uri": "https://localhost:8080/",
     "height": 452
    },
    "id": "g_QcrbI_EKiE",
    "outputId": "861fbc6c-8b9a-4720-842c-4969cae8b8dc"
   },
   "outputs": [],
   "source": [
    "plt.subplot(1,1,1)\n",
    "plt.scatter(df_ref_set['slength'],df_ref_set['swidth'],c='b',label='Setosa')\n",
    "plt.scatter(df_ref_vir['slength'],df_ref_vir['swidth'],c='g',label='Virginica')\n",
    "plt.scatter(df_ref_ver['slength'],df_ref_ver['swidth'],c='r',label='Versicolor')\n",
    "plt.scatter(df_farm['slength'],df_farm['swidth'],c='purple',label='Farmer')\n",
    "plt.xlabel('slength')\n",
    "plt.ylabel('swidth')\n",
    "plt.legend()\n",
    "plt.show()"
   ]
  },
  {
   "cell_type": "markdown",
   "metadata": {
    "application/vnd.databricks.v1+cell": {
     "cellMetadata": {},
     "inputWidgets": {},
     "nuid": "828ddc8a-1757-4a8e-b27b-c60e527e4a06",
     "showTitle": false,
     "tableResultSettingsMap": {},
     "title": ""
    },
    "id": "rDDPBDaUEKiE"
   },
   "source": [
    "Also here the characteristics of the sample from the farm does not seem to fall out of the range of the reference samples\n"
   ]
  },
  {
   "cell_type": "markdown",
   "metadata": {
    "application/vnd.databricks.v1+cell": {
     "cellMetadata": {},
     "inputWidgets": {},
     "nuid": "8bb7681e-5168-4eae-9a28-2764f37d488e",
     "showTitle": false,
     "tableResultSettingsMap": {},
     "title": ""
    },
    "id": "saM7Zd4uEKiG"
   },
   "source": [
    "## 3. Test the hypothesis"
   ]
  },
  {
   "cell_type": "markdown",
   "metadata": {
    "application/vnd.databricks.v1+cell": {
     "cellMetadata": {},
     "inputWidgets": {},
     "nuid": "23cc7688-d07b-400f-83f8-ecf757ec97e4",
     "showTitle": false,
     "tableResultSettingsMap": {},
     "title": ""
    },
    "id": "I-7J1YmyEKiB"
   },
   "source": [
    "**Check normality**"
   ]
  },
  {
   "cell_type": "markdown",
   "metadata": {
    "application/vnd.databricks.v1+cell": {
     "cellMetadata": {},
     "inputWidgets": {},
     "nuid": "e3d6e4bf-9227-4143-b894-261bccfc77e4",
     "showTitle": false,
     "tableResultSettingsMap": {},
     "title": ""
    },
    "id": "Z6G0aWwcBcyR"
   },
   "source": [
    "First we consider *swidth*"
   ]
  },
  {
   "cell_type": "code",
   "execution_count": 0,
   "metadata": {
    "application/vnd.databricks.v1+cell": {
     "cellMetadata": {},
     "inputWidgets": {},
     "nuid": "2feffd11-4ad4-4eb5-b6c8-18b4d8b49527",
     "showTitle": false,
     "tableResultSettingsMap": {},
     "title": ""
    },
    "colab": {
     "base_uri": "https://localhost:8080/"
    },
    "id": "eAwK3531EKiB",
    "outputId": "94d2d507-776d-4abe-b511-3cf9539c60ea"
   },
   "outputs": [],
   "source": [
    "print('p-values from the normality tests on the setal width (D Agostino-Pearson):')\n",
    "datasets        = [df_ref_set['swidth'],df_ref_vir['swidth'],df_ref_ver['swidth'],df_farm['swidth'] ]\n",
    "dataset_labels = ['Setosa','Virginica','Versicolor','Farmer']\n",
    "i = 0\n",
    "for dataset in datasets:\n",
    "  k2, p = stats.normaltest(dataset) # D Agostino-Pearson\n",
    "  print('%10s %1.2f ' % (dataset_labels[i],p))\n",
    "  i+=1"
   ]
  },
  {
   "cell_type": "markdown",
   "metadata": {
    "application/vnd.databricks.v1+cell": {
     "cellMetadata": {},
     "inputWidgets": {},
     "nuid": "7a2fa861-2caa-418f-8077-b9442eb86702",
     "showTitle": false,
     "tableResultSettingsMap": {},
     "title": ""
    },
    "id": "EqRqZ65nBlGH"
   },
   "source": [
    "*slength*"
   ]
  },
  {
   "cell_type": "code",
   "execution_count": 0,
   "metadata": {
    "application/vnd.databricks.v1+cell": {
     "cellMetadata": {},
     "inputWidgets": {},
     "nuid": "27ac2079-e7fe-4a05-91a3-6d9b65040643",
     "showTitle": false,
     "tableResultSettingsMap": {},
     "title": ""
    },
    "colab": {
     "base_uri": "https://localhost:8080/"
    },
    "id": "uvQkWf6xBksV",
    "outputId": "1f067c25-52d6-4785-9897-8fe116b88f3f"
   },
   "outputs": [],
   "source": [
    "print('p-values from the normality tests on the setal width (D Agostino-Pearson):')\n",
    "datasets        = [df_ref_set['slength'],df_ref_vir['slength'],df_ref_ver['slength'],df_farm['slength'] ]\n",
    "dataset_labels = ['Setosa','Virginica','Versicolor','Farmer']\n",
    "i = 0\n",
    "for dataset in datasets:\n",
    "  k2, p = stats.normaltest(dataset) # D Agostino-Pearson\n",
    "  print('%10s %1.2f ' % (dataset_labels[i],p))\n",
    "  i+=1"
   ]
  },
  {
   "cell_type": "markdown",
   "metadata": {
    "application/vnd.databricks.v1+cell": {
     "cellMetadata": {},
     "inputWidgets": {},
     "nuid": "f7a99a4f-290d-4bf0-8e04-106b7df0af9e",
     "showTitle": false,
     "tableResultSettingsMap": {},
     "title": ""
    },
    "id": "d3XNyEPrCC3I"
   },
   "source": [
    "*plength*"
   ]
  },
  {
   "cell_type": "code",
   "execution_count": 0,
   "metadata": {
    "application/vnd.databricks.v1+cell": {
     "cellMetadata": {},
     "inputWidgets": {},
     "nuid": "d50ade60-946e-4916-9dbe-9a6717454c96",
     "showTitle": false,
     "tableResultSettingsMap": {},
     "title": ""
    },
    "colab": {
     "base_uri": "https://localhost:8080/"
    },
    "id": "9d80jJbtB1jR",
    "outputId": "874a0e9d-766a-49e8-fc9f-08a1e3720029"
   },
   "outputs": [],
   "source": [
    "print('p-values from the normality tests on the setal width (D Agostino-Pearson):')\n",
    "datasets        = [df_ref_set['plength'],df_ref_vir['plength'],df_ref_ver['plength'],df_farm['plength'] ]\n",
    "dataset_labels = ['Setosa','Virginica','Versicolor','Farmer']\n",
    "i = 0\n",
    "for dataset in datasets:\n",
    "  k2, p = stats.normaltest(dataset) # D Agostino-Pearson\n",
    "  print('%10s %1.2f ' % (dataset_labels[i],p))\n",
    "  i+=1"
   ]
  },
  {
   "cell_type": "markdown",
   "metadata": {
    "application/vnd.databricks.v1+cell": {
     "cellMetadata": {},
     "inputWidgets": {},
     "nuid": "a2ff6018-8e38-454b-83c1-2646178d1bef",
     "showTitle": false,
     "tableResultSettingsMap": {},
     "title": ""
    },
    "id": "cascJ89cBxl9"
   },
   "source": [
    "*pwidth*"
   ]
  },
  {
   "cell_type": "code",
   "execution_count": 0,
   "metadata": {
    "application/vnd.databricks.v1+cell": {
     "cellMetadata": {},
     "inputWidgets": {},
     "nuid": "c1ea1eda-a647-4333-bd8a-4eb1475ab4c7",
     "showTitle": false,
     "tableResultSettingsMap": {},
     "title": ""
    },
    "colab": {
     "base_uri": "https://localhost:8080/"
    },
    "id": "_xAY8OpiCLjc",
    "outputId": "d15ede27-641a-4bfe-f1f2-f99087d6e4fd"
   },
   "outputs": [],
   "source": [
    "print('p-values from the normality tests on the setal width (D Agostino-Pearson):')\n",
    "datasets        = [df_ref_set['pwidth'],df_ref_vir['pwidth'],df_ref_ver['pwidth'],df_farm['pwidth'] ]\n",
    "dataset_labels = ['Setosa','Virginica','Versicolor','Farmer']\n",
    "i = 0\n",
    "for dataset in datasets:\n",
    "  k2, p = stats.normaltest(dataset) # D Agostino-Pearson\n",
    "  print('%10s %1.2f ' % (dataset_labels[i],p))\n",
    "  i+=1"
   ]
  },
  {
   "cell_type": "markdown",
   "metadata": {
    "application/vnd.databricks.v1+cell": {
     "cellMetadata": {},
     "inputWidgets": {},
     "nuid": "38dbf7e2-29b0-4e27-89be-f0c25ada57de",
     "showTitle": false,
     "tableResultSettingsMap": {},
     "title": ""
    },
    "id": "rmrmY1eqEKiG"
   },
   "source": [
    "The normality test looks fine for *slength* and *swidth*, however for *plength* and *pwidth* the normality assumption for the farmers sample is violated.\n",
    "So techinally we could use test's suited for normalitly when considering *slength* and *swidth*. However, when trying to submit a paper it's often tedious to argue why some tests are parametric and some are not. Thus, we just use nonparametric tests here. Moreover, the Q-Q-Plots do also not look ideal.\n"
   ]
  },
  {
   "cell_type": "code",
   "execution_count": 0,
   "metadata": {
    "application/vnd.databricks.v1+cell": {
     "cellMetadata": {},
     "inputWidgets": {},
     "nuid": "07d7f068-1e22-46ad-b95d-b14bae37975f",
     "showTitle": false,
     "tableResultSettingsMap": {},
     "title": ""
    },
    "colab": {
     "base_uri": "https://localhost:8080/",
     "height": 886
    },
    "id": "4_IWcZLwDPPr",
    "outputId": "4c4de8a9-2003-4ea5-fc14-6079b0f3f857"
   },
   "outputs": [],
   "source": [
    "import statsmodels.api as sm\n",
    "fig=sm.qqplot(df_farm['pwidth'], line='s' )\n",
    "sm.qqplot(df_farm['plength'], line='s')\n",
    "plt.show()"
   ]
  },
  {
   "cell_type": "markdown",
   "metadata": {
    "application/vnd.databricks.v1+cell": {
     "cellMetadata": {},
     "inputWidgets": {},
     "nuid": "162848db-7b47-4db1-b52f-95e6925ce7ce",
     "showTitle": false,
     "tableResultSettingsMap": {},
     "title": ""
    },
    "id": "4AJ1x7eFEJ8U"
   },
   "source": [
    "Yesterday's slides suggest that we could perfom a Kruskal-Wallis test to test the hypothesis that the four groups don't differ. We have to do this for each characteristic separately. I'll illustrate the proccedure with *plength*"
   ]
  },
  {
   "cell_type": "code",
   "execution_count": 0,
   "metadata": {
    "application/vnd.databricks.v1+cell": {
     "cellMetadata": {},
     "inputWidgets": {},
     "nuid": "81f3ebe8-1a73-44e7-8e94-504257b4eaac",
     "showTitle": false,
     "tableResultSettingsMap": {},
     "title": ""
    },
    "colab": {
     "base_uri": "https://localhost:8080/"
    },
    "id": "3Wg0X1vcEKiH",
    "outputId": "464a9a44-5d2a-4129-fd8a-0305fdf7195d"
   },
   "outputs": [],
   "source": [
    "stats.kruskal(df_ref_set['plength'],df_ref_vir['plength'], df_ref_ver['plength'], df_farm['plength'])"
   ]
  },
  {
   "cell_type": "markdown",
   "metadata": {
    "application/vnd.databricks.v1+cell": {
     "cellMetadata": {},
     "inputWidgets": {},
     "nuid": "f1e846f2-4d16-4a3f-8843-6831fd251c16",
     "showTitle": false,
     "tableResultSettingsMap": {},
     "title": ""
    },
    "id": "4kDNh9LWEKiH"
   },
   "source": [
    "Unfortunately, the p-value is very small so that we reject the null hypothesis that the four groups do not differ. But we need to be careful. The reason for the p-value to be significant could be due to the fact that, for example, setosa differs from virginica. So let us perform paired test between setosa and the farmers sample to be sure. For us it makes sense to use two-sided Mann Whitney U tests."
   ]
  },
  {
   "cell_type": "code",
   "execution_count": 0,
   "metadata": {
    "application/vnd.databricks.v1+cell": {
     "cellMetadata": {},
     "inputWidgets": {},
     "nuid": "ac772584-f9d3-46f3-b150-3fac73680c9f",
     "showTitle": false,
     "tableResultSettingsMap": {},
     "title": ""
    },
    "colab": {
     "base_uri": "https://localhost:8080/"
    },
    "id": "SC9BU7rBEKiH",
    "outputId": "145ce260-d2ea-41db-fe7c-510feace1754"
   },
   "outputs": [],
   "source": [
    "stats.mannwhitneyu(df_ref_set['plength'],df_farm['plength'], alternative='two-sided')"
   ]
  },
  {
   "cell_type": "markdown",
   "metadata": {
    "application/vnd.databricks.v1+cell": {
     "cellMetadata": {},
     "inputWidgets": {},
     "nuid": "12fe2ae9-dc6f-48ee-84b3-e3ca0aadd77d",
     "showTitle": false,
     "tableResultSettingsMap": {},
     "title": ""
    },
    "id": "QEsybRr4Gurx"
   },
   "source": [
    "The p-value is very small. Does this mean that there did indeed a mutation take place?\n",
    "\n",
    "Let's quickly think about whether this is actually a fair comparison. We said in the beginning that the farmers data is a random mix of all species. So actually the significant p-values could be due to us comparing some setosa samples to virginca samples because the farmer had chosen many virginica samples by chance. So let us make our comparison more fair. To this end we try to make a very simple filter to get the setosa samples from the farmers sample."
   ]
  },
  {
   "cell_type": "markdown",
   "metadata": {
    "application/vnd.databricks.v1+cell": {
     "cellMetadata": {},
     "inputWidgets": {},
     "nuid": "5bf86fca-51d3-4806-8171-054646146507",
     "showTitle": false,
     "tableResultSettingsMap": {},
     "title": ""
    },
    "id": "mQcNgT4-I0vK"
   },
   "source": [
    "# 4. Filter the farmer data"
   ]
  },
  {
   "cell_type": "code",
   "execution_count": 0,
   "metadata": {
    "application/vnd.databricks.v1+cell": {
     "cellMetadata": {},
     "inputWidgets": {},
     "nuid": "a2afae7a-2558-41aa-b024-9d4a0d02f099",
     "showTitle": false,
     "tableResultSettingsMap": {},
     "title": ""
    },
    "colab": {
     "base_uri": "https://localhost:8080/",
     "height": 449
    },
    "id": "BAf7cgbtH5Bw",
    "outputId": "4bf30071-09da-413f-d641-cdb5b9321b80"
   },
   "outputs": [],
   "source": [
    "plt.subplot(1,1,1)\n",
    "plt.scatter(df_ref_set['plength'],df_ref_set['pwidth'],c='b',label='Setosa')\n",
    "plt.scatter(df_ref_vir['plength'],df_ref_vir['pwidth'],c='g',label='Virginica')\n",
    "plt.scatter(df_ref_ver['plength'],df_ref_ver['pwidth'],c='r',label='Versicolor')\n",
    "plt.xlabel('plength')\n",
    "plt.ylabel('pwidth')\n",
    "plt.legend()\n",
    "plt.show()"
   ]
  },
  {
   "cell_type": "markdown",
   "metadata": {
    "application/vnd.databricks.v1+cell": {
     "cellMetadata": {},
     "inputWidgets": {},
     "nuid": "e73d33b2-a488-496b-a4ec-dcc8bcef1899",
     "showTitle": false,
     "tableResultSettingsMap": {},
     "title": ""
    },
    "id": "25FRDS0lH5Bw"
   },
   "source": [
    "A discrimination should work very well. However, we don't see the full distribution and this is just by eye. I will take a look at the sepal version of the plot, too."
   ]
  },
  {
   "cell_type": "code",
   "execution_count": 0,
   "metadata": {
    "application/vnd.databricks.v1+cell": {
     "cellMetadata": {},
     "inputWidgets": {},
     "nuid": "bd59d72a-5ae7-4587-86e8-da01876b6f50",
     "showTitle": false,
     "tableResultSettingsMap": {},
     "title": ""
    },
    "colab": {
     "base_uri": "https://localhost:8080/",
     "height": 452
    },
    "id": "NSK5LkgxH5Bx",
    "outputId": "e7b02821-540f-4883-deed-51bcd9b81e80"
   },
   "outputs": [],
   "source": [
    "plt.subplot(1,1,1)\n",
    "plt.scatter(df_ref_set['slength'],df_ref_set['swidth'],c='b',label='Setosa')\n",
    "plt.scatter(df_ref_vir['slength'],df_ref_vir['swidth'],c='g',label='Virginica')\n",
    "plt.scatter(df_ref_ver['slength'],df_ref_ver['swidth'],c='r',label='Versicolor')\n",
    "plt.xlabel('slength')\n",
    "plt.ylabel('swidth')\n",
    "plt.legend()\n",
    "plt.show()"
   ]
  },
  {
   "cell_type": "markdown",
   "metadata": {
    "application/vnd.databricks.v1+cell": {
     "cellMetadata": {},
     "inputWidgets": {},
     "nuid": "42beef00-8839-4617-90c8-50b0958ca094",
     "showTitle": false,
     "tableResultSettingsMap": {},
     "title": ""
    },
    "id": "SjbYpjI7H5Bx"
   },
   "source": [
    "Also here a good separation seems easy by using a line. Fitting a line which best separates between two samples belongs to Module 3. Here we will choose by eye two cuts in the petal plane and estimate the efficiency of the filter by using generated values from fitted models."
   ]
  },
  {
   "cell_type": "markdown",
   "metadata": {
    "application/vnd.databricks.v1+cell": {
     "cellMetadata": {},
     "inputWidgets": {},
     "nuid": "96b79ae4-136d-4627-89ee-548e9a98d3ec",
     "showTitle": false,
     "tableResultSettingsMap": {},
     "title": ""
    },
    "id": "oOBtFf9AH5Bx"
   },
   "source": [
    "### Filtering out Setosa from the farmer sample"
   ]
  },
  {
   "cell_type": "markdown",
   "metadata": {
    "application/vnd.databricks.v1+cell": {
     "cellMetadata": {},
     "inputWidgets": {},
     "nuid": "66f8cbb7-b89d-4187-ac49-f82a47c753a8",
     "showTitle": false,
     "tableResultSettingsMap": {},
     "title": ""
    },
    "id": "glVIqsVLH5Bx"
   },
   "source": [
    "Let us fit normal distributions to the reference samples. Then generate 100 000 rows with these distributions, plot the scatter plots with this simulated data, define the fitering cuts and calculate the efficiency of our filter."
   ]
  },
  {
   "cell_type": "code",
   "execution_count": 0,
   "metadata": {
    "application/vnd.databricks.v1+cell": {
     "cellMetadata": {},
     "inputWidgets": {},
     "nuid": "de43cbb1-57b9-4a6d-8466-ab45ed9ebf4a",
     "showTitle": false,
     "tableResultSettingsMap": {},
     "title": ""
    },
    "colab": {
     "base_uri": "https://localhost:8080/",
     "height": 449
    },
    "id": "E4s4q5D9H5By",
    "outputId": "5bcba7ce-6214-48f1-cf33-84ff64924547"
   },
   "outputs": [],
   "source": [
    "import scipy\n",
    "mean, sd = scipy.stats.norm.fit(df_ref_set['plength'])\n",
    "df_gen_pl_set = scipy.stats.norm.rvs(mean,sd,100000)\n",
    "mean, sd = scipy.stats.norm.fit(df_ref_set['pwidth'])\n",
    "df_gen_pw_set = scipy.stats.norm.rvs(mean,sd,100000)\n",
    "\n",
    "mean, sd = scipy.stats.norm.fit(df_ref_vir['plength'])\n",
    "df_gen_pl_vir = scipy.stats.norm.rvs(mean,sd,100000)\n",
    "mean, sd = scipy.stats.norm.fit(df_ref_vir['pwidth'])\n",
    "df_gen_pw_vir = scipy.stats.norm.rvs(mean,sd,100000)\n",
    "\n",
    "mean, sd = scipy.stats.norm.fit(df_ref_ver['plength'])\n",
    "df_gen_pl_ver = scipy.stats.norm.rvs(mean,sd,100000)\n",
    "mean, sd = scipy.stats.norm.fit(df_ref_ver['pwidth'])\n",
    "df_gen_pw_ver = scipy.stats.norm.rvs(mean,sd,100000)\n",
    "\n",
    "plt.subplot(1,1,1)\n",
    "plt.scatter(df_gen_pl_set,df_gen_pw_set,c='b',label='Setosa')\n",
    "plt.scatter(df_gen_pl_vir,df_gen_pw_vir,c='g',label='Virginiga')\n",
    "plt.scatter(df_gen_pl_ver,df_gen_pw_ver,c='r',label='Versicolor')\n",
    "plt.xlabel('plength')\n",
    "plt.ylabel('pwidth')\n",
    "plt.legend()\n",
    "plt.show()"
   ]
  },
  {
   "cell_type": "markdown",
   "metadata": {
    "application/vnd.databricks.v1+cell": {
     "cellMetadata": {},
     "inputWidgets": {},
     "nuid": "f5b74efe-b6a4-498a-98d2-e49045c41a5d",
     "showTitle": false,
     "tableResultSettingsMap": {},
     "title": ""
    },
    "id": "83brdBSJH5By"
   },
   "source": [
    "**Filter choice:** plength<2.5 and pwidth<1.0\n",
    "    \n",
    "**Filter efficiency:**\n",
    "- Setosa 1.0 (100%)\n",
    "- Virginica 0.0\n",
    "- Versicolor 0.0"
   ]
  },
  {
   "cell_type": "markdown",
   "metadata": {
    "application/vnd.databricks.v1+cell": {
     "cellMetadata": {},
     "inputWidgets": {},
     "nuid": "7552c896-d23d-42fe-b68d-4d27ccf95e46",
     "showTitle": false,
     "tableResultSettingsMap": {},
     "title": ""
    },
    "id": "Dai6a2aSH5By"
   },
   "source": [
    "### Filter the farmer data"
   ]
  },
  {
   "cell_type": "code",
   "execution_count": 0,
   "metadata": {
    "application/vnd.databricks.v1+cell": {
     "cellMetadata": {},
     "inputWidgets": {},
     "nuid": "9409d682-c764-4e70-a7a1-dbb6a3b3d1a6",
     "showTitle": false,
     "tableResultSettingsMap": {},
     "title": ""
    },
    "colab": {
     "base_uri": "https://localhost:8080/",
     "height": 677
    },
    "id": "UAfIqv85H5Bz",
    "outputId": "0a3d0c47-8c68-4f49-eb2e-749bc9ec679a"
   },
   "outputs": [],
   "source": [
    "df_farm = df_farm.sort_values('slength')\n",
    "df_farm_set = df_farm[df_farm['plength'] < 2.5]\n",
    "df_farm_rest=df_farm[df_farm['plength'] >= 2.5]\n",
    "df_farm_set"
   ]
  },
  {
   "cell_type": "markdown",
   "metadata": {
    "application/vnd.databricks.v1+cell": {
     "cellMetadata": {},
     "inputWidgets": {},
     "nuid": "e846ed38-e044-433b-9bfa-cad0b378600a",
     "showTitle": false,
     "tableResultSettingsMap": {},
     "title": ""
    },
    "id": "vrBs3k4cJZXE"
   },
   "source": [
    "# 5. Back to tesing"
   ]
  },
  {
   "cell_type": "markdown",
   "metadata": {
    "application/vnd.databricks.v1+cell": {
     "cellMetadata": {},
     "inputWidgets": {},
     "nuid": "58797422-8c9c-4bbb-aad1-c0f635258b5b",
     "showTitle": false,
     "tableResultSettingsMap": {},
     "title": ""
    },
    "id": "eAzB8Q_TJdQs"
   },
   "source": [
    "Rerun the tests for the filtered data\n"
   ]
  },
  {
   "cell_type": "code",
   "execution_count": 0,
   "metadata": {
    "application/vnd.databricks.v1+cell": {
     "cellMetadata": {},
     "inputWidgets": {},
     "nuid": "2cca6554-17e4-4b1e-9146-e2a259c09250",
     "showTitle": false,
     "tableResultSettingsMap": {},
     "title": ""
    },
    "colab": {
     "base_uri": "https://localhost:8080/"
    },
    "id": "YvzqIEV_JqlB",
    "outputId": "84c55fba-0799-4b44-f2a2-cc42bdadd68e"
   },
   "outputs": [],
   "source": [
    "stats.mannwhitneyu(df_ref_set['plength'],df_farm_set['plength'], alternative='two-sided')"
   ]
  },
  {
   "cell_type": "markdown",
   "metadata": {
    "application/vnd.databricks.v1+cell": {
     "cellMetadata": {},
     "inputWidgets": {},
     "nuid": "b5f86ca9-56c5-4c6f-9da2-49dae4b1b956",
     "showTitle": false,
     "tableResultSettingsMap": {},
     "title": ""
    },
    "id": "NSBrSVmdJ3Y4"
   },
   "source": [
    "Now the p-value is not so small anymore. How about the other characteristics?"
   ]
  },
  {
   "cell_type": "code",
   "execution_count": 0,
   "metadata": {
    "application/vnd.databricks.v1+cell": {
     "cellMetadata": {},
     "inputWidgets": {},
     "nuid": "3381f3fa-d33e-48e7-9cd9-763d5421c075",
     "showTitle": false,
     "tableResultSettingsMap": {},
     "title": ""
    },
    "colab": {
     "base_uri": "https://localhost:8080/"
    },
    "id": "GxVjlpkKLYRv",
    "outputId": "bcb4fe28-1fb3-4596-fb3c-d0fae8405b04"
   },
   "outputs": [],
   "source": [
    "stats.mannwhitneyu(df_ref_set['pwidth'],df_farm_set['pwidth'], alternative='two-sided')"
   ]
  },
  {
   "cell_type": "code",
   "execution_count": 0,
   "metadata": {
    "application/vnd.databricks.v1+cell": {
     "cellMetadata": {},
     "inputWidgets": {},
     "nuid": "6f43d9c6-b361-4de0-bf57-74550a3ebe30",
     "showTitle": false,
     "tableResultSettingsMap": {},
     "title": ""
    },
    "colab": {
     "base_uri": "https://localhost:8080/"
    },
    "id": "KJqkJJAILYJX",
    "outputId": "350b221f-cd48-4dd2-9188-9fbeb24fa02d"
   },
   "outputs": [],
   "source": [
    "stats.mannwhitneyu(df_ref_set['slength'],df_farm_set['slength'], alternative='two-sided')"
   ]
  },
  {
   "cell_type": "code",
   "execution_count": 0,
   "metadata": {
    "application/vnd.databricks.v1+cell": {
     "cellMetadata": {},
     "inputWidgets": {},
     "nuid": "b2a625c1-04f3-4168-9898-d727155a4377",
     "showTitle": false,
     "tableResultSettingsMap": {},
     "title": ""
    },
    "colab": {
     "base_uri": "https://localhost:8080/"
    },
    "id": "5E8FQab4LX8c",
    "outputId": "14d8363a-8927-42a7-90ea-32a6754aa70d"
   },
   "outputs": [],
   "source": [
    "stats.mannwhitneyu(df_ref_set['swidth'],df_farm_set['swidth'], alternative='two-sided')"
   ]
  },
  {
   "cell_type": "markdown",
   "metadata": {
    "application/vnd.databricks.v1+cell": {
     "cellMetadata": {},
     "inputWidgets": {},
     "nuid": "1bbd7272-e7fc-4958-9982-9e9974a24d2c",
     "showTitle": false,
     "tableResultSettingsMap": {},
     "title": ""
    },
    "id": "JfpcidMQLkuI"
   },
   "source": [
    "Hence, we have no grounds to assume that setosa has mutated on the farmers field."
   ]
  },
  {
   "cell_type": "markdown",
   "metadata": {
    "application/vnd.databricks.v1+cell": {
     "cellMetadata": {},
     "inputWidgets": {},
     "nuid": "8243952b-65a1-4bfe-8b6c-9ffb2972d4de",
     "showTitle": false,
     "tableResultSettingsMap": {},
     "title": ""
    },
    "id": "V6JGSmJSEKiJ"
   },
   "source": [
    "## Conclusion\n",
    "\n",
    "Our data analysis cannot confirm the claim of v4setosa. There is absolutely no evidence for the claim in our independent study. We advice the court to judge for not guilty.\n",
    "\n",
    "(And we sent a very large bill which the looser v4setosa had to pay. v4setosa went bankrott and we cannot sleep anymore...)\n",
    "\n",
    "(of course there is grounds to be critical with our analysis. By filtering what we believed to be setosa samples from the farmers sample we might have removed the strongly mutated ones with our filter. Unfortunately, with what was presented to us, we either had the chance to filter and end up with the results in section 5, or not filter and end up with the results in section 3. Both are not ideal. Maybe some labels would be helpful.)\n"
   ]
  }
 ],
 "metadata": {
  "application/vnd.databricks.v1+notebook": {
   "computePreferences": null,
   "dashboards": [],
   "environmentMetadata": null,
   "inputWidgetPreferences": null,
   "language": "python",
   "notebookMetadata": {},
   "notebookName": "CAS-D4-StatisticsSummary",
   "widgets": {}
  },
  "colab": {
   "provenance": []
  },
  "kernelspec": {
   "display_name": "Python 3",
   "language": "python",
   "name": "python3"
  },
  "language_info": {
   "name": "python"
  }
 },
 "nbformat": 4,
 "nbformat_minor": 0
}
