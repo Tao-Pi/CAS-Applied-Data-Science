{
 "cells": [
  {
   "cell_type": "markdown",
   "metadata": {
    "application/vnd.databricks.v1+cell": {
     "cellMetadata": {},
     "inputWidgets": {},
     "nuid": "f31a699f-1008-4af1-b88a-3e6ea8b8c709",
     "showTitle": false,
     "tableResultSettingsMap": {},
     "title": ""
    },
    "id": "AXL8yqJa0bQg"
   },
   "source": [
    "<a href=\"https://colab.research.google.com/github/KGzB/CAS-Applied-Data-Science/blob/master/Module-2/CAS-D1-DescriptiveStatistics-Sol.ipynb\" target=\"_parent\"><img src=\"https://colab.research.google.com/assets/colab-badge.svg\" alt=\"Open In Colab\"/></a>"
   ]
  },
  {
   "cell_type": "markdown",
   "metadata": {
    "application/vnd.databricks.v1+cell": {
     "cellMetadata": {},
     "inputWidgets": {},
     "nuid": "e5f3b286-cb0d-4ca8-b2e6-268b7dd13db5",
     "showTitle": false,
     "tableResultSettingsMap": {},
     "title": ""
    },
    "id": "5t2xPoSCBN_Y"
   },
   "source": [
    "Notebook 1, Module 2, Statistical Inference for Data Science, CAS Applied Data Science, 2024-08-27, A. Mühlemann, University of Bern.\n",
    "\n",
    "*This notebook is based on the notebook by S. Haug and G. Conti from 2020*"
   ]
  },
  {
   "cell_type": "markdown",
   "metadata": {
    "application/vnd.databricks.v1+cell": {
     "cellMetadata": {},
     "inputWidgets": {},
     "nuid": "0c84fc97-4cd3-4603-b69d-153619497ac0",
     "showTitle": false,
     "tableResultSettingsMap": {},
     "title": ""
    },
    "id": "3dfWj8ypBN_b"
   },
   "source": [
    "\n",
    "# 1. Descriptive Statistics on Single Features\n",
    "\n"
   ]
  },
  {
   "cell_type": "markdown",
   "metadata": {
    "application/vnd.databricks.v1+cell": {
     "cellMetadata": {},
     "inputWidgets": {},
     "nuid": "4b06c36a-f6c5-44ac-a4ec-399a90ccd721",
     "showTitle": false,
     "tableResultSettingsMap": {},
     "title": ""
    },
    "id": "-xxxutTABN_b"
   },
   "source": [
    "**Goals**\n",
    "- Graphical preparation of the data\n",
    "- Calculate summary statistics\n"
   ]
  },
  {
   "cell_type": "markdown",
   "metadata": {
    "application/vnd.databricks.v1+cell": {
     "cellMetadata": {},
     "inputWidgets": {},
     "nuid": "3528847d-2b4b-4edd-ae8f-93a72dad0948",
     "showTitle": false,
     "tableResultSettingsMap": {},
     "title": ""
    },
    "id": "3ke1EHw5BN_c"
   },
   "source": [
    "First load the necessary libraries / modules."
   ]
  },
  {
   "cell_type": "code",
   "execution_count": 0,
   "metadata": {
    "application/vnd.databricks.v1+cell": {
     "cellMetadata": {},
     "inputWidgets": {},
     "nuid": "599a7638-ef9e-4758-8d73-aece38e69003",
     "showTitle": false,
     "tableResultSettingsMap": {},
     "title": ""
    },
    "id": "uND0_WeNBN_d"
   },
   "outputs": [],
   "source": [
    "# Load the needed python libraries by executing this python code (press ctrl enter)\n",
    "import numpy as np\n",
    "import scipy.stats\n",
    "import matplotlib.pyplot as plt\n",
    "import pandas as pd\n",
    "import io"
   ]
  },
  {
   "cell_type": "markdown",
   "metadata": {
    "application/vnd.databricks.v1+cell": {
     "cellMetadata": {},
     "inputWidgets": {},
     "nuid": "c7bcbcb1-9703-45b5-933f-fb837fe9e112",
     "showTitle": false,
     "tableResultSettingsMap": {},
     "title": ""
    },
    "id": "XvllAJhNBN_f"
   },
   "source": [
    "In this notebook we will look at a dataset about the effect of surface and vision on balance.\n",
    "\n",
    "The balance of subjects were observed on two different surfaces and for restricted and unrestricted vision.\n",
    "\n",
    "- *Subject*: id of subject-\n",
    "- *Sex*: male or female\n",
    "- *Age*: age in years\n",
    "- *Height*: height in cm\n",
    "- *Weight*:\tweight in kg\n",
    "-\t*Surface*: normal or foam\n",
    "- *Vision*:\teyes open, eyes closed, or closed dome\n",
    "-\t*CTSIB*: Qualitive measure of balance, 1 (stable) - 4 (unstable)\n",
    "\n",
    "I uploaded the dataset to Github so that we can read it directly from there."
   ]
  },
  {
   "cell_type": "code",
   "execution_count": 0,
   "metadata": {
    "application/vnd.databricks.v1+cell": {
     "cellMetadata": {},
     "inputWidgets": {},
     "nuid": "ba2eda1f-9229-4481-80d2-cdd97e9eb819",
     "showTitle": false,
     "tableResultSettingsMap": {},
     "title": ""
    },
    "colab": {
     "base_uri": "https://localhost:8080/",
     "height": 206
    },
    "id": "HpRHtBTwBN_f",
    "outputId": "98d1c0b9-64c2-46d4-ac72-33e2a0d1e5f9"
   },
   "outputs": [],
   "source": [
    "url = \"https://github.com/KGzB/CAS-Applied-Data-Science/blob/master/Module-2/balance.csv?raw=true\"\n",
    "df = pd.read_csv(url, sep=\";\")\n",
    "df.head() # Print the first five rows"
   ]
  },
  {
   "cell_type": "markdown",
   "metadata": {
    "application/vnd.databricks.v1+cell": {
     "cellMetadata": {},
     "inputWidgets": {},
     "nuid": "b5081ae7-13e5-4f68-85a1-70cbce4c473e",
     "showTitle": false,
     "tableResultSettingsMap": {},
     "title": ""
    },
    "id": "1uww2vBozF3N"
   },
   "source": [
    "## 1.1 Graphical Analyis\n",
    "### 1.1.1 Pie chart and bar plot (categorical variables)\n",
    "Pie charts are used to show proportions of a whole.\n",
    "\n",
    "We could, for example, ask ourselves about how the genders were represented in this study percentage-wise. When we look at the dataset more closely we can see that each participant participated in different experiments. Thus, it probably would make sense to first get a subdataframe with just the distinct individuals."
   ]
  },
  {
   "cell_type": "code",
   "execution_count": 0,
   "metadata": {
    "application/vnd.databricks.v1+cell": {
     "cellMetadata": {},
     "inputWidgets": {},
     "nuid": "0f2e6b89-bec5-47e9-8799-4127fe48d4d7",
     "showTitle": false,
     "tableResultSettingsMap": {},
     "title": ""
    },
    "colab": {
     "base_uri": "https://localhost:8080/",
     "height": 424
    },
    "id": "SyxSS1TAyiPI",
    "outputId": "4d9dbfdf-e49c-4890-92fb-707a9607ba73"
   },
   "outputs": [],
   "source": [
    "# Pie chart of the gender distribution\n",
    "participants = df[['Subject', 'Sex', 'Age', 'Height',\t'Weight']].drop_duplicates()\n",
    "participants.groupby('Sex').size().plot(kind='pie', autopct='%1.1f%%' ,ylabel=\"\")"
   ]
  },
  {
   "cell_type": "markdown",
   "metadata": {
    "application/vnd.databricks.v1+cell": {
     "cellMetadata": {},
     "inputWidgets": {},
     "nuid": "3106a96a-9ad9-4860-b9a5-0d97c3d109f3",
     "showTitle": false,
     "tableResultSettingsMap": {},
     "title": ""
    },
    "id": "2vSVaaCeMQfW"
   },
   "source": [
    "The problem with pie charts is that if there are many groups we tend missinterpret the pie slices (https://www.data-to-viz.com/caveat/pie.html). Thus, it often is reasonable sense to use a barplot instead."
   ]
  },
  {
   "cell_type": "code",
   "execution_count": 0,
   "metadata": {
    "application/vnd.databricks.v1+cell": {
     "cellMetadata": {},
     "inputWidgets": {},
     "nuid": "bd16d0e8-6fe1-4165-b5e0-ebfbc61052d3",
     "showTitle": false,
     "tableResultSettingsMap": {},
     "title": ""
    },
    "colab": {
     "base_uri": "https://localhost:8080/",
     "height": 467
    },
    "id": "pqal3Ss6Lm-4",
    "outputId": "315c3e0b-2811-427e-ba9e-b554c56941db"
   },
   "outputs": [],
   "source": [
    "# Barplot of the gender distribution\n",
    "participants.groupby('Sex').size().plot(kind='barh' ,xlabel=\"number of participants\")"
   ]
  },
  {
   "cell_type": "markdown",
   "metadata": {
    "application/vnd.databricks.v1+cell": {
     "cellMetadata": {},
     "inputWidgets": {},
     "nuid": "a0cf119f-a20d-422a-9f66-b89772aa2334",
     "showTitle": false,
     "tableResultSettingsMap": {},
     "title": ""
    },
    "id": "AXyM4d-GUgVU"
   },
   "source": [
    "## 1.1.2 Histogram (numerical variables)\n",
    "Histograms are used to display frequencies or proportions.\n",
    "\n",
    "To get a better idea about our participants we would like to look at their age distribution using a histogram."
   ]
  },
  {
   "cell_type": "code",
   "execution_count": 0,
   "metadata": {
    "application/vnd.databricks.v1+cell": {
     "cellMetadata": {},
     "inputWidgets": {},
     "nuid": "3355dd75-a71c-4573-8481-1c9646936cfc",
     "showTitle": false,
     "tableResultSettingsMap": {},
     "title": ""
    },
    "colab": {
     "base_uri": "https://localhost:8080/",
     "height": 452
    },
    "id": "3asExU9jBN_n",
    "outputId": "77720167-a997-4cc7-a8b3-2bd8944fe2b1"
   },
   "outputs": [],
   "source": [
    "# histogramm of age distibtion\n",
    "participants['Age'].plot(kind=\"hist\",fill=True,histtype='barstacked',title='Histogram', label=\"Age in years\", color= 'tab:blue')\n",
    "plt.show()"
   ]
  },
  {
   "cell_type": "markdown",
   "metadata": {
    "application/vnd.databricks.v1+cell": {
     "cellMetadata": {},
     "inputWidgets": {},
     "nuid": "3353a691-6811-4b5b-8108-fcf7c3caf5e4",
     "showTitle": false,
     "tableResultSettingsMap": {},
     "title": ""
    },
    "id": "gxgzY16oTasN"
   },
   "source": [
    "The authors mention\n",
    "\"for both males and females, ten older (more than 24 years old) and ten younger subjects were selected\".\n",
    "This can be seen in this histogramm (at least that when not considering the genders yet)"
   ]
  },
  {
   "cell_type": "markdown",
   "metadata": {
    "application/vnd.databricks.v1+cell": {
     "cellMetadata": {},
     "inputWidgets": {},
     "nuid": "bca0f78e-c180-48a7-92f6-aa2fcc0e6766",
     "showTitle": false,
     "tableResultSettingsMap": {},
     "title": ""
    },
    "id": "Ta0VdSbOKRKM"
   },
   "source": [
    "We could also check whether the is a difference in humidity depending on the number of people in the room."
   ]
  },
  {
   "cell_type": "code",
   "execution_count": 0,
   "metadata": {
    "application/vnd.databricks.v1+cell": {
     "cellMetadata": {},
     "inputWidgets": {},
     "nuid": "59b2d1aa-3072-4523-a99a-2e60a3851cc0",
     "showTitle": false,
     "tableResultSettingsMap": {},
     "title": ""
    },
    "colab": {
     "base_uri": "https://localhost:8080/",
     "height": 927
    },
    "id": "YDerjeIuKae6",
    "outputId": "fbee170c-2b3a-481b-9dce-5979b4f5ade7"
   },
   "outputs": [],
   "source": [
    "# get genders\n",
    "genders = df['Sex'].unique()\n",
    "\n",
    "# Create a histogram for each number of people\n",
    "for gender in genders:\n",
    "    subset = participants[participants['Sex'] == gender]\n",
    "    plt.hist(subset['Age'], alpha=0.7, color='blue')\n",
    "    plt.title(f\"Histogram for the {gender} participants\")\n",
    "    plt.xlim(15, 40) # make sure the all have the same x-axis\n",
    "    plt.xlabel('Age')\n",
    "    plt.ylabel('Frequency')\n",
    "    plt.show()"
   ]
  },
  {
   "cell_type": "markdown",
   "metadata": {
    "application/vnd.databricks.v1+cell": {
     "cellMetadata": {},
     "inputWidgets": {},
     "nuid": "5a8f1de7-99eb-4105-8fc4-b71c1b3c4a73",
     "showTitle": false,
     "tableResultSettingsMap": {},
     "title": ""
    },
    "id": "fH2NT1exXql8"
   },
   "source": [
    "### Kernel Density Estimation\n",
    "Kernel Density Estimation is a method for visualizing the distribution of a dataset by creating a smooth curve. An advantage of using KDE over a histogram is that it produces a continuous, smooth curve that is not dependent on the bin size. This can provide a clearer picture of the underlying data distribution, especially with smaller datasets, and can reveal multimodality (multiple peaks) that might be hidden by a histogram's fixed binning. Its primary drawback is that its appearance is highly dependent on a parameter called the \"bandwidth,\" which can be difficult to choose, and a poor choice can lead to a misleading representation of the data. *Please play around with the bandwidth to see its effect.*"
   ]
  },
  {
   "cell_type": "code",
   "execution_count": 0,
   "metadata": {
    "application/vnd.databricks.v1+cell": {
     "cellMetadata": {},
     "inputWidgets": {},
     "nuid": "d413df2b-2bc9-4267-a15d-7d17f26478bd",
     "showTitle": false,
     "tableResultSettingsMap": {},
     "title": ""
    },
    "colab": {
     "base_uri": "https://localhost:8080/",
     "height": 564
    },
    "id": "CZ-mkvGXYUhh",
    "outputId": "7a9f0491-9ba1-44a7-8799-547c9cc42f47"
   },
   "outputs": [],
   "source": [
    "import pandas as pd\n",
    "import numpy as np\n",
    "import matplotlib.pyplot as plt\n",
    "from sklearn.neighbors import KernelDensity\n",
    "\n",
    "age_data = participants['Age'].values.reshape(-1, 1)\n",
    "kde = KernelDensity(bandwidth=3.0, kernel='gaussian')\n",
    "kde.fit(age_data)\n",
    "\n",
    "# range for plotting\n",
    "age_range = np.linspace(participants['Age'].min() - 5, participants['Age'].max() + 5, 1000).reshape(-1, 1)\n",
    "\n",
    "# Get the density\n",
    "log_density_gaussian = kde.score_samples(age_range)\n",
    "density_gaussian = np.exp(log_density_gaussian)\n",
    "\n",
    "# Plot the KDE\n",
    "plt.figure(figsize=(10, 6))\n",
    "plt.plot(age_range, density_gaussian, label='Gaussian Kernel', color='blue', linewidth=2)\n",
    "\n",
    "# Add histogram\n",
    "plt.hist(participants['Age'], density=True, alpha=0.6, color='grey', label='Histogram of Data')\n",
    "\n",
    "plt.title('Kernel Density Estimation of Participant Age')\n",
    "plt.xlabel('Age')\n",
    "plt.ylabel('Density')\n",
    "plt.show()\n",
    "\n"
   ]
  },
  {
   "cell_type": "markdown",
   "metadata": {
    "application/vnd.databricks.v1+cell": {
     "cellMetadata": {},
     "inputWidgets": {},
     "nuid": "91b1891c-2b23-45a5-a283-215aabdd1077",
     "showTitle": false,
     "tableResultSettingsMap": {},
     "title": ""
    },
    "id": "EhcAE4mkbz5W"
   },
   "source": [
    "Try to draw the densities for the males and females in the same plot."
   ]
  },
  {
   "cell_type": "code",
   "execution_count": 0,
   "metadata": {
    "application/vnd.databricks.v1+cell": {
     "cellMetadata": {},
     "inputWidgets": {},
     "nuid": "935acfe1-27b2-48d2-8c00-a08de652fb8e",
     "showTitle": false,
     "tableResultSettingsMap": {},
     "title": ""
    },
    "colab": {
     "base_uri": "https://localhost:8080/",
     "height": 564
    },
    "id": "zjcjuhp9bzkI",
    "outputId": "1d8ef063-2a37-4ca4-c4a6-407b4ed6d925"
   },
   "outputs": [],
   "source": [
    "males = participants[participants['Sex'] == 'male']['Age'].values.reshape(-1, 1)\n",
    "females = participants[participants['Sex'] == 'female']['Age'].values.reshape(-1, 1)\n",
    "\n",
    "# plot range\n",
    "age_range = np.linspace(participants['Age'].min() - 5, participants['Age'].max() + 5, 1000).reshape(-1, 1)\n",
    "\n",
    "# fit males\n",
    "kde_males = KernelDensity(bandwidth=3.0, kernel='gaussian')\n",
    "kde_males.fit(males)\n",
    "log_density_males = kde_males.score_samples(age_range)\n",
    "density_males = np.exp(log_density_males)\n",
    "\n",
    "# fit females\n",
    "kde_females = KernelDensity(bandwidth=3.0, kernel='gaussian')\n",
    "kde_females.fit(females)\n",
    "log_density_females = kde_females.score_samples(age_range)\n",
    "density_females = np.exp(log_density_females)\n",
    "\n",
    "# Plot both KDE curves on the same plot\n",
    "plt.figure(figsize=(10, 6))\n",
    "plt.plot(age_range, density_males, label='Males', color='blue', linewidth=2)\n",
    "plt.plot(age_range, density_females, label='Females', color='red', linewidth=2)\n",
    "\n",
    "plt.title('KDE of Age by Gender')\n",
    "plt.xlabel('Age')\n",
    "plt.ylabel('Density')\n",
    "plt.legend()\n",
    "plt.show()"
   ]
  },
  {
   "cell_type": "markdown",
   "metadata": {
    "application/vnd.databricks.v1+cell": {
     "cellMetadata": {},
     "inputWidgets": {},
     "nuid": "2df49dbf-5b5b-4b67-835f-e01a635b86c9",
     "showTitle": false,
     "tableResultSettingsMap": {},
     "title": ""
    },
    "id": "9oS7mRrh7Aso"
   },
   "source": [
    "### 1.1.3 Scatter plot colored by gender (simulatneous description)\n",
    "\n",
    "Scatter plots use dots to represent values for two different numeric variables.\n",
    "\n",
    "For example, we could look at the species and one of the numerical characteristics simulatneously.\n",
    "\n",
    "It is reasonable to assume that taller people tend to be heavier. We would like to check whether this assumption is fulfilled in our dataset. To differentiate between the genders we can color the dots with respect to the genders."
   ]
  },
  {
   "cell_type": "code",
   "execution_count": 0,
   "metadata": {
    "application/vnd.databricks.v1+cell": {
     "cellMetadata": {},
     "inputWidgets": {},
     "nuid": "54797d27-5a3c-421c-9bfa-7b22cb069a96",
     "showTitle": false,
     "tableResultSettingsMap": {},
     "title": ""
    },
    "colab": {
     "base_uri": "https://localhost:8080/",
     "height": 490
    },
    "id": "Jo3ZQNgKUn90",
    "outputId": "975af4ca-d25f-4d94-99f7-828e56ddd96c"
   },
   "outputs": [],
   "source": [
    "# Create colors for genders\n",
    "colors = {'male': 'blue', 'female': 'red'}\n",
    "\n",
    "# Create a scatter plot\n",
    "for gender in participants['Sex'].unique():\n",
    "    subset = participants[participants['Sex'] == gender]\n",
    "    plt.scatter(subset['Height'], subset['Weight'], color=colors[gender], label=gender, s=100, alpha=0.7)\n",
    "\n",
    "# show plot\n",
    "plt.title('Height vs. Weight')\n",
    "plt.xlabel('Height')\n",
    "plt.ylabel('Weight')\n",
    "plt.legend(title='Gender')\n"
   ]
  },
  {
   "cell_type": "markdown",
   "metadata": {
    "application/vnd.databricks.v1+cell": {
     "cellMetadata": {},
     "inputWidgets": {},
     "nuid": "64d21f8e-0126-4b83-a9d2-818d7068afd8",
     "showTitle": false,
     "tableResultSettingsMap": {},
     "title": ""
    },
    "id": "Mph_PEaOw4ax"
   },
   "source": [
    "What can you see in this picture?"
   ]
  },
  {
   "cell_type": "markdown",
   "metadata": {
    "application/vnd.databricks.v1+cell": {
     "cellMetadata": {},
     "inputWidgets": {},
     "nuid": "352215f6-cf4f-492c-8ac9-f22b57f6dd0f",
     "showTitle": false,
     "tableResultSettingsMap": {},
     "title": ""
    },
    "id": "vheKqfRkBN_h"
   },
   "source": [
    "# 1.2 Numerical analysis\n",
    "\n",
    "# 1.2.1 Location\n",
    "\n",
    "Location measures are used to describe typical values of a variable. Best known are the mean and the median.\n"
   ]
  },
  {
   "cell_type": "code",
   "execution_count": 0,
   "metadata": {
    "application/vnd.databricks.v1+cell": {
     "cellMetadata": {},
     "inputWidgets": {},
     "nuid": "2c60e7a6-9e23-48e2-a3f8-81876ec406c7",
     "showTitle": false,
     "tableResultSettingsMap": {},
     "title": ""
    },
    "colab": {
     "base_uri": "https://localhost:8080/",
     "height": 178
    },
    "id": "xn3igNCgBN_i",
    "outputId": "ed308cdb-2c16-49ab-81d7-aac1c9a4b62c",
    "scrolled": true
   },
   "outputs": [],
   "source": [
    "# Mean of numerical variables on participants\n",
    "participants[['Age', 'Height',\t'Weight']].mean()"
   ]
  },
  {
   "cell_type": "markdown",
   "metadata": {
    "application/vnd.databricks.v1+cell": {
     "cellMetadata": {},
     "inputWidgets": {},
     "nuid": "1017bc03-cb71-48e1-835d-68c05d1a6e7f",
     "showTitle": false,
     "tableResultSettingsMap": {},
     "title": ""
    },
    "id": "KvTzObrCWHQ-"
   },
   "source": [
    "Maybe it would make sense to group by gender."
   ]
  },
  {
   "cell_type": "code",
   "execution_count": 0,
   "metadata": {
    "application/vnd.databricks.v1+cell": {
     "cellMetadata": {},
     "inputWidgets": {},
     "nuid": "6030dd00-4dc7-49f5-a916-af0899b8da8f",
     "showTitle": false,
     "tableResultSettingsMap": {},
     "title": ""
    },
    "colab": {
     "base_uri": "https://localhost:8080/",
     "height": 143
    },
    "id": "xK8QQTpNWNlU",
    "outputId": "12b484ef-ed98-4b52-df7c-afd19ac7a244"
   },
   "outputs": [],
   "source": [
    "grouped_participants = participants.groupby('Sex')\n",
    "grouped_participants[['Age', 'Height',\t'Weight']].mean()"
   ]
  },
  {
   "cell_type": "code",
   "execution_count": 0,
   "metadata": {
    "application/vnd.databricks.v1+cell": {
     "cellMetadata": {},
     "inputWidgets": {},
     "nuid": "9bc17046-ce4d-484e-9f3c-363aa336a90d",
     "showTitle": false,
     "tableResultSettingsMap": {},
     "title": ""
    },
    "colab": {
     "base_uri": "https://localhost:8080/",
     "height": 143
    },
    "id": "hN0LAK8BBN_i",
    "outputId": "d908787b-052d-4341-88e2-5cb74c547d14"
   },
   "outputs": [],
   "source": [
    "# Median of numerical variables on participants grouped by Sex\n",
    "grouped_participants[['Age', 'Height',\t'Weight']].median()"
   ]
  },
  {
   "cell_type": "markdown",
   "metadata": {
    "application/vnd.databricks.v1+cell": {
     "cellMetadata": {},
     "inputWidgets": {},
     "nuid": "f3bdd1a9-769e-47b7-be5b-e8a5e5a52662",
     "showTitle": false,
     "tableResultSettingsMap": {},
     "title": ""
    },
    "id": "ps0oDi4jBN_i"
   },
   "source": [
    "What do you notice when you compare the mean with the median?\n",
    "\n",
    "## 1.2.2 Spread\n",
    "\n",
    "Typical values are interesting but sometimes more information is needed. It is for example also of interest to see how spead the values are. Typical measures for the spread are the variance, standard deviation, inter quartile range, etc.\n"
   ]
  },
  {
   "cell_type": "code",
   "execution_count": 0,
   "metadata": {
    "application/vnd.databricks.v1+cell": {
     "cellMetadata": {},
     "inputWidgets": {},
     "nuid": "884f5679-8454-4b2d-89e9-d5c83dc16d34",
     "showTitle": false,
     "tableResultSettingsMap": {},
     "title": ""
    },
    "colab": {
     "base_uri": "https://localhost:8080/",
     "height": 143
    },
    "id": "t4S8mY8NBN_j",
    "outputId": "afaad451-d9ef-43a6-f101-78d8551eb791"
   },
   "outputs": [],
   "source": [
    "# Standard deviation of numerical variables on participants grouped by Sex\n",
    "grouped_participants[['Age', 'Height',\t'Weight']].std()"
   ]
  },
  {
   "cell_type": "markdown",
   "metadata": {
    "application/vnd.databricks.v1+cell": {
     "cellMetadata": {},
     "inputWidgets": {},
     "nuid": "c5bcc5f6-e7a9-4f33-ba14-ada10b5b742d",
     "showTitle": false,
     "tableResultSettingsMap": {},
     "title": ""
    },
    "id": "hDUlAN3FBN_j"
   },
   "source": [
    "Which variable has the most standard deviation? would you have expected that?\n",
    "\n",
    "We can also look at the IQR."
   ]
  },
  {
   "cell_type": "code",
   "execution_count": 0,
   "metadata": {
    "application/vnd.databricks.v1+cell": {
     "cellMetadata": {},
     "inputWidgets": {},
     "nuid": "13b20bff-7358-4c94-a085-ae7dda2e706f",
     "showTitle": false,
     "tableResultSettingsMap": {},
     "title": ""
    },
    "colab": {
     "base_uri": "https://localhost:8080/",
     "height": 178
    },
    "id": "xvXWq9WeBN_l",
    "outputId": "8abded5f-c15d-46f2-e9d0-9b4417200eed"
   },
   "outputs": [],
   "source": [
    "# IQR of Weight\n",
    "grouped_participants['Weight'].quantile(0.75)-grouped_participants['Weight'].quantile(0.25)\n"
   ]
  },
  {
   "cell_type": "markdown",
   "metadata": {
    "application/vnd.databricks.v1+cell": {
     "cellMetadata": {},
     "inputWidgets": {},
     "nuid": "e9ab1d22-59cd-41de-82ee-30fe41a3e4ea",
     "showTitle": false,
     "tableResultSettingsMap": {},
     "title": ""
    },
    "id": "yeR9yrw7BN_l"
   },
   "source": [
    "Compare the standard deviation of *Weight* with its IQR.\n"
   ]
  },
  {
   "cell_type": "markdown",
   "metadata": {
    "application/vnd.databricks.v1+cell": {
     "cellMetadata": {},
     "inputWidgets": {},
     "nuid": "2ede19de-ecb3-455c-989e-93fc31b1cded",
     "showTitle": false,
     "tableResultSettingsMap": {},
     "title": ""
    },
    "id": "p_pKE9fRBN_k"
   },
   "source": [
    "Alternatively, one can also get most of those measures with a single command:"
   ]
  },
  {
   "cell_type": "code",
   "execution_count": 0,
   "metadata": {
    "application/vnd.databricks.v1+cell": {
     "cellMetadata": {},
     "inputWidgets": {},
     "nuid": "c018232c-2906-4a19-b6a6-728979c26d22",
     "showTitle": false,
     "tableResultSettingsMap": {},
     "title": ""
    },
    "colab": {
     "base_uri": "https://localhost:8080/",
     "height": 204
    },
    "id": "hhJHnOl1BN_k",
    "outputId": "7bcb4f9e-65b8-4086-f8c1-3eefdeb10c20"
   },
   "outputs": [],
   "source": [
    "grouped_participants[['Age', 'Height',\t'Weight']].describe()"
   ]
  },
  {
   "cell_type": "markdown",
   "metadata": {
    "application/vnd.databricks.v1+cell": {
     "cellMetadata": {},
     "inputWidgets": {},
     "nuid": "39a84332-a3e2-44d0-8b96-d2fd6782fadc",
     "showTitle": false,
     "tableResultSettingsMap": {},
     "title": ""
    },
    "id": "qpMNEry6ygJe"
   },
   "source": [
    "However, this output is not very comprehensible. Here it makes more sense to consider only one species for the summary:"
   ]
  },
  {
   "cell_type": "code",
   "execution_count": 0,
   "metadata": {
    "application/vnd.databricks.v1+cell": {
     "cellMetadata": {},
     "inputWidgets": {},
     "nuid": "19e49043-062e-4486-a01f-738f7ea2dee7",
     "showTitle": false,
     "tableResultSettingsMap": {},
     "title": ""
    },
    "colab": {
     "base_uri": "https://localhost:8080/",
     "height": 143
    },
    "id": "gHiuAviVy2g9",
    "outputId": "85962624-e94b-4e10-951a-b72b3d2eb642"
   },
   "outputs": [],
   "source": [
    "grouped_participants['Weight'].describe()"
   ]
  },
  {
   "cell_type": "markdown",
   "metadata": {
    "application/vnd.databricks.v1+cell": {
     "cellMetadata": {},
     "inputWidgets": {},
     "nuid": "801280c7-caae-4db2-bf9e-75ea54c39816",
     "showTitle": false,
     "tableResultSettingsMap": {},
     "title": ""
    },
    "id": "Wdix4VdpBN_k"
   },
   "source": [
    "Do all these digits after the comma make sense?"
   ]
  },
  {
   "cell_type": "markdown",
   "metadata": {
    "application/vnd.databricks.v1+cell": {
     "cellMetadata": {},
     "inputWidgets": {},
     "nuid": "9f2c1652-6fe7-4a8a-8a85-572dba7cd3fe",
     "showTitle": false,
     "tableResultSettingsMap": {},
     "title": ""
    },
    "id": "PHpxH8YXBN_l"
   },
   "source": [
    "## 1.2.3 Shape\n",
    "\n",
    "Another measure that is often looked at is the shape of the distribution. The mostly used measures are the skewness and the kurtosis."
   ]
  },
  {
   "cell_type": "code",
   "execution_count": 0,
   "metadata": {
    "application/vnd.databricks.v1+cell": {
     "cellMetadata": {},
     "inputWidgets": {},
     "nuid": "d587d9cc-dad9-4b5f-a82a-45b2f47de937",
     "showTitle": false,
     "tableResultSettingsMap": {},
     "title": ""
    },
    "colab": {
     "base_uri": "https://localhost:8080/",
     "height": 143
    },
    "id": "pnAT-C8LBN_m",
    "outputId": "0de57fde-e6df-428a-f87a-5189e68c956d"
   },
   "outputs": [],
   "source": [
    "# Skew of numerical variables on participants grouped by Sex\n",
    "grouped_participants[['Age', 'Height',\t'Weight']].skew()"
   ]
  },
  {
   "cell_type": "markdown",
   "metadata": {
    "application/vnd.databricks.v1+cell": {
     "cellMetadata": {},
     "inputWidgets": {},
     "nuid": "5cf8a211-fae9-4a76-8a90-b5832eb273c8",
     "showTitle": false,
     "tableResultSettingsMap": {},
     "title": ""
    },
    "id": "Am0fE2_lZJCC"
   },
   "source": [
    "The skewness of *Height* is $<0$ for both genders. What does that mean?"
   ]
  },
  {
   "cell_type": "markdown",
   "metadata": {
    "application/vnd.databricks.v1+cell": {
     "cellMetadata": {},
     "inputWidgets": {},
     "nuid": "cc3f4d7c-1f9d-426f-86b4-ea5438958a6b",
     "showTitle": false,
     "tableResultSettingsMap": {},
     "title": ""
    },
    "id": "ESSMUOTzzNRJ"
   },
   "source": [
    "Now let us look at the kurtosis."
   ]
  },
  {
   "cell_type": "code",
   "execution_count": 0,
   "metadata": {
    "application/vnd.databricks.v1+cell": {
     "cellMetadata": {},
     "inputWidgets": {},
     "nuid": "f36069fd-ffe5-4d76-9350-4a3e89a6bdf0",
     "showTitle": false,
     "tableResultSettingsMap": {},
     "title": ""
    },
    "colab": {
     "base_uri": "https://localhost:8080/",
     "height": 143
    },
    "id": "nSsgKpEQBN_m",
    "outputId": "fc90ffd5-8a7d-4dab-ae84-251130d98718"
   },
   "outputs": [],
   "source": [
    "# Kurtosis of numerical variables on participants grouped by Sex\n",
    "grouped_participants[['Age', 'Height',\t'Weight']].apply(pd.DataFrame.kurt, numeric_only=True)"
   ]
  },
  {
   "cell_type": "markdown",
   "metadata": {
    "application/vnd.databricks.v1+cell": {
     "cellMetadata": {},
     "inputWidgets": {},
     "nuid": "92cd4926-2b32-459c-b1c2-97112099d2c7",
     "showTitle": false,
     "tableResultSettingsMap": {},
     "title": ""
    },
    "id": "M5F_R7A-Zebi"
   },
   "source": [
    "The idea behind the kurtosis is the following:\n",
    "Some numerical characteristics, when the sample size is large and the intervals are small, result in a histogram that resembles a Gaussian bell curve. In this case, the value of the kurtosis is close to zero. If the tails are heavier than you would expect for a Gaussian distribution the kurtosis will be substantially positive. If the tails are less heavy than you would expect for a Gaussian distribution the kurtosis will be negative.\n"
   ]
  },
  {
   "cell_type": "markdown",
   "metadata": {
    "application/vnd.databricks.v1+cell": {
     "cellMetadata": {},
     "inputWidgets": {},
     "nuid": "4de39bc6-a913-4333-af81-48984f16854e",
     "showTitle": false,
     "tableResultSettingsMap": {},
     "title": ""
    },
    "id": "KcdP5k5p3ml2"
   },
   "source": [
    "## 1.7 Outlook\n",
    "A often used example of a normal distribtion is the height distribtion in a population. Let us check, whether this could also be the case for our data set.\n",
    "\n",
    "When looking at hypothesis testing, we will see how to test this mathematically.\n",
    "\n",
    "Our model is a normal distribution with the mean and width taken from the dataset: **norm.pdf(x,mean,width)**."
   ]
  },
  {
   "cell_type": "code",
   "execution_count": 0,
   "metadata": {
    "application/vnd.databricks.v1+cell": {
     "cellMetadata": {},
     "inputWidgets": {},
     "nuid": "414b4ca3-7a3f-496b-9780-063b87fde8de",
     "showTitle": false,
     "tableResultSettingsMap": {},
     "title": ""
    },
    "colab": {
     "base_uri": "https://localhost:8080/",
     "height": 448
    },
    "id": "QrOQY6ubBN_p",
    "outputId": "b2491530-6f8f-44bb-cf24-49a6712acff6"
   },
   "outputs": [],
   "source": [
    "from scipy.stats import norm\n",
    "\n",
    "# Get mean and std from height\n",
    "\n",
    "mean  = participants['Height'].mean()\n",
    "std = participants['Height'].std()\n",
    "print(mean,std)\n",
    "\n",
    "# Create gaussian pdf\n",
    "xmin = participants['Height'].min()\n",
    "xmax = participants['Height'].max()\n",
    "x = np.linspace(xmin, xmax, 100)\n",
    "pdf = norm.pdf(x, mean, std)\n",
    "\n",
    "# Plot histogram\n",
    "plt.hist(participants['Height'], density=True, alpha=0.6, color='skyblue', edgecolor='black', label=' Histogram')\n",
    "plt.plot(x, pdf, 'r', linewidth=2, label='Normal Distribution')\n",
    "plt.show()"
   ]
  },
  {
   "cell_type": "markdown",
   "metadata": {
    "application/vnd.databricks.v1+cell": {
     "cellMetadata": {},
     "inputWidgets": {},
     "nuid": "bcd10480-e9b4-49ef-ba40-a675a89087c7",
     "showTitle": false,
     "tableResultSettingsMap": {},
     "title": ""
    },
    "id": "9oFpq7dSYZVd"
   },
   "source": [
    "What do you think?"
   ]
  },
  {
   "cell_type": "markdown",
   "metadata": {
    "application/vnd.databricks.v1+cell": {
     "cellMetadata": {},
     "inputWidgets": {},
     "nuid": "0d5610df-2dc6-4f1e-af7c-f19f8d8f2ef5",
     "showTitle": false,
     "tableResultSettingsMap": {},
     "title": ""
    },
    "id": "HWZjciel5AUV"
   },
   "source": [
    "# 2. Simultaneous Description of two Features"
   ]
  },
  {
   "cell_type": "markdown",
   "metadata": {
    "application/vnd.databricks.v1+cell": {
     "cellMetadata": {},
     "inputWidgets": {},
     "nuid": "d4eace1a-49f0-46f7-a961-a1e99e4fe306",
     "showTitle": false,
     "tableResultSettingsMap": {},
     "title": ""
    },
    "id": "TOGNGrrA54CW"
   },
   "source": [
    "In the first part of this notebook, we only looked at individual characteristics. For example, we calculated the mean *slength* of *iris setosa*. Of course, we did this simultaneously for all characteristics and species, but we never compared two characteristics directly. That is what we would like to do now."
   ]
  },
  {
   "cell_type": "markdown",
   "metadata": {
    "application/vnd.databricks.v1+cell": {
     "cellMetadata": {},
     "inputWidgets": {},
     "nuid": "5af42a59-c2d8-4cc6-9a47-484fbafe1a8d",
     "showTitle": false,
     "tableResultSettingsMap": {},
     "title": ""
    },
    "id": "T7WYGeJT59j6"
   },
   "source": [
    "## 2.1 Graphical Analysis\n",
    "\n",
    "### 2.1.1 Boxplots\n",
    "\n",
    "A boxplot is a graphical display of the minimum, maximum, and the 3 quartiles.\n",
    "\n",
    "We could for example look at the difference in balance scores depending on the surface the participants stand on. Let us first consider the case when the particiants view is not obstructed."
   ]
  },
  {
   "cell_type": "code",
   "execution_count": 0,
   "metadata": {
    "application/vnd.databricks.v1+cell": {
     "cellMetadata": {},
     "inputWidgets": {},
     "nuid": "5f7a35f2-d56c-4867-b8fb-3fee3e2699b4",
     "showTitle": false,
     "tableResultSettingsMap": {},
     "title": ""
    },
    "colab": {
     "base_uri": "https://localhost:8080/",
     "height": 448
    },
    "id": "HmXZmvCS5mTT",
    "outputId": "786d3cdd-816a-4f19-d810-e94501e84941"
   },
   "outputs": [],
   "source": [
    "# Boxplots of CTSIB-score for the two different surfaces.\n",
    "tmp = df[df['Vision']=='open'][['Surface', 'CTSIB']]\n",
    "tmp.pivot(columns='Surface', values='CTSIB').boxplot()"
   ]
  },
  {
   "cell_type": "markdown",
   "metadata": {
    "application/vnd.databricks.v1+cell": {
     "cellMetadata": {},
     "inputWidgets": {},
     "nuid": "287e2691-c57d-42b5-8ee4-594b405cab92",
     "showTitle": false,
     "tableResultSettingsMap": {},
     "title": ""
    },
    "id": "lWOvVmKPZYrg"
   },
   "source": [
    "Would you expect the boxplots to look like this? Inspect the dataset more closely.\n",
    "\n",
    "We could also look at the height distribution according to the genders."
   ]
  },
  {
   "cell_type": "code",
   "execution_count": 0,
   "metadata": {
    "application/vnd.databricks.v1+cell": {
     "cellMetadata": {},
     "inputWidgets": {},
     "nuid": "8326e76b-a78e-49de-a23d-fef0e5dd65d0",
     "showTitle": false,
     "tableResultSettingsMap": {},
     "title": ""
    },
    "colab": {
     "base_uri": "https://localhost:8080/",
     "height": 448
    },
    "id": "MQQZixCfZwG6",
    "outputId": "d48d49af-d658-47e7-9307-a0d9c70c92b4"
   },
   "outputs": [],
   "source": [
    "# Boxplots of height the genders.\n",
    "tmp = participants[['Sex', 'Height']]\n",
    "tmp.pivot(columns='Sex', values='Height').boxplot()"
   ]
  },
  {
   "cell_type": "markdown",
   "metadata": {
    "application/vnd.databricks.v1+cell": {
     "cellMetadata": {},
     "inputWidgets": {},
     "nuid": "13ad4a0e-079b-436f-8305-3fce5c52231c",
     "showTitle": false,
     "tableResultSettingsMap": {},
     "title": ""
    },
    "id": "qXmVK39e5nJs"
   },
   "source": [
    "### 2.1.2 Scatter matrix\n",
    "\n",
    "Now let us see whether some of the numerical infos on the participants correlate.  (https://pandas.pydata.org/pandas-docs/stable/generated/pandas.plotting.scatter_matrix.html)"
   ]
  },
  {
   "cell_type": "code",
   "execution_count": 0,
   "metadata": {
    "application/vnd.databricks.v1+cell": {
     "cellMetadata": {},
     "inputWidgets": {},
     "nuid": "7fa02302-13ec-4763-af15-ac88474a8886",
     "showTitle": false,
     "tableResultSettingsMap": {},
     "title": ""
    },
    "colab": {
     "base_uri": "https://localhost:8080/",
     "height": 457
    },
    "id": "Ga4qdeOyBN_o",
    "outputId": "1affe1f0-1862-496d-82a0-696002987f90"
   },
   "outputs": [],
   "source": [
    "from pandas.plotting import scatter_matrix\n",
    "scatter_matrix(participants[['Age','Height','Weight']], alpha=0.2, diagonal='hist')\n",
    "plt.show()"
   ]
  },
  {
   "cell_type": "markdown",
   "metadata": {
    "application/vnd.databricks.v1+cell": {
     "cellMetadata": {},
     "inputWidgets": {},
     "nuid": "54a4743f-34eb-465e-8d83-be6cbbfbc240",
     "showTitle": false,
     "tableResultSettingsMap": {},
     "title": ""
    },
    "id": "QzoWz7FEUcoj"
   },
   "source": [
    "As we would have assumed there is a positive correlation between height and weight."
   ]
  },
  {
   "cell_type": "markdown",
   "metadata": {
    "application/vnd.databricks.v1+cell": {
     "cellMetadata": {},
     "inputWidgets": {},
     "nuid": "3285dae7-1881-4378-af8d-1a2bdcd150d7",
     "showTitle": false,
     "tableResultSettingsMap": {},
     "title": ""
    },
    "id": "ZY2mdnccBN_m"
   },
   "source": [
    "## 2.2 Numerical Analyis\n",
    "\n",
    "### 2.3 Correlation\n",
    "To get more information on the correlation between two variables the correlation coefficient is calculated.\n",
    "\n",
    "Let's see whether the correlation coefficient does support this observation.\n",
    "\n",
    "**Caution**: correlation not equals causation!!\n"
   ]
  },
  {
   "cell_type": "code",
   "execution_count": 0,
   "metadata": {
    "application/vnd.databricks.v1+cell": {
     "cellMetadata": {},
     "inputWidgets": {},
     "nuid": "8a05d96c-92d9-4e5b-beb2-ee969930d218",
     "showTitle": false,
     "tableResultSettingsMap": {},
     "title": ""
    },
    "colab": {
     "base_uri": "https://localhost:8080/",
     "height": 143
    },
    "id": "s411Z4HHBN_m",
    "outputId": "c521e271-3b80-42fc-fbd7-4a8ae7c02285"
   },
   "outputs": [],
   "source": [
    "participants[['Age','Height','Weight']].corr()"
   ]
  },
  {
   "cell_type": "markdown",
   "metadata": {
    "application/vnd.databricks.v1+cell": {
     "cellMetadata": {},
     "inputWidgets": {},
     "nuid": "4e7c6636-5bb7-4a54-8e87-94060f45b92d",
     "showTitle": false,
     "tableResultSettingsMap": {},
     "title": ""
    },
    "id": "2EII7nSeBN_m"
   },
   "source": [
    "What is the definition of the correlation?\n"
   ]
  },
  {
   "cell_type": "markdown",
   "metadata": {
    "application/vnd.databricks.v1+cell": {
     "cellMetadata": {},
     "inputWidgets": {},
     "nuid": "3ae1a96f-4381-4358-96a9-4e332a2a436a",
     "showTitle": false,
     "tableResultSettingsMap": {},
     "title": ""
    },
    "id": "BqbmMLgp8fxz"
   },
   "source": [
    "What kind of relationship between *Age* and *Height* does the correlation coefficient suggest?"
   ]
  },
  {
   "cell_type": "markdown",
   "metadata": {
    "application/vnd.databricks.v1+cell": {
     "cellMetadata": {},
     "inputWidgets": {},
     "nuid": "ad7e7b4c-2bd6-4099-be0b-ee742594f634",
     "showTitle": false,
     "tableResultSettingsMap": {},
     "title": ""
    },
    "id": "gSkqLlnFV-ce"
   },
   "source": [
    "### Exercise\n",
    "We have now seen several examples of desciptive approaches. What we have left out so far is to really investigate the difference in balance depending of *Surface* and *Vision*. User the remaining time to further investigate!"
   ]
  }
 ],
 "metadata": {
  "application/vnd.databricks.v1+notebook": {
   "computePreferences": null,
   "dashboards": [],
   "environmentMetadata": null,
   "inputWidgetPreferences": null,
   "language": "python",
   "notebookMetadata": {},
   "notebookName": "CAS-D1-DescriptiveStatistics-Sol",
   "widgets": {}
  },
  "colab": {
   "provenance": []
  },
  "kernelspec": {
   "display_name": "Python 3",
   "name": "python3"
  },
  "language_info": {
   "name": "python"
  }
 },
 "nbformat": 4,
 "nbformat_minor": 0
}
